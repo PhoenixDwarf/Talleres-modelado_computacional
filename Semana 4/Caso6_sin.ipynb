{
 "cells": [
  {
   "cell_type": "markdown",
   "metadata": {
    "deletable": false,
    "editable": false,
    "nbgrader": {
     "cell_type": "markdown",
     "checksum": "b0f433f18b7571feeccbc7a97f88ae7e",
     "grade": false,
     "grade_id": "cell-e8fa9269aba80c31",
     "locked": true,
     "schema_version": 3,
     "solution": false,
     "task": false
    },
    "tags": []
   },
   "source": [
    "# Caso 6: problema de balance (Min-Max) - Implementación\n",
    "\n"
   ]
  },
  {
   "cell_type": "markdown",
   "metadata": {
    "deletable": false,
    "editable": false,
    "nbgrader": {
     "cell_type": "markdown",
     "checksum": "6a9f2772515594dc593e47d6b5b67089",
     "grade": false,
     "grade_id": "cell-7f3fc4fe4f9892d6",
     "locked": true,
     "schema_version": 3,
     "solution": false,
     "task": false
    }
   },
   "source": [
    "## Instrucciones generales\n",
    "\n",
    "El primer paso antes de resolver este laboratorio es leer y entender el **enunciado del caso**. Una vez tengas claro el caso, te explicamos la estructura de este laboratorio. \n",
    "\n",
    "Este laboratorio tiene las siguientes secciones: \n",
    "* **Formulación**: un breve resumen del modelo con notación matemática y descripción de sus componentes\n",
    "* **Importación de librerías**\n",
    "* **Creación de parámetros**\n",
    "* **Modelado**: aquí implementamos el modelo visto en la formulación (aquí encontrarás por lo general celdas de código que debes completar, ¡nosotros te guiaremos en el proceso!)\n",
    "* **Reporte de Resultados**: esta sección nos muestra las soluciones encontradas por el modelo y, en ocasiones, algunas visualizaciones interesantes para entenderlo mejor. Es posible que en ciertas prácticas debas completar algunas celdas también.\n",
    "\n",
    "Este tipo de actividades se evaluará sobre un total de 100 puntos. Las celdas calificables se distinguen por tener la instrucción `# your code here`. Antes de estas celdas  encontrarás instrucciones y consejos para resolver las preguntas, también el puntaje que le corresponde.\n",
    "\n",
    "¡Éxitos!"
   ]
  },
  {
   "cell_type": "markdown",
   "metadata": {
    "deletable": false,
    "editable": false,
    "nbgrader": {
     "cell_type": "markdown",
     "checksum": "e32f7bf42b22275d109df2c6d75bded3",
     "grade": false,
     "grade_id": "cell-9fbd2d9c824c07a3",
     "locked": true,
     "schema_version": 3,
     "solution": false,
     "task": false
    },
    "tags": []
   },
   "source": [
    "## Formulación\n",
    "---\n",
    "\n",
    "Te presentamos la formulación del caso de la semana de forma resumida. Te recomendamos revisar la formulación una vez hayas leído el enunciado del caso. Es bueno que te familiarices con los elementos de la formulación antes de iniciar la implementación.\n",
    "\n",
    "### Conjuntos y parámetros\n",
    ">#### **Conjuntos**\n",
    ">* $I$: conjunto de depósitos\n",
    ">* $J$: conjunto de CACs\n",
    "\n",
    ">#### **Parámetros**\n",
    ">* $k_i:$ Capacidad del depósito $i \\in I$ (miles de toneladas por año)\n",
    ">* $d_j:$ Producción proyectada del CAC $j\\in J$ (miles de tonaledas por año)\n",
    ">* $q:$ Costo anualizado (por cada mil toneladas por kilómetro) de transportar café\n",
    ">* $r:$ Distancia máxima (en kilómetros) entre el CAC y el depósito asignado para estar \"bien\" atendido\n",
    ">* $h_{ij}:$ Distancia (en kilómetros) entre el CAC $J\\in j$ y el depósito $i \\in I$\n",
    ">* $c_{ij}:$ Costo anualizado de atender el CAC $j\\in J$ con el depósito $i\\in I$ (Se calcula como: $c_{ij} = q*d_j*h_{ij}$)\n",
    ">* $\\psi ^*:$ Costo total de la solución de mínimo costo\n",
    "\n",
    "### Variables de decisión\n",
    ">* $x_{ij}= \\begin{cases}1, & \\text{si el depósito } i\\in I \\text{ atiende al CAC } j\\in J \\\\ 0, & \\text{de lo contrario}\\end{cases} $\n",
    ">>\n",
    ">* $z$: máxima demanda atendida por un depósito\n",
    "\n",
    "### Restricciones\n",
    "> 1. Capturar en $z$ la máxima demanda atendida por un depósito\n",
    ">> *# Para desarrollo del estudiante*\n",
    "> 2. Todo CAC debe ser atendido por un depósito\n",
    ">> *# Para desarrollo del estudiante*\n",
    "> 3. La demanda atendida por un depósito no puede superar su capacidad\n",
    ">> *# Para desarrollo del estudiante*\n",
    "> 4. El costo total de la solución puede ser, a lo sumo, 10% más alto que el de la solución de mínimo costo\n",
    ">> *# Para desarrollo del estudiante*\n",
    "> 5. Naturaleza de las variables\n",
    ">> $x_{ij} \\in \\{0,1\\}, \\;\\; \\forall i\\in I,j\\in J$\n",
    "\n",
    ">> $z \\geq 0$\n",
    "\n",
    "### Función objetivo\n",
    "> Minimizar la máxima demanda atendida por un depósito\n",
    ">> *# Para desarrollo del estudiante*"
   ]
  },
  {
   "cell_type": "markdown",
   "metadata": {
    "deletable": false,
    "editable": false,
    "nbgrader": {
     "cell_type": "markdown",
     "checksum": "7ab5e346a713c15b386d83a9799da35c",
     "grade": false,
     "grade_id": "cell-db31881de45215f2",
     "locked": true,
     "schema_version": 3,
     "solution": false,
     "task": false
    },
    "tags": []
   },
   "source": [
    "## Importación de librerías\n",
    "---\n",
    "Como siempre, utilizaremos las librerías `pulp` y `pandas`. Adicionalmente, usaremos algunas funciones de la librería `math` para calcular distancias geográficas de forma rápida y una función de la librería `datetime` para calcular el tiempo de ejecución del optmizador."
   ]
  },
  {
   "cell_type": "code",
   "execution_count": 1,
   "metadata": {
    "deletable": false,
    "editable": false,
    "nbgrader": {
     "cell_type": "code",
     "checksum": "bd3d0209febcf08d13f8a7c4e25ccd17",
     "grade": false,
     "grade_id": "cell-8e960069c708e13f",
     "locked": true,
     "schema_version": 3,
     "solution": false,
     "task": false
    },
    "tags": []
   },
   "outputs": [],
   "source": [
    "# Para tiempo de ejecución\n",
    "from datetime import datetime\n",
    "\n",
    "import pandas as pd\n",
    "import pulp as lp\n",
    "from geopy.distance import distance"
   ]
  },
  {
   "cell_type": "markdown",
   "metadata": {
    "deletable": false,
    "editable": false,
    "nbgrader": {
     "cell_type": "markdown",
     "checksum": "c3585fc1f914bb6a0e701f2f000c900f",
     "grade": false,
     "grade_id": "cell-685b1f71ce44c0b0",
     "locked": true,
     "schema_version": 3,
     "solution": false,
     "task": false
    },
    "tags": []
   },
   "source": [
    "## Creación de parámetros\n",
    "---"
   ]
  },
  {
   "cell_type": "markdown",
   "metadata": {
    "deletable": false,
    "editable": false,
    "nbgrader": {
     "cell_type": "markdown",
     "checksum": "f6df5a67034768cb0ed9573bf142abd1",
     "grade": false,
     "grade_id": "cell-139d636ca944c8b5",
     "locked": true,
     "schema_version": 3,
     "solution": false,
     "task": false
    }
   },
   "source": [
    "### Conjuntos\n",
    "\n",
    "Crearemos `Depositos` y `Centros` como listas y un conjunto que contenga las parejas entre estos dos conjuntos `Depositos_x_Centros`."
   ]
  },
  {
   "cell_type": "code",
   "execution_count": 2,
   "metadata": {
    "deletable": false,
    "editable": false,
    "nbgrader": {
     "cell_type": "code",
     "checksum": "389147da5c9fb0997b71f682b5d6f5ea",
     "grade": false,
     "grade_id": "cell-86f675d91c60308b",
     "locked": true,
     "schema_version": 3,
     "solution": false,
     "task": false
    }
   },
   "outputs": [],
   "source": [
    "# Conjunto de depósitos\n",
    "Depositos = [\"Medellín\", \"La Dorada\", \"Aguadas\", \"Salamina\"]\n",
    "\n",
    "# Conjunto de CACs\n",
    "Centros = [\n",
    "    \"Andes\",\n",
    "    \"Medellín\",\n",
    "    \"Dabeiba\",\n",
    "    \"Salgar\",\n",
    "    \"San Pablo de Borbur\",\n",
    "    \"Labranzagrande\",\n",
    "    \"Miraflores\",\n",
    "    \"Moniquirá\",\n",
    "    \"Manizales\",\n",
    "    \"Anserma\",\n",
    "    \"Pensilvania\",\n",
    "    \"Riosucio\",\n",
    "    \"Aguadas\",\n",
    "    \"Morales\",\n",
    "    \"El Tambo\",\n",
    "    \"Bolívar\",\n",
    "    \"Aguachica\",\n",
    "    \"San Diego\",\n",
    "    \"Caparrapí\",\n",
    "    \"Viotá\",\n",
    "    \"Sasaima\",\n",
    "    \"Neiva\",\n",
    "    \"Pitalito\",\n",
    "    \"Gigante\",\n",
    "    \"Santa Marta\",\n",
    "    \"La Unión\",\n",
    "    \"Pasto\",\n",
    "    \"Samaniego\",\n",
    "    \"Sardinata\",\n",
    "    \"Ocaña\",\n",
    "    \"Convención\",\n",
    "    \"Génova\",\n",
    "    \"Calarcá\",\n",
    "    \"Quimbaya\",\n",
    "    \"Pereira\",\n",
    "    \"Santuario\",\n",
    "    \"Belén de Umbria\",\n",
    "    \"Rionegro\",\n",
    "    \"Bucaramanga\",\n",
    "    \"Barbosa\",\n",
    "    \"Socorro\",\n",
    "    \"Simacota\",\n",
    "    \"Chaparral\",\n",
    "    \"Dolores\",\n",
    "    \"Ibagué\",\n",
    "    \"Líbano\",\n",
    "    \"Cartago\",\n",
    "    \"Tulua\",\n",
    "    \"Jamundí\",\n",
    "    \"Sevilla\",\n",
    "    \"Caicedonia\",\n",
    "    \"Florencia\",\n",
    "    \"Puerto Milán\",\n",
    "    \"Nunchía\",\n",
    "    \"Mesetas\",\n",
    "]\n",
    "\n",
    "# Conjunto con todas las tuplas (depositos, centros)\n",
    "Depositos_x_Centros = [(i, j) for i in Depositos for j in Centros]"
   ]
  },
  {
   "cell_type": "code",
   "execution_count": 3,
   "metadata": {},
   "outputs": [
    {
     "data": {
      "text/plain": [
       "[('Medellín', 'Andes'),\n",
       " ('Medellín', 'Medellín'),\n",
       " ('Medellín', 'Dabeiba'),\n",
       " ('Medellín', 'Salgar'),\n",
       " ('Medellín', 'San Pablo de Borbur'),\n",
       " ('Medellín', 'Labranzagrande'),\n",
       " ('Medellín', 'Miraflores'),\n",
       " ('Medellín', 'Moniquirá'),\n",
       " ('Medellín', 'Manizales'),\n",
       " ('Medellín', 'Anserma'),\n",
       " ('Medellín', 'Pensilvania'),\n",
       " ('Medellín', 'Riosucio'),\n",
       " ('Medellín', 'Aguadas'),\n",
       " ('Medellín', 'Morales'),\n",
       " ('Medellín', 'El Tambo'),\n",
       " ('Medellín', 'Bolívar'),\n",
       " ('Medellín', 'Aguachica'),\n",
       " ('Medellín', 'San Diego'),\n",
       " ('Medellín', 'Caparrapí'),\n",
       " ('Medellín', 'Viotá'),\n",
       " ('Medellín', 'Sasaima'),\n",
       " ('Medellín', 'Neiva'),\n",
       " ('Medellín', 'Pitalito'),\n",
       " ('Medellín', 'Gigante'),\n",
       " ('Medellín', 'Santa Marta'),\n",
       " ('Medellín', 'La Unión'),\n",
       " ('Medellín', 'Pasto'),\n",
       " ('Medellín', 'Samaniego'),\n",
       " ('Medellín', 'Sardinata'),\n",
       " ('Medellín', 'Ocaña'),\n",
       " ('Medellín', 'Convención'),\n",
       " ('Medellín', 'Génova'),\n",
       " ('Medellín', 'Calarcá'),\n",
       " ('Medellín', 'Quimbaya'),\n",
       " ('Medellín', 'Pereira'),\n",
       " ('Medellín', 'Santuario'),\n",
       " ('Medellín', 'Belén de Umbria'),\n",
       " ('Medellín', 'Rionegro'),\n",
       " ('Medellín', 'Bucaramanga'),\n",
       " ('Medellín', 'Barbosa'),\n",
       " ('Medellín', 'Socorro'),\n",
       " ('Medellín', 'Simacota'),\n",
       " ('Medellín', 'Chaparral'),\n",
       " ('Medellín', 'Dolores'),\n",
       " ('Medellín', 'Ibagué'),\n",
       " ('Medellín', 'Líbano'),\n",
       " ('Medellín', 'Cartago'),\n",
       " ('Medellín', 'Tulua'),\n",
       " ('Medellín', 'Jamundí'),\n",
       " ('Medellín', 'Sevilla'),\n",
       " ('Medellín', 'Caicedonia'),\n",
       " ('Medellín', 'Florencia'),\n",
       " ('Medellín', 'Puerto Milán'),\n",
       " ('Medellín', 'Nunchía'),\n",
       " ('Medellín', 'Mesetas'),\n",
       " ('La Dorada', 'Andes'),\n",
       " ('La Dorada', 'Medellín'),\n",
       " ('La Dorada', 'Dabeiba'),\n",
       " ('La Dorada', 'Salgar'),\n",
       " ('La Dorada', 'San Pablo de Borbur'),\n",
       " ('La Dorada', 'Labranzagrande'),\n",
       " ('La Dorada', 'Miraflores'),\n",
       " ('La Dorada', 'Moniquirá'),\n",
       " ('La Dorada', 'Manizales'),\n",
       " ('La Dorada', 'Anserma'),\n",
       " ('La Dorada', 'Pensilvania'),\n",
       " ('La Dorada', 'Riosucio'),\n",
       " ('La Dorada', 'Aguadas'),\n",
       " ('La Dorada', 'Morales'),\n",
       " ('La Dorada', 'El Tambo'),\n",
       " ('La Dorada', 'Bolívar'),\n",
       " ('La Dorada', 'Aguachica'),\n",
       " ('La Dorada', 'San Diego'),\n",
       " ('La Dorada', 'Caparrapí'),\n",
       " ('La Dorada', 'Viotá'),\n",
       " ('La Dorada', 'Sasaima'),\n",
       " ('La Dorada', 'Neiva'),\n",
       " ('La Dorada', 'Pitalito'),\n",
       " ('La Dorada', 'Gigante'),\n",
       " ('La Dorada', 'Santa Marta'),\n",
       " ('La Dorada', 'La Unión'),\n",
       " ('La Dorada', 'Pasto'),\n",
       " ('La Dorada', 'Samaniego'),\n",
       " ('La Dorada', 'Sardinata'),\n",
       " ('La Dorada', 'Ocaña'),\n",
       " ('La Dorada', 'Convención'),\n",
       " ('La Dorada', 'Génova'),\n",
       " ('La Dorada', 'Calarcá'),\n",
       " ('La Dorada', 'Quimbaya'),\n",
       " ('La Dorada', 'Pereira'),\n",
       " ('La Dorada', 'Santuario'),\n",
       " ('La Dorada', 'Belén de Umbria'),\n",
       " ('La Dorada', 'Rionegro'),\n",
       " ('La Dorada', 'Bucaramanga'),\n",
       " ('La Dorada', 'Barbosa'),\n",
       " ('La Dorada', 'Socorro'),\n",
       " ('La Dorada', 'Simacota'),\n",
       " ('La Dorada', 'Chaparral'),\n",
       " ('La Dorada', 'Dolores'),\n",
       " ('La Dorada', 'Ibagué'),\n",
       " ('La Dorada', 'Líbano'),\n",
       " ('La Dorada', 'Cartago'),\n",
       " ('La Dorada', 'Tulua'),\n",
       " ('La Dorada', 'Jamundí'),\n",
       " ('La Dorada', 'Sevilla'),\n",
       " ('La Dorada', 'Caicedonia'),\n",
       " ('La Dorada', 'Florencia'),\n",
       " ('La Dorada', 'Puerto Milán'),\n",
       " ('La Dorada', 'Nunchía'),\n",
       " ('La Dorada', 'Mesetas'),\n",
       " ('Aguadas', 'Andes'),\n",
       " ('Aguadas', 'Medellín'),\n",
       " ('Aguadas', 'Dabeiba'),\n",
       " ('Aguadas', 'Salgar'),\n",
       " ('Aguadas', 'San Pablo de Borbur'),\n",
       " ('Aguadas', 'Labranzagrande'),\n",
       " ('Aguadas', 'Miraflores'),\n",
       " ('Aguadas', 'Moniquirá'),\n",
       " ('Aguadas', 'Manizales'),\n",
       " ('Aguadas', 'Anserma'),\n",
       " ('Aguadas', 'Pensilvania'),\n",
       " ('Aguadas', 'Riosucio'),\n",
       " ('Aguadas', 'Aguadas'),\n",
       " ('Aguadas', 'Morales'),\n",
       " ('Aguadas', 'El Tambo'),\n",
       " ('Aguadas', 'Bolívar'),\n",
       " ('Aguadas', 'Aguachica'),\n",
       " ('Aguadas', 'San Diego'),\n",
       " ('Aguadas', 'Caparrapí'),\n",
       " ('Aguadas', 'Viotá'),\n",
       " ('Aguadas', 'Sasaima'),\n",
       " ('Aguadas', 'Neiva'),\n",
       " ('Aguadas', 'Pitalito'),\n",
       " ('Aguadas', 'Gigante'),\n",
       " ('Aguadas', 'Santa Marta'),\n",
       " ('Aguadas', 'La Unión'),\n",
       " ('Aguadas', 'Pasto'),\n",
       " ('Aguadas', 'Samaniego'),\n",
       " ('Aguadas', 'Sardinata'),\n",
       " ('Aguadas', 'Ocaña'),\n",
       " ('Aguadas', 'Convención'),\n",
       " ('Aguadas', 'Génova'),\n",
       " ('Aguadas', 'Calarcá'),\n",
       " ('Aguadas', 'Quimbaya'),\n",
       " ('Aguadas', 'Pereira'),\n",
       " ('Aguadas', 'Santuario'),\n",
       " ('Aguadas', 'Belén de Umbria'),\n",
       " ('Aguadas', 'Rionegro'),\n",
       " ('Aguadas', 'Bucaramanga'),\n",
       " ('Aguadas', 'Barbosa'),\n",
       " ('Aguadas', 'Socorro'),\n",
       " ('Aguadas', 'Simacota'),\n",
       " ('Aguadas', 'Chaparral'),\n",
       " ('Aguadas', 'Dolores'),\n",
       " ('Aguadas', 'Ibagué'),\n",
       " ('Aguadas', 'Líbano'),\n",
       " ('Aguadas', 'Cartago'),\n",
       " ('Aguadas', 'Tulua'),\n",
       " ('Aguadas', 'Jamundí'),\n",
       " ('Aguadas', 'Sevilla'),\n",
       " ('Aguadas', 'Caicedonia'),\n",
       " ('Aguadas', 'Florencia'),\n",
       " ('Aguadas', 'Puerto Milán'),\n",
       " ('Aguadas', 'Nunchía'),\n",
       " ('Aguadas', 'Mesetas'),\n",
       " ('Salamina', 'Andes'),\n",
       " ('Salamina', 'Medellín'),\n",
       " ('Salamina', 'Dabeiba'),\n",
       " ('Salamina', 'Salgar'),\n",
       " ('Salamina', 'San Pablo de Borbur'),\n",
       " ('Salamina', 'Labranzagrande'),\n",
       " ('Salamina', 'Miraflores'),\n",
       " ('Salamina', 'Moniquirá'),\n",
       " ('Salamina', 'Manizales'),\n",
       " ('Salamina', 'Anserma'),\n",
       " ('Salamina', 'Pensilvania'),\n",
       " ('Salamina', 'Riosucio'),\n",
       " ('Salamina', 'Aguadas'),\n",
       " ('Salamina', 'Morales'),\n",
       " ('Salamina', 'El Tambo'),\n",
       " ('Salamina', 'Bolívar'),\n",
       " ('Salamina', 'Aguachica'),\n",
       " ('Salamina', 'San Diego'),\n",
       " ('Salamina', 'Caparrapí'),\n",
       " ('Salamina', 'Viotá'),\n",
       " ('Salamina', 'Sasaima'),\n",
       " ('Salamina', 'Neiva'),\n",
       " ('Salamina', 'Pitalito'),\n",
       " ('Salamina', 'Gigante'),\n",
       " ('Salamina', 'Santa Marta'),\n",
       " ('Salamina', 'La Unión'),\n",
       " ('Salamina', 'Pasto'),\n",
       " ('Salamina', 'Samaniego'),\n",
       " ('Salamina', 'Sardinata'),\n",
       " ('Salamina', 'Ocaña'),\n",
       " ('Salamina', 'Convención'),\n",
       " ('Salamina', 'Génova'),\n",
       " ('Salamina', 'Calarcá'),\n",
       " ('Salamina', 'Quimbaya'),\n",
       " ('Salamina', 'Pereira'),\n",
       " ('Salamina', 'Santuario'),\n",
       " ('Salamina', 'Belén de Umbria'),\n",
       " ('Salamina', 'Rionegro'),\n",
       " ('Salamina', 'Bucaramanga'),\n",
       " ('Salamina', 'Barbosa'),\n",
       " ('Salamina', 'Socorro'),\n",
       " ('Salamina', 'Simacota'),\n",
       " ('Salamina', 'Chaparral'),\n",
       " ('Salamina', 'Dolores'),\n",
       " ('Salamina', 'Ibagué'),\n",
       " ('Salamina', 'Líbano'),\n",
       " ('Salamina', 'Cartago'),\n",
       " ('Salamina', 'Tulua'),\n",
       " ('Salamina', 'Jamundí'),\n",
       " ('Salamina', 'Sevilla'),\n",
       " ('Salamina', 'Caicedonia'),\n",
       " ('Salamina', 'Florencia'),\n",
       " ('Salamina', 'Puerto Milán'),\n",
       " ('Salamina', 'Nunchía'),\n",
       " ('Salamina', 'Mesetas')]"
      ]
     },
     "execution_count": 3,
     "metadata": {},
     "output_type": "execute_result"
    }
   ],
   "source": [
    "Depositos_x_Centros"
   ]
  },
  {
   "cell_type": "markdown",
   "metadata": {
    "deletable": false,
    "editable": false,
    "nbgrader": {
     "cell_type": "markdown",
     "checksum": "ce1194bed85696511ef22363eb1cbbd8",
     "grade": false,
     "grade_id": "cell-1f708cd5f28d33b1",
     "locked": true,
     "schema_version": 3,
     "solution": false,
     "task": false
    }
   },
   "source": [
    "### Parámetros\n",
    "\n",
    "Primero crearemos los parámetros no indexados y luego los indexados como de costumbre. Luego, separaremos los parámetros indexados en diferentes diccionarios con `lp.splitDict()`. Al final, creamos el parámetro `distancias` a partir de las ubicaciones geográficas de los centros y depósitos."
   ]
  },
  {
   "cell_type": "code",
   "execution_count": 4,
   "metadata": {
    "deletable": false,
    "editable": false,
    "nbgrader": {
     "cell_type": "code",
     "checksum": "44d444ada1363e2178f317c59fe06d2e",
     "grade": false,
     "grade_id": "cell-e2b1e931508f2fff",
     "locked": true,
     "schema_version": 3,
     "solution": false,
     "task": false
    },
    "tags": []
   },
   "outputs": [],
   "source": [
    "# Parámetros no indexados\n",
    "mejor_costo = 24881  # Función objetivo del caso de minimizacion de costos\n",
    "q = 300 * 1000 / 1000000  # $300/ton/km*factor de conversion (mil ton/millon $)\n",
    "\n",
    "# Parámetros indexados en depósitos\n",
    "dataDepositos = {  # Depósito: lat, long, capacidad, costo fijo\n",
    "    \"Medellín\": [6.26868, -75.59639, 51 * 3, 717.10],\n",
    "    \"La Dorada\": [5.53144, -74.72005, 44 * 3, 402.27],\n",
    "    \"Aguadas\": [5.57937, -75.45557, 39 * 3, 402.27],\n",
    "    \"Salamina\": [5.34395, -75.40658, 46 * 3, 387.96],\n",
    "}\n",
    "\n",
    "# Parámetros indexados en CACs\n",
    "dataCentros = {  # CAC: lat, long, producción\n",
    "    \"Andes\": [5.62412, -75.95589, 35.37],\n",
    "    \"Medellín\": [6.26868, -75.59639, 10.63],\n",
    "    \"Dabeiba\": [6.95267, -76.29085, 27.28],\n",
    "    \"Salgar\": [5.96643, -75.97188, 24.05],\n",
    "    \"San Pablo de Borbur\": [5.67784, -74.10383, 1.59],\n",
    "    \"Labranzagrande\": [5.53, -72.59873, 1.20],\n",
    "    \"Miraflores\": [5.15175, -73.17282, 1.11],\n",
    "    \"Moniquirá\": [5.86963, -73.54944, 1.28],\n",
    "    \"Manizales\": [5.0741, -75.50288, 24.76],\n",
    "    \"Anserma\": [5.20035, -75.75022, 8.23],\n",
    "    \"Pensilvania\": [5.40334, -75.1766, 6.60],\n",
    "    \"Riosucio\": [5.45036, -75.73531, 6.63],\n",
    "    \"Aguadas\": [5.57937, -75.45557, 6.74],\n",
    "    \"Morales\": [2.84901, -76.74932, 14.19],\n",
    "    \"El Tambo\": [2.4527, -76.81132, 13.25],\n",
    "    \"Bolívar\": [1.89843, -76.97234, 11.89],\n",
    "    \"Aguachica\": [8.30592, -73.61166, 3.60],\n",
    "    \"San Diego\": [10.33573, -73.18049, 2.71],\n",
    "    \"Caparrapí\": [5.37312, -74.51297, 1.45],\n",
    "    \"Viotá\": [4.43705, -74.48354, 1.75],\n",
    "    \"Sasaima\": [4.94796, -74.41729, 2.29],\n",
    "    \"Neiva\": [3.03602, -75.29684, 22.25],\n",
    "    \"Pitalito\": [1.7774, -76.13852, 21.85],\n",
    "    \"Gigante\": [2.39452, -75.52775, 21.92],\n",
    "    \"Santa Marta\": [11.23153, -74.1824, 3.80],\n",
    "    \"La Unión\": [1.60903, -77.14714, 7.59],\n",
    "    \"Pasto\": [1.05204, -77.20717, 8.12],\n",
    "    \"Samaniego\": [1.3894, -77.72329, 5.70],\n",
    "    \"Sardinata\": [8.25885, -72.79639, 2.52],\n",
    "    \"Ocaña\": [8.22019, -73.39012, 2.60],\n",
    "    \"Convención\": [8.83257, -73.18585, 2.34],\n",
    "    \"Génova\": [4.192, -75.74795, 4.99],\n",
    "    \"Calarcá\": [4.45392, -75.68058, 6.09],\n",
    "    \"Quimbaya\": [4.61334, -75.78586, 5.49],\n",
    "    \"Pereira\": [4.78502, -75.65506, 8.89],\n",
    "    \"Santuario\": [5.03229, -75.97494, 7.36],\n",
    "    \"Belén de Umbria\": [5.19016, -75.86725, 9.06],\n",
    "    \"Rionegro\": [7.54004, -73.42111, 1.87],\n",
    "    \"Bucaramanga\": [7.16502, -73.10824, 1.79],\n",
    "    \"Barbosa\": [5.95458, -73.62693, 8.56],\n",
    "    \"Socorro\": [6.46604, -73.24775, 7.92],\n",
    "    \"Simacota\": [6.67635, -73.62452, 6.50],\n",
    "    \"Chaparral\": [3.75307, -75.59347, 8.73],\n",
    "    \"Dolores\": [3.6221, -74.76516, 11.86],\n",
    "    \"Ibagué\": [4.47824, -75.2436, 1.43],\n",
    "    \"Líbano\": [4.87582, -75.04174, 1.19],\n",
    "    \"Cartago\": [4.71034, -75.91931, 6.27],\n",
    "    \"Tulua\": [4.03985, -76.06656, 5.94],\n",
    "    \"Jamundí\": [3.2012, -76.62458, 3.54],\n",
    "    \"Sevilla\": [4.15709, -75.88795, 2.84],\n",
    "    \"Caicedonia\": [4.3072, -75.84114, 3.11],\n",
    "    \"Florencia\": [1.61887, -75.60384, 0.37],\n",
    "    \"Puerto Milán\": [1.33546, -75.51081, 0.33],\n",
    "    \"Nunchía\": [5.53209, -72.07238, 0.38],\n",
    "    \"Mesetas\": [3.1057, -74.1243, 0.43],\n",
    "}\n",
    "\n",
    "# Se separan en diccionarios que comparten las misma llaves\n",
    "\n",
    "# Parámetros indexados en depósitos\n",
    "lat_d, lon_d, capacidad, costo_fijo = lp.splitDict(dataDepositos)\n",
    "# Parámetros indexados en centros\n",
    "lat_c, lon_c, produccion = lp.splitDict(dataCentros)\n",
    "\n",
    "# Calcular la distancia entre depósitos y centros\n",
    "distancia = {\n",
    "    (i, j): distance([lat_d[i], lon_d[i]], [lat_c[j], lon_c[j]]).kilometers\n",
    "    for i in Depositos\n",
    "    for j in Centros\n",
    "}"
   ]
  },
  {
   "cell_type": "code",
   "execution_count": 13,
   "metadata": {},
   "outputs": [
    {
     "name": "stdout",
     "output_type": "stream",
     "text": [
      "Diccionarios- Parámetros indexados \n",
      "\n",
      "Depósitos:\n",
      "Latitud de depósito: {'Medellín': 6.26868, 'La Dorada': 5.53144, 'Aguadas': 5.57937, 'Salamina': 5.34395}\n",
      "Longitud de depósito: {'Medellín': -75.59639, 'La Dorada': -74.72005, 'Aguadas': -75.45557, 'Salamina': -75.40658}\n",
      "Capacidad de depósito: {'Medellín': 153, 'La Dorada': 132, 'Aguadas': 117, 'Salamina': 138}\n",
      "Costo fijo de depósito: {'Medellín': 717.1, 'La Dorada': 402.27, 'Aguadas': 402.27, 'Salamina': 387.96}\n",
      "\n",
      "Centros de acopio:\n",
      "Latitud de centro de acopio: {'Andes': 5.62412, 'Medellín': 6.26868, 'Dabeiba': 6.95267, 'Salgar': 5.96643, 'San Pablo de Borbur': 5.67784, 'Labranzagrande': 5.53, 'Miraflores': 5.15175, 'Moniquirá': 5.86963, 'Manizales': 5.0741, 'Anserma': 5.20035, 'Pensilvania': 5.40334, 'Riosucio': 5.45036, 'Aguadas': 5.57937, 'Morales': 2.84901, 'El Tambo': 2.4527, 'Bolívar': 1.89843, 'Aguachica': 8.30592, 'San Diego': 10.33573, 'Caparrapí': 5.37312, 'Viotá': 4.43705, 'Sasaima': 4.94796, 'Neiva': 3.03602, 'Pitalito': 1.7774, 'Gigante': 2.39452, 'Santa Marta': 11.23153, 'La Unión': 1.60903, 'Pasto': 1.05204, 'Samaniego': 1.3894, 'Sardinata': 8.25885, 'Ocaña': 8.22019, 'Convención': 8.83257, 'Génova': 4.192, 'Calarcá': 4.45392, 'Quimbaya': 4.61334, 'Pereira': 4.78502, 'Santuario': 5.03229, 'Belén de Umbria': 5.19016, 'Rionegro': 7.54004, 'Bucaramanga': 7.16502, 'Barbosa': 5.95458, 'Socorro': 6.46604, 'Simacota': 6.67635, 'Chaparral': 3.75307, 'Dolores': 3.6221, 'Ibagué': 4.47824, 'Líbano': 4.87582, 'Cartago': 4.71034, 'Tulua': 4.03985, 'Jamundí': 3.2012, 'Sevilla': 4.15709, 'Caicedonia': 4.3072, 'Florencia': 1.61887, 'Puerto Milán': 1.33546, 'Nunchía': 5.53209, 'Mesetas': 3.1057}\n",
      "Longitud de centro de acopio: {'Andes': -75.95589, 'Medellín': -75.59639, 'Dabeiba': -76.29085, 'Salgar': -75.97188, 'San Pablo de Borbur': -74.10383, 'Labranzagrande': -72.59873, 'Miraflores': -73.17282, 'Moniquirá': -73.54944, 'Manizales': -75.50288, 'Anserma': -75.75022, 'Pensilvania': -75.1766, 'Riosucio': -75.73531, 'Aguadas': -75.45557, 'Morales': -76.74932, 'El Tambo': -76.81132, 'Bolívar': -76.97234, 'Aguachica': -73.61166, 'San Diego': -73.18049, 'Caparrapí': -74.51297, 'Viotá': -74.48354, 'Sasaima': -74.41729, 'Neiva': -75.29684, 'Pitalito': -76.13852, 'Gigante': -75.52775, 'Santa Marta': -74.1824, 'La Unión': -77.14714, 'Pasto': -77.20717, 'Samaniego': -77.72329, 'Sardinata': -72.79639, 'Ocaña': -73.39012, 'Convención': -73.18585, 'Génova': -75.74795, 'Calarcá': -75.68058, 'Quimbaya': -75.78586, 'Pereira': -75.65506, 'Santuario': -75.97494, 'Belén de Umbria': -75.86725, 'Rionegro': -73.42111, 'Bucaramanga': -73.10824, 'Barbosa': -73.62693, 'Socorro': -73.24775, 'Simacota': -73.62452, 'Chaparral': -75.59347, 'Dolores': -74.76516, 'Ibagué': -75.2436, 'Líbano': -75.04174, 'Cartago': -75.91931, 'Tulua': -76.06656, 'Jamundí': -76.62458, 'Sevilla': -75.88795, 'Caicedonia': -75.84114, 'Florencia': -75.60384, 'Puerto Milán': -75.51081, 'Nunchía': -72.07238, 'Mesetas': -74.1243}\n",
      "Producción de centro de acopio: {'Andes': 35.37, 'Medellín': 10.63, 'Dabeiba': 27.28, 'Salgar': 24.05, 'San Pablo de Borbur': 1.59, 'Labranzagrande': 1.2, 'Miraflores': 1.11, 'Moniquirá': 1.28, 'Manizales': 24.76, 'Anserma': 8.23, 'Pensilvania': 6.6, 'Riosucio': 6.63, 'Aguadas': 6.74, 'Morales': 14.19, 'El Tambo': 13.25, 'Bolívar': 11.89, 'Aguachica': 3.6, 'San Diego': 2.71, 'Caparrapí': 1.45, 'Viotá': 1.75, 'Sasaima': 2.29, 'Neiva': 22.25, 'Pitalito': 21.85, 'Gigante': 21.92, 'Santa Marta': 3.8, 'La Unión': 7.59, 'Pasto': 8.12, 'Samaniego': 5.7, 'Sardinata': 2.52, 'Ocaña': 2.6, 'Convención': 2.34, 'Génova': 4.99, 'Calarcá': 6.09, 'Quimbaya': 5.49, 'Pereira': 8.89, 'Santuario': 7.36, 'Belén de Umbria': 9.06, 'Rionegro': 1.87, 'Bucaramanga': 1.79, 'Barbosa': 8.56, 'Socorro': 7.92, 'Simacota': 6.5, 'Chaparral': 8.73, 'Dolores': 11.86, 'Ibagué': 1.43, 'Líbano': 1.19, 'Cartago': 6.27, 'Tulua': 5.94, 'Jamundí': 3.54, 'Sevilla': 2.84, 'Caicedonia': 3.11, 'Florencia': 0.37, 'Puerto Milán': 0.33, 'Nunchía': 0.38, 'Mesetas': 0.43}\n",
      "\n",
      "Distancia entre depósitos y centros de acopio:\n",
      " {('Medellín', 'Andes'): 81.6407744153149, ('Medellín', 'Medellín'): 0.0, ('Medellín', 'Dabeiba'): 107.79278431038877, ('Medellín', 'Salgar'): 53.335670657757895, ('Medellín', 'San Pablo de Borbur'): 177.7022202999153, ('Medellín', 'Labranzagrande'): 341.843300383342, ('Medellín', 'Miraflores'): 295.50792681396376, ('Medellín', 'Moniquirá'): 230.85325502996707, ('Medellín', 'Manizales'): 132.50832910815635, ('Medellín', 'Anserma'): 119.36408078562327, ('Medellín', 'Pensilvania'): 106.38936050657013, ('Medellín', 'Riosucio'): 91.7929643629694, ('Medellín', 'Aguadas'): 77.80655349448206, ('Medellín', 'Morales'): 399.20320142759863, ('Medellín', 'El Tambo'): 442.9927758625815, ('Medellín', 'Bolívar'): 506.82908024404173, ('Medellín', 'Aguachica'): 314.30868305575257, ('Medellín', 'San Diego'): 522.6122968773435, ('Medellín', 'Caparrapí'): 155.5794959329134, ('Medellín', 'Viotá'): 237.14728370467418, ('Medellín', 'Sasaima'): 195.9470045546287, ('Medellín', 'Neiva'): 359.0149655616235, ('Medellín', 'Pitalito'): 500.28067135070114, ('Medellín', 'Gigante'): 428.47632041782884, ('Medellín', 'Santa Marta'): 570.5045941386736, ('Medellín', 'La Unión'): 543.2698934936254, ('Medellín', 'Pasto'): 603.9539268024233, ('Medellín', 'Samaniego'): 588.9737081094718, ('Medellín', 'Sardinata'): 379.5300204804499, ('Medellín', 'Ocaña'): 325.4838085170196, ('Medellín', 'Convención'): 388.7920881623617, ('Medellín', 'Génova'): 230.2605503525202, ('Medellín', 'Calarcá'): 200.9003351641889, ('Medellín', 'Quimbaya'): 184.25490256239482, ('Medellín', 'Pereira'): 164.19873864004808, ('Medellín', 'Santuario'): 143.01289060496595, ('Medellín', 'Belén de Umbria'): 122.98414262516638, ('Medellín', 'Rionegro'): 278.4981296858733, ('Medellín', 'Bucaramanga'): 292.4025708887414, ('Medellín', 'Barbosa'): 220.75101824212203, ('Medellín', 'Socorro'): 260.7619390111907, ('Medellín', 'Simacota'): 222.72762973163123, ('Medellín', 'Chaparral'): 278.18369529067377, ('Medellín', 'Dolores'): 306.8400984627416, ('Medellín', 'Ibagué'): 201.8178937563914, ('Medellín', 'Líbano'): 165.83522834878679, ('Medellín', 'Cartago'): 176.004000536389, ('Medellín', 'Tulua'): 251.92318505577714, ('Medellín', 'Jamundí'): 357.8701519601408, ('Medellín', 'Sevilla'): 235.73341618182997, ('Medellín', 'Caicedonia'): 218.59787759394675, ('Medellín', 'Florencia'): 514.1772684267618, ('Medellín', 'Puerto Milán'): 545.5974333166706, ('Medellín', 'Nunchía'): 398.63420472138824, ('Medellín', 'Mesetas'): 386.01447379551115, ('La Dorada', 'Andes'): 137.3090199438865, ('La Dorada', 'Medellín'): 126.7422092929512, ('La Dorada', 'Dabeiba'): 234.3459554597085, ('La Dorada', 'Salgar'): 146.7636516992429, ('La Dorada', 'San Pablo de Borbur'): 70.16484153884774, ('La Dorada', 'Labranzagrande'): 235.05216940750856, ('La Dorada', 'Miraflores'): 176.55871895373522, ('La Dorada', 'Moniquirá'): 134.95676282539455, ('La Dorada', 'Manizales'): 100.43610726086901, ('La Dorada', 'Anserma'): 119.90533260758707, ('La Dorada', 'Pensilvania'): 52.53899359428046, ('La Dorada', 'Riosucio'): 112.8597814110697, ('La Dorada', 'Aguadas'): 81.66786478401428, ('La Dorada', 'Morales'): 372.47212806709456, ('La Dorada', 'El Tambo'): 412.09882068524445, ('La Dorada', 'Bolívar'): 473.2554558787713, ('La Dorada', 'Aguachica'): 330.3739848869927, ('La Dorada', 'San Diego'): 557.7776503136928, ('La Dorada', 'Caparrapí'): 28.86434287352232, ('La Dorada', 'Viotá'): 123.83027612165989, ('La Dorada', 'Sasaima'): 72.7305478654577, ('La Dorada', 'Neiva'): 283.2752841013991, ('La Dorada', 'Pitalito'): 444.01286017679456, ('La Dorada', 'Gigante'): 358.2872627379983, ('La Dorada', 'Santa Marta'): 633.1953826702052, ('La Dorada', 'La Unión'): 510.70135648671385, ('La Dorada', 'Pasto'): 567.1959376843564, ('La Dorada', 'Samaniego'): 566.6568466676548, ('La Dorada', 'Sardinata'): 369.0106167496432, ('La Dorada', 'Ocaña'): 331.690717319853, ('La Dorada', 'Convención'): 402.4785389983864, ('La Dorada', 'Génova'): 186.91756120650967, ('La Dorada', 'Calarcá'): 159.8270400535917, ('La Dorada', 'Quimbaya'): 155.80339519847513, ('La Dorada', 'Pereira'): 132.5127059688446, ('La Dorada', 'Santuario'): 149.65538731971185, ('La Dorada', 'Belén de Umbria'): 132.6333441385035, ('La Dorada', 'Rionegro'): 264.5339729787637, ('La Dorada', 'Bucaramanga'): 253.8431598805216, ('La Dorada', 'Barbosa'): 129.8060455933185, ('La Dorada', 'Socorro'): 193.00727479957436, ('La Dorada', 'Simacota'): 175.31625171214125, ('La Dorada', 'Chaparral'): 219.23583898949036, ('La Dorada', 'Dolores'): 211.19690549760637, ('La Dorada', 'Ibagué'): 130.13534853252278, ('La Dorada', 'Líbano'): 80.79753515813282, ('La Dorada', 'Cartago'): 161.01480358527448, ('La Dorada', 'Tulua'): 222.52517463326672, ('La Dorada', 'Jamundí'): 333.29071646627125, ('La Dorada', 'Sevilla'): 199.69871870441457, ('La Dorada', 'Caicedonia'): 183.81531657793886, ('La Dorada', 'Florencia'): 443.6468235425709, ('La Dorada', 'Puerto Milán'): 472.22971020652295, ('La Dorada', 'Nunchía'): 293.3735489748105, ('La Dorada', 'Mesetas'): 276.27066549354885, ('Aguadas', 'Andes'): 55.65161560538009, ('Aguadas', 'Medellín'): 77.80655349448206, ('Aguadas', 'Dabeiba'): 177.78513930479517, ('Aguadas', 'Salgar'): 71.43052859216482, ('Aguadas', 'San Pablo de Borbur'): 150.14965447301535, ('Aguadas', 'Labranzagrande'): 316.5853166168409, ('Aguadas', 'Miraflores'): 257.38898235436534, ('Aguadas', 'Moniquirá'): 213.56390660673168, ('Aguadas', 'Manizales'): 56.120238106868484, ('Aguadas', 'Anserma'): 53.13354178658698, ('Aguadas', 'Pensilvania'): 36.53161409609451, ('Aguadas', 'Riosucio'): 34.1228297579556, ('Aguadas', 'Aguadas'): 0.0, ('Aguadas', 'Morales'): 334.342414632783, ('Aguadas', 'El Tambo'): 377.0964175011618, ('Aguadas', 'Bolívar'): 440.51910777245104, ('Aguadas', 'Aguachica'): 363.91512258958977, ('Aguadas', 'San Diego'): 582.7474916995808, ('Aguadas', 'Caparrapí'): 106.91508095409831, ('Aguadas', 'Viotá'): 166.06160173454344, ('Aguadas', 'Sasaima'): 134.61959498913643, ('Aguadas', 'Neiva'): 281.79679999145606, ('Aguadas', 'Pitalito'): 427.20752722005284, ('Aguadas', 'Gigante'): 352.2716648175121, ('Aguadas', 'Santa Marta'): 640.6417329157617, ('Aguadas', 'La Unión'): 477.5553488753063, ('Aguadas', 'Pasto'): 537.121890004635, ('Aguadas', 'Samaniego'): 527.3820290642581, ('Aguadas', 'Sardinata'): 417.3197744015035, ('Aguadas', 'Ocaña'): 370.66268128175716, ('Aguadas', 'Convención'): 438.47895180720127, ('Aguadas', 'Génova'): 156.80864934634167, ('Aguadas', 'Calarcá'): 126.93213303948242, ('Aguadas', 'Quimbaya'): 112.9298418850283, ('Aguadas', 'Pereira'): 90.5833802322253, ('Aguadas', 'Santuario'): 83.5122727970633, ('Aguadas', 'Belén de Umbria'): 62.72402234876648, ('Aguadas', 'Rionegro'): 312.46653215640606, ('Aguadas', 'Bucaramanga'): 313.3504234802645, ('Aguadas', 'Barbosa'): 206.74586705827346, ('Aguadas', 'Socorro'): 263.35758973803723, ('Aguadas', 'Simacota'): 236.20372077125364, ('Aguadas', 'Chaparral'): 202.53410147135023, ('Aguadas', 'Dolores'): 229.59506756496185, ('Aguadas', 'Ibagué'): 124.01411997396426, ('Aguadas', 'Líbano'): 90.31983543253541, ('Aguadas', 'Cartago'): 108.99019561599076, ('Aguadas', 'Tulua'): 183.23834875174342, ('Aguadas', 'Jamundí'): 293.24453112870646, ('Aguadas', 'Sevilla'): 164.4284683101244, ('Aguadas', 'Caicedonia'): 147.03536765900378, ('Aguadas', 'Florencia'): 438.25806096034887, ('Aguadas', 'Puerto Milán'): 469.32667452918696, ('Aguadas', 'Nunchía'): 374.89353960364423, ('Aguadas', 'Mesetas'): 310.89869965102974, ('Salamina', 'Andes'): 68.30203566758392, ('Salamina', 'Medellín'): 104.40019877556942, ('Salamina', 'Dabeiba'): 203.0477486751987, ('Salamina', 'Salgar'): 93.06095113733687, ('Salamina', 'San Pablo de Borbur'): 149.00265552780746, ('Salamina', 'Labranzagrande'): 311.85055349932827, ('Salamina', 'Miraflores'): 248.5358816684281, ('Salamina', 'Moniquirá'): 213.80710843935208, ('Salamina', 'Manizales'): 31.693221430094418, ('Salamina', 'Anserma'): 41.27044733802893, ('Salamina', 'Pensilvania'): 26.321991828257524, ('Salamina', 'Riosucio'): 38.286082000507655, ('Salamina', 'Aguadas'): 26.593802521976546, ('Salamina', 'Morales'): 313.59387961707864, ('Salamina', 'El Tambo'): 355.74188996466785, ('Salamina', 'Bolívar'): 418.82398822666613, ('Salamina', 'Aguachica'): 382.9534971924048, ('Salamina', 'San Diego'): 604.1633005148444, ('Salamina', 'Caparrapí'): 99.09687658771692, ('Salamina', 'Viotá'): 143.3147174761558, ('Salamina', 'Sasaima'): 118.10415928680455, ('Salamina', 'Neiva'): 255.50233222761332, ('Salamina', 'Pitalito'): 402.6797522330758, ('Salamina', 'Gigante'): 326.4242006368361, ('Salamina', 'Santa Marta'): 664.9624856851794, ('Salamina', 'La Unión'): 456.02973156308747, ('Salamina', 'Pasto'): 515.0446231632513, ('Salamina', 'Samaniego'): 507.421574792614, ('Salamina', 'Sardinata'): 432.60635525400727, ('Salamina', 'Ocaña'): 388.40112642078077, ('Salamina', 'Convención'): 457.18692214611673, ('Salamina', 'Génova'): 132.89485822074425, ('Salamina', 'Calarcá'): 103.00682720173799, ('Salamina', 'Quimbaya'): 91.08648995974727, ('Salamina', 'Pereira'): 67.67146717422398, ('Salamina', 'Santuario'): 71.82134585623596, ('Salamina', 'Belén de Umbria'): 53.823862286543296, ('Salamina', 'Rionegro'): 327.4377069825127, ('Salamina', 'Bucaramanga'): 324.40519532080697, ('Salamina', 'Barbosa'): 208.3964996650666, ('Salamina', 'Socorro'): 269.3365486625858, ('Salamina', 'Simacota'): 246.2399234392322, ('Salamina', 'Chaparral'): 177.1398137878443, ('Salamina', 'Dolores'): 203.27501774870478, ('Salamina', 'Ibagué'): 97.42400796145094, ('Salamina', 'Líbano'): 65.69872954296874, ('Salamina', 'Cartago'): 90.23403152327515, ('Salamina', 'Tulua'): 161.73422057483052, ('Salamina', 'Jamundí'): 272.80763360596745, ('Salamina', 'Sevilla'): 141.6936794965298, ('Salamina', 'Caicedonia'): 124.36777896422291, ('Salamina', 'Florencia'): 412.49726588219187, ('Salamina', 'Puerto Milán'): 443.40404844059816, ('Salamina', 'Nunchía'): 370.0867026612928, ('Salamina', 'Mesetas'): 285.52161605835295}\n"
     ]
    }
   ],
   "source": [
    "print(\"Diccionarios- Parámetros indexados \\n\")\n",
    "print(\"Depósitos:\")\n",
    "print(\"Latitud de depósito:\", lat_d)\n",
    "print(\"Longitud de depósito:\", lon_d)\n",
    "print(\"Capacidad de depósito:\", capacidad)\n",
    "print(\"Costo fijo de depósito:\", costo_fijo)\n",
    "\n",
    "print(\"\\nCentros de acopio:\")\n",
    "print(\"Latitud de centro de acopio:\", lat_c)\n",
    "print(\"Longitud de centro de acopio:\", lon_c)\n",
    "print(\"Producción de centro de acopio:\", produccion)\n",
    "\n",
    "print(\"\\nDistancia entre depósitos y centros de acopio:\\n\", distancia)"
   ]
  },
  {
   "cell_type": "markdown",
   "metadata": {
    "deletable": false,
    "editable": false,
    "nbgrader": {
     "cell_type": "markdown",
     "checksum": "709d3aa822393816e7e24b448726abb4",
     "grade": false,
     "grade_id": "cell-e5addffa804a03e6",
     "locked": true,
     "schema_version": 3,
     "solution": false,
     "task": false
    }
   },
   "source": [
    "**Pregunta 1 (5 puntos)**\n",
    "\n",
    "* Crea el parámetro de costo de transporte $c_{ij}$ en un diccionario llamado `costo_transporte`\n",
    "* Las **llaves** de este diccionario deben ser los pares $(i, j)$, es decir, (depósitos, CACs)\n",
    "* Los **valores** de este diccionario deben ser los costos de transporte definidos en la formulación"
   ]
  },
  {
   "cell_type": "code",
   "execution_count": 16,
   "metadata": {
    "deletable": false,
    "nbgrader": {
     "cell_type": "code",
     "checksum": "acf25380285abc835ce59b8a2168e832",
     "grade": false,
     "grade_id": "cell-661b62680916a9a8",
     "locked": false,
     "schema_version": 3,
     "solution": true,
     "task": false
    }
   },
   "outputs": [
    {
     "name": "stdout",
     "output_type": "stream",
     "text": [
      "\n",
      "Costo de transporte entre depósitos y centros de acopio:\n",
      " {(('Medellín', 'Quimbaya'), 55.27647076871845), (('Aguadas', 'Anserma'), 15.940062535976093), (('Salamina', 'Cartago'), 27.070209456982543), (('Aguadas', 'Simacota'), 70.86111623137609), (('Aguadas', 'Florencia'), 131.47741828810464), (('Medellín', 'Medellín'), 0.0), (('La Dorada', 'Moniquirá'), 40.48702884761836), (('Salamina', 'Caparrapí'), 29.729062976315074), (('Salamina', 'Pereira'), 20.301440152267194), (('Aguadas', 'Génova'), 47.042594803902496), (('Medellín', 'Convención'), 116.63762644870852), (('Medellín', 'Bucaramanga'), 87.72077126662242), (('La Dorada', 'Líbano'), 24.239260547439844), (('Aguadas', 'Miraflores'), 77.2166947063096), (('Aguadas', 'Convención'), 131.54368554216038), (('Salamina', 'Socorro'), 80.80096459877574), (('Aguadas', 'Sevilla'), 49.328540493037316), (('Salamina', 'Chaparral'), 53.14194413635329), (('Medellín', 'San Pablo de Borbur'), 53.31066608997459), (('Medellín', 'Jamundí'), 107.36104558804223), (('La Dorada', 'Manizales'), 30.1308321782607), (('Salamina', 'Líbano'), 19.70961886289062), (('Aguadas', 'Pensilvania'), 10.959484228828352), (('Medellín', 'Labranzagrande'), 102.5529901150026), (('Medellín', 'Chaparral'), 83.45510858720213), (('Medellín', 'Caicedonia'), 65.57936327818402), (('La Dorada', 'Aguachica'), 99.1121954660978), (('Aguadas', 'Pitalito'), 128.16225816601585), (('La Dorada', 'Santuario'), 44.89661619591355), (('Salamina', 'Salgar'), 27.91828534120106), (('Salamina', 'Pitalito'), 120.80392566992273), (('Salamina', 'Calarcá'), 30.902048160521396), (('La Dorada', 'Mesetas'), 82.88119964806465), (('Salamina', 'Samaniego'), 152.2264724377842), (('Aguadas', 'Caparrapí'), 32.07452428622949), (('Medellín', 'Viotá'), 71.14418511140225), (('La Dorada', 'Simacota'), 52.59487551364237), (('Aguadas', 'Andes'), 16.695484681614026), (('Medellín', 'Gigante'), 128.54289612534865), (('Medellín', 'Ocaña'), 97.64514255510588), (('Medellín', 'Rionegro'), 83.54943890576199), (('Medellín', 'Aguachica'), 94.29260491672576), (('La Dorada', 'San Pablo de Borbur'), 21.049452461654322), (('Aguadas', 'Viotá'), 49.81848052036303), (('Aguadas', 'Manizales'), 16.836071432060546), (('La Dorada', 'San Diego'), 167.33329509410783), (('Aguadas', 'Sasaima'), 40.38587849674093), (('La Dorada', 'Ocaña'), 99.5072151959559), (('Aguadas', 'Chaparral'), 60.760230441405064), (('Aguadas', 'Aguachica'), 109.17453677687693), (('Salamina', 'Aguachica'), 114.88604915772144), (('Aguadas', 'Medellín'), 23.341966048344617), (('Medellín', 'Sasaima'), 58.78410136638861), (('Aguadas', 'Morales'), 100.30272438983489), (('Salamina', 'Morales'), 94.07816388512359), (('La Dorada', 'Sardinata'), 110.70318502489296), (('Medellín', 'Miraflores'), 88.65237804418912), (('Medellín', 'Belén de Umbria'), 36.89524278754991), (('Aguadas', 'Riosucio'), 10.23684892738668), (('Salamina', 'Belén de Umbria'), 16.14715868596299), (('Medellín', 'Bolívar'), 152.04872407321253), (('Salamina', 'Moniquirá'), 64.14213253180561), (('Medellín', 'Sardinata'), 113.85900614413497), (('La Dorada', 'Pitalito'), 133.20385805303837), (('Salamina', 'Nunchía'), 111.02601079838784), (('Medellín', 'San Diego'), 156.78368906320304), (('Salamina', 'Bolívar'), 125.64719646799983), (('Salamina', 'Anserma'), 12.38113420140868), (('Medellín', 'Líbano'), 49.750568504636036), (('Salamina', 'Pasto'), 154.5133869489754), (('Salamina', 'Andes'), 20.490610700275177), (('La Dorada', 'Bucaramanga'), 76.15294796415648), (('Salamina', 'Neiva'), 76.65069966828399), (('La Dorada', 'Samaniego'), 169.99705400029643), (('La Dorada', 'Labranzagrande'), 70.51565082225257), (('Salamina', 'Barbosa'), 62.51894989951998), (('Aguadas', 'El Tambo'), 113.12892525034853), (('Aguadas', 'Líbano'), 27.095950629760623), (('Medellín', 'Mesetas'), 115.80434213865334), (('Aguadas', 'Labranzagrande'), 94.97559498505227), (('Salamina', 'El Tambo'), 106.72256698940035), (('Medellín', 'Dabeiba'), 32.337835293116626), (('Salamina', 'Viotá'), 42.99441524284674), (('Salamina', 'Manizales'), 9.507966429028325), (('Salamina', 'Jamundí'), 81.84229008179024), (('Aguadas', 'Bucaramanga'), 94.00512704407934), (('Medellín', 'Calarcá'), 60.27010054925667), (('Medellín', 'Dolores'), 92.05202953882248), (('Aguadas', 'Calarcá'), 38.07963991184472), (('Aguadas', 'Cartago'), 32.69705868479723), (('Salamina', 'Quimbaya'), 27.32594698792418), (('Aguadas', 'Belén de Umbria'), 18.817206704629942), (('La Dorada', 'Belén de Umbria'), 39.79000324155105), (('Aguadas', 'Barbosa'), 62.023760117482034), (('La Dorada', 'Dabeiba'), 70.30378663791255), (('Aguadas', 'San Diego'), 174.82424750987423), (('Aguadas', 'Moniquirá'), 64.0691719820195), (('Aguadas', 'Salgar'), 21.429158577649446), (('Salamina', 'Ocaña'), 116.52033792623422), (('La Dorada', 'Puerto Milán'), 141.66891306195689), (('La Dorada', 'Gigante'), 107.48617882139948), (('Aguadas', 'Ibagué'), 37.204235992189275), (('Salamina', 'Puerto Milán'), 133.02121453217944), (('La Dorada', 'Aguadas'), 24.500359435204285), (('Salamina', 'Santa Marta'), 199.48874570555384), (('Medellín', 'Génova'), 69.07816510575606), (('Medellín', 'Socorro'), 78.22858170335721), (('Medellín', 'Pensilvania'), 31.916808151971036), (('La Dorada', 'Pensilvania'), 15.761698078284137), (('La Dorada', 'Tulua'), 66.75755238998), (('Medellín', 'Simacota'), 66.81828891948936), (('Aguadas', 'San Pablo de Borbur'), 45.044896341904604), (('Aguadas', 'Dolores'), 68.87852026948855), (('Salamina', 'Pensilvania'), 7.896597548477256), (('Medellín', 'Sevilla'), 70.72002485454898), (('La Dorada', 'Convención'), 120.74356169951591), (('Salamina', 'San Diego'), 181.2489901544533), (('La Dorada', 'Génova'), 56.0752683619529), (('Aguadas', 'Jamundí'), 87.97335933861193), (('La Dorada', 'Ibagué'), 39.04060455975684), (('Medellín', 'Andes'), 24.492232324594468), (('La Dorada', 'Andes'), 41.19270598316595), (('Medellín', 'Moniquirá'), 69.25597650899012), (('La Dorada', 'Cartago'), 48.30444107558234), (('Medellín', 'Anserma'), 35.80922423568698), (('La Dorada', 'Quimbaya'), 46.74101855954254), (('La Dorada', 'Miraflores'), 52.96761568612057), (('La Dorada', 'Neiva'), 84.98258523041973), (('La Dorada', 'Florencia'), 133.09404706277127), (('Salamina', 'Florencia'), 123.74917976465755), (('Medellín', 'Aguadas'), 23.341966048344617), (('Medellín', 'Salgar'), 16.000701197327366), (('Salamina', 'Labranzagrande'), 93.55516604979847), (('La Dorada', 'Dolores'), 63.35907164928191), (('Aguadas', 'Caicedonia'), 44.110610297701136), (('Salamina', 'Simacota'), 73.87197703176966), (('Medellín', 'Barbosa'), 66.2253054726366), (('Aguadas', 'Rionegro'), 93.73995964692182), (('Medellín', 'Santuario'), 42.90386718148978), (('La Dorada', 'Sasaima'), 21.81916435963731), (('La Dorada', 'Caparrapí'), 8.659302862056697), (('Aguadas', 'Samaniego'), 158.2146087192774), (('Salamina', 'Bucaramanga'), 97.32155859624208), (('Salamina', 'Aguadas'), 7.978140756592963), (('Medellín', 'Manizales'), 39.7524987324469), (('La Dorada', 'Santa Marta'), 189.95861480106154), (('La Dorada', 'Bolívar'), 141.97663676363138), (('Medellín', 'La Unión'), 162.98096804808762), (('Aguadas', 'Gigante'), 105.68149944525362), (('La Dorada', 'Riosucio'), 33.85793442332091), (('La Dorada', 'Pereira'), 39.75381179065338), (('Aguadas', 'Sardinata'), 125.19593232045104), (('Medellín', 'Pitalito'), 150.08420140521034), (('Salamina', 'Rionegro'), 98.2313120947538), (('Aguadas', 'Aguadas'), 0.0), (('Aguadas', 'Bolívar'), 132.1557323317353), (('Salamina', 'La Unión'), 136.80891946892623), (('La Dorada', 'Pasto'), 170.15878130530692), (('Salamina', 'Ibagué'), 29.22720238843528), (('Medellín', 'El Tambo'), 132.89783275877443), (('La Dorada', 'Sevilla'), 59.90961561132437), (('La Dorada', 'Rionegro'), 79.3601918936291), (('Salamina', 'Sardinata'), 129.78190657620218), (('Medellín', 'Florencia'), 154.25318052802854), (('Medellín', 'Riosucio'), 27.53788930889082), (('Medellín', 'Puerto Milán'), 163.67922999500118), (('Salamina', 'San Pablo de Borbur'), 44.700796658342234), (('Medellín', 'Neiva'), 107.70448966848706), (('Salamina', 'Sevilla'), 42.50810384895894), (('Salamina', 'Santuario'), 21.546403756870788), (('Salamina', 'Medellín'), 31.320059632670826), (('La Dorada', 'La Unión'), 153.21040694601416), (('Medellín', 'Morales'), 119.76096042827959), (('La Dorada', 'Anserma'), 35.97159978227612), (('La Dorada', 'Salgar'), 44.029095509772866), (('Aguadas', 'Mesetas'), 93.26960989530892), (('Salamina', 'Sasaima'), 35.43124778604136), (('Salamina', 'Convención'), 137.156076643835), (('Salamina', 'Caicedonia'), 37.31033368926687), (('La Dorada', 'Viotá'), 37.14908283649797), (('Aguadas', 'Pasto'), 161.1365670013905), (('La Dorada', 'El Tambo'), 123.62964620557332), (('La Dorada', 'Nunchía'), 88.01206469244315), (('La Dorada', 'Jamundí'), 99.98721493988137), (('Aguadas', 'Neiva'), 84.53903999743682), (('Salamina', 'Tulua'), 48.520266172449155), (('Aguadas', 'Puerto Milán'), 140.7980023587561), (('Medellín', 'Samaniego'), 176.69211243284153), (('Salamina', 'Gigante'), 97.92726019105082), (('Medellín', 'Caparrapí'), 46.67384877987402), (('La Dorada', 'Calarcá'), 47.94811201607751), (('Medellín', 'Santa Marta'), 171.1513782416021), (('Aguadas', 'Quimbaya'), 33.878952565508484), (('Medellín', 'Nunchía'), 119.59026141641647), (('Aguadas', 'Pereira'), 27.175014069667586), (('Medellín', 'Pereira'), 49.25962159201442), (('Medellín', 'Cartago'), 52.80120016091669), (('Aguadas', 'Dabeiba'), 53.33554179143855), (('Medellín', 'Pasto'), 181.186178040727), (('Aguadas', 'Nunchía'), 112.46806188109326), (('La Dorada', 'Medellín'), 38.02266278788536), (('La Dorada', 'Caicedonia'), 55.14459497338166), (('La Dorada', 'Chaparral'), 65.7707516968471), (('Aguadas', 'Santa Marta'), 192.1925198747285), (('La Dorada', 'Morales'), 111.74163842012837), (('Aguadas', 'Santuario'), 25.05368183911899), (('Salamina', 'Dabeiba'), 60.91432460255961), (('Medellín', 'Ibagué'), 60.545368126917424), (('La Dorada', 'Socorro'), 57.902182439872306), (('Aguadas', 'Ocaña'), 111.19880438452715), (('Salamina', 'Dolores'), 60.98250532461143), (('Salamina', 'Mesetas'), 85.65648481750588), (('Salamina', 'Miraflores'), 74.56076450052842), (('Salamina', 'Génova'), 39.868457466223276), (('Salamina', 'Riosucio'), 11.485824600152297), (('La Dorada', 'Barbosa'), 38.94181367799555), (('Medellín', 'Tulua'), 75.57695551673314), (('Aguadas', 'Tulua'), 54.971504625523025), (('Aguadas', 'La Unión'), 143.2666046625919), (('Aguadas', 'Socorro'), 79.00727692141116)}\n"
     ]
    }
   ],
   "source": [
    "# your code here\n",
    "costo_transporte = {(k, v * q) for (k, v) in distancia.items()}\n",
    "print(\"\\nCosto de transporte entre depósitos y centros de acopio:\\n\", costo_transporte)"
   ]
  },
  {
   "cell_type": "code",
   "execution_count": null,
   "metadata": {
    "deletable": false,
    "editable": false,
    "nbgrader": {
     "cell_type": "code",
     "checksum": "758c87f6d9a1b3f85bac66f0dc73b80b",
     "grade": true,
     "grade_id": "cell-8240430227822d38",
     "locked": true,
     "points": 5,
     "schema_version": 3,
     "solution": false,
     "task": false
    }
   },
   "outputs": [],
   "source": [
    "# Esta celda esta reservada para uso del equipo docente"
   ]
  },
  {
   "cell_type": "code",
   "execution_count": null,
   "metadata": {
    "deletable": false,
    "editable": false,
    "nbgrader": {
     "cell_type": "code",
     "checksum": "3b46bf1319669defa9d62c5bde2877a2",
     "grade": true,
     "grade_id": "cell-41e7dcba77078079",
     "locked": true,
     "points": 0,
     "schema_version": 3,
     "solution": false,
     "task": false
    }
   },
   "outputs": [],
   "source": [
    "# Esta celda esta reservada para uso del equipo docente"
   ]
  },
  {
   "cell_type": "markdown",
   "metadata": {
    "deletable": false,
    "editable": false,
    "nbgrader": {
     "cell_type": "markdown",
     "checksum": "009575ea03143cde1dab01eaa1ec01e8",
     "grade": false,
     "grade_id": "cell-587d11a8eb6313b7",
     "locked": true,
     "schema_version": 3,
     "solution": false,
     "task": false
    }
   },
   "source": [
    "**Celda de prueba (0 puntos)**\n",
    "\n",
    "Es una buena práctica imprimir algunos objetos que contienen los parámetros en la consola luego de crearlos. De esta forma puedes corregir errores y familiarizarte con las estrucutras de datos que se van a utilizar. Puedes hacer estas pruebas en la celda a continuación.\n",
    "\n",
    "* **Esta celda no es calificable**"
   ]
  },
  {
   "cell_type": "code",
   "execution_count": null,
   "metadata": {},
   "outputs": [],
   "source": [
    "# Aquí puedes explorar los parámetros\n"
   ]
  },
  {
   "cell_type": "markdown",
   "metadata": {
    "deletable": false,
    "editable": false,
    "nbgrader": {
     "cell_type": "markdown",
     "checksum": "b41130d10ef9937b329cff021f1ad198",
     "grade": false,
     "grade_id": "cell-6a525ae7e4899ef1",
     "locked": true,
     "schema_version": 3,
     "solution": false,
     "task": false
    },
    "tags": []
   },
   "source": [
    "## Modelado\n",
    "---"
   ]
  },
  {
   "cell_type": "markdown",
   "metadata": {
    "deletable": false,
    "editable": false,
    "nbgrader": {
     "cell_type": "markdown",
     "checksum": "32046f7ed4b359dfe697449072da98c0",
     "grade": false,
     "grade_id": "cell-ebebd9c7c932a295",
     "locked": true,
     "schema_version": 3,
     "solution": false,
     "task": false
    }
   },
   "source": [
    "### Declaración del modelo"
   ]
  },
  {
   "cell_type": "markdown",
   "metadata": {
    "deletable": false,
    "editable": false,
    "nbgrader": {
     "cell_type": "markdown",
     "checksum": "c19447106ff0ffccf780501ee5bb0ee2",
     "grade": false,
     "grade_id": "cell-a3aeec243a8845f1",
     "locked": true,
     "schema_version": 3,
     "solution": false,
     "task": false
    }
   },
   "source": [
    "**Pregunta 2 (5 puntos)**\n",
    "* Crea un objeto modelo en PuLP (`lp.LpProblem`) llamado `problema`\n",
    "* Indica el sentido de la optimización: maximizar o minimizar"
   ]
  },
  {
   "cell_type": "code",
   "execution_count": 17,
   "metadata": {
    "deletable": false,
    "nbgrader": {
     "cell_type": "code",
     "checksum": "0fe46032073d74fbd355763a5a94668c",
     "grade": false,
     "grade_id": "cell-344f796fe3d37534",
     "locked": false,
     "schema_version": 3,
     "solution": true,
     "task": false
    }
   },
   "outputs": [],
   "source": [
    "# your code here\n",
    "problema = lp.LpProblem(sense=lp.LpMinimize)"
   ]
  },
  {
   "cell_type": "code",
   "execution_count": null,
   "metadata": {
    "deletable": false,
    "editable": false,
    "nbgrader": {
     "cell_type": "code",
     "checksum": "9e1522e8d12b48d3c4f32dbb71d3170f",
     "grade": true,
     "grade_id": "cell-9466bada00deeca6",
     "locked": true,
     "points": 5,
     "schema_version": 3,
     "solution": false,
     "task": false
    }
   },
   "outputs": [],
   "source": [
    "# Esta celda esta reservada para uso del equipo docente"
   ]
  },
  {
   "cell_type": "code",
   "execution_count": null,
   "metadata": {
    "deletable": false,
    "editable": false,
    "nbgrader": {
     "cell_type": "code",
     "checksum": "be40950df8bdfac05d32a6da5059f8d9",
     "grade": true,
     "grade_id": "cell-22a4b3d85f6c728a",
     "locked": true,
     "points": 0,
     "schema_version": 3,
     "solution": false,
     "task": false
    }
   },
   "outputs": [],
   "source": [
    "# Esta celda esta reservada para uso del equipo docente"
   ]
  },
  {
   "cell_type": "markdown",
   "metadata": {
    "deletable": false,
    "editable": false,
    "nbgrader": {
     "cell_type": "markdown",
     "checksum": "56f4327464ec934dee0ea31d6c3a8c03",
     "grade": false,
     "grade_id": "cell-032e2c76bf498b03",
     "locked": true,
     "schema_version": 3,
     "solution": false,
     "task": false
    }
   },
   "source": [
    "### Variables de decisión\n",
    "\n",
    "Como variables del problema tenemos las variables para decidir la asignación de depósitos a CAC y la variable auxiliar `z` para permitir un objetivo min-max\n",
    "\n",
    ">* $x_{ij} = \\begin{cases}1, & \\text{si el depósito} \\, i\\in I \\text{ atiende al CAC } \\, j\\in J \\\\ 0, & \\text{de lo contrario}\\end{cases} $\n",
    "\n",
    ">* $z$: máxima demanda atendida por un depósito"
   ]
  },
  {
   "cell_type": "markdown",
   "metadata": {
    "deletable": false,
    "editable": false,
    "nbgrader": {
     "cell_type": "markdown",
     "checksum": "cd06a81a309dbe367f8ed9efba4a68c0",
     "grade": false,
     "grade_id": "cell-a3aee7843a8845f1",
     "locked": true,
     "schema_version": 3,
     "solution": false,
     "task": false
    }
   },
   "source": [
    "**Pregunta 3 (5 puntos)**\n",
    "* Crea las variables del modelo: `x` y `z`, usando el método `lp.LpVariable.dicts()` y `lp.LpVariable()` respectivamente.\n",
    "* Especifica el nombre de la variable `x` como `'atender'` y el de `z` como `'demanda_max'`, usando el argumento `name`\n",
    "* Especifica los indices de las variables con el argumento `indexs`, en caso de ser necesario\n",
    "* Especifica el tipo de variable con el argumento `cat`\n",
    "* Especifica la cota inferior de las variables en 0"
   ]
  },
  {
   "cell_type": "code",
   "execution_count": null,
   "metadata": {
    "deletable": false,
    "nbgrader": {
     "cell_type": "code",
     "checksum": "cf2dd3db633ddbc7cddd6f818d7b7068",
     "grade": false,
     "grade_id": "cell-57942564bc68df9c",
     "locked": false,
     "schema_version": 3,
     "solution": true,
     "task": false
    }
   },
   "outputs": [],
   "source": [
    "# your code here\n"
   ]
  },
  {
   "cell_type": "code",
   "execution_count": null,
   "metadata": {
    "deletable": false,
    "editable": false,
    "nbgrader": {
     "cell_type": "code",
     "checksum": "bf3207948a1d5d1aa7540626bc9f2ce5",
     "grade": true,
     "grade_id": "cell-39156750dbb050f0",
     "locked": true,
     "points": 5,
     "schema_version": 3,
     "solution": false,
     "task": false
    }
   },
   "outputs": [],
   "source": [
    "# Esta celda esta reservada para uso del equipo docente"
   ]
  },
  {
   "cell_type": "code",
   "execution_count": null,
   "metadata": {
    "deletable": false,
    "editable": false,
    "nbgrader": {
     "cell_type": "code",
     "checksum": "0e007932ee311ce20f08b13e5cba88dc",
     "grade": true,
     "grade_id": "cell-554425e3e71ef09e",
     "locked": true,
     "points": 0,
     "schema_version": 3,
     "solution": false,
     "task": false
    }
   },
   "outputs": [],
   "source": [
    "# Esta celda esta reservada para uso del equipo docente"
   ]
  },
  {
   "cell_type": "markdown",
   "metadata": {
    "deletable": false,
    "editable": false,
    "nbgrader": {
     "cell_type": "markdown",
     "checksum": "58917b6ff35d67d65d99b6841f70da5d",
     "grade": false,
     "grade_id": "cell-747431c6a3556e72",
     "locked": true,
     "schema_version": 3,
     "solution": false,
     "task": false
    }
   },
   "source": [
    "### Función objetivo\n",
    "\n",
    "Recuerda que en este ejercicio tratamos con un problema de balance min-max. Es muy importante hacer uso de la variable auxiliar en este paso. Te aconsejamos escribir primero la ecuación y luego implementarla.\n",
    "\n",
    "Minimizar la máxima demanda atendida por un depósito\n",
    "> *# Para desarrollo del estudiante*"
   ]
  },
  {
   "cell_type": "markdown",
   "metadata": {
    "deletable": false,
    "editable": false,
    "nbgrader": {
     "cell_type": "markdown",
     "checksum": "3bd9c146154e6247643c0385b98e7823",
     "grade": false,
     "grade_id": "cell-b31d18c2bc66802d",
     "locked": true,
     "schema_version": 3,
     "solution": false,
     "task": false
    }
   },
   "source": [
    "**Pregunta 4 (15 puntos)**\n",
    "* Crea la función objetivo y agregala al modelo `problema`\n",
    "\n",
    "> **Recuerda** que es buena práctica escribir la expresión antes de implementarla"
   ]
  },
  {
   "cell_type": "code",
   "execution_count": null,
   "metadata": {
    "deletable": false,
    "nbgrader": {
     "cell_type": "code",
     "checksum": "4bf8b2a2bb8b876312d6885c361b22b7",
     "grade": false,
     "grade_id": "cell-566757a400fe8bde",
     "locked": false,
     "schema_version": 3,
     "solution": true,
     "task": false
    }
   },
   "outputs": [],
   "source": [
    "# your code here\n"
   ]
  },
  {
   "cell_type": "code",
   "execution_count": null,
   "metadata": {
    "deletable": false,
    "editable": false,
    "nbgrader": {
     "cell_type": "code",
     "checksum": "b210ad3498cbb0fbd5e58b4563ae84dd",
     "grade": true,
     "grade_id": "cell-54a77134f52db12f",
     "locked": true,
     "points": 15,
     "schema_version": 3,
     "solution": false,
     "task": false
    }
   },
   "outputs": [],
   "source": [
    "# Esta celda esta reservada para uso del equipo docente"
   ]
  },
  {
   "cell_type": "code",
   "execution_count": null,
   "metadata": {
    "deletable": false,
    "editable": false,
    "nbgrader": {
     "cell_type": "code",
     "checksum": "b55fbcefaf35f27ca9e7a94cfed93357",
     "grade": true,
     "grade_id": "cell-31216d1df3d66889",
     "locked": true,
     "points": 0,
     "schema_version": 3,
     "solution": false,
     "task": false
    }
   },
   "outputs": [],
   "source": [
    "# Esta celda esta reservada para uso del equipo docente"
   ]
  },
  {
   "cell_type": "markdown",
   "metadata": {
    "deletable": false,
    "editable": false,
    "nbgrader": {
     "cell_type": "markdown",
     "checksum": "eb2b096aa0d9eb4431eb33f5a4bfc134",
     "grade": false,
     "grade_id": "cell-d6fa9f15b71fb4ce",
     "locked": true,
     "schema_version": 3,
     "solution": false,
     "task": false
    }
   },
   "source": [
    "### Restricciones\n",
    "\n",
    "Para solucionar el problema de balance min-max es crucial crear la restricción que asigna el valor a la variable auxiliar. Sigue las instrucciones de cada restricción.\n",
    "    \n",
    "> **Advertencia**: En `pulp` no es recomendable sobreescribir restricciones, entonces, si ya creaste una restricción y quieres crearla de nuevo para corregir algo, asegúrate de volver a crear el objeto `problema` desde el principio. (Nosotros haremos esto antes de calificar, no te preocupes)"
   ]
  },
  {
   "cell_type": "markdown",
   "metadata": {
    "deletable": false,
    "editable": false,
    "nbgrader": {
     "cell_type": "markdown",
     "checksum": "243c9e563322c800c2563c6bab012086",
     "grade": false,
     "grade_id": "cell-cafbfe8147399abf",
     "locked": true,
     "schema_version": 3,
     "solution": false,
     "task": false
    }
   },
   "source": [
    "**Pregunta 5 (20 puntos)**\n",
    "\n",
    "La siguiente restricción debe capturar la máxima demanda en la variable auxilizar `z` para poder resolver el problema min-max.\n",
    "\n",
    "* Crea la siguiente restricción, asígnale el nombre `'R1_'+str(<indice_del_para_todo>)` y añádela al modelo:\n",
    "\n",
    "> 1. Capturar en $z$ la máxima demanda atendida por un depósito\n",
    ">> *# Para desarrollo del estudiante*"
   ]
  },
  {
   "cell_type": "code",
   "execution_count": null,
   "metadata": {
    "deletable": false,
    "nbgrader": {
     "cell_type": "code",
     "checksum": "87a2fac0f6799d58cb1635ca07f9f433",
     "grade": false,
     "grade_id": "cell-2e79c974d25a4d4e",
     "locked": false,
     "schema_version": 3,
     "solution": true,
     "task": false
    }
   },
   "outputs": [],
   "source": [
    "# your code here\n"
   ]
  },
  {
   "cell_type": "code",
   "execution_count": null,
   "metadata": {
    "deletable": false,
    "editable": false,
    "nbgrader": {
     "cell_type": "code",
     "checksum": "3f1bed5978888bba82ddfea1a33e51c6",
     "grade": true,
     "grade_id": "cell-5b17bf0473e87b81",
     "locked": true,
     "points": 20,
     "schema_version": 3,
     "solution": false,
     "task": false
    }
   },
   "outputs": [],
   "source": [
    "# Esta celda esta reservada para uso del equipo docente"
   ]
  },
  {
   "cell_type": "markdown",
   "metadata": {
    "deletable": false,
    "editable": false,
    "nbgrader": {
     "cell_type": "markdown",
     "checksum": "d60a2018a9ab4ded71072ebbe2eb066b",
     "grade": false,
     "grade_id": "cell-c956875838d9d913",
     "locked": true,
     "schema_version": 3,
     "solution": false,
     "task": false
    }
   },
   "source": [
    "**Pregunta 6 (10 puntos)**\n",
    "\n",
    "* Crea la siguiente restricción, asígnale el nombre `'R2_'+str(<indice_del_para_todo>)` y añádela al modelo:\n",
    "\n",
    "> 2. Todo CAC debe ser atendido por un depósito\n",
    ">> *# Para desarrollo del estudiante*"
   ]
  },
  {
   "cell_type": "code",
   "execution_count": null,
   "metadata": {
    "deletable": false,
    "nbgrader": {
     "cell_type": "code",
     "checksum": "6e06621949ae832b0ce6e3df25fb9f58",
     "grade": false,
     "grade_id": "cell-5438e0a5d6ae7853",
     "locked": false,
     "schema_version": 3,
     "solution": true,
     "task": false
    }
   },
   "outputs": [],
   "source": [
    "# your code here\n"
   ]
  },
  {
   "cell_type": "code",
   "execution_count": null,
   "metadata": {
    "deletable": false,
    "editable": false,
    "nbgrader": {
     "cell_type": "code",
     "checksum": "a65620a7b7c2fd4827dfa87da0b6f920",
     "grade": true,
     "grade_id": "cell-5f7657123e172a5c",
     "locked": true,
     "points": 10,
     "schema_version": 3,
     "solution": false,
     "task": false
    }
   },
   "outputs": [],
   "source": [
    "# Esta celda esta reservada para uso del equipo docente"
   ]
  },
  {
   "cell_type": "markdown",
   "metadata": {
    "deletable": false,
    "editable": false,
    "nbgrader": {
     "cell_type": "markdown",
     "checksum": "7528bdf0bbf9fc7a556c82179c6d77e9",
     "grade": false,
     "grade_id": "cell-27346e36023e57f0",
     "locked": true,
     "schema_version": 3,
     "solution": false,
     "task": false
    }
   },
   "source": [
    "**Pregunta 7 (10 puntos)**\n",
    "\n",
    "* Crea la siguiente restricción, asígnale el nombre `'R3_'+str(<indice_del_para_todo>)` y añádela al modelo:\n",
    "\n",
    "> 3. La demanda atendida por un depósito no puede superar su capacidad\n",
    ">> *# Para desarrollo del estudiante*"
   ]
  },
  {
   "cell_type": "code",
   "execution_count": null,
   "metadata": {
    "deletable": false,
    "nbgrader": {
     "cell_type": "code",
     "checksum": "e821d186cd8b0ebc612f95a55e1063f0",
     "grade": false,
     "grade_id": "cell-86d9081b47152b81",
     "locked": false,
     "schema_version": 3,
     "solution": true,
     "task": false
    }
   },
   "outputs": [],
   "source": [
    "# your code here\n"
   ]
  },
  {
   "cell_type": "code",
   "execution_count": null,
   "metadata": {
    "deletable": false,
    "editable": false,
    "nbgrader": {
     "cell_type": "code",
     "checksum": "4b782d2bcda3c483d9b5673073813ab3",
     "grade": true,
     "grade_id": "cell-d8c100ee66144532",
     "locked": true,
     "points": 10,
     "schema_version": 3,
     "solution": false,
     "task": false
    }
   },
   "outputs": [],
   "source": [
    "# Esta celda esta reservada para uso del equipo docente"
   ]
  },
  {
   "cell_type": "markdown",
   "metadata": {
    "deletable": false,
    "editable": false,
    "nbgrader": {
     "cell_type": "markdown",
     "checksum": "a38a010dda3507e88637355f068c3455",
     "grade": false,
     "grade_id": "cell-11d154f7cbe3ba7b",
     "locked": true,
     "schema_version": 3,
     "solution": false,
     "task": false
    }
   },
   "source": [
    "**Pregunta 8 (15 puntos)**\n",
    "\n",
    "* Crea la siguiente restricción, asígnale el nombre `'R4'` y añádela al modelo:\n",
    "\n",
    "> 4. El costo total de la solución puede ser, a lo sumo, 10% más alto que el de la solución de mínimo costo\n",
    ">> *# Para desarrollo del estudiante*"
   ]
  },
  {
   "cell_type": "code",
   "execution_count": null,
   "metadata": {
    "deletable": false,
    "nbgrader": {
     "cell_type": "code",
     "checksum": "d73a4340da1c7213430db2c582b649ea",
     "grade": false,
     "grade_id": "cell-d4e085deadc065c5",
     "locked": false,
     "schema_version": 3,
     "solution": true,
     "task": false
    }
   },
   "outputs": [],
   "source": [
    "# your code here\n"
   ]
  },
  {
   "cell_type": "code",
   "execution_count": null,
   "metadata": {
    "deletable": false,
    "editable": false,
    "nbgrader": {
     "cell_type": "code",
     "checksum": "c4152e20c789488191bff5b7303f6faf",
     "grade": true,
     "grade_id": "cell-bbd7c2859a2fb18f",
     "locked": true,
     "points": 15,
     "schema_version": 3,
     "solution": false,
     "task": false
    }
   },
   "outputs": [],
   "source": [
    "# Esta celda esta reservada para uso del equipo docente"
   ]
  },
  {
   "cell_type": "code",
   "execution_count": null,
   "metadata": {
    "deletable": false,
    "editable": false,
    "nbgrader": {
     "cell_type": "code",
     "checksum": "04327b129ede6156537a6f50dedace88",
     "grade": true,
     "grade_id": "cell-852cae9567dbdf14",
     "locked": true,
     "points": 0,
     "schema_version": 3,
     "solution": false,
     "task": false
    }
   },
   "outputs": [],
   "source": [
    "# Esta celda esta reservada para uso del equipo docente"
   ]
  },
  {
   "cell_type": "markdown",
   "metadata": {
    "deletable": false,
    "editable": false,
    "nbgrader": {
     "cell_type": "markdown",
     "checksum": "bca9fa411ca1980e063336d88fc2181d",
     "grade": false,
     "grade_id": "cell-31445d212bcb279b",
     "locked": true,
     "schema_version": 3,
     "solution": false,
     "task": false
    }
   },
   "source": [
    "### Invocar el optimizador\n",
    "\n",
    "¡Hora de correr el modelo! \n",
    "\n",
    "Notarás que hay algunos argumentos adicionales en el código que corre el modelo. Queremos establecer un **criterio de parada** mediante la brecha de optimalidad o *gap* ($(UB-LB)/LB$, para caso de minimización), ya que el tamaño del problema y el uso de Branch & Bound hacen que este problema tome un rato en correr. Para crear este criterio, creamos el objeto `solver` que contiene el optimizador y asigna al argumento `gapRel` el valor del *gap* que queremos permitir. En este caso $0.1\\%$ es suficientemente bueno para nosotros. \n",
    "\n",
    "Además, hemos incluido un código para calcular el tiempo de corrida usando la librería `datetime`!\n",
    "\n",
    "Si quieres una respuesta más precisa, reduce el *gap* del argumento `gapRel` a un valor más pequeño y comprueba el nuevo tiempo de corrida."
   ]
  },
  {
   "cell_type": "code",
   "execution_count": null,
   "metadata": {},
   "outputs": [],
   "source": [
    "# Optimizar el modelo con CBC (default de PuLP)\n",
    "inicio = datetime.now()\n",
    "solver = lp.PULP_CBC_CMD(gapRel=0.001, msg=False)  # Criterio de parada: Gap <= 0.1%\n",
    "problema.solve(solver)\n",
    "print(\"Tiempo transcurrido:\", datetime.now() - inicio)"
   ]
  },
  {
   "cell_type": "markdown",
   "metadata": {
    "deletable": false,
    "editable": false,
    "nbgrader": {
     "cell_type": "markdown",
     "checksum": "6ce17df280f160726c71dc94accbf45b",
     "grade": false,
     "grade_id": "cell-b1766f2e759f8b12",
     "locked": true,
     "schema_version": 3,
     "solution": false,
     "task": false
    },
    "tags": []
   },
   "source": [
    "## Reporte de resultados\n",
    "---"
   ]
  },
  {
   "cell_type": "markdown",
   "metadata": {
    "deletable": false,
    "editable": false,
    "nbgrader": {
     "cell_type": "markdown",
     "checksum": "6aed93c3b3a03d6ae9785cda7926825b",
     "grade": false,
     "grade_id": "cell-1422f3d782be0722",
     "locked": true,
     "schema_version": 3,
     "solution": false,
     "task": false
    }
   },
   "source": [
    "**Estado del optimizador, función objetivo y otros indicadores**"
   ]
  },
  {
   "cell_type": "markdown",
   "metadata": {
    "deletable": false,
    "editable": false,
    "nbgrader": {
     "cell_type": "markdown",
     "checksum": "077f2fab0c632240fdd54c86a6afc463",
     "grade": false,
     "grade_id": "cell-e4f89f3c8d92445d",
     "locked": true,
     "schema_version": 3,
     "solution": false,
     "task": false
    }
   },
   "source": [
    "**Pregunta 9 (5 puntos)**\n",
    "* Despues de haber corrido el modelo: `<modelo>.solve()`, asigna a una nueva variable `estado` el estado del optimizador **en palabras** según `lp.LpStatus`.\n",
    "* También, asigna el valor de la función objetivo a la variable `obj`"
   ]
  },
  {
   "cell_type": "code",
   "execution_count": null,
   "metadata": {
    "deletable": false,
    "nbgrader": {
     "cell_type": "code",
     "checksum": "f4307dde014a1d0f921374a0f40cc941",
     "grade": false,
     "grade_id": "cell-7e5a4476db8fcb93",
     "locked": false,
     "schema_version": 3,
     "solution": true,
     "task": false
    }
   },
   "outputs": [],
   "source": [
    "# your code here\n"
   ]
  },
  {
   "cell_type": "code",
   "execution_count": null,
   "metadata": {
    "deletable": false,
    "editable": false,
    "nbgrader": {
     "cell_type": "code",
     "checksum": "cd88f7cf18e87c36e92a185469eee7b5",
     "grade": true,
     "grade_id": "cell-5a28a35abafc89a8",
     "locked": true,
     "points": 5,
     "schema_version": 3,
     "solution": false,
     "task": false
    }
   },
   "outputs": [],
   "source": [
    "# Esta celda esta reservada para uso del equipo docente"
   ]
  },
  {
   "cell_type": "markdown",
   "metadata": {
    "deletable": false,
    "editable": false,
    "nbgrader": {
     "cell_type": "markdown",
     "checksum": "22024081f762710c8a0bc07d1cf59869",
     "grade": false,
     "grade_id": "cell-b20c0d8c5d700631",
     "locked": true,
     "schema_version": 3,
     "solution": false,
     "task": false
    }
   },
   "source": [
    "**Pregunta 10 (10 puntos)**\n",
    "\n",
    "* Calcula el costo total de transporte de la solución y asígnalo a una variable `costo_total`"
   ]
  },
  {
   "cell_type": "code",
   "execution_count": null,
   "metadata": {
    "deletable": false,
    "nbgrader": {
     "cell_type": "code",
     "checksum": "8c844ef21f70a208bf82a7938b8a004d",
     "grade": false,
     "grade_id": "cell-5ef6865694e999e1",
     "locked": false,
     "schema_version": 3,
     "solution": true,
     "task": false
    }
   },
   "outputs": [],
   "source": [
    "# your code here\n"
   ]
  },
  {
   "cell_type": "code",
   "execution_count": null,
   "metadata": {
    "deletable": false,
    "editable": false,
    "nbgrader": {
     "cell_type": "code",
     "checksum": "3a2b83f954d1b3b63dc9e78e92d1d791",
     "grade": true,
     "grade_id": "cell-fcc7fe6344d088d3",
     "locked": true,
     "points": 10,
     "schema_version": 3,
     "solution": false,
     "task": false
    }
   },
   "outputs": [],
   "source": [
    "# Esta celda esta reservada para uso del equipo docente"
   ]
  },
  {
   "cell_type": "markdown",
   "metadata": {
    "deletable": false,
    "editable": false,
    "nbgrader": {
     "cell_type": "markdown",
     "checksum": "1e32cd7a94b0b77bb64805eaf635966d",
     "grade": false,
     "grade_id": "cell-0254e0b1f475a1b0",
     "locked": true,
     "schema_version": 3,
     "solution": false,
     "task": false
    }
   },
   "source": [
    "**Asignación de CACs a depósitos**"
   ]
  },
  {
   "cell_type": "code",
   "execution_count": null,
   "metadata": {
    "deletable": false,
    "editable": false,
    "nbgrader": {
     "cell_type": "code",
     "checksum": "050aaa6331652e4ec6fe0abf763f7b4e",
     "grade": false,
     "grade_id": "cell-af28a5b62394b3cb",
     "locked": true,
     "schema_version": 3,
     "solution": false,
     "task": false
    }
   },
   "outputs": [],
   "source": [
    "matriz = []\n",
    "for j in Centros:\n",
    "    # Cada fila contiene la información de un pozo\n",
    "    fila = []\n",
    "    for i in Depositos:\n",
    "        if x[i, j].value() > 0:\n",
    "            fila.append(\" X \")\n",
    "        else:\n",
    "            fila.append(\" - \")\n",
    "    matriz.append(fila)\n",
    "\n",
    "df = pd.DataFrame(matriz, index=Centros, columns=Depositos)\n",
    "df.columns.name = \"Deposito\"\n",
    "df.index.name = \"CAC\"\n",
    "df.head(10)"
   ]
  },
  {
   "cell_type": "markdown",
   "metadata": {
    "deletable": false,
    "editable": false,
    "nbgrader": {
     "cell_type": "markdown",
     "checksum": "0e00fc2e64457d1e8cd258cc505d939d",
     "grade": false,
     "grade_id": "cell-fd6a91eb23723db3",
     "locked": true,
     "schema_version": 3,
     "solution": false,
     "task": false
    },
    "tags": []
   },
   "source": [
    "## Visualizaciones\n",
    "---"
   ]
  },
  {
   "cell_type": "markdown",
   "metadata": {
    "deletable": false,
    "editable": false,
    "nbgrader": {
     "cell_type": "markdown",
     "checksum": "a10e3f9691efcfdb47e67365dadc9705",
     "grade": false,
     "grade_id": "cell-83d8e0c4992d661d",
     "locked": true,
     "schema_version": 3,
     "solution": false,
     "task": false
    }
   },
   "source": [
    "**Demandas atendidas por cada depósito**"
   ]
  },
  {
   "cell_type": "code",
   "execution_count": null,
   "metadata": {
    "deletable": false,
    "editable": false,
    "nbgrader": {
     "cell_type": "code",
     "checksum": "512d661b34ce73a21fda4a0ff73b77a2",
     "grade": false,
     "grade_id": "cell-a35affd66d80a167",
     "locked": true,
     "schema_version": 3,
     "solution": false,
     "task": false
    }
   },
   "outputs": [],
   "source": [
    "import matplotlib.pyplot as plt\n",
    "\n",
    "%config InlineBackend.figure_format='retina'\n",
    "plt.style.use(\"seaborn\")\n",
    "\n",
    "utilizado = []\n",
    "for i in Depositos:\n",
    "    utilizado.append(sum(produccion[j] * x[i, j].value() for j in Centros))\n",
    "\n",
    "plt.bar(\n",
    "    Depositos, [cap - 1 for cap in capacidad.values()], alpha=0.2, label=\"Capacidad\"\n",
    ")\n",
    "plt.bar(Depositos, utilizado, alpha=0.7, label=\"Demanda atendida\")\n",
    "plt.legend()\n",
    "plt.xlabel(\"Depósito\")\n",
    "plt.ylabel(\"Demanda atendida\")\n",
    "plt.title(\"Balance de demanda entre Depósitos\")\n",
    "plt.show()"
   ]
  },
  {
   "cell_type": "markdown",
   "metadata": {
    "deletable": false,
    "editable": false,
    "nbgrader": {
     "cell_type": "markdown",
     "checksum": "96a42c71316fb8b3ae9f06eaf23a2a45",
     "grade": false,
     "grade_id": "cell-2fe5r51c526bb342",
     "locked": true,
     "schema_version": 3,
     "solution": false,
     "task": false
    }
   },
   "source": [
    "## Opcional (0 puntos)\n",
    "\n",
    "*Una vez esté listo el modelo, puedes cambiar los valores de los parámetros a continuación para verificar cómo cambian las soluciones y la función objetivo. Para esto debes correr nuevamente las celdas que crean el modelo desde el principio*"
   ]
  },
  {
   "cell_type": "code",
   "execution_count": null,
   "metadata": {},
   "outputs": [],
   "source": [
    "# Parámetros modificables\n",
    "q = 300 * 1000 / 1000000  # $300/ton/km*factor de conversion (mil ton/millon $)\n",
    "mejor_costo = 24881  # Función objetivo del caso de minimizacion de costos"
   ]
  },
  {
   "cell_type": "markdown",
   "metadata": {
    "deletable": false,
    "editable": false,
    "nbgrader": {
     "cell_type": "markdown",
     "checksum": "8719e504c1da6ce7d238acd1072b9383",
     "grade": false,
     "grade_id": "cell-2fe5051c526bb342",
     "locked": true,
     "schema_version": 3,
     "solution": false,
     "task": false
    }
   },
   "source": [
    "**Reflexión**: ¿Qué aspecto particular puedes notar en la visualización de la solución? ¿Crees que está relacionado con la función objetivo?"
   ]
  }
 ],
 "metadata": {
  "kernelspec": {
   "display_name": "Python 3",
   "language": "python",
   "name": "python3"
  },
  "language_info": {
   "codemirror_mode": {
    "name": "ipython",
    "version": 3
   },
   "file_extension": ".py",
   "mimetype": "text/x-python",
   "name": "python",
   "nbconvert_exporter": "python",
   "pygments_lexer": "ipython3",
   "version": "3.13.7"
  }
 },
 "nbformat": 4,
 "nbformat_minor": 4
}
