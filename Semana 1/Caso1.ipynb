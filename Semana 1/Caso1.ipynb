{
 "cells": [
  {
   "cell_type": "markdown",
   "metadata": {
    "deletable": false,
    "editable": false,
    "nbgrader": {
     "cell_type": "markdown",
     "checksum": "83ba40ee9251d21b1808f96500aaf922",
     "grade": false,
     "grade_id": "cell-6be0347b6c6fdde0",
     "locked": true,
     "schema_version": 3,
     "solution": false,
     "task": false
    }
   },
   "source": [
    "# Caso 1: Mezcla de canales digitales\n",
    "\n"
   ]
  },
  {
   "cell_type": "markdown",
   "metadata": {
    "deletable": false,
    "editable": false,
    "nbgrader": {
     "cell_type": "markdown",
     "checksum": "e2cba1879959f128676b3065ad3f2125",
     "grade": false,
     "grade_id": "cell-da6a7ef22d5a66a8",
     "locked": true,
     "schema_version": 3,
     "solution": false,
     "task": false
    }
   },
   "source": [
    "## Instrucciones generales\n",
    "\n",
    "El primer paso antes de resolver este laboratorio es leer y entender el **enunciado del caso**. Una vez tengas claro el caso, te explicamos la estructura de este laboratorio (los demás laboratorios siguen una estrucutra similar). \n",
    "\n",
    "Este laboratorio tiene las siguientes secciones: \n",
    "* **Formulación**: un breve resumen del modelo con notación matemática y descripción de sus componentes\n",
    "* **Importación de librerías**\n",
    "* **Creación de parámetros**\n",
    "* **Modelamiento**: aquí implementamos el modelo visto en la formulación (aquí encontrarás por lo general celdas de código que debes completar, ¡nosotros te guiaremos en el proceso!)\n",
    "* **Reporte de Resultados**: esta sección nos muestra las soluciones encontradas por el modelo y, en ocasiones, algunas visualizaciones interesantes para entenderlo mejor. (es posible que en ciertas prácticas debas completar algunas celdas también)\n",
    "\n",
    "Este tipo de actividades se evaluará sobre un total de 100 puntos. Las celdas calificables se distinguen por tener la instrucción `# your code here`. Antes de estas celdas  encontrarás instrucciones y consejos para resolver las preguntas, también el puntaje que le corresponde.\n",
    "\n",
    "¡Éxitos!"
   ]
  },
  {
   "cell_type": "markdown",
   "metadata": {
    "deletable": false,
    "editable": false,
    "nbgrader": {
     "cell_type": "markdown",
     "checksum": "8e7b7365c2853f2c3e7c2c9dfe5a73ee",
     "grade": false,
     "grade_id": "cell-c11ef687a2132a2b",
     "locked": true,
     "schema_version": 3,
     "solution": false,
     "task": false
    }
   },
   "source": [
    "## Formulación\n",
    "---\n",
    "\n",
    "Te presentamos la formulación del caso de la semana de forma resumida. Te recomendamos revisar la formulación una vez hayas leído el enunciado del caso. Es bueno que te familiarices con los elementos de la formulación antes de iniciar la implementación.\n",
    "\n",
    "### Conjuntos y Parámetros\n",
    ">#### **Conjuntos**\n",
    ">* $I$: conjunto de canales de mercadeo.\n",
    "\n",
    ">#### **Parámetros**\n",
    ">* $a_i:$ incremento en ventas por cada dólar invertido en el canal $i \\in I$\n",
    ">* $c_i:$ presupuesto máximo para invertir en el canal $i\\in I$\n",
    ">* $p:$ presupuesto total para la campaña\n",
    ">* $q:$ mínimo porcentaje de inversión en el canal Facebook\n",
    "\n",
    "### Variables de Decisión\n",
    "> $x_i:$ dinero a ser invertido (en USD) en el canal $i\\in I$\n",
    "\n",
    "\n",
    "### Restricciones\n",
    "> 1. Cada canal $i\\in I$ tiene un máximo posible de inversión estipulado $c_i$\n",
    ">> $x_i \\leq c_i, \\; \\forall i\\in I$\n",
    "\n",
    "> 2. El presupuesto global para la campaña es de $p$\n",
    ">> $\\sum_{i\\in I} x_i \\leq p$\n",
    "\n",
    "> 3. La inversión en las publicaciones promocionadas de Facebook debe seguir siendo superior a q (0.3) del total de inversión.\n",
    ">> $q*\\sum_{i\\in I}x_i \\leq x_{\\text{Facebook}}$\n",
    "\n",
    "> **Naturaleza de Variables**\n",
    ">>$x_i\\geq 0 , \\; \\forall i\\in I$\n",
    "\n",
    "### Función Objetivo\n",
    "> Maximizar el incremento en ventas dado por la inversión en canales de mercadeo.\n",
    ">> $\\max{ \\sum_{i\\in I} a_ix_i}$"
   ]
  },
  {
   "cell_type": "markdown",
   "metadata": {
    "deletable": false,
    "editable": false,
    "nbgrader": {
     "cell_type": "markdown",
     "checksum": "70ffff8e2890b2552270ad7129d5ca0b",
     "grade": false,
     "grade_id": "cell-983ada4fc8bc8836",
     "locked": true,
     "schema_version": 3,
     "solution": false,
     "task": false
    }
   },
   "source": [
    "## Importación de librerías\n",
    "---\n",
    "En este curso usaremos el paquete/librería `pulp` en su versión 2.4. Este paquete proporciona un modelador de problemas lineales de optimización para Python. Su API permite crear variables, añadir restricciones y llamar optimizadores (gratuitos y pagos para resolver problemas). A través de este paquete se generan los archivos `LP`que son usados por los *optimizadores* para ejecutar los algoritmos de optimización. `pulp` utiliza por defecto el optimizador CBC que es mantenido por la comunidad de [COIN-OR](https://www.coin-or.org) y es de fuente libre. También puede ser usado con optimizadores pagos como Gurobi o CPLEX. Su alias para este curso el `lp`. Si deseas conocer más, puedes visitar:\n",
    ">**GitHub**: https://github.com/coin-or/pulp\n",
    "\n",
    ">**Documentación**: https://coin-or.github.io/pulp/\n",
    "\n",
    "La forma más fácil de instalar `pulp` es a través de PyPi ejecutando el comando de `pip`: ` python -m pip install pulp` en la consola. También está disponible en conda y [conda-forge](https://anaconda.org/conda-forge/pulp)\n",
    "\n",
    "Con el paquete `pulp` introduciremos métodos para crear diccionarios de variables (basados en conjuntos) y una forma fácil de formular expresiones que usan conjuntos en las sumas.\n",
    "\n",
    "> **Recuerda** que el alias de `pulp` es `lp` y que como estándar el nombre del objeto que guardará el problema de optimización se llamará `problema`."
   ]
  },
  {
   "cell_type": "code",
   "execution_count": 1,
   "id": "4de3d495",
   "metadata": {
    "deletable": false,
    "editable": false,
    "nbgrader": {
     "cell_type": "code",
     "checksum": "8506bf6802d8a3d9f7a6c7a3fb8b97fb",
     "grade": false,
     "grade_id": "cell-81bb7a6952a9e1b5",
     "locked": true,
     "schema_version": 3,
     "solution": false,
     "task": false
    }
   },
   "outputs": [],
   "source": [
    "import pulp as lp"
   ]
  },
  {
   "cell_type": "markdown",
   "id": "b74e0b29",
   "metadata": {
    "deletable": false,
    "editable": false,
    "nbgrader": {
     "cell_type": "markdown",
     "checksum": "0575e47f92a5fd5ae901beb4d57800ac",
     "grade": false,
     "grade_id": "cell-284326f1ee27ec51",
     "locked": true,
     "schema_version": 3,
     "solution": false,
     "task": false
    }
   },
   "source": [
    "## Creación de Parámetros\n",
    "---\n",
    "\n",
    "Para este caso nuestro único conjunto son los canales de mercadeo que escogeremos. Haremos una lista de Python donde guardaremos el nombre de cada canal. "
   ]
  },
  {
   "cell_type": "markdown",
   "id": "529154e7",
   "metadata": {
    "deletable": false,
    "editable": false,
    "nbgrader": {
     "cell_type": "markdown",
     "checksum": "139ba3454d6cc12f63db83062ed64521",
     "grade": false,
     "grade_id": "cell-ca8f0236477fa64a",
     "locked": true,
     "schema_version": 3,
     "solution": false,
     "task": false
    }
   },
   "source": [
    "### Conjuntos\n",
    "$I$: Conjunto de canales de mercadeo"
   ]
  },
  {
   "cell_type": "code",
   "execution_count": 2,
   "id": "356e3dea",
   "metadata": {
    "deletable": false,
    "editable": false,
    "nbgrader": {
     "cell_type": "code",
     "checksum": "21fc864f66503477ac0c30d5504d38b3",
     "grade": false,
     "grade_id": "cell-df274dae63b7d25a",
     "locked": true,
     "schema_version": 3,
     "solution": false,
     "task": false
    }
   },
   "outputs": [],
   "source": [
    "I = [\"Facebook\", \"YouTube\", \"Twitter\", \"TikTok\", \"LinkedIn\"]"
   ]
  },
  {
   "cell_type": "markdown",
   "id": "c1bd12ee",
   "metadata": {
    "deletable": false,
    "editable": false,
    "nbgrader": {
     "cell_type": "markdown",
     "checksum": "6dfcbf8b58dea7e1d1dc71ceec8c2a86",
     "grade": false,
     "grade_id": "cell-35d881a070f59d12",
     "locked": true,
     "schema_version": 3,
     "solution": false,
     "task": false
    }
   },
   "source": [
    "### Parámetros\n",
    "* $a_i:$ Incremento en ventas por cada dólar invertido en el canal $i \\in I$\n",
    "* $c_i:$ Presupuesto máximo para invertir en el canal $i\\in I$\n",
    "* $p:$ Presupuesto total para la campaña\n",
    "* $q:$ Mínimo porcentaje de inversión en el canal Facebook\n"
   ]
  },
  {
   "cell_type": "markdown",
   "id": "87508823",
   "metadata": {
    "deletable": false,
    "editable": false,
    "nbgrader": {
     "cell_type": "markdown",
     "checksum": "68ef820f72196ce25bd653af401c6827",
     "grade": false,
     "grade_id": "cell-ca40d34242cb874a",
     "locked": true,
     "schema_version": 3,
     "solution": false,
     "task": false
    }
   },
   "source": [
    "Para crear los parámetros construiremos diccionarios cuyas **llaves** correspondan los índices del conjunto y como **valores** el valor del parámetro correspondiente. "
   ]
  },
  {
   "cell_type": "code",
   "execution_count": 3,
   "id": "9770a9d5",
   "metadata": {
    "deletable": false,
    "editable": false,
    "nbgrader": {
     "cell_type": "code",
     "checksum": "d5779434a94085c64b0bdd666c5a976c",
     "grade": false,
     "grade_id": "cell-014d17c13a6f6fef",
     "locked": true,
     "schema_version": 3,
     "solution": false,
     "task": false
    }
   },
   "outputs": [],
   "source": [
    "# Incremento en ventas por dolar invertido en cada canal\n",
    "a = {\n",
    "    \"Facebook\": 2,\n",
    "    \"YouTube\": 5,\n",
    "    \"Twitter\": 3,\n",
    "    \"TikTok\": 4.5,\n",
    "    \"LinkedIn\": 2.9,\n",
    "}\n",
    "\n",
    "# Presupuesto máximo para invertir en cada canal\n",
    "c = {\n",
    "    \"Facebook\": 3000,\n",
    "    \"YouTube\": 4000,\n",
    "    \"Twitter\": 2000,\n",
    "    \"TikTok\": 2000,\n",
    "    \"LinkedIn\": 3000,\n",
    "}\n",
    "\n",
    "# Presupuesto total para la campaña\n",
    "p = 10000\n",
    "\n",
    "# Mínimo porcentaje de inversión en el canal 'Facebook' (30%)\n",
    "q = 0.3\n"
   ]
  },
  {
   "cell_type": "markdown",
   "id": "6a9882a1",
   "metadata": {
    "deletable": false,
    "editable": false,
    "nbgrader": {
     "cell_type": "markdown",
     "checksum": "6fa21a10ac0e50472ab34490f734308c",
     "grade": false,
     "grade_id": "cell-00705cef00167fde",
     "locked": true,
     "schema_version": 3,
     "solution": false,
     "task": false
    }
   },
   "source": [
    "**Celda de Prueba (0 puntos)**\n",
    "\n",
    "Recomendación: Una buena práctica es explorar los datos de entrada del problema antes de empezar a implementarlo y resolverlo. Por ejemplo, uno podría entender el contexto los datos al graficarlos o explorando las tablas o estructuras en las que vienen. \n",
    "* **Esta celda no es calificable**"
   ]
  },
  {
   "cell_type": "code",
   "execution_count": 4,
   "id": "2f78c8b2",
   "metadata": {},
   "outputs": [],
   "source": [
    "### Aquí puedes explorar los parámetros\n"
   ]
  },
  {
   "cell_type": "markdown",
   "id": "ab09db27",
   "metadata": {
    "deletable": false,
    "editable": false,
    "nbgrader": {
     "cell_type": "markdown",
     "checksum": "6f606b322769d2dd8b7d6e70494a8ded",
     "grade": false,
     "grade_id": "cell-f27ba0db228d3286",
     "locked": true,
     "schema_version": 3,
     "solution": false,
     "task": false
    }
   },
   "source": [
    "## Modelamiento\n",
    "---"
   ]
  },
  {
   "cell_type": "markdown",
   "id": "ff3ff5d1",
   "metadata": {
    "deletable": false,
    "editable": false,
    "nbgrader": {
     "cell_type": "markdown",
     "checksum": "71e64ca9ed31c1b0d48110a28808c74b",
     "grade": false,
     "grade_id": "cell-c598d0df97aafe10",
     "locked": true,
     "schema_version": 3,
     "solution": false,
     "task": false
    }
   },
   "source": [
    "### Declaración del modelo\n",
    "El primer paso para desarrollar un problema de optimización en `pulp` es declarar el objeto `lp.LpProblem` en el cual podemos agregar variables, restricciones y la función objetivo. Como convención para todos los trabajos y entregas de este curso, este objeto se llamará `problema`. Este objeto nos permite añadir los componentes del problema de optimización.\n",
    "\n",
    "El método `lp.LpProblem()` crea un problema lineal de optimización."
   ]
  },
  {
   "cell_type": "markdown",
   "id": "e534c0bf",
   "metadata": {
    "deletable": false,
    "editable": false,
    "nbgrader": {
     "cell_type": "markdown",
     "checksum": "1ec5db129e1e476d8ba2baa29ec961df",
     "grade": false,
     "grade_id": "cell-d2044139bedbc8b0",
     "locked": true,
     "schema_version": 3,
     "solution": false,
     "task": false
    }
   },
   "source": [
    "**Pregunta 1 (10 puntos)**\n",
    "* Crea un objeto modelo en PuLP (`lp.LpProblem`) llamado `problema`\n",
    "* Indica el sentido de la optimización: maximizar o minimizar\n",
    "\n",
    "\n",
    "> **Recuerda** que el sentido se indica con el argumento `sense` en `lp.LpProblem()`, que toma valores `lp.LpMaximize` o `lp.LpMinimize`"
   ]
  },
  {
   "cell_type": "code",
   "execution_count": 5,
   "id": "3fe3ff16",
   "metadata": {
    "deletable": false,
    "nbgrader": {
     "cell_type": "code",
     "checksum": "99c8df8691ea380df297da32b79eb29c",
     "grade": false,
     "grade_id": "cell-8556a252b62d9640",
     "locked": false,
     "schema_version": 3,
     "solution": true,
     "task": false
    }
   },
   "outputs": [],
   "source": [
    "# your code here\n",
    "# Crear objeto modelo\n",
    "problema = lp.LpProblem(name=\"Mi_problema\", sense=lp.LpMaximize)\n"
   ]
  },
  {
   "cell_type": "code",
   "execution_count": 6,
   "id": "b11b5115",
   "metadata": {
    "deletable": false,
    "editable": false,
    "nbgrader": {
     "cell_type": "code",
     "checksum": "9472ccbf6dbcd76d75e146b244eb6a1d",
     "grade": true,
     "grade_id": "cell-7f07b4c4a8370e6b",
     "locked": true,
     "points": 10,
     "schema_version": 3,
     "solution": false,
     "task": false
    }
   },
   "outputs": [],
   "source": [
    "# Esta celda esta reservada para uso del equipo docente\n"
   ]
  },
  {
   "cell_type": "code",
   "execution_count": 7,
   "id": "e5c8c16a",
   "metadata": {
    "deletable": false,
    "editable": false,
    "nbgrader": {
     "cell_type": "code",
     "checksum": "3dd8acb6f2e7faad421349698d858f31",
     "grade": true,
     "grade_id": "cell-e7c17416f0e86d50",
     "locked": true,
     "points": 0,
     "schema_version": 3,
     "solution": false,
     "task": false
    }
   },
   "outputs": [],
   "source": [
    "# Esta celda esta reservada para uso del equipo docente\n"
   ]
  },
  {
   "cell_type": "markdown",
   "id": "4b72f354",
   "metadata": {
    "deletable": false,
    "editable": false,
    "nbgrader": {
     "cell_type": "markdown",
     "checksum": "f40e14cb1cd6b3a519ed394c7f657035",
     "grade": false,
     "grade_id": "cell-55d47def8914e798",
     "locked": true,
     "schema_version": 3,
     "solution": false,
     "task": false
    }
   },
   "source": [
    "## Variables de decisión\n",
    "* $x_i:$ Dinero a ser invertido (en USD) en el canal de mercadeo $i\\in I$"
   ]
  },
  {
   "cell_type": "markdown",
   "id": "436bf7eb",
   "metadata": {
    "deletable": false,
    "editable": false,
    "nbgrader": {
     "cell_type": "markdown",
     "checksum": "9558fd8c74aa3f342f985789e75466e6",
     "grade": false,
     "grade_id": "cell-f83b2ae3f8095d8b",
     "locked": true,
     "schema_version": 3,
     "solution": false,
     "task": false
    }
   },
   "source": [
    "**Pregunta 2 (20 puntos)**\n",
    "\n",
    "* Crea las variables del modelo: `x`, usando el método `lp.LpVariable.dicts()`.\n",
    "* Especifica el nombre de las variables como `inversion` con el argumento `name`.\n",
    "* Especifica el conjunto sobre el cual está indexado la variable con el argumento `indexs`. \n",
    "* Especifica el límite inferior en 0 con el argumento `lowBound`.\n",
    "* Especifica el tipo de variable con el argumento `cat` (continua: `lp.LpContinuous`, entera: `lp.LpInteger` o binaria: `lp.LpBinary`).\n",
    "\n",
    "\n",
    "> **Para crear un grupo de variables** usa el método `lp.LpVariable.dicts(name, indexs, lowBound, upBound, cat)`\n",
    "\n",
    "Por ejemplo:\n",
    "```python\n",
    "x = lp.LpVariable.dicts(name='inversion', indexs=I, lowBound=0, upBound=None, cat=lp.LpContinuous)\n",
    " \n",
    "```\n",
    "\n",
    "> Donde:\n",
    "> - `name`: el nombre de la variable\n",
    "> - `indexs`: lista de las llaves que tendrá el diccionario de variables. Normalmente corresponde a los conjuntos\n",
    "> - `lowBound`: el límite inferior de la variable. Por defecto es `None`, esto es, el infinito negativo\n",
    "> - `upBound` : el límite superior de la variable. Por defecto es `None`, esto es, el infinito positivo\n",
    "> - `cat`: el tipo de variable: continua: `lp.LpContinuous`, entera: `lp.LpInteger` o binaria: `lp.LpBinary`\n"
   ]
  },
  {
   "cell_type": "code",
   "execution_count": 8,
   "id": "72cfe1ad",
   "metadata": {
    "deletable": false,
    "nbgrader": {
     "cell_type": "code",
     "checksum": "3e091da7de201778604d488570420bdd",
     "grade": false,
     "grade_id": "cell-d0747246c65ed3b1",
     "locked": false,
     "schema_version": 3,
     "solution": true,
     "task": false
    }
   },
   "outputs": [],
   "source": [
    "# your code here\n",
    "x = lp.LpVariable.dicts(name='inversion', indices=I, lowBound=0, upBound=None, cat=lp.LpContinuous)"
   ]
  },
  {
   "cell_type": "code",
   "execution_count": 9,
   "metadata": {
    "deletable": false,
    "editable": false,
    "nbgrader": {
     "cell_type": "code",
     "checksum": "0b08de6e10015b44a83042a1e88c6223",
     "grade": true,
     "grade_id": "cell-18d8c88fbb59115f",
     "locked": true,
     "points": 0,
     "schema_version": 3,
     "solution": false,
     "task": false
    }
   },
   "outputs": [],
   "source": [
    "# Esta celda esta reservada para uso del equipo docente\n"
   ]
  },
  {
   "cell_type": "code",
   "execution_count": 10,
   "id": "c3ddf1e7",
   "metadata": {},
   "outputs": [],
   "source": [
    "# Esta celda esta reservada para uso del equipo docente"
   ]
  },
  {
   "cell_type": "markdown",
   "metadata": {
    "deletable": false,
    "editable": false,
    "nbgrader": {
     "cell_type": "markdown",
     "checksum": "d98942ecd3cdc494ad87e41e3814bb51",
     "grade": false,
     "grade_id": "cell-29ed870d308e48c3",
     "locked": true,
     "schema_version": 3,
     "solution": false,
     "task": false
    }
   },
   "source": [
    "### Función Objetivo\n",
    "> Maximizar el incremento en ventas dado por la inversión en canales de mercadeo.\n",
    ">> $\\max{ \\sum_{i\\in I} a_ix_i}$\n"
   ]
  },
  {
   "cell_type": "markdown",
   "metadata": {
    "deletable": false,
    "editable": false,
    "nbgrader": {
     "cell_type": "markdown",
     "checksum": "8ab26be0518e9ec013492737b791fd7c",
     "grade": false,
     "grade_id": "cell-aeda75d733860738",
     "locked": true,
     "schema_version": 3,
     "solution": false,
     "task": false
    }
   },
   "source": [
    "**Pregunta 3 (20 puntos)**\n",
    "* Crea la función objetivo y agregala al modelo `problema`. A continuación, te explicamos como se usan las sumatorias en `pulp`\n",
    "\n",
    "> **Recuerda** que para agregar una función objetivo o restricción a un modelo en pulp se usa la sintaxis: `<modelo> += <expresion>`\n",
    "\n",
    "> **Recuerda** que una función objetivo en `pulp` consiste en multiplicar variables de tipo `lp.pulp.Variable` (como `x`) por constantes así: `<int|float> * <variable>` y luego sumarlas o restarlas así: `<const1> * <var1> + <const2> * <var2>`\n",
    "\n",
    "> **Recuerda** que, para evitar escribir una sumatoria de muchos términos uno a uno, `pulp` permite crear sumatorias que recorran conjuntos siempre y cuando las variables esten indexadas (como `x`). Para esto, utiliza `lp.lpSum(<expresion> for <indices> in <conjunto>)`.\n",
    "\n",
    "> **Ejemplo**:\n",
    ">> $ \\sum_{i \\in I}c_i x_i$\n",
    "es equivalente a `lp.lpSum(c[i]*x[i] for i in I)`"
   ]
  },
  {
   "cell_type": "code",
   "execution_count": 11,
   "metadata": {
    "deletable": false,
    "nbgrader": {
     "cell_type": "code",
     "checksum": "3474c651182d69fe60ff482d1ae9c796",
     "grade": false,
     "grade_id": "cell-2f34a4dcb43941ca",
     "locked": false,
     "schema_version": 3,
     "solution": true,
     "task": false
    }
   },
   "outputs": [],
   "source": [
    "# your code here\n",
    "problema += lp.lpSum([a[i]*x[i] for i in I]), \"Función objetivo\""
   ]
  },
  {
   "cell_type": "code",
   "execution_count": 12,
   "metadata": {
    "deletable": false,
    "editable": false,
    "nbgrader": {
     "cell_type": "code",
     "checksum": "86e0beabc2c6e194e6d8b71a079c8c3c",
     "grade": true,
     "grade_id": "cell-a5c858637386b013",
     "locked": true,
     "points": 20,
     "schema_version": 3,
     "solution": false,
     "task": false
    }
   },
   "outputs": [],
   "source": [
    "# Esta celda esta reservada para uso del equipo docente"
   ]
  },
  {
   "cell_type": "code",
   "execution_count": 13,
   "metadata": {
    "deletable": false,
    "editable": false,
    "nbgrader": {
     "cell_type": "code",
     "checksum": "d48bb51334549e702e234ed109608002",
     "grade": true,
     "grade_id": "cell-c4258564f96cf22f",
     "locked": true,
     "points": 0,
     "schema_version": 3,
     "solution": false,
     "task": false
    }
   },
   "outputs": [],
   "source": [
    "# Esta celda esta reservada para uso del equipo docente"
   ]
  },
  {
   "cell_type": "markdown",
   "metadata": {
    "deletable": false,
    "editable": false,
    "nbgrader": {
     "cell_type": "markdown",
     "checksum": "fe53091d7583d9bfaf7c7fd1775e01cd",
     "grade": false,
     "grade_id": "cell-1edc2b7ebfaa0592",
     "locked": true,
     "schema_version": 3,
     "solution": false,
     "task": false
    }
   },
   "source": [
    "### Restricciones\n",
    "\n",
    "> **Recuerda** que para crear restricciones se debe usar la sintaxis: `<modelo> += <expresion_lado_izq> ==|>=|<= <expresion_lado_der>, 'Nombre_de_la_restriccion'`\n",
    "\n",
    "> **Recuerda** que las expresiones son combinaciones lineales de las variables, como: `<var1>*<const1> + <var2>*<const2>`\n",
    "\n",
    "> **Recuerda** que puedes usar `lp.lpSum()` para crear sumatorias (ver **Pregunta 3**)\n",
    "\n",
    "> **Recuerda** que para crear múltiples restricciones usando $\\forall i \\in I$, se debe utilizar la sintaxis:\n",
    ">>    * `for i in I:` \n",
    ">>       * `<restriccion>`\n",
    "\n",
    "> **Ejemplo**\n",
    ">> La siguiente restricción: $\\sum_{i \\in I} a_{ij} x_{ij} \\geq 1, \\; \\forall j \\in J$ es equivalente a:\n",
    ">> ```python\n",
    "for j in J:\n",
    "    <modelo> += lp.lpSum(a[i,j] * x[i,j] for i in I) >= 1, 'R1_'+str(j)\n",
    "```\n",
    "> **Advertencia**: `pulp` no permite sobreescribir restricciones, entonces, si ya creaste una restricción y quieres crearla de nuevo para corregir algo, asegúrate de volver a crear el modelo `problema` desde el principio (nosotros haremos esto antes de calificar, no te preocupes)."
   ]
  },
  {
   "cell_type": "markdown",
   "metadata": {
    "deletable": false,
    "editable": false,
    "nbgrader": {
     "cell_type": "markdown",
     "checksum": "34b96ed0c625cc8a2e5e7d207cc056b8",
     "grade": false,
     "grade_id": "cell-a3e8ec52fde98bf1",
     "locked": true,
     "schema_version": 3,
     "solution": false,
     "task": false
    }
   },
   "source": [
    "**Pregunta 4 (15 puntos)**\n",
    "\n",
    "* Crea la siguiente restricción, asignale el nombre `'R1_'+str(<indice_del_para_todo>)` y añadela al modelo:\n",
    "\n",
    "> 1. Cada canal $i\\in I$ tiene un máximo posible de inversión estipulado $c_i$\n",
    ">> $x_i \\leq c_i ,\\; \\forall i\\in I$"
   ]
  },
  {
   "cell_type": "code",
   "execution_count": 14,
   "metadata": {
    "deletable": false,
    "nbgrader": {
     "cell_type": "code",
     "checksum": "e62ee26a216dfcc73d8255411a70e3fb",
     "grade": false,
     "grade_id": "cell-a6f5860ef5c7596f",
     "locked": false,
     "schema_version": 3,
     "solution": true,
     "task": false
    }
   },
   "outputs": [],
   "source": [
    "# your code here\n",
    "for i in I:\n",
    "    problema += x[i] <= c[i], f\"R1_{i}\""
   ]
  },
  {
   "cell_type": "code",
   "execution_count": 15,
   "metadata": {
    "deletable": false,
    "editable": false,
    "nbgrader": {
     "cell_type": "code",
     "checksum": "0bfc38e3cd0aefcfee99bbe6e6821bcc",
     "grade": true,
     "grade_id": "cell-c167d9361641915d",
     "locked": true,
     "points": 15,
     "schema_version": 3,
     "solution": false,
     "task": false
    }
   },
   "outputs": [],
   "source": [
    "# Esta celda esta reservada para uso del equipo docente\n"
   ]
  },
  {
   "cell_type": "markdown",
   "metadata": {
    "deletable": false,
    "editable": false,
    "nbgrader": {
     "cell_type": "markdown",
     "checksum": "dc3f6a114ab0f53098a8777ac4dfd5f7",
     "grade": false,
     "grade_id": "cell-8a13e7da68561b27",
     "locked": true,
     "schema_version": 3,
     "solution": false,
     "task": false
    }
   },
   "source": [
    "**Pregunta 5 (15 puntos)**\n",
    "\n",
    "* Crea la siguiente restricción, asignale el nombre `'R2'` y añadela al modelo:\n",
    "\n",
    "> 2. El presupuesto global para la campaña es de $p$\n",
    ">> $\\sum_{i\\in I} x_i \\leq p$"
   ]
  },
  {
   "cell_type": "code",
   "execution_count": 16,
   "metadata": {
    "deletable": false,
    "nbgrader": {
     "cell_type": "code",
     "checksum": "39abd8807be2b0ad0bbe73531a1a14e1",
     "grade": false,
     "grade_id": "cell-83147c130bb0aced",
     "locked": false,
     "schema_version": 3,
     "solution": true,
     "task": false
    }
   },
   "outputs": [],
   "source": [
    "# your code here \n",
    "problema += lp.lpSum(x[i] for i in I) <= p, 'R2'"
   ]
  },
  {
   "cell_type": "code",
   "execution_count": 17,
   "metadata": {
    "deletable": false,
    "editable": false,
    "nbgrader": {
     "cell_type": "code",
     "checksum": "907dc515516cc4f58e15e3dd3a05a721",
     "grade": true,
     "grade_id": "cell-86c0d961c3db027e",
     "locked": true,
     "points": 15,
     "schema_version": 3,
     "solution": false,
     "task": false
    }
   },
   "outputs": [],
   "source": [
    "# Esta celda esta reservada para uso del equipo docente\n"
   ]
  },
  {
   "cell_type": "markdown",
   "metadata": {
    "deletable": false,
    "editable": false,
    "nbgrader": {
     "cell_type": "markdown",
     "checksum": "7f5f258f0fb72460a10616902aa65072",
     "grade": false,
     "grade_id": "cell-f2c67311dfa41b29",
     "locked": true,
     "schema_version": 3,
     "solution": false,
     "task": false
    }
   },
   "source": [
    "**Pregunta 6 (15 puntos)**\n",
    "\n",
    "* Crea la siguiente restricción, asignale el nombre `'R3'` y añadela al modelo:\n",
    "\n",
    "> 3. La inversión en las publicaciones promocionadas de Facebook debe seguir siendo superior a q (0.3) del total de inversión.\n",
    ">> $q*\\sum_{i\\in I}x_i \\leq x_{\\text{Facebook}}$"
   ]
  },
  {
   "cell_type": "code",
   "execution_count": 18,
   "metadata": {
    "deletable": false,
    "nbgrader": {
     "cell_type": "code",
     "checksum": "c31dd10a5e673d2433a6780a1d8eafe0",
     "grade": false,
     "grade_id": "cell-8d24b4153d457cc4",
     "locked": false,
     "schema_version": 3,
     "solution": true,
     "task": false
    }
   },
   "outputs": [],
   "source": [
    "# your code here\n",
    "problema += q * lp.lpSum(x[i] for i in I) <= x['Facebook'], 'R3'"
   ]
  },
  {
   "cell_type": "code",
   "execution_count": 19,
   "metadata": {
    "deletable": false,
    "editable": false,
    "nbgrader": {
     "cell_type": "code",
     "checksum": "45ea2992021d7c40031b0efc87889c97",
     "grade": true,
     "grade_id": "cell-e701b97f600bad23",
     "locked": true,
     "points": 15,
     "schema_version": 3,
     "solution": false,
     "task": false
    }
   },
   "outputs": [],
   "source": [
    "# Esta celda esta reservada para uso del equipo docente\n"
   ]
  },
  {
   "cell_type": "code",
   "execution_count": 20,
   "metadata": {
    "deletable": false,
    "editable": false,
    "nbgrader": {
     "cell_type": "code",
     "checksum": "5b03809db7cb764e208a2563a155f880",
     "grade": true,
     "grade_id": "cell-567f63c1bc42ba3f",
     "locked": true,
     "points": 0,
     "schema_version": 3,
     "solution": false,
     "task": false
    }
   },
   "outputs": [],
   "source": [
    "# Esta celda esta reservada para uso del equipo docente"
   ]
  },
  {
   "cell_type": "markdown",
   "metadata": {
    "deletable": false,
    "editable": false,
    "nbgrader": {
     "cell_type": "markdown",
     "checksum": "353d3ba13d95ccf2a7212ee36c7d9a15",
     "grade": false,
     "grade_id": "cell-cf88d6c16a47eb99",
     "locked": true,
     "schema_version": 3,
     "solution": false,
     "task": false
    }
   },
   "source": [
    "### Invocar el optimizador\n",
    "\n",
    "Ahora que el modelo está listo, viene la mejor parte: ¡Correr el modelo! La celda a continuación se encarga de llamar al optimizador de `pulp` y guardar las soluciones del modelo (si llega a optimalidad). Más adelante extraeremos la solución y otras métricas de interés del objeto `problema` y del diccionario de variables `x`.\n",
    "\n",
    "> **Recuerda** debes utilizar la instrucción `<modelo>.solve()` para invocar al optimizador y resolver el problema. \n"
   ]
  },
  {
   "cell_type": "code",
   "execution_count": 21,
   "metadata": {
    "deletable": false,
    "nbgrader": {
     "cell_type": "code",
     "checksum": "928e558eac2652f73695a3d556a5f217",
     "grade": false,
     "grade_id": "cell-60cd456296f18550",
     "locked": false,
     "schema_version": 3,
     "solution": true,
     "task": false
    }
   },
   "outputs": [
    {
     "name": "stdout",
     "output_type": "stream",
     "text": [
      "Welcome to the CBC MILP Solver \n",
      "Version: 2.10.3 \n",
      "Build Date: Dec 15 2019 \n",
      "\n",
      "command line - /home/edwin/.local/lib/python3.13/site-packages/pulp/apis/../solverdir/cbc/linux/i64/cbc /tmp/5c66d88ba9714233993c0a233fa2b756-pulp.mps -max -timeMode elapsed -branch -printingOptions all -solution /tmp/5c66d88ba9714233993c0a233fa2b756-pulp.sol (default strategy 1)\n",
      "At line 2 NAME          MODEL\n",
      "At line 3 ROWS\n",
      "At line 12 COLUMNS\n",
      "At line 33 RHS\n",
      "At line 41 BOUNDS\n",
      "At line 42 ENDATA\n",
      "Problem MODEL has 7 rows, 5 columns and 15 elements\n",
      "Coin0008I MODEL read with 0 errors\n",
      "Option for timeMode changed from cpu to elapsed\n",
      "Presolve 2 (-5) rows, 5 (0) columns and 10 (-5) elements\n",
      "0  Obj -0 Dual inf 17.399995 (5)\n",
      "3  Obj 38000\n",
      "Optimal - objective value 38000\n",
      "After Postsolve, objective 38000, infeasibilities - dual 0 (0), primal 0 (0)\n",
      "Optimal objective 38000 - 3 iterations time 0.002, Presolve 0.00\n",
      "Option for printingOptions changed from normal to all\n",
      "Total time (CPU seconds):       0.00   (Wallclock seconds):       0.00\n",
      "\n"
     ]
    },
    {
     "data": {
      "text/plain": [
       "1"
      ]
     },
     "execution_count": 21,
     "metadata": {},
     "output_type": "execute_result"
    }
   ],
   "source": [
    "# your code here\n",
    "problema.solve()"
   ]
  },
  {
   "cell_type": "markdown",
   "metadata": {
    "deletable": false,
    "editable": false,
    "nbgrader": {
     "cell_type": "markdown",
     "checksum": "3d78ed9bd3a2cda06bded642a2e3165c",
     "grade": false,
     "grade_id": "cell-85de9af009c8d08b",
     "locked": true,
     "schema_version": 3,
     "solution": false,
     "task": false
    }
   },
   "source": [
    "## Reporte de resultados\n",
    "---"
   ]
  },
  {
   "cell_type": "markdown",
   "metadata": {
    "deletable": false,
    "editable": false,
    "nbgrader": {
     "cell_type": "markdown",
     "checksum": "3a83f4f1d3785736a1f513fb18aeaa61",
     "grade": false,
     "grade_id": "cell-d285cb65f019906c",
     "locked": true,
     "schema_version": 3,
     "solution": false,
     "task": false
    }
   },
   "source": [
    "**Estado del optimizador, función objetivo y otros indicadores**\n",
    "\n",
    "A continuación puede evaluar la función objetivo óptima además de el estado del optimizador.\n",
    "> **Recuerda** que al finalizar de correr el modelo, `<modelo>.status` tomará un valor de 1, -1, -2 o -3, que hace referencia a algún estado del optmizador:\n",
    "*  0 $\\rightarrow$ Sin Resolver: No se ha usado `<modelo>.solve()`\n",
    "*  1 $\\rightarrow$ Óptimo\n",
    "* -1 $\\rightarrow$ Infactible\n",
    "* -2 $\\rightarrow$ No acotado \n",
    "* -3 $\\rightarrow$ Otros\n",
    "\n",
    "> **Recuerda** que `lp.LpStatus` es un diccionario en PuLP que tiene como llaves los `status` del optimizador (número) en `<modelo>.status`, y para cada `status` contiene el estado del optimizador en palabras.\n",
    "\n",
    "> **Recuerda** que puedes inspeccionar el contenido de `lp.LpStatus`, simplemente corriendolo en una celda\n",
    "\n",
    "> **Recuerda** que `<modelo>.objective` contiene la **expresión** de la función objetivo, sin embargo, para conocer el valor de la función objetivo se debe reemplazar los valores de las variables en la solución dentro de esta expresión. Por fortuna, PuLP tiene una función que hace justo eso: `lp.value(<expresion>)`."
   ]
  },
  {
   "cell_type": "code",
   "execution_count": 22,
   "metadata": {
    "deletable": false,
    "nbgrader": {
     "cell_type": "code",
     "checksum": "af6b365ddbf016e8ef0152024111c56c",
     "grade": false,
     "grade_id": "cell-41b32445d41ad53d",
     "locked": false,
     "schema_version": 3,
     "solution": true,
     "task": false
    }
   },
   "outputs": [
    {
     "name": "stdout",
     "output_type": "stream",
     "text": [
      "Estado del optimizador: Optimal\n",
      "Valor óptimo de la función objetivo: 38000.0\n"
     ]
    }
   ],
   "source": [
    "# your code here\n",
    "print('Estado del optimizador:', lp.LpStatus[problema.status])\n",
    "print('Valor óptimo de la función objetivo:', lp.value(problema.objective))"
   ]
  },
  {
   "cell_type": "markdown",
   "metadata": {
    "deletable": false,
    "editable": false,
    "nbgrader": {
     "cell_type": "markdown",
     "checksum": "d7beb9ea024e1c52ee6b97cd0472b200",
     "grade": false,
     "grade_id": "cell-39272c986afd53f0",
     "locked": true,
     "schema_version": 3,
     "solution": false,
     "task": false
    }
   },
   "source": [
    "**Pregunta 7 (5 puntos)**\n",
    "\n",
    "Crea un diccionario llamado `resultados`.\n",
    "Coloca como **llaves** los diferentes canales en el conjunto $I$.\n",
    "Coloca como **valores** la cantidad de dinero a invertir en cada canal.\n",
    "\n",
    "Por ejemplo, el primer registro del diccionario se ve así: `\"Facebook\": 3000.0`\n",
    "\n",
    ">**Recuerda** que las variables `LpVariable` se almacenaron en un diccionario llamado `x` el cual tiene como llave el índice (del conjunto $I$) de la variable y como valor el objeto tipo `LpVariable`. \n",
    "\n",
    ">**Recuerda** que para obtener el valor actual de un objeto tipo `LpVariable` puede usar la función `lp.value`."
   ]
  },
  {
   "cell_type": "code",
   "execution_count": 23,
   "metadata": {
    "deletable": false,
    "nbgrader": {
     "cell_type": "code",
     "checksum": "e559a5c1c9bf93614cfebf148982dd95",
     "grade": false,
     "grade_id": "cell-aeeb60e633b77120",
     "locked": false,
     "schema_version": 3,
     "solution": true,
     "task": false
    }
   },
   "outputs": [
    {
     "name": "stdout",
     "output_type": "stream",
     "text": [
      "{'Facebook': 3000.0, 'YouTube': 4000.0, 'Twitter': 1000.0, 'TikTok': 2000.0, 'LinkedIn': 0.0}\n"
     ]
    }
   ],
   "source": [
    "# Escribe aquí tu código.\n",
    "# your code here\n",
    "resultados = {i: lp.value(x[i]) for i in I}\n",
    "print(resultados)"
   ]
  },
  {
   "cell_type": "code",
   "execution_count": 24,
   "metadata": {
    "deletable": false,
    "editable": false,
    "nbgrader": {
     "cell_type": "code",
     "checksum": "83da8f32e5b90b8f9a584d6f8af17a2b",
     "grade": true,
     "grade_id": "cell-f7706bf10f5916f7",
     "locked": true,
     "points": 5,
     "schema_version": 3,
     "solution": false,
     "task": false
    }
   },
   "outputs": [],
   "source": [
    "# Esta celda esta reservada para uso del equipo docente\n"
   ]
  },
  {
   "cell_type": "code",
   "execution_count": null,
   "id": "2042a3c6",
   "metadata": {},
   "outputs": [],
   "source": []
  },
  {
   "cell_type": "markdown",
   "id": "91b90ebf",
   "metadata": {},
   "source": [
    "1. Paso a paso de la solución\n",
    "Importación de librerías:\n",
    "Se importa la librería pulp como lp, que permite modelar y resolver problemas de optimización lineal en Python.\n",
    "\n",
    "2. Definición de parámetros y conjuntos:\n",
    "Se define la lista de canales I.\n",
    "Se crean los diccionarios a (incremento en ventas por dólar), c (máximo a invertir por canal), el presupuesto total p y el porcentaje mínimo para Facebook q.\n",
    "\n",
    "3. Declaración del modelo:\n",
    "Se crea el objeto problema usando lp.LpProblem, indicando que es un problema de maximización.\n",
    "\n",
    "4. Definición de variables de decisión:\n",
    "Se crean las variables de inversión x para cada canal, usando lp.LpVariable.dicts, asegurando que sean continuas y no negativas.\n",
    "\n",
    "5. Función objetivo:\n",
    "Se agrega al modelo la función objetivo, que es la suma ponderada de las inversiones por el retorno de cada canal.\n",
    "\n",
    "6. Restricciones:\n",
    "Para cada canal, se agrega la restricción de máximo de inversión.\n",
    "Se agrega la restricción del presupuesto total.\n",
    "Se agrega la restricción del mínimo de inversión en Facebook.\n",
    "Resolución del modelo:\n",
    "Se invoca el optimizador con problema.solve().\n",
    "\n",
    "7. Reporte de resultados:\n",
    "Se imprime el estado del optimizador (óptimo, infactible, etc.).\n",
    "Se imprime el valor óptimo de la función objetivo (ventas máximas alcanzables).\n",
    "Se crea un diccionario resultados con la inversión óptima en cada canal y se imprime."
   ]
  }
 ],
 "metadata": {
  "kernelspec": {
   "display_name": "Python 3",
   "language": "python",
   "name": "python3"
  },
  "language_info": {
   "codemirror_mode": {
    "name": "ipython",
    "version": 3
   },
   "file_extension": ".py",
   "mimetype": "text/x-python",
   "name": "python",
   "nbconvert_exporter": "python",
   "pygments_lexer": "ipython3",
   "version": "3.13.6"
  }
 },
 "nbformat": 4,
 "nbformat_minor": 5
}
