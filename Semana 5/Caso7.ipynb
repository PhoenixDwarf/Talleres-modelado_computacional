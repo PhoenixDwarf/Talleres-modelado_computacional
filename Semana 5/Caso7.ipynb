{
 "cells": [
  {
   "cell_type": "markdown",
   "metadata": {
    "deletable": false,
    "editable": false,
    "nbgrader": {
     "cell_type": "markdown",
     "checksum": "486034a6c34d5a768a484ab69c7ec3a4",
     "grade": false,
     "grade_id": "cell-056812357650677f",
     "locked": true,
     "schema_version": 3,
     "solution": false,
     "task": false
    }
   },
   "source": [
    "## Instrucciones generales\n",
    "\n",
    "El primer paso antes de resolver este laboratorio es leer y entender el **enunciado del caso**. Una vez tengas claro el caso, te explicamos la estructura de este laboratorio (los demás laboratorios siguen una estrucutra similar). \n",
    "\n",
    "Este laboratorio tiene las siguientes secciones: \n",
    "* **Formulación**: un breve resumen del modelo con notación matemática y descripción de sus componentes\n",
    "* **Importación de librerías**\n",
    "* **Creación de parámetros**\n",
    "* **Modelado**\n",
    "* **Reporte de Resultados**\n",
    "\n",
    "Este tipo de actividades se evaluará sobre un total de 100 puntos. Las celdas calificables se distinguen por tener la instrucción `# your code here`. Antes de estas celdas  encontrarás instrucciones y consejos para resolver las preguntas, también el puntaje que le corresponde.\n",
    "\n",
    "Ten en cuenta que este laboratorio está divido en dos partes. En una primera parte (preguntas 1 a 5) se formulará un modelo matemático como hemos venido haciendo en el curso. En una segunda parte (preguntas 6 a 9) se resolverá el mismo problema usando una librería especializada (Google OR-Tools).  \n",
    "\n",
    "¡Éxitos!"
   ]
  },
  {
   "cell_type": "markdown",
   "metadata": {
    "deletable": false,
    "editable": false,
    "nbgrader": {
     "cell_type": "markdown",
     "checksum": "4e5b1b0432676eea0a9ae304d2c2eadc",
     "grade": false,
     "grade_id": "cell-9fbd2d9c824c07a3",
     "locked": true,
     "schema_version": 3,
     "solution": false,
     "task": false
    },
    "tags": []
   },
   "source": [
    "## Formulación\n",
    "---\n",
    "\n",
    "Te presentamos la formulación del caso de la semana de forma resumida. Te recomendamos revisar la formulación una vez hayas leído el enunciado del caso. Es bueno que te familiarices con los elementos de la formulación antes de iniciar la implementación.\n",
    "\n",
    "### Parámetros\n",
    ">#### **Conjuntos**\n",
    ">* $N$: conjunto de nodos (productos actuales, productos nuevos, nodo ficticio)\n",
    ">* $A$: conjunto de arcos (**ofertas de migración**: producto actual a nuevo, **conteo**: producto nuevo a nodo ficticio)\n",
    ">\n",
    ">#### **Parámetros**\n",
    ">* $b_{i} = \\begin{cases} a_i, & \\text{si } i \\in N \\text{ es producto actual: clientes activos en este producto} \n",
    "    \\\\ 0, & \\text{si } i \\in N \\text{ es producto nuevo} \n",
    "    \\\\ -\\sum_{i}a_i, & \\text{si } i \\in N \\text{ es nodo ficticio: total de ofertas a los clientes en todos los productos} \\end{cases}$\n",
    ">\n",
    ">* $c_{ij} = \\begin{cases} p_{ij}r_{ij}, & \\text{si } (i,j) \\in A \\text{ es arco de producto actual a nuevo: (probabilidad de migración)*(incremento del cargo mensual)} \n",
    "    \\\\ 0, & \\text{si } (i,j) \\in A \\text{ es arco de producto nuevo a nodo ficticio} \\end{cases}$\n",
    ">\n",
    ">* $u_{ij} = \\begin{cases} \\infty, & \\text{si } (i,j) \\in A \\text{ es arco de producto actual a producto nuevo: no hay límite supuerior}\n",
    "    \\\\ 25000, & \\text{si } (i,j) \\in A \\text{ es arco de producto nuevo a nodo ficticio} \\end{cases}$\n",
    "\n",
    "### Variables de Decisión\n",
    ">* $x_{ij} = \\begin{cases} \\text{cantidad de clientes que se les ofrece migrar de } i \\in N \\text{ a } j \\in N, & \\text{si } (i,j) \\in A \\text{ es arco de producto actual a nuevo}\n",
    "    \\\\ \\text{total de clientes que se les ofrece migrar hacia el nuevo } i \\in N, & \\text{si } (i,j) \\in A \\text{ es arco de producto nuevo al nodo ficticio} \\end{cases}$\n",
    "    \n",
    "### Restricciones\n",
    "> 1. **Restricciones de balance**: las unidades que salgan de un nodo menos las unidades que entren al mismo deben ser iguales al parámetro $b_i$ de dicho nodo. En términos del problema, a todos los clientes, según sus productos actuales, se les deben hacer una oferta hacia los productos nuevos. Luego, las ofertas para los productos nuevos deben fluir hacia el nodo ficticio que se asegura que haya una oferta para todos los clientes.\n",
    ">> `# Para desarrollo del estudiante`\n",
    ":\n",
    "> 2. **Restricciones de cota**: las ofertas de migración a los nuevos productos no pueden superar el tope permitido.\n",
    ">> `# Para desarrollo del estudiante`\n",
    ">\n",
    "> 3. **Naturaleza de las variables**\n",
    ">> `# Para desarrollo del estudiante`\n",
    "\n",
    "> **Advertencia**: para esta primera formulación (Preguntas 1 a 5) se sigue la convención vista en el vídeo teórico para la oferta/demanda de cada nodo:\n",
    "\n",
    "> $b_{i} = \\begin{cases} > 0, & \\text{si } i \\in N \\text{ es un nodo de oferta} \n",
    "    \\\\ 0, & \\text{si } i \\in N \\text{ es un nodo de transbordo} \n",
    "    \\\\ < 0, & \\text{si } i \\in N \\text{ es un nodo de demanda} \\end{cases}$\n",
    "\n",
    "> Ten en cuenta que esta convención cambia en la segunda parte del laboratorio (Preguntas 6 a 9) debido a que usamos una librería especializada (Google OR-Tools). Más adelante, encontrarás una advertencia sobre este cambio (Pregunta 8).\n",
    "\n",
    "### Función Objetivo\n",
    "> Maximizar el incremento mensual total estimado luego de ofrecer las migraciones de productos a los clientes.\n",
    ">> `# Para desarrollo del estudiante`\n"
   ]
  },
  {
   "cell_type": "markdown",
   "metadata": {
    "deletable": false,
    "editable": false,
    "nbgrader": {
     "cell_type": "markdown",
     "checksum": "da51c557e0cf617f778b8cbac07676eb",
     "grade": false,
     "grade_id": "cell-db31881de45215f2",
     "locked": true,
     "schema_version": 3,
     "solution": false,
     "task": false
    },
    "tags": []
   },
   "source": [
    "## Importación de librerías\n",
    "---\n",
    "En esta práctica usaremos:\n",
    "* El paquete `pulp` permite crear modelos de optimización, crear variables, añadir restricciones y muchos más. Le asignamos el alias de `lp`.\n",
    "* El paquete `pandas` es muy útil para el análisis de datos en general. Le asignamos el alias de `pd`.\n"
   ]
  },
  {
   "cell_type": "code",
   "execution_count": 31,
   "metadata": {},
   "outputs": [],
   "source": [
    "import pandas as pd\n",
    "import pulp as lp"
   ]
  },
  {
   "cell_type": "markdown",
   "metadata": {
    "deletable": false,
    "editable": false,
    "nbgrader": {
     "cell_type": "markdown",
     "checksum": "78a7bd81ac2577cc9406e7d6732b278e",
     "grade": false,
     "grade_id": "cell-685b1f71ce44c0b0",
     "locked": true,
     "schema_version": 3,
     "solution": false,
     "task": false
    },
    "tags": []
   },
   "source": [
    "## Creación de parámetros\n",
    "---\n",
    "\n",
    "Los datos que necesitamos para esta práctica se encuentran disponibles en el archivo `Soporte Caso 7.xlsx`. Ya se han procesado los datos del enunciado para tener la información en términos de **arcos** y **nodos**.\n",
    "\n",
    "Es **muy importante** resaltar cómo se manejaron las condiciones sobre las migraciones:\n",
    "* No se puede realizar ofertas de migración a productos con menos minutos\n",
    "* No se puede realizar ofertas de migración a productos con menor navegación\n",
    "* No se puede realizar ofertas de migración a productos con menor cargo mensual\n",
    "\n",
    "Puesto que el problema se formuló como una red, la forma más natural de cumplir estas condiciones es **eliminando los arcos** de aquellas migraciones que incumplan alguna de las condiciones. Esto es una práctica común cuando se hace formulación en redes y se hace durante la preparación de los datos, antes de resolver el modelo de optimización. "
   ]
  },
  {
   "cell_type": "markdown",
   "metadata": {
    "deletable": false,
    "editable": false,
    "nbgrader": {
     "cell_type": "markdown",
     "checksum": "0b3e496ba0b46234189bc494119d7d94",
     "grade": false,
     "grade_id": "cell-139d636ca944c8b1",
     "locked": true,
     "schema_version": 3,
     "solution": false,
     "task": false
    },
    "tags": []
   },
   "source": [
    "### Lectura del archivo de soporte\n",
    "\n",
    "Importamos las hojas `Arcos` y `Nodos` del archivo `Soporte Caso 7.xlsx`, donde encontraremos los atributos que definimos en la formulación.\n",
    "\n",
    "Estas hojas son importadas como objetos `DataFrame` de `pandas`"
   ]
  },
  {
   "cell_type": "code",
   "execution_count": 32,
   "metadata": {
    "deletable": false,
    "editable": false,
    "nbgrader": {
     "cell_type": "code",
     "checksum": "35e9a86bccc163670cc4ff3bd183f0d2",
     "grade": false,
     "grade_id": "cell-0d3ecf4a25b35eef",
     "locked": true,
     "schema_version": 3,
     "solution": false,
     "task": false
    },
    "tags": []
   },
   "outputs": [],
   "source": [
    "archivo = \"Soporte Caso 7.xlsx\"\n",
    "arcos = pd.read_excel(io=archivo, sheet_name=\"Arcos\")\n",
    "nodos = pd.read_excel(io=archivo, sheet_name=\"Nodos\")"
   ]
  },
  {
   "cell_type": "code",
   "execution_count": 33,
   "id": "eec3a73f",
   "metadata": {},
   "outputs": [
    {
     "data": {
      "text/html": [
       "<div>\n",
       "<style scoped>\n",
       "    .dataframe tbody tr th:only-of-type {\n",
       "        vertical-align: middle;\n",
       "    }\n",
       "\n",
       "    .dataframe tbody tr th {\n",
       "        vertical-align: top;\n",
       "    }\n",
       "\n",
       "    .dataframe thead th {\n",
       "        text-align: right;\n",
       "    }\n",
       "</style>\n",
       "<table border=\"1\" class=\"dataframe\">\n",
       "  <thead>\n",
       "    <tr style=\"text-align: right;\">\n",
       "      <th></th>\n",
       "      <th>producto_origen</th>\n",
       "      <th>producto_destino</th>\n",
       "      <th>ingreso_adicional</th>\n",
       "      <th>prob_migracion</th>\n",
       "    </tr>\n",
       "  </thead>\n",
       "  <tbody>\n",
       "    <tr>\n",
       "      <th>0</th>\n",
       "      <td>64</td>\n",
       "      <td>299</td>\n",
       "      <td>13.32</td>\n",
       "      <td>0.49</td>\n",
       "    </tr>\n",
       "    <tr>\n",
       "      <th>1</th>\n",
       "      <td>128</td>\n",
       "      <td>312</td>\n",
       "      <td>11.05</td>\n",
       "      <td>0.53</td>\n",
       "    </tr>\n",
       "    <tr>\n",
       "      <th>2</th>\n",
       "      <td>93</td>\n",
       "      <td>302</td>\n",
       "      <td>3.96</td>\n",
       "      <td>0.20</td>\n",
       "    </tr>\n",
       "    <tr>\n",
       "      <th>3</th>\n",
       "      <td>197</td>\n",
       "      <td>297</td>\n",
       "      <td>2.21</td>\n",
       "      <td>0.88</td>\n",
       "    </tr>\n",
       "    <tr>\n",
       "      <th>4</th>\n",
       "      <td>65</td>\n",
       "      <td>307</td>\n",
       "      <td>6.49</td>\n",
       "      <td>0.71</td>\n",
       "    </tr>\n",
       "    <tr>\n",
       "      <th>...</th>\n",
       "      <td>...</td>\n",
       "      <td>...</td>\n",
       "      <td>...</td>\n",
       "      <td>...</td>\n",
       "    </tr>\n",
       "    <tr>\n",
       "      <th>995</th>\n",
       "      <td>203</td>\n",
       "      <td>309</td>\n",
       "      <td>13.00</td>\n",
       "      <td>0.13</td>\n",
       "    </tr>\n",
       "    <tr>\n",
       "      <th>996</th>\n",
       "      <td>267</td>\n",
       "      <td>304</td>\n",
       "      <td>4.75</td>\n",
       "      <td>0.34</td>\n",
       "    </tr>\n",
       "    <tr>\n",
       "      <th>997</th>\n",
       "      <td>193</td>\n",
       "      <td>301</td>\n",
       "      <td>6.44</td>\n",
       "      <td>0.23</td>\n",
       "    </tr>\n",
       "    <tr>\n",
       "      <th>998</th>\n",
       "      <td>79</td>\n",
       "      <td>304</td>\n",
       "      <td>4.24</td>\n",
       "      <td>0.41</td>\n",
       "    </tr>\n",
       "    <tr>\n",
       "      <th>999</th>\n",
       "      <td>139</td>\n",
       "      <td>309</td>\n",
       "      <td>2.39</td>\n",
       "      <td>0.53</td>\n",
       "    </tr>\n",
       "  </tbody>\n",
       "</table>\n",
       "<p>1000 rows × 4 columns</p>\n",
       "</div>"
      ],
      "text/plain": [
       "     producto_origen  producto_destino  ingreso_adicional  prob_migracion\n",
       "0                 64               299              13.32            0.49\n",
       "1                128               312              11.05            0.53\n",
       "2                 93               302               3.96            0.20\n",
       "3                197               297               2.21            0.88\n",
       "4                 65               307               6.49            0.71\n",
       "..               ...               ...                ...             ...\n",
       "995              203               309              13.00            0.13\n",
       "996              267               304               4.75            0.34\n",
       "997              193               301               6.44            0.23\n",
       "998               79               304               4.24            0.41\n",
       "999              139               309               2.39            0.53\n",
       "\n",
       "[1000 rows x 4 columns]"
      ]
     },
     "execution_count": 33,
     "metadata": {},
     "output_type": "execute_result"
    }
   ],
   "source": [
    "arcos"
   ]
  },
  {
   "cell_type": "code",
   "execution_count": 34,
   "id": "8a26e9f7",
   "metadata": {},
   "outputs": [
    {
     "data": {
      "text/html": [
       "<div>\n",
       "<style scoped>\n",
       "    .dataframe tbody tr th:only-of-type {\n",
       "        vertical-align: middle;\n",
       "    }\n",
       "\n",
       "    .dataframe tbody tr th {\n",
       "        vertical-align: top;\n",
       "    }\n",
       "\n",
       "    .dataframe thead th {\n",
       "        text-align: right;\n",
       "    }\n",
       "</style>\n",
       "<table border=\"1\" class=\"dataframe\">\n",
       "  <thead>\n",
       "    <tr style=\"text-align: right;\">\n",
       "      <th></th>\n",
       "      <th>id_producto</th>\n",
       "      <th>minutos</th>\n",
       "      <th>navegacion</th>\n",
       "      <th>beneficios</th>\n",
       "      <th>cargo_mensual</th>\n",
       "      <th>clientes</th>\n",
       "      <th>tipo</th>\n",
       "    </tr>\n",
       "  </thead>\n",
       "  <tbody>\n",
       "    <tr>\n",
       "      <th>0</th>\n",
       "      <td>1</td>\n",
       "      <td>100</td>\n",
       "      <td>10 GB</td>\n",
       "      <td>Spotify Premium</td>\n",
       "      <td>11.94</td>\n",
       "      <td>3903</td>\n",
       "      <td>Actual</td>\n",
       "    </tr>\n",
       "    <tr>\n",
       "      <th>1</th>\n",
       "      <td>2</td>\n",
       "      <td>100</td>\n",
       "      <td>10 GB</td>\n",
       "      <td>Waze ilimitado</td>\n",
       "      <td>29.90</td>\n",
       "      <td>5438</td>\n",
       "      <td>Actual</td>\n",
       "    </tr>\n",
       "    <tr>\n",
       "      <th>2</th>\n",
       "      <td>3</td>\n",
       "      <td>100</td>\n",
       "      <td>10 GB</td>\n",
       "      <td>Instagram ilimitado</td>\n",
       "      <td>11.39</td>\n",
       "      <td>2107</td>\n",
       "      <td>Actual</td>\n",
       "    </tr>\n",
       "    <tr>\n",
       "      <th>3</th>\n",
       "      <td>4</td>\n",
       "      <td>100</td>\n",
       "      <td>10 GB</td>\n",
       "      <td>Facebook ilimitado</td>\n",
       "      <td>15.65</td>\n",
       "      <td>2102</td>\n",
       "      <td>Actual</td>\n",
       "    </tr>\n",
       "    <tr>\n",
       "      <th>4</th>\n",
       "      <td>5</td>\n",
       "      <td>100</td>\n",
       "      <td>10 GB</td>\n",
       "      <td>TikTok ilimitado</td>\n",
       "      <td>23.02</td>\n",
       "      <td>1405</td>\n",
       "      <td>Actual</td>\n",
       "    </tr>\n",
       "    <tr>\n",
       "      <th>...</th>\n",
       "      <td>...</td>\n",
       "      <td>...</td>\n",
       "      <td>...</td>\n",
       "      <td>...</td>\n",
       "      <td>...</td>\n",
       "      <td>...</td>\n",
       "      <td>...</td>\n",
       "    </tr>\n",
       "    <tr>\n",
       "      <th>238</th>\n",
       "      <td>239</td>\n",
       "      <td>1200</td>\n",
       "      <td>30 GB</td>\n",
       "      <td>Instagram ilimitado</td>\n",
       "      <td>23.48</td>\n",
       "      <td>0</td>\n",
       "      <td>Nuevo</td>\n",
       "    </tr>\n",
       "    <tr>\n",
       "      <th>239</th>\n",
       "      <td>240</td>\n",
       "      <td>1200</td>\n",
       "      <td>30 GB</td>\n",
       "      <td>Todos los beneficios</td>\n",
       "      <td>19.72</td>\n",
       "      <td>0</td>\n",
       "      <td>Nuevo</td>\n",
       "    </tr>\n",
       "    <tr>\n",
       "      <th>240</th>\n",
       "      <td>241</td>\n",
       "      <td>1200</td>\n",
       "      <td>50 GB</td>\n",
       "      <td>Spotify Premium</td>\n",
       "      <td>17.57</td>\n",
       "      <td>0</td>\n",
       "      <td>Nuevo</td>\n",
       "    </tr>\n",
       "    <tr>\n",
       "      <th>241</th>\n",
       "      <td>242</td>\n",
       "      <td>1200</td>\n",
       "      <td>50 GB</td>\n",
       "      <td>Instagram ilimitado</td>\n",
       "      <td>18.60</td>\n",
       "      <td>0</td>\n",
       "      <td>Nuevo</td>\n",
       "    </tr>\n",
       "    <tr>\n",
       "      <th>242</th>\n",
       "      <td>243</td>\n",
       "      <td>1200</td>\n",
       "      <td>50 GB</td>\n",
       "      <td>Todos los beneficios</td>\n",
       "      <td>15.34</td>\n",
       "      <td>0</td>\n",
       "      <td>Nuevo</td>\n",
       "    </tr>\n",
       "  </tbody>\n",
       "</table>\n",
       "<p>243 rows × 7 columns</p>\n",
       "</div>"
      ],
      "text/plain": [
       "     id_producto  minutos navegacion            beneficios  cargo_mensual  \\\n",
       "0              1      100      10 GB       Spotify Premium          11.94   \n",
       "1              2      100      10 GB        Waze ilimitado          29.90   \n",
       "2              3      100      10 GB   Instagram ilimitado          11.39   \n",
       "3              4      100      10 GB    Facebook ilimitado          15.65   \n",
       "4              5      100      10 GB      TikTok ilimitado          23.02   \n",
       "..           ...      ...        ...                   ...            ...   \n",
       "238          239     1200      30 GB   Instagram ilimitado          23.48   \n",
       "239          240     1200      30 GB  Todos los beneficios          19.72   \n",
       "240          241     1200      50 GB       Spotify Premium          17.57   \n",
       "241          242     1200      50 GB   Instagram ilimitado          18.60   \n",
       "242          243     1200      50 GB  Todos los beneficios          15.34   \n",
       "\n",
       "     clientes    tipo  \n",
       "0        3903  Actual  \n",
       "1        5438  Actual  \n",
       "2        2107  Actual  \n",
       "3        2102  Actual  \n",
       "4        1405  Actual  \n",
       "..        ...     ...  \n",
       "238         0   Nuevo  \n",
       "239         0   Nuevo  \n",
       "240         0   Nuevo  \n",
       "241         0   Nuevo  \n",
       "242         0   Nuevo  \n",
       "\n",
       "[243 rows x 7 columns]"
      ]
     },
     "execution_count": 34,
     "metadata": {},
     "output_type": "execute_result"
    }
   ],
   "source": [
    "nodos"
   ]
  },
  {
   "cell_type": "markdown",
   "metadata": {
    "deletable": false,
    "editable": false,
    "nbgrader": {
     "cell_type": "markdown",
     "checksum": "a2cd6e93466836edab688ee9910ef8dc",
     "grade": false,
     "grade_id": "cell-139d636ca944c8b5",
     "locked": true,
     "schema_version": 3,
     "solution": false,
     "task": false
    },
    "tags": []
   },
   "source": [
    "### Procesamiento de archivos de soporte\n",
    "\n",
    "En este paso, se crean los **Conjuntos** y **Parámetros** que se encuentran en los archivos de soporte.\n",
    "\n",
    "Cabe aclarar que los parámetros $c_{ij}$ ya contienen la multiplicación de las probabilidades $p_{ij}$ por la diferencia de cargos mensuales $r_{ij}$"
   ]
  },
  {
   "cell_type": "code",
   "execution_count": 35,
   "metadata": {
    "deletable": false,
    "editable": false,
    "nbgrader": {
     "cell_type": "code",
     "checksum": "67b7816731c64874bafd93af8eee5dd3",
     "grade": false,
     "grade_id": "cell-844568c2d799a0b5",
     "locked": true,
     "schema_version": 3,
     "solution": false,
     "task": false
    }
   },
   "outputs": [],
   "source": [
    "# Nodos del grafo\n",
    "Nodos = [str(row['id_producto']) for _, row in nodos.iterrows()]\n",
    "\n",
    "# Arcos del grafo\n",
    "Arcos = [(str(row['producto_origen']), str(row['producto_destino'])) for _, row in arcos.iterrows()]\n",
    "\n",
    "# Demanda/oferta de cada nodo\n",
    "b = {str(row['id_producto']): row['clientes'] for _, row in nodos.iterrows()}\n",
    "\n",
    "# Costo de cada arco\n",
    "c = {(str(row['producto_origen']), str(row['producto_destino'])): round(row['ingreso_adicional'], 2) for _, row in arcos.iterrows()}\n",
    "\n",
    "# Flujo máximo de cada arco\n",
    "u = {(str(row['producto_origen']), str(row['producto_destino'])): row['prob_migracion'] for _, row in arcos.iterrows()}"
   ]
  },
  {
   "cell_type": "markdown",
   "metadata": {
    "deletable": false,
    "editable": false,
    "nbgrader": {
     "cell_type": "markdown",
     "checksum": "009575ea03143cde1dab01eaa1ec01e8",
     "grade": false,
     "grade_id": "cell-587d11a8eb6313b7",
     "locked": true,
     "schema_version": 3,
     "solution": false,
     "task": false
    }
   },
   "source": [
    "**Celda de prueba (0 puntos)**\n",
    "\n",
    "Es una buena práctica imprimir algunos objetos que contienen los parámetros en la consola luego de crearlos. De esta forma puedes corregir errores y familiarizarte con las estrucutras de datos que se van a utilizar. Puedes hacer estas pruebas en la celda a continuación.\n",
    "\n",
    "* **Esta celda no es calificable**"
   ]
  },
  {
   "cell_type": "code",
   "execution_count": null,
   "metadata": {},
   "outputs": [
    {
     "data": {
      "text/plain": [
       "{('64.0', '299.0'): np.float64(0.49),\n",
       " ('128.0', '312.0'): np.float64(0.53),\n",
       " ('93.0', '302.0'): np.float64(0.69),\n",
       " ('197.0', '297.0'): np.float64(0.88),\n",
       " ('65.0', '307.0'): np.float64(0.71),\n",
       " ('18.0', '299.0'): np.float64(0.52),\n",
       " ('166.0', '311.0'): np.float64(0.44),\n",
       " ('219.0', '303.0'): np.float64(0.1),\n",
       " ('217.0', '293.0'): np.float64(0.24),\n",
       " ('95.0', '300.0'): np.float64(0.36),\n",
       " ('212.0', '313.0'): np.float64(0.55),\n",
       " ('17.0', '293.0'): np.float64(0.82),\n",
       " ('142.0', '311.0'): np.float64(0.76),\n",
       " ('101.0', '299.0'): np.float64(0.56),\n",
       " ('42.0', '313.0'): np.float64(0.9),\n",
       " ('88.0', '303.0'): np.float64(0.82),\n",
       " ('50.0', '295.0'): np.float64(0.65),\n",
       " ('208.0', '291.0'): np.float64(0.62),\n",
       " ('92.0', '296.0'): np.float64(0.15),\n",
       " ('259.0', '305.0'): np.float64(0.77),\n",
       " ('42.0', '309.0'): np.float64(0.27),\n",
       " ('288.0', '294.0'): np.float64(0.28),\n",
       " ('191.0', '289.0'): np.float64(0.5),\n",
       " ('6.0', '293.0'): np.float64(0.31),\n",
       " ('159.0', '312.0'): np.float64(0.88),\n",
       " ('144.0', '294.0'): np.float64(0.61),\n",
       " ('39.0', '302.0'): np.float64(0.46),\n",
       " ('248.0', '308.0'): np.float64(0.41),\n",
       " ('150.0', '292.0'): np.float64(0.83),\n",
       " ('176.0', '296.0'): np.float64(0.21),\n",
       " ('157.0', '297.0'): np.float64(0.45),\n",
       " ('51.0', '302.0'): np.float64(0.23),\n",
       " ('73.0', '305.0'): np.float64(0.31),\n",
       " ('173.0', '314.0'): np.float64(0.69),\n",
       " ('96.0', '291.0'): np.float64(0.26),\n",
       " ('169.0', '306.0'): np.float64(0.29),\n",
       " ('82.0', '292.0'): np.float64(0.57),\n",
       " ('104.0', '303.0'): np.float64(0.72),\n",
       " ('141.0', '312.0'): np.float64(0.64),\n",
       " ('237.0', '309.0'): np.float64(0.87),\n",
       " ('100.0', '315.0'): np.float64(0.25),\n",
       " ('257.0', '301.0'): np.float64(0.19),\n",
       " ('281.0', '310.0'): np.float64(0.3),\n",
       " ('40.0', '293.0'): np.float64(0.21),\n",
       " ('181.0', '304.0'): np.float64(0.52),\n",
       " ('252.0', '295.0'): np.float64(0.61),\n",
       " ('263.0', '305.0'): np.float64(0.84),\n",
       " ('187.0', '313.0'): np.float64(0.63),\n",
       " ('37.0', '304.0'): np.float64(0.35),\n",
       " ('87.0', '307.0'): np.float64(0.81),\n",
       " ('148.0', '294.0'): np.float64(0.36),\n",
       " ('223.0', '304.0'): np.float64(0.66),\n",
       " ('83.0', '303.0'): np.float64(0.65),\n",
       " ('251.0', '298.0'): np.float64(0.42),\n",
       " ('102.0', '307.0'): np.float64(0.37),\n",
       " ('9.0', '298.0'): np.float64(0.19),\n",
       " ('59.0', '308.0'): np.float64(0.15),\n",
       " ('213.0', '314.0'): np.float64(0.63),\n",
       " ('140.0', '308.0'): np.float64(0.49),\n",
       " ('96.0', '300.0'): np.float64(0.26),\n",
       " ('4.0', '290.0'): np.float64(0.17),\n",
       " ('164.0', '290.0'): np.float64(0.5),\n",
       " ('97.0', '307.0'): np.float64(0.7),\n",
       " ('212.0', '315.0'): np.float64(0.23),\n",
       " ('23.0', '295.0'): np.float64(0.43),\n",
       " ('183.0', '301.0'): np.float64(0.14),\n",
       " ('225.0', '291.0'): np.float64(0.89),\n",
       " ('205.0', '303.0'): np.float64(0.1),\n",
       " ('69.0', '314.0'): np.float64(0.54),\n",
       " ('9.0', '313.0'): np.float64(0.24),\n",
       " ('189.0', '292.0'): np.float64(0.37),\n",
       " ('197.0', '294.0'): np.float64(0.21),\n",
       " ('270.0', '313.0'): np.float64(0.11),\n",
       " ('170.0', '295.0'): np.float64(0.15),\n",
       " ('175.0', '301.0'): np.float64(0.8),\n",
       " ('205.0', '301.0'): np.float64(0.34),\n",
       " ('214.0', '306.0'): np.float64(0.81),\n",
       " ('9.0', '315.0'): np.float64(0.23),\n",
       " ('207.0', '306.0'): np.float64(0.49),\n",
       " ('164.0', '292.0'): np.float64(0.39),\n",
       " ('127.0', '297.0'): np.float64(0.3),\n",
       " ('170.0', '292.0'): np.float64(0.54),\n",
       " ('5.0', '290.0'): np.float64(0.39),\n",
       " ('106.0', '297.0'): np.float64(0.19),\n",
       " ('241.0', '311.0'): np.float64(0.77),\n",
       " ('52.0', '304.0'): np.float64(0.52),\n",
       " ('73.0', '289.0'): np.float64(0.11),\n",
       " ('277.0', '294.0'): np.float64(0.14),\n",
       " ('225.0', '289.0'): np.float64(0.46),\n",
       " ('148.0', '289.0'): np.float64(0.68),\n",
       " ('212.0', '300.0'): np.float64(0.19),\n",
       " ('174.0', '301.0'): np.float64(0.54),\n",
       " ('214.0', '312.0'): np.float64(0.13),\n",
       " ('103.0', '301.0'): np.float64(0.35),\n",
       " ('159.0', '301.0'): np.float64(0.65),\n",
       " ('213.0', '300.0'): np.float64(0.52),\n",
       " ('54.0', '289.0'): np.float64(0.69),\n",
       " ('210.0', '303.0'): np.float64(0.8),\n",
       " ('92.0', '308.0'): np.float64(0.68),\n",
       " ('73.0', '306.0'): np.float64(0.5),\n",
       " ('208.0', '296.0'): np.float64(0.54),\n",
       " ('244.0', '296.0'): np.float64(0.14),\n",
       " ('65.0', '291.0'): np.float64(0.23),\n",
       " ('206.0', '299.0'): np.float64(0.1),\n",
       " ('117.0', '299.0'): np.float64(0.18),\n",
       " ('184.0', '304.0'): np.float64(0.16),\n",
       " ('74.0', '306.0'): np.float64(0.69),\n",
       " ('130.0', '304.0'): np.float64(0.77),\n",
       " ('264.0', '296.0'): np.float64(0.61),\n",
       " ('128.0', '305.0'): np.float64(0.15),\n",
       " ('249.0', '315.0'): np.float64(0.69),\n",
       " ('273.0', '291.0'): np.float64(0.76),\n",
       " ('102.0', '298.0'): np.float64(0.44),\n",
       " ('13.0', '292.0'): np.float64(0.63),\n",
       " ('256.0', '301.0'): np.float64(0.34),\n",
       " ('199.0', '305.0'): np.float64(0.44),\n",
       " ('261.0', '298.0'): np.float64(0.24),\n",
       " ('278.0', '310.0'): np.float64(0.68),\n",
       " ('44.0', '304.0'): np.float64(0.26),\n",
       " ('276.0', '302.0'): np.float64(0.55),\n",
       " ('220.0', '314.0'): np.float64(0.62),\n",
       " ('136.0', '310.0'): np.float64(0.64),\n",
       " ('130.0', '303.0'): np.float64(0.7),\n",
       " ('125.0', '314.0'): np.float64(0.37),\n",
       " ('158.0', '309.0'): np.float64(0.26),\n",
       " ('245.0', '308.0'): np.float64(0.37),\n",
       " ('137.0', '306.0'): np.float64(0.43),\n",
       " ('125.0', '294.0'): np.float64(0.22),\n",
       " ('48.0', '310.0'): np.float64(0.17),\n",
       " ('160.0', '302.0'): np.float64(0.86),\n",
       " ('33.0', '294.0'): np.float64(0.87),\n",
       " ('238.0', '299.0'): np.float64(0.36),\n",
       " ('109.0', '304.0'): np.float64(0.18),\n",
       " ('287.0', '311.0'): np.float64(0.59),\n",
       " ('145.0', '292.0'): np.float64(0.48),\n",
       " ('104.0', '311.0'): np.float64(0.29),\n",
       " ('275.0', '302.0'): np.float64(0.88),\n",
       " ('156.0', '303.0'): np.float64(0.42),\n",
       " ('113.0', '289.0'): np.float64(0.26),\n",
       " ('271.0', '306.0'): np.float64(0.41),\n",
       " ('48.0', '290.0'): np.float64(0.86),\n",
       " ('44.0', '294.0'): np.float64(0.73),\n",
       " ('9.0', '311.0'): np.float64(0.62),\n",
       " ('269.0', '306.0'): np.float64(0.44),\n",
       " ('71.0', '313.0'): np.float64(0.78),\n",
       " ('241.0', '314.0'): np.float64(0.3),\n",
       " ('196.0', '292.0'): np.float64(0.43),\n",
       " ('34.0', '305.0'): np.float64(0.14),\n",
       " ('65.0', '290.0'): np.float64(0.63),\n",
       " ('229.0', '291.0'): np.float64(0.24),\n",
       " ('163.0', '294.0'): np.float64(0.11),\n",
       " ('244.0', '315.0'): np.float64(0.56),\n",
       " ('51.0', '309.0'): np.float64(0.15),\n",
       " ('134.0', '314.0'): np.float64(0.4),\n",
       " ('215.0', '306.0'): np.float64(0.59),\n",
       " ('156.0', '311.0'): np.float64(0.81),\n",
       " ('20.0', '300.0'): np.float64(0.81),\n",
       " ('41.0', '289.0'): np.float64(0.16),\n",
       " ('173.0', '299.0'): np.float64(0.31),\n",
       " ('158.0', '307.0'): np.float64(0.71),\n",
       " ('85.0', '315.0'): np.float64(0.48),\n",
       " ('191.0', '315.0'): np.float64(0.57),\n",
       " ('260.0', '297.0'): np.float64(0.23),\n",
       " ('170.0', '314.0'): np.float64(0.53),\n",
       " ('62.0', '290.0'): np.float64(0.89),\n",
       " ('87.0', '293.0'): np.float64(0.28),\n",
       " ('275.0', '312.0'): np.float64(0.43),\n",
       " ('119.0', '305.0'): np.float64(0.49),\n",
       " ('35.0', '300.0'): np.float64(0.43),\n",
       " ('130.0', '305.0'): np.float64(0.34),\n",
       " ('84.0', '308.0'): np.float64(0.33),\n",
       " ('199.0', '311.0'): np.float64(0.18),\n",
       " ('92.0', '291.0'): np.float64(0.75),\n",
       " ('152.0', '296.0'): np.float64(0.48),\n",
       " ('183.0', '297.0'): np.float64(0.62),\n",
       " ('63.0', '291.0'): np.float64(0.51),\n",
       " ('233.0', '303.0'): np.float64(0.37),\n",
       " ('217.0', '306.0'): np.float64(0.44),\n",
       " ('56.0', '301.0'): np.float64(0.11),\n",
       " ('27.0', '315.0'): np.float64(0.7),\n",
       " ('172.0', '297.0'): np.float64(0.56),\n",
       " ('92.0', '293.0'): np.float64(0.75),\n",
       " ('47.0', '303.0'): np.float64(0.85),\n",
       " ('241.0', '307.0'): np.float64(0.35),\n",
       " ('187.0', '307.0'): np.float64(0.82),\n",
       " ('202.0', '303.0'): np.float64(0.32),\n",
       " ('204.0', '302.0'): np.float64(0.68),\n",
       " ('197.0', '303.0'): np.float64(0.59),\n",
       " ('273.0', '309.0'): np.float64(0.71),\n",
       " ('210.0', '289.0'): np.float64(0.3),\n",
       " ('95.0', '304.0'): np.float64(0.53),\n",
       " ('219.0', '306.0'): np.float64(0.12),\n",
       " ('131.0', '291.0'): np.float64(0.63),\n",
       " ('34.0', '299.0'): np.float64(0.37),\n",
       " ('119.0', '291.0'): np.float64(0.45),\n",
       " ('124.0', '302.0'): np.float64(0.86),\n",
       " ('244.0', '299.0'): np.float64(0.56),\n",
       " ('141.0', '298.0'): np.float64(0.16),\n",
       " ('229.0', '311.0'): np.float64(0.67),\n",
       " ('175.0', '303.0'): np.float64(0.34),\n",
       " ('256.0', '308.0'): np.float64(0.12),\n",
       " ('175.0', '293.0'): np.float64(0.3),\n",
       " ('129.0', '305.0'): np.float64(0.49),\n",
       " ('189.0', '293.0'): np.float64(0.16),\n",
       " ('93.0', '312.0'): np.float64(0.25),\n",
       " ('185.0', '304.0'): np.float64(0.75),\n",
       " ('67.0', '292.0'): np.float64(0.36),\n",
       " ('22.0', '292.0'): np.float64(0.27),\n",
       " ('81.0', '306.0'): np.float64(0.21),\n",
       " ('5.0', '314.0'): np.float64(0.67),\n",
       " ('236.0', '302.0'): np.float64(0.13),\n",
       " ('195.0', '310.0'): np.float64(0.66),\n",
       " ('184.0', '296.0'): np.float64(0.6),\n",
       " ('14.0', '290.0'): np.float64(0.66),\n",
       " ('201.0', '308.0'): np.float64(0.54),\n",
       " ('243.0', '315.0'): np.float64(0.86),\n",
       " ('87.0', '297.0'): np.float64(0.21),\n",
       " ('244.0', '295.0'): np.float64(0.71),\n",
       " ('75.0', '315.0'): np.float64(0.38),\n",
       " ('260.0', '298.0'): np.float64(0.27),\n",
       " ('117.0', '297.0'): np.float64(0.72),\n",
       " ('252.0', '289.0'): np.float64(0.28),\n",
       " ('145.0', '308.0'): np.float64(0.11),\n",
       " ('183.0', '315.0'): np.float64(0.33),\n",
       " ('84.0', '314.0'): np.float64(0.43),\n",
       " ('234.0', '299.0'): np.float64(0.48),\n",
       " ('35.0', '310.0'): np.float64(0.72),\n",
       " ('29.0', '304.0'): np.float64(0.87),\n",
       " ('54.0', '296.0'): np.float64(0.37),\n",
       " ('208.0', '300.0'): np.float64(0.27),\n",
       " ('225.0', '307.0'): np.float64(0.49),\n",
       " ('250.0', '308.0'): np.float64(0.71),\n",
       " ('263.0', '310.0'): np.float64(0.13),\n",
       " ('156.0', '306.0'): np.float64(0.45),\n",
       " ('105.0', '297.0'): np.float64(0.47),\n",
       " ('199.0', '306.0'): np.float64(0.3),\n",
       " ('36.0', '309.0'): np.float64(0.81),\n",
       " ('136.0', '313.0'): np.float64(0.75),\n",
       " ('217.0', '308.0'): np.float64(0.82),\n",
       " ('131.0', '294.0'): np.float64(0.26),\n",
       " ('15.0', '301.0'): np.float64(0.49),\n",
       " ('247.0', '293.0'): np.float64(0.76),\n",
       " ('187.0', '304.0'): np.float64(0.18),\n",
       " ('102.0', '313.0'): np.float64(0.59),\n",
       " ('88.0', '315.0'): np.float64(0.83),\n",
       " ('18.0', '301.0'): np.float64(0.33),\n",
       " ('159.0', '296.0'): np.float64(0.59),\n",
       " ('223.0', '314.0'): np.float64(0.75),\n",
       " ('153.0', '310.0'): np.float64(0.32),\n",
       " ('158.0', '312.0'): np.float64(0.26),\n",
       " ('59.0', '311.0'): np.float64(0.75),\n",
       " ('96.0', '306.0'): np.float64(0.82),\n",
       " ('173.0', '307.0'): np.float64(0.62),\n",
       " ('42.0', '293.0'): np.float64(0.72),\n",
       " ('80.0', '300.0'): np.float64(0.2),\n",
       " ('240.0', '306.0'): np.float64(0.64),\n",
       " ('135.0', '298.0'): np.float64(0.7),\n",
       " ('284.0', '301.0'): np.float64(0.64),\n",
       " ('132.0', '296.0'): np.float64(0.52),\n",
       " ('3.0', '295.0'): np.float64(0.53),\n",
       " ('97.0', '314.0'): np.float64(0.84),\n",
       " ('172.0', '294.0'): np.float64(0.75),\n",
       " ('52.0', '292.0'): np.float64(0.72),\n",
       " ('285.0', '308.0'): np.float64(0.13),\n",
       " ('206.0', '298.0'): np.float64(0.39),\n",
       " ('37.0', '309.0'): np.float64(0.49),\n",
       " ('20.0', '293.0'): np.float64(0.71),\n",
       " ('62.0', '301.0'): np.float64(0.43),\n",
       " ('274.0', '306.0'): np.float64(0.42),\n",
       " ('84.0', '297.0'): np.float64(0.37),\n",
       " ('130.0', '309.0'): np.float64(0.36),\n",
       " ('259.0', '303.0'): np.float64(0.41),\n",
       " ('123.0', '297.0'): np.float64(0.53),\n",
       " ('91.0', '302.0'): np.float64(0.16),\n",
       " ('89.0', '303.0'): np.float64(0.13),\n",
       " ('264.0', '310.0'): np.float64(0.49),\n",
       " ('153.0', '311.0'): np.float64(0.59),\n",
       " ('91.0', '307.0'): np.float64(0.7),\n",
       " ('258.0', '290.0'): np.float64(0.22),\n",
       " ('108.0', '303.0'): np.float64(0.78),\n",
       " ('151.0', '295.0'): np.float64(0.48),\n",
       " ('119.0', '297.0'): np.float64(0.22),\n",
       " ('21.0', '312.0'): np.float64(0.75),\n",
       " ('153.0', '298.0'): np.float64(0.75),\n",
       " ('85.0', '295.0'): np.float64(0.78),\n",
       " ('83.0', '307.0'): np.float64(0.77),\n",
       " ('107.0', '308.0'): np.float64(0.8),\n",
       " ('88.0', '290.0'): np.float64(0.41),\n",
       " ('46.0', '312.0'): np.float64(0.23),\n",
       " ('204.0', '297.0'): np.float64(0.3),\n",
       " ('153.0', '291.0'): np.float64(0.56),\n",
       " ('66.0', '299.0'): np.float64(0.63),\n",
       " ('41.0', '312.0'): np.float64(0.88),\n",
       " ('131.0', '292.0'): np.float64(0.65),\n",
       " ('253.0', '290.0'): np.float64(0.41),\n",
       " ('95.0', '307.0'): np.float64(0.32),\n",
       " ('191.0', '305.0'): np.float64(0.86),\n",
       " ('257.0', '297.0'): np.float64(0.8),\n",
       " ('75.0', '303.0'): np.float64(0.69),\n",
       " ('271.0', '302.0'): np.float64(0.65),\n",
       " ('242.0', '292.0'): np.float64(0.79),\n",
       " ('104.0', '308.0'): np.float64(0.32),\n",
       " ('49.0', '303.0'): np.float64(0.79),\n",
       " ('77.0', '313.0'): np.float64(0.83),\n",
       " ('51.0', '298.0'): np.float64(0.56),\n",
       " ('6.0', '303.0'): np.float64(0.67),\n",
       " ('217.0', '304.0'): np.float64(0.25),\n",
       " ('111.0', '310.0'): np.float64(0.35),\n",
       " ('45.0', '294.0'): np.float64(0.65),\n",
       " ('11.0', '311.0'): np.float64(0.55),\n",
       " ('39.0', '298.0'): np.float64(0.58),\n",
       " ('147.0', '294.0'): np.float64(0.18),\n",
       " ('127.0', '303.0'): np.float64(0.55),\n",
       " ('234.0', '301.0'): np.float64(0.37),\n",
       " ('226.0', '299.0'): np.float64(0.27),\n",
       " ('115.0', '290.0'): np.float64(0.65),\n",
       " ('84.0', '292.0'): np.float64(0.84),\n",
       " ('158.0', '290.0'): np.float64(0.87),\n",
       " ('93.0', '299.0'): np.float64(0.78),\n",
       " ('265.0', '304.0'): np.float64(0.82),\n",
       " ('51.0', '294.0'): np.float64(0.25),\n",
       " ('78.0', '312.0'): np.float64(0.15),\n",
       " ('77.0', '290.0'): np.float64(0.69),\n",
       " ('137.0', '300.0'): np.float64(0.63),\n",
       " ('17.0', '312.0'): np.float64(0.84),\n",
       " ('56.0', '306.0'): np.float64(0.56),\n",
       " ('255.0', '290.0'): np.float64(0.12),\n",
       " ('196.0', '311.0'): np.float64(0.83),\n",
       " ('27.0', '292.0'): np.float64(0.16),\n",
       " ('238.0', '304.0'): np.float64(0.37),\n",
       " ('204.0', '311.0'): np.float64(0.33),\n",
       " ('23.0', '306.0'): np.float64(0.7),\n",
       " ('196.0', '289.0'): np.float64(0.24),\n",
       " ('261.0', '294.0'): np.float64(0.11),\n",
       " ('57.0', '307.0'): np.float64(0.36),\n",
       " ('134.0', '307.0'): np.float64(0.89),\n",
       " ('109.0', '301.0'): np.float64(0.76),\n",
       " ('35.0', '315.0'): np.float64(0.78),\n",
       " ('209.0', '296.0'): np.float64(0.15),\n",
       " ('129.0', '300.0'): np.float64(0.42),\n",
       " ('63.0', '303.0'): np.float64(0.44),\n",
       " ('277.0', '293.0'): np.float64(0.71),\n",
       " ('249.0', '304.0'): np.float64(0.12),\n",
       " ('63.0', '312.0'): np.float64(0.77),\n",
       " ('133.0', '290.0'): np.float64(0.76),\n",
       " ('121.0', '309.0'): np.float64(0.6),\n",
       " ('67.0', '291.0'): np.float64(0.47),\n",
       " ('100.0', '314.0'): np.float64(0.54),\n",
       " ('7.0', '311.0'): np.float64(0.47),\n",
       " ('110.0', '293.0'): np.float64(0.44),\n",
       " ('16.0', '295.0'): np.float64(0.75),\n",
       " ('27.0', '291.0'): np.float64(0.36),\n",
       " ('91.0', '296.0'): np.float64(0.63),\n",
       " ('41.0', '293.0'): np.float64(0.67),\n",
       " ('11.0', '289.0'): np.float64(0.7),\n",
       " ('226.0', '294.0'): np.float64(0.39),\n",
       " ('130.0', '299.0'): np.float64(0.55),\n",
       " ('76.0', '300.0'): np.float64(0.38),\n",
       " ('16.0', '293.0'): np.float64(0.64),\n",
       " ('252.0', '315.0'): np.float64(0.89),\n",
       " ('104.0', '297.0'): np.float64(0.55),\n",
       " ('195.0', '290.0'): np.float64(0.51),\n",
       " ('44.0', '313.0'): np.float64(0.61),\n",
       " ('36.0', '299.0'): np.float64(0.26),\n",
       " ('52.0', '306.0'): np.float64(0.75),\n",
       " ('84.0', '305.0'): np.float64(0.7),\n",
       " ('108.0', '307.0'): np.float64(0.41),\n",
       " ('153.0', '307.0'): np.float64(0.49),\n",
       " ('246.0', '312.0'): np.float64(0.47),\n",
       " ('182.0', '303.0'): np.float64(0.48),\n",
       " ('54.0', '308.0'): np.float64(0.37),\n",
       " ('288.0', '312.0'): np.float64(0.17),\n",
       " ('157.0', '311.0'): np.float64(0.2),\n",
       " ('252.0', '306.0'): np.float64(0.13),\n",
       " ('193.0', '290.0'): np.float64(0.79),\n",
       " ('102.0', '305.0'): np.float64(0.78),\n",
       " ('274.0', '315.0'): np.float64(0.7),\n",
       " ('103.0', '295.0'): np.float64(0.28),\n",
       " ('215.0', '292.0'): np.float64(0.84),\n",
       " ('214.0', '308.0'): np.float64(0.3),\n",
       " ('95.0', '311.0'): np.float64(0.68),\n",
       " ('51.0', '300.0'): np.float64(0.66),\n",
       " ('130.0', '293.0'): np.float64(0.41),\n",
       " ('60.0', '290.0'): np.float64(0.47),\n",
       " ('49.0', '311.0'): np.float64(0.44),\n",
       " ('214.0', '290.0'): np.float64(0.21),\n",
       " ('48.0', '293.0'): np.float64(0.1),\n",
       " ('164.0', '314.0'): np.float64(0.7),\n",
       " ('207.0', '311.0'): np.float64(0.12),\n",
       " ('87.0', '314.0'): np.float64(0.47),\n",
       " ('255.0', '315.0'): np.float64(0.84),\n",
       " ('237.0', '296.0'): np.float64(0.67),\n",
       " ('286.0', '311.0'): np.float64(0.4),\n",
       " ('136.0', '314.0'): np.float64(0.37),\n",
       " ('276.0', '300.0'): np.float64(0.24),\n",
       " ('208.0', '307.0'): np.float64(0.41),\n",
       " ('272.0', '307.0'): np.float64(0.49),\n",
       " ('74.0', '302.0'): np.float64(0.31),\n",
       " ('21.0', '301.0'): np.float64(0.37),\n",
       " ('262.0', '299.0'): np.float64(0.11),\n",
       " ('154.0', '289.0'): np.float64(0.7),\n",
       " ('103.0', '296.0'): np.float64(0.84),\n",
       " ('98.0', '310.0'): np.float64(0.66),\n",
       " ('211.0', '313.0'): np.float64(0.26),\n",
       " ('247.0', '295.0'): np.float64(0.45),\n",
       " ('231.0', '306.0'): np.float64(0.81),\n",
       " ('199.0', '302.0'): np.float64(0.49),\n",
       " ('176.0', '314.0'): np.float64(0.66),\n",
       " ('8.0', '309.0'): np.float64(0.33),\n",
       " ('48.0', '314.0'): np.float64(0.54),\n",
       " ('245.0', '293.0'): np.float64(0.32),\n",
       " ('232.0', '292.0'): np.float64(0.33),\n",
       " ('116.0', '308.0'): np.float64(0.88),\n",
       " ('72.0', '292.0'): np.float64(0.39),\n",
       " ('2.0', '315.0'): np.float64(0.79),\n",
       " ('111.0', '312.0'): np.float64(0.15),\n",
       " ('237.0', '298.0'): np.float64(0.37),\n",
       " ('65.0', '308.0'): np.float64(0.32),\n",
       " ('146.0', '292.0'): np.float64(0.32),\n",
       " ('68.0', '298.0'): np.float64(0.87),\n",
       " ('95.0', '289.0'): np.float64(0.12),\n",
       " ('108.0', '290.0'): np.float64(0.73),\n",
       " ('93.0', '290.0'): np.float64(0.57),\n",
       " ('79.0', '315.0'): np.float64(0.31),\n",
       " ('63.0', '298.0'): np.float64(0.87),\n",
       " ('243.0', '299.0'): np.float64(0.3),\n",
       " ('149.0', '309.0'): np.float64(0.29),\n",
       " ('287.0', '315.0'): np.float64(0.14),\n",
       " ('256.0', '315.0'): np.float64(0.49),\n",
       " ('148.0', '312.0'): np.float64(0.36),\n",
       " ('146.0', '298.0'): np.float64(0.65),\n",
       " ('142.0', '306.0'): np.float64(0.85),\n",
       " ('70.0', '297.0'): np.float64(0.18),\n",
       " ('216.0', '296.0'): np.float64(0.72),\n",
       " ('18.0', '314.0'): np.float64(0.6),\n",
       " ('232.0', '313.0'): np.float64(0.32),\n",
       " ('86.0', '303.0'): np.float64(0.74),\n",
       " ('111.0', '309.0'): np.float64(0.66),\n",
       " ('115.0', '311.0'): np.float64(0.46),\n",
       " ('25.0', '309.0'): np.float64(0.82),\n",
       " ('156.0', '297.0'): np.float64(0.4),\n",
       " ('10.0', '307.0'): np.float64(0.22),\n",
       " ('84.0', '296.0'): np.float64(0.58),\n",
       " ('13.0', '295.0'): np.float64(0.47),\n",
       " ('140.0', '312.0'): np.float64(0.4),\n",
       " ('135.0', '292.0'): np.float64(0.39),\n",
       " ('39.0', '294.0'): np.float64(0.16),\n",
       " ('156.0', '289.0'): np.float64(0.67),\n",
       " ('256.0', '299.0'): np.float64(0.22),\n",
       " ('16.0', '289.0'): np.float64(0.55),\n",
       " ('237.0', '291.0'): np.float64(0.17),\n",
       " ('257.0', '314.0'): np.float64(0.78),\n",
       " ('73.0', '307.0'): np.float64(0.77),\n",
       " ('73.0', '302.0'): np.float64(0.72),\n",
       " ('94.0', '302.0'): np.float64(0.86),\n",
       " ('18.0', '315.0'): np.float64(0.39),\n",
       " ('201.0', '298.0'): np.float64(0.15),\n",
       " ('276.0', '314.0'): np.float64(0.16),\n",
       " ('201.0', '290.0'): np.float64(0.35),\n",
       " ('283.0', '293.0'): np.float64(0.89),\n",
       " ('170.0', '304.0'): np.float64(0.38),\n",
       " ('283.0', '297.0'): np.float64(0.48),\n",
       " ('37.0', '307.0'): np.float64(0.35),\n",
       " ('138.0', '310.0'): np.float64(0.36),\n",
       " ('218.0', '305.0'): np.float64(0.71),\n",
       " ('190.0', '310.0'): np.float64(0.66),\n",
       " ('226.0', '307.0'): np.float64(0.33),\n",
       " ('74.0', '291.0'): np.float64(0.37),\n",
       " ('29.0', '308.0'): np.float64(0.53),\n",
       " ('41.0', '305.0'): np.float64(0.53),\n",
       " ('90.0', '295.0'): np.float64(0.55),\n",
       " ('129.0', '296.0'): np.float64(0.6),\n",
       " ('13.0', '313.0'): np.float64(0.25),\n",
       " ('159.0', '299.0'): np.float64(0.59),\n",
       " ('177.0', '291.0'): np.float64(0.2),\n",
       " ('144.0', '291.0'): np.float64(0.23),\n",
       " ('198.0', '307.0'): np.float64(0.79),\n",
       " ('161.0', '315.0'): np.float64(0.42),\n",
       " ('238.0', '309.0'): np.float64(0.53),\n",
       " ('193.0', '303.0'): np.float64(0.62),\n",
       " ('27.0', '299.0'): np.float64(0.48),\n",
       " ('17.0', '306.0'): np.float64(0.65),\n",
       " ('190.0', '304.0'): np.float64(0.27),\n",
       " ('106.0', '293.0'): np.float64(0.1),\n",
       " ('76.0', '299.0'): np.float64(0.76),\n",
       " ('114.0', '314.0'): np.float64(0.52),\n",
       " ('208.0', '292.0'): np.float64(0.47),\n",
       " ('55.0', '299.0'): np.float64(0.84),\n",
       " ('200.0', '294.0'): np.float64(0.72),\n",
       " ('104.0', '300.0'): np.float64(0.72),\n",
       " ('66.0', '314.0'): np.float64(0.39),\n",
       " ('14.0', '309.0'): np.float64(0.45),\n",
       " ('132.0', '311.0'): np.float64(0.12),\n",
       " ('64.0', '289.0'): np.float64(0.84),\n",
       " ('168.0', '297.0'): np.float64(0.24),\n",
       " ('227.0', '300.0'): np.float64(0.18),\n",
       " ('222.0', '315.0'): np.float64(0.43),\n",
       " ('237.0', '295.0'): np.float64(0.65),\n",
       " ('154.0', '292.0'): np.float64(0.2),\n",
       " ('215.0', '301.0'): np.float64(0.78),\n",
       " ('157.0', '291.0'): np.float64(0.11),\n",
       " ('142.0', '292.0'): np.float64(0.7),\n",
       " ('278.0', '312.0'): np.float64(0.21),\n",
       " ('2.0', '298.0'): np.float64(0.72),\n",
       " ('41.0', '298.0'): np.float64(0.78),\n",
       " ('19.0', '306.0'): np.float64(0.89),\n",
       " ('39.0', '314.0'): np.float64(0.2),\n",
       " ('253.0', '291.0'): np.float64(0.34),\n",
       " ('244.0', '312.0'): np.float64(0.86),\n",
       " ('285.0', '295.0'): np.float64(0.58),\n",
       " ('121.0', '315.0'): np.float64(0.52),\n",
       " ('162.0', '301.0'): np.float64(0.13),\n",
       " ('142.0', '295.0'): np.float64(0.23),\n",
       " ('153.0', '290.0'): np.float64(0.24),\n",
       " ('287.0', '296.0'): np.float64(0.21),\n",
       " ('263.0', '313.0'): np.float64(0.46),\n",
       " ('232.0', '306.0'): np.float64(0.39),\n",
       " ('167.0', '310.0'): np.float64(0.17),\n",
       " ('128.0', '301.0'): np.float64(0.79),\n",
       " ('107.0', '315.0'): np.float64(0.62),\n",
       " ('266.0', '299.0'): np.float64(0.25),\n",
       " ('242.0', '290.0'): np.float64(0.31),\n",
       " ('39.0', '313.0'): np.float64(0.83),\n",
       " ('86.0', '312.0'): np.float64(0.81),\n",
       " ('274.0', '293.0'): np.float64(0.86),\n",
       " ('172.0', '299.0'): np.float64(0.44),\n",
       " ('268.0', '313.0'): np.float64(0.82),\n",
       " ('165.0', '300.0'): np.float64(0.18),\n",
       " ('264.0', '309.0'): np.float64(0.22),\n",
       " ('140.0', '306.0'): np.float64(0.33),\n",
       " ('234.0', '295.0'): np.float64(0.48),\n",
       " ('219.0', '307.0'): np.float64(0.78),\n",
       " ('28.0', '291.0'): np.float64(0.15),\n",
       " ('158.0', '310.0'): np.float64(0.37),\n",
       " ('186.0', '313.0'): np.float64(0.27),\n",
       " ('255.0', '312.0'): np.float64(0.36),\n",
       " ('219.0', '314.0'): np.float64(0.43),\n",
       " ('235.0', '295.0'): np.float64(0.2),\n",
       " ('95.0', '305.0'): np.float64(0.48),\n",
       " ('238.0', '289.0'): np.float64(0.35),\n",
       " ('198.0', '302.0'): np.float64(0.68),\n",
       " ('42.0', '294.0'): np.float64(0.56),\n",
       " ('31.0', '315.0'): np.float64(0.87),\n",
       " ('138.0', '298.0'): np.float64(0.79),\n",
       " ('257.0', '311.0'): np.float64(0.6),\n",
       " ('77.0', '291.0'): np.float64(0.61),\n",
       " ('14.0', '289.0'): np.float64(0.62),\n",
       " ('275.0', '290.0'): np.float64(0.3),\n",
       " ('53.0', '291.0'): np.float64(0.3),\n",
       " ('207.0', '310.0'): np.float64(0.88),\n",
       " ('272.0', '294.0'): np.float64(0.28),\n",
       " ('266.0', '295.0'): np.float64(0.66),\n",
       " ('120.0', '315.0'): np.float64(0.5),\n",
       " ('95.0', '296.0'): np.float64(0.43),\n",
       " ('233.0', '289.0'): np.float64(0.78),\n",
       " ('53.0', '315.0'): np.float64(0.81),\n",
       " ('9.0', '292.0'): np.float64(0.29),\n",
       " ('103.0', '315.0'): np.float64(0.45),\n",
       " ('144.0', '301.0'): np.float64(0.16),\n",
       " ('226.0', '298.0'): np.float64(0.34),\n",
       " ('280.0', '308.0'): np.float64(0.74),\n",
       " ('133.0', '298.0'): np.float64(0.25),\n",
       " ('244.0', '303.0'): np.float64(0.42),\n",
       " ('37.0', '291.0'): np.float64(0.47),\n",
       " ('201.0', '302.0'): np.float64(0.54),\n",
       " ('19.0', '300.0'): np.float64(0.87),\n",
       " ('270.0', '289.0'): np.float64(0.69),\n",
       " ('52.0', '293.0'): np.float64(0.38),\n",
       " ('193.0', '291.0'): np.float64(0.74),\n",
       " ('161.0', '299.0'): np.float64(0.81),\n",
       " ('8.0', '315.0'): np.float64(0.59),\n",
       " ('234.0', '298.0'): np.float64(0.12),\n",
       " ('175.0', '298.0'): np.float64(0.66),\n",
       " ('176.0', '312.0'): np.float64(0.35),\n",
       " ('136.0', '290.0'): np.float64(0.75),\n",
       " ('148.0', '306.0'): np.float64(0.68),\n",
       " ('53.0', '312.0'): np.float64(0.23),\n",
       " ('16.0', '291.0'): np.float64(0.56),\n",
       " ('271.0', '305.0'): np.float64(0.53),\n",
       " ('262.0', '298.0'): np.float64(0.89),\n",
       " ('80.0', '301.0'): np.float64(0.58),\n",
       " ('19.0', '311.0'): np.float64(0.11),\n",
       " ('60.0', '310.0'): np.float64(0.68),\n",
       " ('225.0', '290.0'): np.float64(0.86),\n",
       " ('85.0', '305.0'): np.float64(0.84),\n",
       " ('1.0', '291.0'): np.float64(0.48),\n",
       " ('278.0', '299.0'): np.float64(0.37),\n",
       " ('219.0', '295.0'): np.float64(0.26),\n",
       " ('215.0', '290.0'): np.float64(0.29),\n",
       " ('241.0', '292.0'): np.float64(0.8),\n",
       " ('145.0', '289.0'): np.float64(0.32),\n",
       " ('243.0', '296.0'): np.float64(0.29),\n",
       " ('277.0', '305.0'): np.float64(0.13),\n",
       " ('39.0', '301.0'): np.float64(0.48),\n",
       " ('57.0', '314.0'): np.float64(0.63),\n",
       " ('25.0', '295.0'): np.float64(0.23),\n",
       " ('133.0', '312.0'): np.float64(0.42),\n",
       " ('124.0', '311.0'): np.float64(0.16),\n",
       " ('69.0', '310.0'): np.float64(0.19),\n",
       " ('65.0', '310.0'): np.float64(0.79),\n",
       " ('36.0', '315.0'): np.float64(0.3),\n",
       " ('182.0', '305.0'): np.float64(0.22),\n",
       " ('116.0', '307.0'): np.float64(0.21),\n",
       " ('225.0', '305.0'): np.float64(0.5),\n",
       " ('196.0', '313.0'): np.float64(0.5),\n",
       " ('206.0', '293.0'): np.float64(0.81),\n",
       " ('62.0', '295.0'): np.float64(0.13),\n",
       " ('284.0', '292.0'): np.float64(0.38),\n",
       " ('262.0', '313.0'): np.float64(0.41),\n",
       " ('278.0', '301.0'): np.float64(0.59),\n",
       " ('127.0', '312.0'): np.float64(0.12),\n",
       " ('53.0', '298.0'): np.float64(0.78),\n",
       " ('4.0', '309.0'): np.float64(0.47),\n",
       " ('126.0', '300.0'): np.float64(0.86),\n",
       " ('45.0', '312.0'): np.float64(0.53),\n",
       " ('234.0', '310.0'): np.float64(0.34),\n",
       " ('230.0', '299.0'): np.float64(0.23),\n",
       " ('145.0', '311.0'): np.float64(0.6),\n",
       " ('275.0', '313.0'): np.float64(0.11),\n",
       " ('79.0', '300.0'): np.float64(0.89),\n",
       " ('203.0', '304.0'): np.float64(0.8),\n",
       " ('207.0', '300.0'): np.float64(0.21),\n",
       " ('262.0', '291.0'): np.float64(0.44),\n",
       " ('152.0', '313.0'): np.float64(0.57),\n",
       " ('141.0', '294.0'): np.float64(0.74),\n",
       " ('119.0', '292.0'): np.float64(0.41),\n",
       " ('42.0', '296.0'): np.float64(0.5),\n",
       " ('16.0', '311.0'): np.float64(0.16),\n",
       " ('232.0', '310.0'): np.float64(0.47),\n",
       " ('271.0', '312.0'): np.float64(0.8),\n",
       " ('139.0', '308.0'): np.float64(0.4),\n",
       " ('86.0', '301.0'): np.float64(0.62),\n",
       " ('29.0', '293.0'): np.float64(0.81),\n",
       " ('161.0', '295.0'): np.float64(0.14),\n",
       " ('282.0', '303.0'): np.float64(0.55),\n",
       " ('116.0', '295.0'): np.float64(0.12),\n",
       " ('229.0', '290.0'): np.float64(0.42),\n",
       " ('123.0', '313.0'): np.float64(0.9),\n",
       " ('271.0', '310.0'): np.float64(0.32),\n",
       " ('11.0', '299.0'): np.float64(0.25),\n",
       " ('62.0', '313.0'): np.float64(0.8),\n",
       " ('101.0', '301.0'): np.float64(0.37),\n",
       " ('113.0', '302.0'): np.float64(0.6),\n",
       " ('264.0', '303.0'): np.float64(0.35),\n",
       " ('31.0', '296.0'): np.float64(0.18),\n",
       " ('250.0', '290.0'): np.float64(0.83),\n",
       " ('30.0', '293.0'): np.float64(0.6),\n",
       " ('129.0', '314.0'): np.float64(0.41),\n",
       " ('254.0', '301.0'): np.float64(0.38),\n",
       " ('15.0', '310.0'): np.float64(0.86),\n",
       " ('14.0', '294.0'): np.float64(0.89),\n",
       " ('72.0', '311.0'): np.float64(0.57),\n",
       " ('30.0', '302.0'): np.float64(0.28),\n",
       " ('103.0', '305.0'): np.float64(0.41),\n",
       " ('3.0', '305.0'): np.float64(0.27),\n",
       " ('98.0', '298.0'): np.float64(0.2),\n",
       " ('242.0', '304.0'): np.float64(0.5),\n",
       " ('166.0', '304.0'): np.float64(0.72),\n",
       " ('39.0', '290.0'): np.float64(0.85),\n",
       " ('21.0', '299.0'): np.float64(0.82),\n",
       " ('264.0', '313.0'): np.float64(0.57),\n",
       " ('34.0', '314.0'): np.float64(0.47),\n",
       " ('28.0', '297.0'): np.float64(0.22),\n",
       " ('193.0', '304.0'): np.float64(0.42),\n",
       " ('260.0', '303.0'): np.float64(0.29),\n",
       " ('286.0', '313.0'): np.float64(0.8),\n",
       " ('247.0', '315.0'): np.float64(0.45),\n",
       " ('57.0', '306.0'): np.float64(0.21),\n",
       " ('254.0', '309.0'): np.float64(0.46),\n",
       " ('1.0', '304.0'): np.float64(0.67),\n",
       " ('112.0', '301.0'): np.float64(0.49),\n",
       " ('183.0', '299.0'): np.float64(0.37),\n",
       " ('224.0', '305.0'): np.float64(0.85),\n",
       " ('260.0', '311.0'): np.float64(0.7),\n",
       " ('171.0', '290.0'): np.float64(0.77),\n",
       " ('84.0', '310.0'): np.float64(0.71),\n",
       " ('133.0', '294.0'): np.float64(0.23),\n",
       " ('199.0', '308.0'): np.float64(0.26),\n",
       " ('162.0', '303.0'): np.float64(0.18),\n",
       " ('260.0', '296.0'): np.float64(0.72),\n",
       " ('212.0', '299.0'): np.float64(0.25),\n",
       " ('48.0', '299.0'): np.float64(0.71),\n",
       " ('242.0', '302.0'): np.float64(0.15),\n",
       " ('111.0', '296.0'): np.float64(0.33),\n",
       " ('126.0', '305.0'): np.float64(0.27),\n",
       " ('91.0', '292.0'): np.float64(0.89),\n",
       " ('74.0', '314.0'): np.float64(0.26),\n",
       " ('215.0', '294.0'): np.float64(0.58),\n",
       " ('263.0', '301.0'): np.float64(0.71),\n",
       " ('217.0', '311.0'): np.float64(0.16),\n",
       " ('104.0', '289.0'): np.float64(0.85),\n",
       " ('184.0', '303.0'): np.float64(0.83),\n",
       " ('108.0', '291.0'): np.float64(0.67),\n",
       " ('148.0', '313.0'): np.float64(0.81),\n",
       " ('246.0', '290.0'): np.float64(0.61),\n",
       " ('73.0', '299.0'): np.float64(0.6),\n",
       " ('54.0', '311.0'): np.float64(0.68),\n",
       " ('188.0', '301.0'): np.float64(0.2),\n",
       " ('12.0', '308.0'): np.float64(0.41),\n",
       " ('64.0', '312.0'): np.float64(0.42),\n",
       " ('257.0', '299.0'): np.float64(0.51),\n",
       " ('255.0', '311.0'): np.float64(0.49),\n",
       " ('178.0', '311.0'): np.float64(0.72),\n",
       " ('239.0', '294.0'): np.float64(0.35),\n",
       " ('181.0', '312.0'): np.float64(0.71),\n",
       " ('105.0', '290.0'): np.float64(0.5),\n",
       " ('88.0', '308.0'): np.float64(0.71),\n",
       " ('263.0', '307.0'): np.float64(0.56),\n",
       " ('155.0', '303.0'): np.float64(0.63),\n",
       " ('102.0', '306.0'): np.float64(0.31),\n",
       " ('95.0', '295.0'): np.float64(0.36),\n",
       " ('43.0', '290.0'): np.float64(0.84),\n",
       " ('234.0', '291.0'): np.float64(0.39),\n",
       " ('130.0', '306.0'): np.float64(0.75),\n",
       " ('246.0', '297.0'): np.float64(0.17),\n",
       " ('19.0', '314.0'): np.float64(0.55),\n",
       " ('24.0', '310.0'): np.float64(0.49),\n",
       " ('273.0', '297.0'): np.float64(0.83),\n",
       " ('248.0', '307.0'): np.float64(0.54),\n",
       " ('69.0', '296.0'): np.float64(0.82),\n",
       " ('241.0', '294.0'): np.float64(0.89),\n",
       " ('33.0', '290.0'): np.float64(0.6),\n",
       " ('86.0', '292.0'): np.float64(0.24),\n",
       " ('241.0', '306.0'): np.float64(0.52),\n",
       " ('195.0', '289.0'): np.float64(0.7),\n",
       " ('70.0', '314.0'): np.float64(0.46),\n",
       " ('55.0', '302.0'): np.float64(0.45),\n",
       " ('234.0', '307.0'): np.float64(0.34),\n",
       " ('118.0', '312.0'): np.float64(0.78),\n",
       " ('176.0', '295.0'): np.float64(0.24),\n",
       " ('38.0', '297.0'): np.float64(0.48),\n",
       " ('237.0', '307.0'): np.float64(0.78),\n",
       " ('232.0', '299.0'): np.float64(0.37),\n",
       " ('7.0', '300.0'): np.float64(0.43),\n",
       " ('22.0', '310.0'): np.float64(0.48),\n",
       " ('280.0', '303.0'): np.float64(0.88),\n",
       " ('213.0', '294.0'): np.float64(0.58),\n",
       " ('64.0', '301.0'): np.float64(0.32),\n",
       " ('235.0', '308.0'): np.float64(0.88),\n",
       " ('234.0', '297.0'): np.float64(0.75),\n",
       " ('127.0', '295.0'): np.float64(0.87),\n",
       " ('5.0', '301.0'): np.float64(0.7),\n",
       " ('156.0', '304.0'): np.float64(0.33),\n",
       " ('52.0', '309.0'): np.float64(0.7),\n",
       " ('34.0', '298.0'): np.float64(0.83),\n",
       " ('216.0', '306.0'): np.float64(0.78),\n",
       " ('197.0', '310.0'): np.float64(0.88),\n",
       " ('208.0', '289.0'): np.float64(0.36),\n",
       " ('61.0', '315.0'): np.float64(0.59),\n",
       " ('142.0', '293.0'): np.float64(0.41),\n",
       " ('211.0', '311.0'): np.float64(0.33),\n",
       " ('142.0', '305.0'): np.float64(0.39),\n",
       " ('190.0', '308.0'): np.float64(0.51),\n",
       " ('120.0', '310.0'): np.float64(0.62),\n",
       " ('116.0', '293.0'): np.float64(0.41),\n",
       " ('12.0', '310.0'): np.float64(0.28),\n",
       " ('244.0', '293.0'): np.float64(0.66),\n",
       " ('24.0', '293.0'): np.float64(0.55),\n",
       " ('283.0', '303.0'): np.float64(0.57),\n",
       " ('270.0', '306.0'): np.float64(0.6),\n",
       " ('234.0', '304.0'): np.float64(0.73),\n",
       " ('1.0', '299.0'): np.float64(0.43),\n",
       " ('32.0', '303.0'): np.float64(0.28),\n",
       " ('280.0', '311.0'): np.float64(0.65),\n",
       " ('34.0', '309.0'): np.float64(0.13),\n",
       " ('6.0', '300.0'): np.float64(0.69),\n",
       " ('43.0', '306.0'): np.float64(0.22),\n",
       " ('225.0', '299.0'): np.float64(0.2),\n",
       " ('72.0', '304.0'): np.float64(0.17),\n",
       " ('132.0', '295.0'): np.float64(0.32),\n",
       " ('70.0', '309.0'): np.float64(0.19),\n",
       " ('70.0', '294.0'): np.float64(0.53),\n",
       " ('268.0', '291.0'): np.float64(0.57),\n",
       " ('238.0', '294.0'): np.float64(0.23),\n",
       " ('288.0', '293.0'): np.float64(0.13),\n",
       " ('81.0', '314.0'): np.float64(0.16),\n",
       " ('73.0', '292.0'): np.float64(0.16),\n",
       " ('154.0', '290.0'): np.float64(0.24),\n",
       " ('239.0', '304.0'): np.float64(0.5),\n",
       " ('14.0', '306.0'): np.float64(0.25),\n",
       " ('32.0', '296.0'): np.float64(0.33),\n",
       " ('285.0', '299.0'): np.float64(0.37),\n",
       " ('33.0', '296.0'): np.float64(0.16),\n",
       " ('90.0', '306.0'): np.float64(0.67),\n",
       " ('99.0', '304.0'): np.float64(0.29),\n",
       " ('260.0', '299.0'): np.float64(0.84),\n",
       " ('275.0', '309.0'): np.float64(0.74),\n",
       " ('173.0', '297.0'): np.float64(0.25),\n",
       " ('44.0', '291.0'): np.float64(0.68),\n",
       " ('136.0', '295.0'): np.float64(0.41),\n",
       " ('47.0', '315.0'): np.float64(0.26),\n",
       " ('272.0', '296.0'): np.float64(0.23),\n",
       " ('218.0', '315.0'): np.float64(0.76),\n",
       " ('129.0', '302.0'): np.float64(0.76),\n",
       " ('64.0', '311.0'): np.float64(0.88),\n",
       " ('52.0', '302.0'): np.float64(0.63),\n",
       " ('62.0', '289.0'): np.float64(0.41),\n",
       " ('263.0', '312.0'): np.float64(0.11),\n",
       " ('246.0', '289.0'): np.float64(0.68),\n",
       " ('252.0', '300.0'): np.float64(0.54),\n",
       " ('138.0', '305.0'): np.float64(0.46),\n",
       " ('101.0', '294.0'): np.float64(0.28),\n",
       " ('184.0', '302.0'): np.float64(0.62),\n",
       " ('10.0', '303.0'): np.float64(0.6),\n",
       " ('135.0', '289.0'): np.float64(0.35),\n",
       " ('145.0', '313.0'): np.float64(0.77),\n",
       " ('130.0', '302.0'): np.float64(0.39),\n",
       " ('271.0', '294.0'): np.float64(0.15),\n",
       " ('121.0', '291.0'): np.float64(0.17),\n",
       " ('71.0', '309.0'): np.float64(0.39),\n",
       " ('270.0', '300.0'): np.float64(0.32),\n",
       " ('167.0', '295.0'): np.float64(0.17),\n",
       " ('144.0', '309.0'): np.float64(0.39),\n",
       " ('139.0', '305.0'): np.float64(0.41),\n",
       " ('86.0', '299.0'): np.float64(0.4),\n",
       " ('202.0', '295.0'): np.float64(0.64),\n",
       " ('226.0', '297.0'): np.float64(0.1),\n",
       " ('143.0', '289.0'): np.float64(0.71),\n",
       " ('59.0', '290.0'): np.float64(0.77),\n",
       " ('263.0', '308.0'): np.float64(0.67),\n",
       " ('199.0', '304.0'): np.float64(0.17),\n",
       " ('158.0', '300.0'): np.float64(0.42),\n",
       " ('212.0', '297.0'): np.float64(0.75),\n",
       " ('177.0', '298.0'): np.float64(0.75),\n",
       " ('286.0', '293.0'): np.float64(0.12),\n",
       " ('87.0', '291.0'): np.float64(0.79),\n",
       " ('229.0', '314.0'): np.float64(0.88),\n",
       " ('19.0', '309.0'): np.float64(0.62),\n",
       " ('9.0', '301.0'): np.float64(0.63),\n",
       " ('165.0', '297.0'): np.float64(0.83),\n",
       " ('227.0', '311.0'): np.float64(0.74),\n",
       " ('152.0', '315.0'): np.float64(0.77),\n",
       " ('115.0', '306.0'): np.float64(0.29),\n",
       " ('101.0', '290.0'): np.float64(0.13),\n",
       " ('259.0', '300.0'): np.float64(0.7),\n",
       " ('195.0', '298.0'): np.float64(0.7),\n",
       " ('192.0', '291.0'): np.float64(0.1),\n",
       " ('152.0', '291.0'): np.float64(0.24),\n",
       " ('213.0', '311.0'): np.float64(0.28),\n",
       " ('34.0', '307.0'): np.float64(0.13),\n",
       " ('163.0', '291.0'): np.float64(0.79),\n",
       " ('48.0', '308.0'): np.float64(0.64),\n",
       " ('249.0', '305.0'): np.float64(0.12),\n",
       " ('54.0', '294.0'): np.float64(0.13),\n",
       " ('15.0', '313.0'): np.float64(0.8),\n",
       " ('125.0', '296.0'): np.float64(0.56),\n",
       " ('39.0', '311.0'): np.float64(0.37),\n",
       " ('200.0', '292.0'): np.float64(0.78),\n",
       " ('175.0', '315.0'): np.float64(0.67),\n",
       " ('103.0', '306.0'): np.float64(0.47),\n",
       " ('85.0', '296.0'): np.float64(0.47),\n",
       " ('129.0', '298.0'): np.float64(0.75),\n",
       " ('270.0', '311.0'): np.float64(0.65),\n",
       " ('125.0', '307.0'): np.float64(0.88),\n",
       " ('27.0', '303.0'): np.float64(0.86),\n",
       " ('216.0', '312.0'): np.float64(0.51),\n",
       " ('144.0', '299.0'): np.float64(0.21),\n",
       " ('210.0', '308.0'): np.float64(0.27),\n",
       " ('73.0', '294.0'): np.float64(0.79),\n",
       " ('43.0', '301.0'): np.float64(0.26),\n",
       " ('211.0', '315.0'): np.float64(0.54),\n",
       " ('89.0', '304.0'): np.float64(0.63),\n",
       " ('104.0', '305.0'): np.float64(0.42),\n",
       " ('94.0', '312.0'): np.float64(0.54),\n",
       " ('3.0', '300.0'): np.float64(0.87),\n",
       " ('196.0', '305.0'): np.float64(0.47),\n",
       " ('226.0', '290.0'): np.float64(0.47),\n",
       " ('59.0', '313.0'): np.float64(0.68),\n",
       " ('151.0', '304.0'): np.float64(0.62),\n",
       " ('4.0', '289.0'): np.float64(0.72),\n",
       " ('117.0', '306.0'): np.float64(0.82),\n",
       " ('243.0', '293.0'): np.float64(0.3),\n",
       " ('222.0', '310.0'): np.float64(0.5),\n",
       " ('224.0', '311.0'): np.float64(0.16),\n",
       " ('15.0', '291.0'): np.float64(0.63),\n",
       " ('205.0', '308.0'): np.float64(0.8),\n",
       " ('276.0', '298.0'): np.float64(0.69),\n",
       " ('257.0', '303.0'): np.float64(0.25),\n",
       " ('168.0', '310.0'): np.float64(0.3),\n",
       " ('237.0', '311.0'): np.float64(0.31),\n",
       " ('244.0', '306.0'): np.float64(0.32),\n",
       " ('64.0', '292.0'): np.float64(0.26),\n",
       " ('249.0', '303.0'): np.float64(0.17),\n",
       " ('191.0', '312.0'): np.float64(0.86),\n",
       " ('208.0', '295.0'): np.float64(0.23),\n",
       " ('183.0', '291.0'): np.float64(0.57),\n",
       " ('182.0', '294.0'): np.float64(0.21),\n",
       " ('220.0', '292.0'): np.float64(0.54),\n",
       " ('30.0', '306.0'): np.float64(0.31),\n",
       " ('221.0', '309.0'): np.float64(0.64),\n",
       " ('186.0', '311.0'): np.float64(0.3),\n",
       " ('124.0', '315.0'): np.float64(0.38),\n",
       " ('16.0', '301.0'): np.float64(0.59),\n",
       " ('98.0', '313.0'): np.float64(0.45),\n",
       " ('61.0', '308.0'): np.float64(0.59),\n",
       " ('26.0', '302.0'): np.float64(0.7),\n",
       " ('160.0', '300.0'): np.float64(0.6),\n",
       " ('7.0', '296.0'): np.float64(0.56),\n",
       " ('55.0', '297.0'): np.float64(0.34),\n",
       " ('121.0', '311.0'): np.float64(0.36),\n",
       " ('247.0', '308.0'): np.float64(0.27),\n",
       " ('217.0', '313.0'): np.float64(0.61),\n",
       " ('112.0', '311.0'): np.float64(0.89),\n",
       " ('55.0', '295.0'): np.float64(0.51),\n",
       " ('278.0', '307.0'): np.float64(0.77),\n",
       " ('127.0', '301.0'): np.float64(0.62),\n",
       " ('233.0', '304.0'): np.float64(0.78),\n",
       " ('162.0', '315.0'): np.float64(0.28),\n",
       " ('213.0', '303.0'): np.float64(0.68),\n",
       " ('11.0', '300.0'): np.float64(0.48),\n",
       " ('191.0', '301.0'): np.float64(0.89),\n",
       " ('23.0', '292.0'): np.float64(0.64),\n",
       " ('42.0', '315.0'): np.float64(0.21),\n",
       " ('86.0', '293.0'): np.float64(0.63),\n",
       " ('225.0', '296.0'): np.float64(0.24),\n",
       " ('229.0', '297.0'): np.float64(0.8),\n",
       " ('49.0', '295.0'): np.float64(0.46),\n",
       " ('203.0', '309.0'): np.float64(0.13),\n",
       " ('267.0', '304.0'): np.float64(0.34),\n",
       " ('193.0', '301.0'): np.float64(0.23),\n",
       " ('79.0', '304.0'): np.float64(0.41),\n",
       " ('139.0', '309.0'): np.float64(0.53)}"
      ]
     },
     "execution_count": 42,
     "metadata": {},
     "output_type": "execute_result"
    }
   ],
   "source": [
    "# Aquí puedes explorar los parámetros\n"
   ]
  },
  {
   "cell_type": "markdown",
   "metadata": {
    "deletable": false,
    "editable": false,
    "nbgrader": {
     "cell_type": "markdown",
     "checksum": "c4dd3c4455cf458fb1ea62d106d31f22",
     "grade": false,
     "grade_id": "cell-6a54ae7e4899ef1",
     "locked": true,
     "schema_version": 3,
     "solution": false,
     "task": false
    },
    "tags": []
   },
   "source": [
    "## Modelado\n",
    "---"
   ]
  },
  {
   "cell_type": "markdown",
   "metadata": {
    "deletable": false,
    "editable": false,
    "nbgrader": {
     "cell_type": "markdown",
     "checksum": "32046f7ed4b359dfe697449072da98c0",
     "grade": false,
     "grade_id": "cell-ebebd9c7c932a295",
     "locked": true,
     "schema_version": 3,
     "solution": false,
     "task": false
    }
   },
   "source": [
    "### Declaración del modelo"
   ]
  },
  {
   "cell_type": "markdown",
   "metadata": {
    "deletable": false,
    "editable": false,
    "nbgrader": {
     "cell_type": "markdown",
     "checksum": "f6383c5e4234ae66b804cff6a0647716",
     "grade": false,
     "grade_id": "cell-8516e22fa27f2003",
     "locked": true,
     "schema_version": 3,
     "solution": false,
     "task": false
    }
   },
   "source": [
    "**Pregunta 1 (5 puntos)**\n",
    "* Crea un objeto modelo en PuLP (`lp.LpProblem`) llamado `problema`\n",
    "* Indica el sentido de la optimización: maximizar o minimizar"
   ]
  },
  {
   "cell_type": "code",
   "execution_count": null,
   "metadata": {
    "deletable": false,
    "nbgrader": {
     "cell_type": "code",
     "checksum": "b0c527e786c9bac2249441df0284c7b2",
     "grade": false,
     "grade_id": "cell-fd80958f29b1ce79",
     "locked": false,
     "schema_version": 3,
     "solution": true,
     "task": false
    }
   },
   "outputs": [],
   "source": [
    "# your code here\n"
   ]
  },
  {
   "cell_type": "code",
   "execution_count": null,
   "metadata": {
    "deletable": false,
    "editable": false,
    "nbgrader": {
     "cell_type": "code",
     "checksum": "11018fa5e7c097ac3fa7a123027be203",
     "grade": true,
     "grade_id": "cell-9416bada00deeca6",
     "locked": true,
     "points": 5,
     "schema_version": 3,
     "solution": false,
     "task": false
    }
   },
   "outputs": [],
   "source": [
    "# Esta celda esta reservada para uso del equipo docente"
   ]
  },
  {
   "cell_type": "code",
   "execution_count": null,
   "metadata": {
    "deletable": false,
    "editable": false,
    "nbgrader": {
     "cell_type": "code",
     "checksum": "595a40a1b0472a9f42fccfcdb2ba8840",
     "grade": true,
     "grade_id": "cell-c803ed9be70b93f5",
     "locked": true,
     "points": 0,
     "schema_version": 3,
     "solution": false,
     "task": false
    }
   },
   "outputs": [],
   "source": [
    "# Esta celda esta reservada para uso del equipo docente"
   ]
  },
  {
   "cell_type": "markdown",
   "metadata": {
    "deletable": false,
    "editable": false,
    "nbgrader": {
     "cell_type": "markdown",
     "checksum": "aca0fe7a82e0fc983e3ad4939e33245b",
     "grade": false,
     "grade_id": "cell-032e2c76bf498b03",
     "locked": true,
     "schema_version": 3,
     "solution": false,
     "task": false
    }
   },
   "source": [
    "### Variables de decisión\n",
    "`# Para desarrollo del estudiante`"
   ]
  },
  {
   "cell_type": "markdown",
   "metadata": {
    "deletable": false,
    "editable": false,
    "nbgrader": {
     "cell_type": "markdown",
     "checksum": "0c7313a4347373e0ca50702d69c616ec",
     "grade": false,
     "grade_id": "cell-f65f0518e0ed7f83",
     "locked": true,
     "schema_version": 3,
     "solution": false,
     "task": false
    }
   },
   "source": [
    "**Pregunta 2 (10 puntos)**\n",
    "* Crea las variables del modelo: `x`, usando el método `lp.LpVariable.dicts()`\n",
    "* Especifica el nombre de la variable como `'flujo'` con el argumento `name`\n",
    "* Especifica los índices de las variables con el argumento `indexs`\n",
    "* Especifica el tipo de variable con el argumento `cat`\n",
    "* Especifica la cota inferior de las variables en 0"
   ]
  },
  {
   "cell_type": "code",
   "execution_count": null,
   "metadata": {
    "deletable": false,
    "nbgrader": {
     "cell_type": "code",
     "checksum": "ab5e00ae238ee7447e922f50d4ab63da",
     "grade": false,
     "grade_id": "cell-99a591a1d53d748a",
     "locked": false,
     "schema_version": 3,
     "solution": true,
     "task": false
    }
   },
   "outputs": [],
   "source": [
    "# your code here\n"
   ]
  },
  {
   "cell_type": "code",
   "execution_count": null,
   "metadata": {
    "deletable": false,
    "editable": false,
    "nbgrader": {
     "cell_type": "code",
     "checksum": "b0409a1d5b66b103d914b1415e3c0638",
     "grade": true,
     "grade_id": "cell-9466bada00deeca6",
     "locked": true,
     "points": 10,
     "schema_version": 3,
     "solution": false,
     "task": false
    }
   },
   "outputs": [],
   "source": [
    "# Esta celda esta reservada para uso del equipo docente"
   ]
  },
  {
   "cell_type": "code",
   "execution_count": null,
   "metadata": {
    "deletable": false,
    "editable": false,
    "nbgrader": {
     "cell_type": "code",
     "checksum": "64d543c6ce6e6cae036f16ea633e6a12",
     "grade": true,
     "grade_id": "cell-be539dab72a2d6cc",
     "locked": true,
     "points": 0,
     "schema_version": 3,
     "solution": false,
     "task": false
    }
   },
   "outputs": [],
   "source": [
    "# Esta celda esta reservada para uso del equipo docente"
   ]
  },
  {
   "cell_type": "markdown",
   "metadata": {
    "deletable": false,
    "editable": false,
    "nbgrader": {
     "cell_type": "markdown",
     "checksum": "5d1292af3dbc0addb5514a6b7d6ce9e3",
     "grade": false,
     "grade_id": "cell-747431c6a3556e72",
     "locked": true,
     "schema_version": 3,
     "solution": false,
     "task": false
    }
   },
   "source": [
    "### Función Objetivo\n",
    "\n",
    "> Maximizar el incremento mensual total esperado luego de ofrecer las migraciones de productos a los clientes.\n",
    ">> `# Para desarrollo del estudiante`"
   ]
  },
  {
   "cell_type": "markdown",
   "metadata": {
    "deletable": false,
    "editable": false,
    "nbgrader": {
     "cell_type": "markdown",
     "checksum": "558a484681703d7e536a8be14fcaaf0c",
     "grade": false,
     "grade_id": "cell-b64840b7a4a8e5db",
     "locked": true,
     "schema_version": 3,
     "solution": false,
     "task": false
    }
   },
   "source": [
    "**Pregunta 3 (10 puntos)**\n",
    "* Crea la función objetivo y agrégala al modelo `problema`"
   ]
  },
  {
   "cell_type": "code",
   "execution_count": null,
   "metadata": {
    "deletable": false,
    "nbgrader": {
     "cell_type": "code",
     "checksum": "8bb6f72a8c91aae0e34791c37280a20d",
     "grade": false,
     "grade_id": "cell-f5b0b482a6b58e84",
     "locked": false,
     "schema_version": 3,
     "solution": true,
     "task": false
    }
   },
   "outputs": [],
   "source": [
    "# your code here\n"
   ]
  },
  {
   "cell_type": "code",
   "execution_count": null,
   "metadata": {
    "deletable": false,
    "editable": false,
    "nbgrader": {
     "cell_type": "code",
     "checksum": "58b7787bd9e9fb5bb657d8fa4150fa8b",
     "grade": true,
     "grade_id": "cell-b515915c40556735",
     "locked": true,
     "points": 10,
     "schema_version": 3,
     "solution": false,
     "task": false
    }
   },
   "outputs": [],
   "source": [
    "# Esta celda esta reservada para uso del equipo docente"
   ]
  },
  {
   "cell_type": "code",
   "execution_count": null,
   "metadata": {
    "deletable": false,
    "editable": false,
    "nbgrader": {
     "cell_type": "code",
     "checksum": "06b793dae99e11f47e6c9da2acddadba",
     "grade": true,
     "grade_id": "cell-50cee558e7e712cc",
     "locked": true,
     "points": 0,
     "schema_version": 3,
     "solution": false,
     "task": false
    }
   },
   "outputs": [],
   "source": [
    "# Esta celda esta reservada para uso del equipo docente"
   ]
  },
  {
   "cell_type": "markdown",
   "metadata": {
    "deletable": false,
    "editable": false,
    "nbgrader": {
     "cell_type": "markdown",
     "checksum": "a3806f913035d2abb4ab5ac2c190e585",
     "grade": false,
     "grade_id": "cell-d6fa9f15b71fb4ce",
     "locked": true,
     "schema_version": 3,
     "solution": false,
     "task": false
    }
   },
   "source": [
    "### Restricciones\n",
    "\n",
    "____\n",
    "**Ejemplo**\n",
    "> La siguiente restricción: $\\sum_{i \\in I} a_{ij} x_{ij} \\geq 1, \\; \\forall j \\in J$ es equivalente a:\n",
    ">    * `for j in J:`\n",
    ">        * `model += lp.lpSum(a[i,j]*x[i,j] for i in I) >= 1, 'R1_'+str(j)`\n",
    "    \n",
    "**Advertencia**: En `pulp` no es recomendable sobreescribir restricciones, entonces, si ya creaste una restricción y quieres crearla de nuevo para corregir algo, asegúrate de volver a crear el modelo `problema` desde el principio. (Nosotros haremos esto antes de calificar, no te preocupes)"
   ]
  },
  {
   "cell_type": "markdown",
   "metadata": {
    "deletable": false,
    "editable": false,
    "nbgrader": {
     "cell_type": "markdown",
     "checksum": "9e581afa57369015235fd67204a35ea7",
     "grade": false,
     "grade_id": "cell-86c8f6a10453dfdb",
     "locked": true,
     "schema_version": 3,
     "solution": false,
     "task": false
    }
   },
   "source": [
    "**Pregunta 4 (20 puntos)**\n",
    "\n",
    "* Crea la siguiente restricción, asígnale el nombre `'R1_'+str(<indice_del_para_todo>)` y añádela al modelo:\n",
    "\n",
    "> 1. **Restricciones de balance**: las unidades que salgan de un nodo menos las unidades que entren al mismo deben ser iguales al parámetro $b_i$ de dicho nodo. En términos del problema, a todos los clientes, según sus productos actuales, se les deben hacer una oferta hacia los productos nuevos. Luego, las ofertas para los productos nuevos deben fluir hacia el nodo ficticio que se asegura que haya una oferta para todos los clientes.\n",
    ">> `# Para desarrollo del estudiante`\n",
    "\n",
    "* **Nota**: La creación de estas restricciones puede tomar algunos segundos\n",
    "\n",
    "* **Advertencia**: para esta primera formulación (Preguntas 1 a 5) se sigue la convención vista en el vídeo teórico para la oferta/demanda de cada nodo:\n",
    "\n",
    "> $b_{i} = \\begin{cases} > 0, & \\text{si } i \\in N \\text{ es un nodo de oferta} \n",
    "    \\\\ 0, & \\text{si } i \\in N \\text{ es un nodo de transbordo} \n",
    "    \\\\ < 0, & \\text{si } i \\in N \\text{ es un nodo de demanda} \\end{cases}$\n",
    "\n",
    "> Ten en cuenta que esta convención cambia en la segunda parte del laboratorio (Preguntas 6 a 9) debido a que usamos una librería especializada (Google OR-Tools). Más adelante, encontrarás una advertencia sobre este cambio (Pregunta 8)."
   ]
  },
  {
   "cell_type": "code",
   "execution_count": null,
   "metadata": {
    "deletable": false,
    "nbgrader": {
     "cell_type": "code",
     "checksum": "24246b7124defa857e6c60fd7178cc66",
     "grade": false,
     "grade_id": "cell-4a354a29e40b7fa1",
     "locked": false,
     "schema_version": 3,
     "solution": true,
     "task": false
    }
   },
   "outputs": [],
   "source": [
    "# your code here\n"
   ]
  },
  {
   "cell_type": "code",
   "execution_count": null,
   "metadata": {
    "deletable": false,
    "editable": false,
    "nbgrader": {
     "cell_type": "code",
     "checksum": "29b930e5870e8ffa88944b2619069444",
     "grade": true,
     "grade_id": "cell-0a9abc8dc51352eb",
     "locked": true,
     "points": 20,
     "schema_version": 3,
     "solution": false,
     "task": false
    }
   },
   "outputs": [],
   "source": [
    "# Esta celda esta reservada para uso del equipo docente"
   ]
  },
  {
   "cell_type": "markdown",
   "metadata": {
    "deletable": false,
    "editable": false,
    "nbgrader": {
     "cell_type": "markdown",
     "checksum": "d9f7b1a28bcf4091f98109470fd76193",
     "grade": false,
     "grade_id": "cell-96fe008cf9b06b73",
     "locked": true,
     "schema_version": 3,
     "solution": false,
     "task": false
    }
   },
   "source": [
    "**Pregunta 5 (5 puntos)**\n",
    "\n",
    "* Crea la siguiente restricción, asígnale el nombre `'R2_'+str(<indice_del_para_todo>)` y añádela al modelo:\n",
    "\n",
    "> 2. **Restricciones de cota**: las ofertas de migración a los nuevos productos no pueden superar el tope permitido.\n",
    ">> `# Para desarrollo del estudiante`\n",
    "\n",
    "**Nota:** en caso de usar arcos, no debes concatenar el origen y el destino. Trata el par $(i, j)$ como un único índice."
   ]
  },
  {
   "cell_type": "code",
   "execution_count": null,
   "metadata": {
    "deletable": false,
    "nbgrader": {
     "cell_type": "code",
     "checksum": "7c849b672d951ca5591d7af73c5d2f0c",
     "grade": false,
     "grade_id": "cell-ad150714164588cc",
     "locked": false,
     "schema_version": 3,
     "solution": true,
     "task": false
    }
   },
   "outputs": [],
   "source": [
    "# your code here\n"
   ]
  },
  {
   "cell_type": "code",
   "execution_count": null,
   "metadata": {
    "deletable": false,
    "editable": false,
    "nbgrader": {
     "cell_type": "code",
     "checksum": "c1d7deee455ac9a9c9261106cb4d0d9b",
     "grade": true,
     "grade_id": "cell-e59fa24cb6763298",
     "locked": true,
     "points": 5,
     "schema_version": 3,
     "solution": false,
     "task": false
    }
   },
   "outputs": [],
   "source": [
    "# Esta celda esta reservada para uso del equipo docente"
   ]
  },
  {
   "cell_type": "code",
   "execution_count": null,
   "metadata": {
    "deletable": false,
    "editable": false,
    "nbgrader": {
     "cell_type": "code",
     "checksum": "04327b129ede6156537a6f50dedace88",
     "grade": true,
     "grade_id": "cell-852cae9567dbdf14",
     "locked": true,
     "points": 0,
     "schema_version": 3,
     "solution": false,
     "task": false
    }
   },
   "outputs": [],
   "source": [
    "# Esta celda esta reservada para uso del equipo docente"
   ]
  },
  {
   "cell_type": "markdown",
   "metadata": {
    "deletable": false,
    "editable": false,
    "nbgrader": {
     "cell_type": "markdown",
     "checksum": "a729e898b79c4dd67605738555ce62bb",
     "grade": false,
     "grade_id": "cell-31445d212bcb279b",
     "locked": true,
     "schema_version": 3,
     "solution": false,
     "task": false
    }
   },
   "source": [
    "### Invocar el optimizador\n",
    "\n",
    "El modelo puede tomar algunos segundos en correr.\n",
    "Cabe resaltar que, a pesar de haber definido las variables como continuas, dada la estructura de red de la formulación y los parámetros enteros del problema ($b_i,u_{ij}$), podemos esperar soluciones enteras sin necesidad de recurrir a *Branch & Bound*! El modelo correrá en muy poco tiempo."
   ]
  },
  {
   "cell_type": "code",
   "execution_count": null,
   "metadata": {
    "deletable": false,
    "editable": false,
    "nbgrader": {
     "cell_type": "code",
     "checksum": "2eefbb4a03abf809cc80f715fcf64b7d",
     "grade": false,
     "grade_id": "cell-b924c09dcdd338ad",
     "locked": true,
     "schema_version": 3,
     "solution": false,
     "task": false
    }
   },
   "outputs": [],
   "source": [
    "print(lp.LpStatus[problema.solve()])"
   ]
  },
  {
   "cell_type": "markdown",
   "metadata": {
    "deletable": false,
    "editable": false,
    "nbgrader": {
     "cell_type": "markdown",
     "checksum": "6ce17df280f160726c71dc94accbf45b",
     "grade": false,
     "grade_id": "cell-b1766f2e759f8b12",
     "locked": true,
     "schema_version": 3,
     "solution": false,
     "task": false
    },
    "tags": []
   },
   "source": [
    "## Reporte de resultados\n",
    "---"
   ]
  },
  {
   "cell_type": "markdown",
   "metadata": {
    "deletable": false,
    "editable": false,
    "nbgrader": {
     "cell_type": "markdown",
     "checksum": "020fe0fe7b3b1c51e3adca8b2953eb9d",
     "grade": false,
     "grade_id": "cell-1422f3d782be0722",
     "locked": true,
     "schema_version": 3,
     "solution": false,
     "task": false
    }
   },
   "source": [
    "**Función objetivo**"
   ]
  },
  {
   "cell_type": "code",
   "execution_count": null,
   "metadata": {
    "deletable": false,
    "editable": false,
    "nbgrader": {
     "cell_type": "code",
     "checksum": "385ee6bcc18aa784f5f4e17023cbd060",
     "grade": false,
     "grade_id": "cell-183da130dfd9a1ed",
     "locked": true,
     "schema_version": 3,
     "solution": false,
     "task": false
    }
   },
   "outputs": [],
   "source": [
    "obj = lp.value(problema.objective)\n",
    "print(f\"\\nIngreso Adicional Mensual Esperado = {obj / 1e6: .3f} Millones de USD\")"
   ]
  },
  {
   "cell_type": "markdown",
   "metadata": {
    "deletable": false,
    "editable": false,
    "nbgrader": {
     "cell_type": "markdown",
     "checksum": "9b6f6f7a0f5fcdd5b642c4ba9afd290a",
     "grade": false,
     "grade_id": "cell-a555aa82ea3aa20c",
     "locked": true,
     "schema_version": 3,
     "solution": false,
     "task": false
    }
   },
   "source": [
    "**Número total de ofertas para cada producto del nuevo portafolio**"
   ]
  },
  {
   "cell_type": "code",
   "execution_count": null,
   "metadata": {
    "deletable": false,
    "editable": false,
    "nbgrader": {
     "cell_type": "code",
     "checksum": "809d41e036d6ad898adcc7d1b031964b",
     "grade": false,
     "grade_id": "cell-372f8a04f0dd45d7",
     "locked": true,
     "schema_version": 3,
     "solution": false,
     "task": false
    },
    "tags": []
   },
   "outputs": [],
   "source": [
    "total = {}\n",
    "for i in Nodos:\n",
    "    if i[-1] == \"_\":\n",
    "        val = x[i, \"Total\"].value()\n",
    "        total[i, \"Total\"] = val\n",
    "        print(f\"Producto {i} -> {val}\")"
   ]
  },
  {
   "cell_type": "markdown",
   "metadata": {
    "deletable": false,
    "editable": false,
    "nbgrader": {
     "cell_type": "markdown",
     "checksum": "e54b08d06d00365a5e7c3df723819f26",
     "grade": false,
     "grade_id": "cell-0254q0b1f475a1b0",
     "locked": true,
     "schema_version": 3,
     "solution": false,
     "task": false
    }
   },
   "source": [
    "**Ofertas a los clientes de los productos actuales**\n",
    "\n",
    "En el siguiente `DataFrame` se pueden consultar las ofertas que se hacen a los clientes de cada producto.\n",
    "En las **filas** se tienen los productos actuales y en las **columnas** se tienen los productos del nuevo portafolio.\n",
    "Cada celda puede ser:\n",
    "* `<int>`: El número indica la cantidad de ofertas del producto actual (fila) para migrar al producto del nuevo portafolio (columna)\n",
    "* `-`: Significa que no se hacen ofertas para esta migración (toma valor de $0$)\n",
    "* `X`: Significa que esta migración se eliminó por la condición sobre los minutos, navegación o cargo mensual."
   ]
  },
  {
   "cell_type": "code",
   "execution_count": null,
   "metadata": {
    "deletable": false,
    "editable": false,
    "nbgrader": {
     "cell_type": "code",
     "checksum": "44d158f30fe07943efccbb758c8d5063",
     "grade": false,
     "grade_id": "cell-ar28a5b61394b3cb",
     "locked": true,
     "schema_version": 3,
     "solution": false,
     "task": false
    }
   },
   "outputs": [],
   "source": [
    "matrix, matrix2 = [], []\n",
    "for i in [a for a in Nodos if ((a[-1] != \"_\") & (a != \"Total\"))]:\n",
    "    row, row2 = [], []\n",
    "    for j in [b for b in Nodos if b[-1] == \"_\"]:\n",
    "        e = (i, j)\n",
    "        if e in Arcos:\n",
    "            if x[e].value() > 0:\n",
    "                row.append(x[e].value())\n",
    "                row2.append(x[e].value())\n",
    "            else:\n",
    "                row.append(\"-\")\n",
    "                row2.append(0)\n",
    "        else:\n",
    "            row.append(\"X\")\n",
    "            row2.append(0)\n",
    "    matrix.append(row)\n",
    "    matrix2.append(row2)\n",
    "\n",
    "df = pd.DataFrame(\n",
    "    matrix,\n",
    "    index=[a for a in Nodos if ((a[-1] != \"_\") & (a != \"Total\"))],\n",
    "    columns=[b for b in Nodos if b[-1] == \"_\"],\n",
    ")\n",
    "df.head()"
   ]
  },
  {
   "cell_type": "markdown",
   "metadata": {
    "deletable": false,
    "editable": false,
    "nbgrader": {
     "cell_type": "markdown",
     "checksum": "3cfa3a50bfb1b13b88cee0b15041778e",
     "grade": false,
     "grade_id": "cell-599ae39d809ad096",
     "locked": true,
     "schema_version": 3,
     "solution": false,
     "task": false
    }
   },
   "source": [
    "**Productos actuales con ofertas a múltiples productos del nuevo portafolio**"
   ]
  },
  {
   "cell_type": "code",
   "execution_count": null,
   "metadata": {
    "deletable": false,
    "editable": false,
    "nbgrader": {
     "cell_type": "code",
     "checksum": "64c803c87fe472339683f796fd5060ea",
     "grade": false,
     "grade_id": "cell-16b5af86c924ad34",
     "locked": true,
     "schema_version": 3,
     "solution": false,
     "task": false
    }
   },
   "outputs": [],
   "source": [
    "a1, a2 = [], []\n",
    "for i, j in Arcos:\n",
    "    if j[-1] == \"_\":\n",
    "        if x[i, j].value() > 0 and x[i, j].value() != b[i]:\n",
    "            if i not in a1:\n",
    "                a1.append(i)\n",
    "            if j not in a2:\n",
    "                a2.append(j)\n",
    "df.loc[a1, a2]"
   ]
  },
  {
   "cell_type": "markdown",
   "metadata": {
    "deletable": false,
    "editable": false,
    "nbgrader": {
     "cell_type": "markdown",
     "checksum": "9c79210c247dd38479b114add6f598b3",
     "grade": false,
     "grade_id": "cell-fd6a91wb23723db3",
     "locked": true,
     "schema_version": 3,
     "solution": false,
     "task": false
    },
    "tags": []
   },
   "source": [
    "## Uso de Google OR-Tools\n",
    "---\n",
    "Queremos usar este problema para ilustrar el uso de herramientas diferentes a `PuLP` para resolver problemas con herramientas especializadas en menor tiempo.\n",
    "\n",
    "En este caso, tenemos un problema de **Flujo de costo mínimo**. Ya vimos que lo podemos resolver con las herramientas que hemos venido utilizando. Sin embargo, este problema se ha estudiado por varias disciplinas (e.g., teoría de grafos) y existen implementaciones en Python con mejoras algorítmicas sustanciales.\n",
    "\n",
    "**Google OR-Tools** es una API de acceso público de Google para resolver problemas de optimización. Cuentan con un algoritmo especializado en problemas de **Flujo de costo mínimo el cual** utilizaremos a continuación. Cuando usamos una nueva herramienta, es útil leer algo de documentación: https://developers.google.com/optimization/flow/mincostflow. Así conoceremos la forma correcta de entregarle los datos a nuestro algoritmo y qué comandos usar para construir el modelo."
   ]
  },
  {
   "cell_type": "markdown",
   "metadata": {
    "deletable": false,
    "editable": false,
    "nbgrader": {
     "cell_type": "markdown",
     "checksum": "6f89afae37c1ca7fba07487ce578f62e",
     "grade": false,
     "grade_id": "cell-4d1e6ec1708487f1",
     "locked": true,
     "schema_version": 3,
     "solution": false,
     "task": false
    }
   },
   "source": [
    "### Preprocesamiento\n",
    "\n",
    "El primer paso es procesar los datos al formato que espera nuestra herramienta.\n",
    "Luego de leer la documentación, comprobamos que debemos crear los nodos y arcos uno a uno con sus respectivos atributos y que los nodos solo pueden tener `int` como nombres, no se permite `str`. Por esto debemos crear dos diccionarios que nos permitan asignar nombres `int` a los nombres de los nodos que tenemos actualmente y viceversa:"
   ]
  },
  {
   "cell_type": "code",
   "execution_count": null,
   "metadata": {},
   "outputs": [],
   "source": [
    "nodos_dict = {i: name for name, i in enumerate(b.keys())}\n",
    "nodos_dict2 = {name: i for name, i in enumerate(b.keys())}"
   ]
  },
  {
   "cell_type": "markdown",
   "metadata": {
    "deletable": false,
    "editable": false,
    "nbgrader": {
     "cell_type": "markdown",
     "checksum": "605da5363d849a82b4583bc2b6a8d959",
     "grade": false,
     "grade_id": "cell-4fd1acefd3830fdb",
     "locked": true,
     "schema_version": 3,
     "solution": false,
     "task": false
    }
   },
   "source": [
    "Para facilitar la creación de nodos y arcos en esta herramienta, se deben crear listas de tuplas con los nombres y atributos de nodos y arcos.\n"
   ]
  },
  {
   "cell_type": "markdown",
   "metadata": {
    "deletable": false,
    "editable": false,
    "nbgrader": {
     "cell_type": "markdown",
     "checksum": "44bd93a90da1f96008ca644fdd35e288",
     "grade": false,
     "grade_id": "cell-28f6077cf2e00669",
     "locked": true,
     "schema_version": 3,
     "solution": false,
     "task": false
    }
   },
   "source": [
    "**Pregunta 6 (5 puntos)**\n",
    "\n",
    "* Crea una lista de nodos `lista_nodos` donde cada elemento debe ser una tupla `(nodos_dict[i], -b_i)`, que contiene el nombre codificado y el parámetro de oferta/demanda correspondiente de cada nodo\n",
    "\n",
    "> **Advertencia:** Nota que la tupla contiene a `-b_i` con signo negativo. Esto es porque las restricciones los signos de las restricciones de balance están invertidos en esta herramienta respecto a la formulación que hicimos anteriormente."
   ]
  },
  {
   "cell_type": "code",
   "execution_count": null,
   "metadata": {
    "deletable": false,
    "nbgrader": {
     "cell_type": "code",
     "checksum": "794e1f7a0b348b07fe0345c2497efec9",
     "grade": false,
     "grade_id": "cell-6a5e86c2a14014ec",
     "locked": false,
     "schema_version": 3,
     "solution": true,
     "task": false
    }
   },
   "outputs": [],
   "source": [
    "# your code here\n"
   ]
  },
  {
   "cell_type": "code",
   "execution_count": null,
   "metadata": {
    "deletable": false,
    "editable": false,
    "nbgrader": {
     "cell_type": "code",
     "checksum": "08f46193738b930e617a021d497a08ee",
     "grade": true,
     "grade_id": "cell-e59fa44cb6763298",
     "locked": true,
     "points": 5,
     "schema_version": 3,
     "solution": false,
     "task": false
    }
   },
   "outputs": [],
   "source": [
    "# Esta celda esta reservada para uso del equipo docente"
   ]
  },
  {
   "cell_type": "code",
   "execution_count": null,
   "metadata": {
    "deletable": false,
    "editable": false,
    "nbgrader": {
     "cell_type": "code",
     "checksum": "a123985a58dd7f43ff2e9da327cbd8b1",
     "grade": true,
     "grade_id": "cell-1642540721873c86",
     "locked": true,
     "points": 0,
     "schema_version": 3,
     "solution": false,
     "task": false
    }
   },
   "outputs": [],
   "source": [
    "# Esta celda esta reservada para uso del equipo docente"
   ]
  },
  {
   "cell_type": "markdown",
   "metadata": {
    "deletable": false,
    "editable": false,
    "nbgrader": {
     "cell_type": "markdown",
     "checksum": "43bf26ee10bdef003a45204d32f4965b",
     "grade": false,
     "grade_id": "cell-7ca803ac88d8e88b",
     "locked": true,
     "schema_version": 3,
     "solution": false,
     "task": false
    }
   },
   "source": [
    "**Pregunta 7 (10 puntos)**\n",
    "\n",
    "* Crea una lista de arcos `lista_arcos` donde cada elemento debe ser una tupla `(nodos_dict[i],nodos_dict[j],u_ij,-int(c_ij*100))`, que contiene el nombre codificado de los nodos del arco, la capacidad del arco y el costo unitario del arco respectivamente.\n",
    "\n",
    "> **Advertencia:** Nota que la tupla contiene a `-int(c_ij*100)`, en lugar de `c_ij`. Esto es por dos razones. Primero, el sentido del problema anterior era de maximización; el algoritmo que usaremos es por defecto de minimización. Notese que es equivalente maximizar un costo a minimizar el mismo costo con signo negativo. Esto explica el signo negativo. Segundo, OR-Tools no permite valores continuos `float` en el costo de los arcos. Por esto, debemos multiplicar por 100 para conservar los 2 decimales antes de convertir a `int`. Luego de resolver el problema, dividiremos nuevamente por esta cantidad para obtener el costo correcto sin perder decimales en el camino."
   ]
  },
  {
   "cell_type": "code",
   "execution_count": null,
   "metadata": {
    "deletable": false,
    "nbgrader": {
     "cell_type": "code",
     "checksum": "9e1b84bfa4718e2ff1aafa8b41752f30",
     "grade": false,
     "grade_id": "cell-0a76494d12120d1b",
     "locked": false,
     "schema_version": 3,
     "solution": true,
     "task": false
    }
   },
   "outputs": [],
   "source": [
    "# your code here\n"
   ]
  },
  {
   "cell_type": "code",
   "execution_count": null,
   "metadata": {
    "deletable": false,
    "editable": false,
    "nbgrader": {
     "cell_type": "code",
     "checksum": "9a0d9fcc06f5e4c19f82698cacf98833",
     "grade": true,
     "grade_id": "cell-e59fa44cb6713298",
     "locked": true,
     "points": 10,
     "schema_version": 3,
     "solution": false,
     "task": false
    }
   },
   "outputs": [],
   "source": [
    "# Esta celda esta reservada para uso del equipo docente"
   ]
  },
  {
   "cell_type": "code",
   "execution_count": null,
   "metadata": {
    "deletable": false,
    "editable": false,
    "nbgrader": {
     "cell_type": "code",
     "checksum": "cc2b2a76d8343440707b7df3e125a6aa",
     "grade": true,
     "grade_id": "cell-f22b150839821bae",
     "locked": true,
     "points": 0,
     "schema_version": 3,
     "solution": false,
     "task": false
    }
   },
   "outputs": [],
   "source": [
    "# Esta celda esta reservada para uso del equipo docente"
   ]
  },
  {
   "cell_type": "markdown",
   "metadata": {
    "deletable": false,
    "editable": false,
    "nbgrader": {
     "cell_type": "markdown",
     "checksum": "7601e11df8c9325063b4370ee0f8d556",
     "grade": false,
     "grade_id": "cell-70e869262e832d8b",
     "locked": true,
     "schema_version": 3,
     "solution": false,
     "task": false
    }
   },
   "source": [
    "### Modelado\n",
    "\n",
    "Para empezar, importamos la librería correspondiente y creamos el objeto modelo vacío."
   ]
  },
  {
   "cell_type": "code",
   "execution_count": null,
   "metadata": {
    "deletable": false,
    "editable": false,
    "nbgrader": {
     "cell_type": "code",
     "checksum": "6a5ea60e2881a4d3c45e9b8a53e40695",
     "grade": false,
     "grade_id": "cell-6b60d3f1ca179dd3",
     "locked": true,
     "schema_version": 3,
     "solution": false,
     "task": false
    }
   },
   "outputs": [],
   "source": [
    "from ortools.graph.python import min_cost_flow\n",
    "\n",
    "mcf = min_cost_flow.SimpleMinCostFlow()"
   ]
  },
  {
   "cell_type": "markdown",
   "metadata": {
    "deletable": false,
    "editable": false,
    "nbgrader": {
     "cell_type": "markdown",
     "checksum": "d9f7c6d177a17c8abe6441c837342802",
     "grade": false,
     "grade_id": "cell-6cd1b35bd216ccfd",
     "locked": true,
     "schema_version": 3,
     "solution": false,
     "task": false
    }
   },
   "source": [
    "**Pregunta 8 (15 puntos)**\n",
    "\n",
    "El siguiente paso es **crear los nodos**.\n",
    "\n",
    "Para esto se usará el método `mcf.set_node_supply(node, supply)`\n",
    "\n",
    "* Dentro de un bucle `for` recorre los elementos de `lista_nodos`. Por cada elemento usa el método `mcf.set_node_supply` y especifica los argumentos `node` y `supply` como el nombre codificado y el parámetro oferta/demanda respectivamente."
   ]
  },
  {
   "cell_type": "code",
   "execution_count": null,
   "metadata": {
    "deletable": false,
    "nbgrader": {
     "cell_type": "code",
     "checksum": "cf9317d825d915cee5ca7e57326d84fe",
     "grade": false,
     "grade_id": "cell-41937f288941afba",
     "locked": false,
     "schema_version": 3,
     "solution": true,
     "task": false
    }
   },
   "outputs": [],
   "source": [
    "# your code here\n"
   ]
  },
  {
   "cell_type": "code",
   "execution_count": null,
   "metadata": {
    "deletable": false,
    "editable": false,
    "nbgrader": {
     "cell_type": "code",
     "checksum": "91a1d1480f13c3c30c03ada53f0ab864",
     "grade": true,
     "grade_id": "cell-e19fa44cb6763298",
     "locked": true,
     "points": 15,
     "schema_version": 3,
     "solution": false,
     "task": false
    }
   },
   "outputs": [],
   "source": [
    "# Esta celda esta reservada para uso del equipo docente"
   ]
  },
  {
   "cell_type": "markdown",
   "metadata": {
    "deletable": false,
    "editable": false,
    "nbgrader": {
     "cell_type": "markdown",
     "checksum": "e600bc745be37393c47e475f4df36284",
     "grade": false,
     "grade_id": "cell-46385b0f93170141",
     "locked": true,
     "schema_version": 3,
     "solution": false,
     "task": false
    }
   },
   "source": [
    "**Pregunta 9 (20 puntos)**\n",
    "\n",
    "Ahora debemos **crear los arcos**.\n",
    "\n",
    "Para esto se usará el método `mcf.add_arc_with_capacity_and_unit_cost(head, tail, capacity, unit_cost)`\n",
    "\n",
    "* Dentro de un bucle `for` recorre los elementos de `lista_arcos`. Por cada elemento usa el método `mcf.add_arc_with_capacity_and_unit_cost` y especifica los argumentos `head`, `tail`, `capacity` y `unit_cost` como los nombres codificados de los nodos, la capacidad del arco y el costo unitario del arco respectivamente."
   ]
  },
  {
   "cell_type": "code",
   "execution_count": null,
   "metadata": {
    "deletable": false,
    "nbgrader": {
     "cell_type": "code",
     "checksum": "79969a9d1471bc4e4a41de4f5fe5e8f6",
     "grade": false,
     "grade_id": "cell-3f24705c57f03403",
     "locked": false,
     "schema_version": 3,
     "solution": true,
     "task": false
    }
   },
   "outputs": [],
   "source": [
    "# your code here\n"
   ]
  },
  {
   "cell_type": "code",
   "execution_count": null,
   "metadata": {
    "deletable": false,
    "editable": false,
    "nbgrader": {
     "cell_type": "code",
     "checksum": "d7e25e58e6eeb119eaaf486d71ab6852",
     "grade": true,
     "grade_id": "cell-e59fa43cb6763298",
     "locked": true,
     "points": 20,
     "schema_version": 3,
     "solution": false,
     "task": false
    }
   },
   "outputs": [],
   "source": [
    "# Esta celda esta reservada para uso del equipo docente"
   ]
  },
  {
   "cell_type": "code",
   "execution_count": null,
   "metadata": {
    "deletable": false,
    "editable": false,
    "nbgrader": {
     "cell_type": "code",
     "checksum": "a9d6df2978f1b430524c9f46073b4f9b",
     "grade": true,
     "grade_id": "cell-996bfaa5a540f14e",
     "locked": true,
     "points": 0,
     "schema_version": 3,
     "solution": false,
     "task": false
    }
   },
   "outputs": [],
   "source": [
    "# Esta celda esta reservada para uso del equipo docente"
   ]
  },
  {
   "cell_type": "markdown",
   "metadata": {
    "deletable": false,
    "editable": false,
    "nbgrader": {
     "cell_type": "markdown",
     "checksum": "ee4314b2b46ea2c2c2e0d4a33a313ca3",
     "grade": false,
     "grade_id": "cell-777647630b0c3c4c",
     "locked": true,
     "schema_version": 3,
     "solution": false,
     "task": false
    }
   },
   "source": [
    "¡Ahora solo queda invocar el algoritmo!"
   ]
  },
  {
   "cell_type": "code",
   "execution_count": null,
   "metadata": {
    "deletable": false,
    "editable": false,
    "nbgrader": {
     "cell_type": "code",
     "checksum": "e2ed7b17932ed6be817f056abbfe1508",
     "grade": false,
     "grade_id": "cell-0137a608faec67a4",
     "locked": true,
     "schema_version": 3,
     "solution": false,
     "task": false
    }
   },
   "outputs": [],
   "source": [
    "status = mcf.solve()\n",
    "print(status == mcf.OPTIMAL)"
   ]
  },
  {
   "cell_type": "markdown",
   "metadata": {
    "deletable": false,
    "editable": false,
    "nbgrader": {
     "cell_type": "markdown",
     "checksum": "6ac6e289dbfccf97f5fa7193fa1e26b5",
     "grade": false,
     "grade_id": "cell-7cf53289fde650b9",
     "locked": true,
     "schema_version": 3,
     "solution": false,
     "task": false
    }
   },
   "source": [
    "### Reporte de resultados"
   ]
  },
  {
   "cell_type": "markdown",
   "metadata": {
    "deletable": false,
    "editable": false,
    "nbgrader": {
     "cell_type": "markdown",
     "checksum": "16b924d02122826e23208422dacdda1b",
     "grade": false,
     "grade_id": "cell-d0c0edc2835bddff",
     "locked": true,
     "schema_version": 3,
     "solution": false,
     "task": false
    }
   },
   "source": [
    "Podemos verificar a continuación que el valor de la función objetivo es igual a la implementación anterior con `PuLP`."
   ]
  },
  {
   "cell_type": "markdown",
   "metadata": {
    "deletable": false,
    "editable": false,
    "nbgrader": {
     "cell_type": "markdown",
     "checksum": "c2ef99f85de8224fb44c3d8ef1e72933",
     "grade": false,
     "grade_id": "cell-1422f3d782b10722",
     "locked": true,
     "schema_version": 3,
     "solution": false,
     "task": false
    }
   },
   "source": [
    "**Función objetivo**"
   ]
  },
  {
   "cell_type": "code",
   "execution_count": null,
   "metadata": {
    "deletable": false,
    "editable": false,
    "nbgrader": {
     "cell_type": "code",
     "checksum": "71540695025641d6a9320349a35da672",
     "grade": false,
     "grade_id": "cell-a046aff0f9a0bd44",
     "locked": true,
     "schema_version": 3,
     "solution": false,
     "task": false
    }
   },
   "outputs": [],
   "source": [
    "obj = -mcf.optimal_cost() / 1e2\n",
    "print(f\"\\nIngreso Adicional Mensual Esperado = {obj / 1e6: .3f} Millones de USD\")"
   ]
  },
  {
   "cell_type": "markdown",
   "metadata": {
    "deletable": false,
    "editable": false,
    "nbgrader": {
     "cell_type": "markdown",
     "checksum": "a14c894f87a5f9972867f8f2b74c3cec",
     "grade": false,
     "grade_id": "cell-2c2fb80e771376f9",
     "locked": true,
     "schema_version": 3,
     "solution": false,
     "task": false
    }
   },
   "source": [
    "Antes de revisar los valores de las variables, decodificamos los flujos a los nombres que hemos venido usando anteriormente"
   ]
  },
  {
   "cell_type": "code",
   "execution_count": null,
   "metadata": {
    "deletable": false,
    "editable": false,
    "nbgrader": {
     "cell_type": "code",
     "checksum": "d30c4872d922d905b3072230a8f9dae7",
     "grade": false,
     "grade_id": "cell-f37b31099722d33b",
     "locked": true,
     "schema_version": 3,
     "solution": false,
     "task": false
    }
   },
   "outputs": [],
   "source": [
    "flow = {\n",
    "    (\n",
    "        nodos_dict2[mcf.head(arc)],\n",
    "        nodos_dict2[mcf.tail(arc)],\n",
    "    ): mcf.flow(arc)\n",
    "    for arc in range(mcf.num_arcs())\n",
    "}"
   ]
  },
  {
   "cell_type": "markdown",
   "metadata": {
    "deletable": false,
    "editable": false,
    "nbgrader": {
     "cell_type": "markdown",
     "checksum": "7f43f85d858ad19c5a70121f8e557294",
     "grade": false,
     "grade_id": "cell-12d56ee7e4d29a73",
     "locked": true,
     "schema_version": 3,
     "solution": false,
     "task": false
    }
   },
   "source": [
    "**Número total de ofertas para cada producto del nuevo portafolio**"
   ]
  },
  {
   "cell_type": "code",
   "execution_count": null,
   "metadata": {
    "deletable": false,
    "editable": false,
    "nbgrader": {
     "cell_type": "code",
     "checksum": "862d82f7890676862c3e7a66ca035114",
     "grade": false,
     "grade_id": "cell-fa2b750f032d7928",
     "locked": true,
     "schema_version": 3,
     "solution": false,
     "task": false
    },
    "tags": []
   },
   "outputs": [],
   "source": [
    "total = {}\n",
    "for i in Nodos:\n",
    "    if i[-1] == \"_\":\n",
    "        val = flow[i, \"Total\"]\n",
    "        total[i, \"Total\"] = val\n",
    "        print(f\"Producto {i} -> {val}\")"
   ]
  },
  {
   "cell_type": "markdown",
   "metadata": {
    "deletable": false,
    "editable": false,
    "nbgrader": {
     "cell_type": "markdown",
     "checksum": "1a082448571188e3a3b26071c534f914",
     "grade": false,
     "grade_id": "cell-0254q0b1f475a1b1",
     "locked": true,
     "schema_version": 3,
     "solution": false,
     "task": false
    }
   },
   "source": [
    "**Ofertas a los clientes de los productos actuales**"
   ]
  },
  {
   "cell_type": "code",
   "execution_count": null,
   "metadata": {
    "deletable": false,
    "editable": false,
    "nbgrader": {
     "cell_type": "code",
     "checksum": "ebffac2fd2591e8913f31d3332bc6791",
     "grade": false,
     "grade_id": "cell-ar28a5b62394b3cb",
     "locked": true,
     "schema_version": 3,
     "solution": false,
     "task": false
    }
   },
   "outputs": [],
   "source": [
    "matrix, matrix2 = [], []\n",
    "for i in [a for a in Nodos if ((a[-1] != \"_\") & (a != \"Total\"))]:\n",
    "    row, row2 = [], []\n",
    "    for j in [b for b in Nodos if b[-1] == \"_\"]:\n",
    "        e = (i, j)\n",
    "        if e in Arcos:\n",
    "            if flow[e] > 0:\n",
    "                row.append(flow[e])\n",
    "                row2.append(flow[e])\n",
    "            else:\n",
    "                row.append(\"-\")\n",
    "                row2.append(0)\n",
    "        else:\n",
    "            row.append(\"X\")\n",
    "            row2.append(0)\n",
    "    matrix.append(row)\n",
    "    matrix2.append(row2)\n",
    "\n",
    "df = pd.DataFrame(\n",
    "    matrix,\n",
    "    index=[a for a in Nodos if ((a[-1] != \"_\") & (a != \"Total\"))],\n",
    "    columns=[b for b in Nodos if b[-1] == \"_\"],\n",
    ")\n",
    "df.head()"
   ]
  },
  {
   "cell_type": "markdown",
   "metadata": {
    "deletable": false,
    "editable": false,
    "nbgrader": {
     "cell_type": "markdown",
     "checksum": "94cf65dfb257eee3b94178faf3500263",
     "grade": false,
     "grade_id": "cell-d919cfaeb89dad95",
     "locked": true,
     "schema_version": 3,
     "solution": false,
     "task": false
    }
   },
   "source": [
    "**Productos actuales con ofertas a múltiples productos del nuevo portafolio**"
   ]
  },
  {
   "cell_type": "code",
   "execution_count": null,
   "metadata": {
    "deletable": false,
    "editable": false,
    "nbgrader": {
     "cell_type": "code",
     "checksum": "ebf623d428253f8bf8307a89ede182d0",
     "grade": false,
     "grade_id": "cell-0ea7d11cf5522ebc",
     "locked": true,
     "schema_version": 3,
     "solution": false,
     "task": false
    }
   },
   "outputs": [],
   "source": [
    "a1, a2 = [], []\n",
    "for i, j in Arcos:\n",
    "    if j[-1] == \"_\":\n",
    "        if flow[i, j] > 0 and flow[i, j] != b[i]:\n",
    "            if i not in a1:\n",
    "                a1.append(i)\n",
    "            if j not in a2:\n",
    "                a2.append(j)\n",
    "df.loc[a1, a2]"
   ]
  }
 ],
 "metadata": {
  "kernelspec": {
   "display_name": "Python 3",
   "language": "python",
   "name": "python3"
  },
  "language_info": {
   "codemirror_mode": {
    "name": "ipython",
    "version": 3
   },
   "file_extension": ".py",
   "mimetype": "text/x-python",
   "name": "python",
   "nbconvert_exporter": "python",
   "pygments_lexer": "ipython3",
   "version": "3.13.7"
  },
  "toc-autonumbering": false,
  "toc-showcode": false,
  "toc-showmarkdowntxt": false,
  "toc-showtags": false
 },
 "nbformat": 4,
 "nbformat_minor": 5
}
