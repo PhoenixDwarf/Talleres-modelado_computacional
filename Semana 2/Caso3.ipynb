{
 "cells": [
  {
   "cell_type": "markdown",
   "metadata": {
    "deletable": false,
    "editable": false,
    "nbgrader": {
     "cell_type": "markdown",
     "checksum": "2d0c517e80d6622c963d8e8dac2ae32e",
     "grade": false,
     "grade_id": "cell-e8fa9269aba80c31",
     "locked": true,
     "schema_version": 3,
     "solution": false,
     "task": false
    }
   },
   "source": [
    "# Caso 3: Selección y Programación de Proyectos I\n",
    "\n",
    "---\n"
   ]
  },
  {
   "cell_type": "markdown",
   "metadata": {
    "deletable": false,
    "editable": false,
    "nbgrader": {
     "cell_type": "markdown",
     "checksum": "5821bcce260e4b57679a1add3b70f2ee",
     "grade": false,
     "grade_id": "cell-e0edc45fa7ffec66",
     "locked": true,
     "schema_version": 3,
     "solution": false,
     "task": false
    }
   },
   "source": [
    "## Instrucciones generales\n",
    "\n",
    "El primer paso antes de resolver este laboratorio es leer y entender el **enunciado del caso**. Una vez tengas claro el caso, te explicamos la estructura de este laboratorio (los demás laboratorios siguen una estrucutra similar). \n",
    "\n",
    "Este laboratorio tiene las siguientes secciones: \n",
    "* **Formulación**: un breve resumen del modelo con notación matemática y descripción de sus componentes\n",
    "* **Importación de librerías**\n",
    "* **Creación de parámetros**\n",
    "* **Modelado**: aquí implementamos el modelo visto en la formulación (aquí encontrarás por lo general celdas de código que debes completar, ¡nosotros te guiaremos en el proceso!)\n",
    "* **Reporte de Resultados**: esta sección nos muestra las soluciones encontradas por el modelo y, en ocasiones, algunas visualizaciones interesantes para entenderlo mejor. (es posible que en ciertas prácticas debas completar algunas celdas también)\n",
    "\n",
    "Este tipo de actividades se evaluará sobre un total de 100 puntos. Las celdas calificables se distinguen por tener la instrucción `# your code here`. Antes de estas celdas  encontrarás instrucciones y consejos para resolver las preguntas, también el puntaje que le corresponde.\n",
    "\n",
    "¡Éxitos!"
   ]
  },
  {
   "cell_type": "markdown",
   "metadata": {
    "deletable": false,
    "editable": false,
    "nbgrader": {
     "cell_type": "markdown",
     "checksum": "f7aa9879c50e853561dbbe79236f72a7",
     "grade": false,
     "grade_id": "cell-9fbd2d9c824c07a3",
     "locked": true,
     "schema_version": 3,
     "solution": false,
     "task": false
    }
   },
   "source": [
    "## Formulación\n",
    "---\n",
    "\n",
    "Te presentamos la formulación del caso de la semana de forma resumida. Te recomendamos revisar la formulación una vez hayas leído el enunciado del caso. Es bueno que te familiarices con los elementos de la formulación antes de iniciar la implementación.\n",
    "\n",
    "### Conjuntos y Parámetros\n",
    ">#### **Conjuntos**\n",
    ">* $P$: conjunto de pozos candidatos\n",
    ">* $T$: conjunto de periodos (años) en el horizonte de planeación\n",
    "\n",
    ">#### **Parámetros**\n",
    ">* $n$: máximo número de pozos a perforar en el horizonte de planeación\n",
    ">* $b$: presupuesto total de la compañía para la realización de proyectos\n",
    ">* $s$: número de operarios disponibles por año\n",
    ">* $u$: número de generadores disponibles por año\n",
    ">* $p_i$: promedio diario (miles de barriles) de crudo producidos en el pozo $i\\in P$\n",
    ">* $o_i$: operarios requeridos para perforar el pozo $i\\in P$\n",
    ">* $g_i$: generadores requeridos para perforar el pozo $i\\in P$\n",
    ">* $m_t$: meta de producción (miles de barriles) promedio diaria para el año $t\\in T$\n",
    ">* $v_{it}$: utilidad esperada por perforar el pozo $i\\in P$ en el año $t\\in T$\n",
    ">* $c_{it}$: costo por perforar el pozo $i\\in P$ en el año $t\\in T$\n",
    "\n",
    "\n",
    "### Variables de Decisión\n",
    "> $x_{it} = \\begin{cases}1, & \\text{si el pozo} \\, i\\in P \\text{ se perfora en el año} \\, t\\in T \\\\ 0, & \\text{de lo contrario}\\end{cases}$\n",
    "\n",
    "\n",
    "### Restricciones\n",
    "> 1. Un pozo se explota máximo una vez en el horizonte de planeación\n",
    ">> $\\sum_{t\\in T}x_{it} \\, \\leq \\, 1, \\; \\forall i\\in P$\n",
    "> 2. La inversión total no puede superar el presupuesto\n",
    ">>$\\sum_{t\\in T}\\sum_{i\\in P}c_{it}x_{it} \\, \\leq \\, b$\n",
    "> 3. Las metas de producción (en miles de barriles diarios) deben ser cumplidas\n",
    ">>$\\sum_{i\\in P}p_i x_{it} \\, \\geq \\, m_t \\; \\forall t\\in T$\n",
    "> 4. No se debe exceder la cantidad de operarios disponibles\n",
    ">> *# Para desarrollo del estudiante*\n",
    "> 5. No se debe exceder la cantidad de generadores disponibles\n",
    ">> *# Para desarrollo del estudiante*\n",
    "> 6. No se debe exceder la cantidad de pozos perforados impuesta por el gobierno\n",
    ">> *# Para desarrollo del estudiante*\n",
    "\n",
    ">\n",
    "> **Naturaleza de las variables**\n",
    ">> $x_{it} \\in \\{0,1\\}, \\; \\forall i\\in P, t\\in T$\n",
    "\n",
    "### Función Objetivo\n",
    "> Maximizar las utilidades totales por perforar pozos durante el horizonte de pleaneación\n",
    ">> $ \\max \\; \\sum_{t\\in T}\\sum_{i\\in P}v_{it}x_{it}$"
   ]
  },
  {
   "cell_type": "markdown",
   "id": "f735917b",
   "metadata": {},
   "source": [
    "## Explicación de las Expresiones Matemáticas\n",
    "\n",
    "---\n",
    "\n",
    "### **Variables de Decisión**\n",
    "La variable $x_{it}$ es binaria (toma valores 0 o 1) y representa si el pozo $i$ se perfora en el año $t$:\n",
    "- $x_{it} = 1$: Se decide perforar el pozo $i$ en el año $t$\n",
    "- $x_{it} = 0$: No se perfora el pozo $i$ en el año $t$\n",
    "\n",
    "### **Restricciones Explicadas**\n",
    "\n",
    "**1. Restricción de unicidad de perforación:**\n",
    "$$\\sum_{t\\in T}x_{it} \\, \\leq \\, 1, \\; \\forall i\\in P$$\n",
    "- **Significado**: Para cada pozo $i$, la suma de todas las decisiones de perforación a través del tiempo debe ser máximo 1\n",
    "- **Interpretación**: Un pozo puede perforarse máximo una vez durante todo el horizonte de planeación (no se puede perforar el mismo pozo en múltiples años)\n",
    "\n",
    "**2. Restricción de presupuesto:**\n",
    "$$\\sum_{t\\in T}\\sum_{i\\in P}c_{it}x_{it} \\, \\leq \\, b$$\n",
    "- **Significado**: La suma total de todos los costos de perforación no puede exceder el presupuesto disponible\n",
    "- **Interpretación**: El costo total de todos los proyectos seleccionados debe mantenerse dentro del límite financiero de la empresa\n",
    "\n",
    "**3. Restricción de metas de producción:**\n",
    "$$\\sum_{i\\in P}p_i x_{it} \\, \\geq \\, m_t \\; \\forall t\\in T$$\n",
    "- **Significado**: Para cada año $t$, la producción total de todos los pozos perforados debe cumplir o superar la meta establecida\n",
    "- **Interpretación**: La empresa debe garantizar que en cada año se alcance al menos el nivel mínimo de producción requerido\n",
    "\n",
    "### **Función Objetivo**\n",
    "$$\\max \\; \\sum_{t\\in T}\\sum_{i\\in P}v_{it}x_{it}$$\n",
    "- **Significado**: Maximizar la suma total de utilidades obtenidas por perforar pozos durante todo el horizonte de planeación\n",
    "- **Interpretación**: El objetivo es seleccionar qué pozos perforar y en qué años hacerlo para obtener el mayor beneficio económico posible\n",
    "\n",
    "### **Restricciones Pendientes de Desarrollo**\n",
    "Las restricciones 4, 5 y 6 siguen el mismo patrón:\n",
    "- **Restricción 4**: Limitar el uso de operarios por año (no exceder $s$ operarios disponibles)\n",
    "- **Restricción 5**: Limitar el uso de generadores por año (no exceder $u$ generadores disponibles)  \n",
    "- **Restricción 6**: Limitar el número total de pozos perforados (no exceder $n$ pozos en total)\n",
    "\n",
    "\n",
    "\n",
    "### **Formulación Completa de las Restricciones Faltantes**\n",
    "\n",
    "**4. Restricción de operarios disponibles:**\n",
    "$$\\sum_{i\\in P}o_i x_{it} \\, \\leq \\, s \\; \\forall t\\in T$$\n",
    "- **Significado**: Para cada año $t$, el número total de operarios requeridos por todos los pozos perforados no puede exceder la cantidad disponible\n",
    "- **Interpretación**: La empresa tiene un límite de operarios por año y debe asegurar que los proyectos seleccionados no excedan esta capacidad\n",
    "\n",
    "**5. Restricción de generadores disponibles:**\n",
    "$$\\sum_{i\\in P}g_i x_{it} \\, \\leq \\, u \\; \\forall t\\in T$$\n",
    "- **Significado**: Para cada año $t$, el número total de generadores requeridos por todos los pozos perforados no puede exceder la cantidad disponible\n",
    "- **Interpretación**: Similar a los operarios, existe una limitación en el número de generadores disponibles cada año\n",
    "\n",
    "**6. Restricción de máximo número de pozos:**\n",
    "$$\\sum_{t\\in T}\\sum_{i\\in P}x_{it} \\, \\leq \\, n$$\n",
    "- **Significado**: El número total de pozos perforados durante todo el horizonte de planeación no puede exceder el límite gubernamental\n",
    "- **Interpretación**: Existe una restricción ambiental/regulatoria que limita el número máximo de pozos que se pueden perforar en total\n"
   ]
  },
  {
   "cell_type": "markdown",
   "metadata": {
    "deletable": false,
    "editable": false,
    "nbgrader": {
     "cell_type": "markdown",
     "checksum": "e3c891b75a249e9e1597b62a22f668b2",
     "grade": false,
     "grade_id": "cell-db31881de45215f2",
     "locked": true,
     "schema_version": 3,
     "solution": false,
     "task": false
    }
   },
   "source": [
    "## Importación de librerías\n",
    "---\n",
    "\n",
    "Antes de empezar, es necesario importar los paquetes que vamos a utilizar durante la práctica.\n",
    "El paquete `pulp` permite crear modelos de optimización, crear variables, añadir restricciones y muchos más. Le asignamos el alias de `lp`.\n",
    "El paquete `pandas` es muy útil para el análisis de datos en general. Le asignamos el alias de `pd`.\n",
    "A lo largo del código, puedes corroborar que se usan estos paquetes cuando veas un objeto o método que empiece con los alias `lp.` o `pd.`"
   ]
  },
  {
   "cell_type": "code",
   "execution_count": 1,
   "metadata": {
    "deletable": false,
    "editable": false,
    "nbgrader": {
     "cell_type": "code",
     "checksum": "97ccf9ad9be5e4333b54cfb08fec26f2",
     "grade": false,
     "grade_id": "cell-8e960069c708e13f",
     "locked": true,
     "schema_version": 3,
     "solution": false,
     "task": false
    }
   },
   "outputs": [],
   "source": [
    "import pulp as lp  \n",
    "import pandas as pd"
   ]
  },
  {
   "cell_type": "code",
   "execution_count": null,
   "metadata": {},
   "outputs": [
    {
     "name": "stdout",
     "output_type": "stream",
     "text": [
      "Name: PuLP\n",
      "Version: 3.2.2\n",
      "Summary: PuLP is an LP modeler written in python. PuLP can generate MPS or LP files and call GLPK, COIN CLP/CBC, CPLEX, and GUROBI to solve linear problems.\n",
      "Home-page: \n",
      "Author: J.S. Roy\n",
      "Author-email: \"S.A. Mitchell\" <pulp@stuartmitchell.com>, Franco Peschiera <pchtsp@gmail.com>\n",
      "License: MIT\n",
      "Location: /home/edwin/.local/lib/python3.13/site-packages\n",
      "Requires: \n",
      "Required-by: \n"
     ]
    }
   ],
   "source": [
    "!pip show pulp"
   ]
  },
  {
   "cell_type": "markdown",
   "metadata": {
    "deletable": false,
    "editable": false,
    "nbgrader": {
     "cell_type": "markdown",
     "checksum": "a12d0a18eb694704c51ec95412f33912",
     "grade": false,
     "grade_id": "cell-685b1f71ce44c0b0",
     "locked": true,
     "schema_version": 3,
     "solution": false,
     "task": false
    }
   },
   "source": [
    "## Creación de Parámetros\n",
    "---"
   ]
  },
  {
   "cell_type": "markdown",
   "metadata": {
    "deletable": false,
    "editable": false,
    "nbgrader": {
     "cell_type": "markdown",
     "checksum": "167cd05f2ade2287911167fa2f8fc2d1",
     "grade": false,
     "grade_id": "cell-139d636ca944c8b5",
     "locked": true,
     "schema_version": 3,
     "solution": false,
     "task": false
    }
   },
   "source": [
    "### Conjuntos\n",
    "\n",
    "Para empezar, es necesario crear los conjuntos que vimos en la formulación. Esto nos permite indexar variables, crear sumatorias, múltiples restricciones y demás. \n",
    "\n",
    "En Python, los conjuntos son sencillamente listas (`list`) que contienen los elementos de cada conjunto, como en el caso de `Pozos`. En ocasiones, cuando el conjunto contiene números ordenados (`Tiempos`), utilizamos la función `range(desde, hasta)` que crea una secuencia de números rápidamente. \n",
    "\n",
    "También es posible que alguna variable o parámetro tengan múltiples índices. Para estos casos, creamos una lista de tuplas (e.g. `(i,t)`) que contengan todas las posibles combinaciones de índices de los dos conjuntos. La lista `Pozo_x_Tiempo` tiene esta característica."
   ]
  },
  {
   "cell_type": "code",
   "execution_count": 3,
   "metadata": {
    "deletable": false,
    "editable": false,
    "nbgrader": {
     "cell_type": "code",
     "checksum": "aa980a5568249ee081813deeb568fc8e",
     "grade": false,
     "grade_id": "cell-2d3ede746edfae31",
     "locked": true,
     "schema_version": 3,
     "solution": false,
     "task": false
    }
   },
   "outputs": [],
   "source": [
    "# Conjunto de pozos\n",
    "Pozos = [\n",
    "    \"DELE B-1\",\n",
    "    \"EL MORRO-1\",\n",
    "    \"FLORENA A-5\",\n",
    "    \"FLORENA C-6\",\n",
    "    \"FLORENA N-2\",\n",
    "    \"FLORENA N-4 ST\",\n",
    "    \"FLORENA-T8\",\n",
    "    \"PAUTO J-6\",\n",
    "    \"PAUTO M4\",\n",
    "    \"PAUTO M-5\",\n",
    "    \"PAUTO SUR B-1\",\n",
    "    \"PAUTO SUR C-2\",\n",
    "    \"PAUTO-1\",\n",
    "    \"VOLCANERA A-1\",\n",
    "    \"VOLCANERA C-2\",\n",
    "]\n",
    "\n",
    "# Conjunto de años\n",
    "Tiempos = range(1, 11)\n",
    "\n",
    "# Conjunto de tuplas (pozo, año)\n",
    "Pozo_x_Tiempo = [(i, t) for i in Pozos for t in Tiempos]\n"
   ]
  },
  {
   "cell_type": "markdown",
   "metadata": {
    "deletable": false,
    "editable": false,
    "nbgrader": {
     "cell_type": "markdown",
     "checksum": "03302d6f62ac5c9fd38661fdf7a43d13",
     "grade": false,
     "grade_id": "cell-1f708cd5f28d33b1",
     "locked": true,
     "schema_version": 3,
     "solution": false,
     "task": false
    }
   },
   "source": [
    "### Parámetros\n",
    "\n",
    "Ahora bien, ya que se tienen los conjuntos, debemos crear los parámetros del problema. En ocasiones, algunos parámetros estarán guardados en archivos de soporte (`.csv`, `.xlsx`, etc.), pero en nuestro caso los vamos a crear manualmente para comprender el proceso de creación. \n",
    "\n",
    "Los parámetros deben ser numéricos (`int` o `float`). Si el parámetro no esta indexado en ningún conjunto, como `presupuesto`, simplemente se asigna el valor al objeto de Python. Por otro lado, si está indexado en algún conjunto, es necesario crear un diccionario `dict` con los índices en las **llaves** y los números en los **valores** del diccionario (ver `metas`). Para ser más eficientes, podemos crear un solo diccionario para varios parámetros que compartan los mismos índices, para esto, se colocan los índices en las **llaves** y los parámetros como una lista en cada uno de los **valores** (ver `dataPozos`). Sin embargo, es necesario separar este diccionario al final usando la función `lp.splitDict()` para usar cada parámetro de forma independiente."
   ]
  },
  {
   "cell_type": "code",
   "execution_count": 4,
   "metadata": {
    "deletable": false,
    "editable": false,
    "nbgrader": {
     "cell_type": "code",
     "checksum": "75c685d3b93a7a1c5d1e66cc9778d1f4",
     "grade": false,
     "grade_id": "cell-a1efce3521b97f19",
     "locked": true,
     "schema_version": 3,
     "solution": false,
     "task": false
    },
    "tags": []
   },
   "outputs": [],
   "source": [
    "# Parámetros no indexados\n",
    "\n",
    "# Presupuesto máximo\n",
    "presupuesto = 100 \n",
    "# Máximo número de proyectos a realizar - restricción ambiental\n",
    "maxProyectos = 12  \n",
    "# Máximo número de operarios por año\n",
    "maxOperarios = 4   \n",
    "# Máximo número de generadores por año\n",
    "maxGeneradores = 4 \n",
    "\n",
    "# Parámetros indexados en años\n",
    "# tiempo: meta (miles de barriles por día)\n",
    "metas = {1: 3, 2: 4, 3: 5, 4: 4, 5: 5, 6: 3, 7: 5, 8: 4, 9: 4, 10: 6}\n",
    "\n",
    "# Parámetros indexados en los pozos (abajo se separan en diccionarios diferentes)\n",
    "# pozo: prod.minima, prod.moda, prod.máxima, operarios, generadores\n",
    "dataPozos = {\n",
    "             'DELE B-1':       [1,3,4,3,3],\n",
    "             'EL MORRO-1':     [3,4,6,2,3],\n",
    "             'FLORENA A-5':    [3,6,7,4,2],\n",
    "             'FLORENA C-6':    [1,3,6,4,3],\n",
    "             'FLORENA N-2':    [4,6,10,3,2],\n",
    "             'FLORENA N-4 ST': [1,4,6,4,3],\n",
    "             'FLORENA-T8':     [2,4,8,2,2],\n",
    "             'PAUTO J-6':      [2,3,5,3,2],\n",
    "             'PAUTO M4':       [3,5,7,3,3],\n",
    "             'PAUTO M-5':      [1,4,8,4,2],\n",
    "             'PAUTO SUR B-1':  [4,5,7,2,4],\n",
    "             'PAUTO SUR C-2':  [4,6,8,3,3],\n",
    "             'PAUTO-1':        [3,5,8,3,2],\n",
    "             'VOLCANERA A-1':  [4,5,9,2,3],\n",
    "             'VOLCANERA C-2':  [2,5,7,2,2]\n",
    "}\n",
    "\n",
    "# Parámetros indexados en los pozos y los años (abajo se separan en diccionarios diferentes)\n",
    "# (pozo, año):   costo, utilidad  \n",
    "dataPozoAño ={ \n",
    "                ('DELE B-1',1)       :[13,14],\n",
    "                ('EL MORRO-1',1)     :[21,81],\n",
    "                ('FLORENA A-5',1)    :[8,81],\n",
    "                ('FLORENA C-6',1)    :[7,93],\n",
    "                ('FLORENA N-2',1)    :[3,26],\n",
    "                ('FLORENA N-4 ST',1) :[23,77],\n",
    "                ('FLORENA-T8',1)     :[6,88],\n",
    "                ('PAUTO J-6',1)      :[2,13],\n",
    "                ('PAUTO M4',1)       :[9,57],\n",
    "                ('PAUTO M-5',1)      :[12,34],\n",
    "                ('PAUTO SUR B-1',1)  :[2,10],\n",
    "                ('PAUTO SUR C-2',1)  :[21,20],\n",
    "                ('PAUTO-1',1)        :[12,43],\n",
    "                ('VOLCANERA A-1',1)  :[16,51],\n",
    "                ('VOLCANERA C-2',1)  :[22,44],\n",
    "                ('DELE B-1',2)       :[25,55],\n",
    "                ('EL MORRO-1',2)     :[9,54],\n",
    "                ('FLORENA A-5',2)    :[15,70],\n",
    "                ('FLORENA C-6',2)    :[14,40],\n",
    "                ('FLORENA N-2',2)    :[23,65],\n",
    "                ('FLORENA N-4 ST',2) :[5,55],\n",
    "                ('FLORENA-T8',2)     :[10,24],\n",
    "                ('PAUTO J-6',2)      :[23,92],\n",
    "                ('PAUTO M4',2)       :[10,58],\n",
    "                ('PAUTO M-5',2)      :[3,26],\n",
    "                ('PAUTO SUR B-1',2)  :[16,72],\n",
    "                ('PAUTO SUR C-2',2)  :[11,39],\n",
    "                ('PAUTO-1',2)        :[2,57],\n",
    "                ('VOLCANERA A-1',2)  :[15,51],\n",
    "                ('VOLCANERA C-2',2)  :[8,45],\n",
    "                ('DELE B-1',3)       :[17,74],\n",
    "                ('EL MORRO-1',3)     :[22,23],\n",
    "                ('FLORENA A-5',3)    :[12,44],\n",
    "                ('FLORENA C-6',3)    :[11,31],\n",
    "                ('FLORENA N-2',3)    :[7,53],\n",
    "                ('FLORENA N-4 ST',3) :[12,71],\n",
    "                ('FLORENA-T8',3)     :[12,80],\n",
    "                ('PAUTO J-6',3)      :[17,22],\n",
    "                ('PAUTO M4',3)       :[14,59],\n",
    "                ('PAUTO M-5',3)      :[15,34],\n",
    "                ('PAUTO SUR B-1',3)  :[24,88],\n",
    "                ('PAUTO SUR C-2',3)  :[25,61],\n",
    "                ('PAUTO-1',3)        :[8,46],\n",
    "                ('VOLCANERA A-1',3)  :[14,33],\n",
    "                ('VOLCANERA C-2',3)  :[17,15],\n",
    "                ('DELE B-1',4)       :[19,75],\n",
    "                ('EL MORRO-1',4)     :[6,70],\n",
    "                ('FLORENA A-5',4)    :[23,18],\n",
    "                ('FLORENA C-6',4)    :[16,36],\n",
    "                ('FLORENA N-2',4)    :[14,44],\n",
    "                ('FLORENA N-4 ST',4) :[18,34],\n",
    "                ('FLORENA-T8',4)     :[6,22],\n",
    "                ('PAUTO J-6',4)      :[20,30],\n",
    "                ('PAUTO M4',4)       :[5,93],\n",
    "                ('PAUTO M-5',4)      :[7,68],\n",
    "                ('PAUTO SUR B-1',4)  :[25,12],\n",
    "                ('PAUTO SUR C-2',4)  :[13,75],\n",
    "                ('PAUTO-1',4)        :[12,56],\n",
    "                ('VOLCANERA A-1',4)  :[10,16],\n",
    "                ('VOLCANERA C-2',4)  :[6,11],\n",
    "                ('DELE B-1',5)       :[7,54],\n",
    "                ('EL MORRO-1',5)     :[8,58],\n",
    "                ('FLORENA A-5',5)    :[22,15],\n",
    "                ('FLORENA C-6',5)    :[17,29],\n",
    "                ('FLORENA N-2',5)    :[20,95],\n",
    "                ('FLORENA N-4 ST',5) :[17,32],\n",
    "                ('FLORENA-T8',5)     :[10,91],\n",
    "                ('PAUTO J-6',5)      :[6,29],\n",
    "                ('PAUTO M4',5)       :[6,72],\n",
    "                ('PAUTO M-5',5)      :[25,91],\n",
    "                ('PAUTO SUR B-1',5)  :[21,95],\n",
    "                ('PAUTO SUR C-2',5)  :[15,63],\n",
    "                ('PAUTO-1',5)        :[17,64],\n",
    "                ('VOLCANERA A-1',5)  :[12,54],\n",
    "                ('VOLCANERA C-2',5)  :[17,19],\n",
    "                ('DELE B-1',6)       :[10,84],\n",
    "                ('EL MORRO-1',6)     :[13,48],\n",
    "                ('FLORENA A-5',6)    :[9,10],\n",
    "                ('FLORENA C-6',6)    :[25,32],\n",
    "                ('FLORENA N-2',6)    :[17,92],\n",
    "                ('FLORENA N-4 ST',6) :[25,21],\n",
    "                ('FLORENA-T8',6)     :[5,62],\n",
    "                ('PAUTO J-6',6)      :[23,28],\n",
    "                ('PAUTO M4',6)       :[22,87],\n",
    "                ('PAUTO M-5',6)      :[7,97],\n",
    "                ('PAUTO SUR B-1',6)  :[25,88],\n",
    "                ('PAUTO SUR C-2',6)  :[19,88],\n",
    "                ('PAUTO-1',6)        :[4,66],\n",
    "                ('VOLCANERA A-1',6)  :[6,32],\n",
    "                ('VOLCANERA C-2',6)  :[5,2],\n",
    "                ('DELE B-1',7)       :[12,94],\n",
    "                ('EL MORRO-1',7)     :[3,45],\n",
    "                ('FLORENA A-5',7)    :[19,15],\n",
    "                ('FLORENA C-6',7)    :[4,40],\n",
    "                ('FLORENA N-2',7)    :[6,103],\n",
    "                ('FLORENA N-4 ST',7) :[21,9],\n",
    "                ('FLORENA-T8',7)     :[13,63],\n",
    "                ('PAUTO J-6',7)      :[8,25],\n",
    "                ('PAUTO M4',7)       :[15,94],\n",
    "                ('PAUTO M-5',7)      :[8,113],\n",
    "                ('PAUTO SUR B-1',7)  :[10,99],\n",
    "                ('PAUTO SUR C-2',7)  :[12,100],\n",
    "                ('PAUTO-1',7)        :[3,70],\n",
    "                ('VOLCANERA A-1',7)  :[12,29],\n",
    "                ('VOLCANERA C-2',7)  :[7,13],\n",
    "                ('DELE B-1',8)       :[23,104],\n",
    "                ('EL MORRO-1',8)     :[13,42],\n",
    "                ('FLORENA A-5',8)    :[16,21],\n",
    "                ('FLORENA C-6',8)    :[7,48],\n",
    "                ('FLORENA N-2',8)    :[4,94],\n",
    "                ('FLORENA N-4 ST',8) :[11,5],\n",
    "                ('FLORENA-T8',8)     :[20,63],\n",
    "                ('PAUTO J-6',8)      :[15,22],\n",
    "                ('PAUTO M4',8)       :[22,100],\n",
    "                ('PAUTO M-5',8)      :[21,129],\n",
    "                ('PAUTO SUR B-1',8)  :[19,110],\n",
    "                ('PAUTO SUR C-2',8)  :[14,113],\n",
    "                ('PAUTO-1',8)        :[15,74],\n",
    "                ('VOLCANERA A-1',8)  :[8,27],\n",
    "                ('VOLCANERA C-2',8)  :[19,20],\n",
    "                ('DELE B-1',9)       :[8,114],\n",
    "                ('EL MORRO-1',9)     :[23,39],\n",
    "                ('FLORENA A-5',9)    :[2,25],\n",
    "                ('FLORENA C-6',9)    :[23,56],\n",
    "                ('FLORENA N-2',9)    :[23,87],\n",
    "                ('FLORENA N-4 ST',9) :[20,10],\n",
    "                ('FLORENA-T8',9)     :[11,63],\n",
    "                ('PAUTO J-6',9)      :[20,19],\n",
    "                ('PAUTO M4',9)       :[8,107],\n",
    "                ('PAUTO M-5',9)      :[15,144],\n",
    "                ('PAUTO SUR B-1',9)  :[12,121],\n",
    "                ('PAUTO SUR C-2',9)  :[6,120],\n",
    "                ('PAUTO-1',9)        :[2,78],\n",
    "                ('VOLCANERA A-1',9)  :[5,33],\n",
    "                ('VOLCANERA C-2',9)  :[25,24],\n",
    "                ('DELE B-1',10)       :[14,124],\n",
    "                ('EL MORRO-1',10)     :[19,36],\n",
    "                ('FLORENA A-5',10)    :[22,32],\n",
    "                ('FLORENA C-6',10)    :[13,50],\n",
    "                ('FLORENA N-2',10)    :[20,80],\n",
    "                ('FLORENA N-4 ST',10) :[16,8],\n",
    "                ('FLORENA-T8',10)     :[9,64],\n",
    "                ('PAUTO J-6',10)      :[7,16],\n",
    "                ('PAUTO M4',10)       :[15,113],\n",
    "                ('PAUTO M-5',10)      :[10,160],\n",
    "                ('PAUTO SUR B-1',10)  :[5,132],\n",
    "                ('PAUTO SUR C-2',10)  :[2,115],\n",
    "                ('PAUTO-1',10)        :[16,82],\n",
    "                ('VOLCANERA A-1',10)  :[25,40],\n",
    "                ('VOLCANERA C-2',10)  :[18,32]\n",
    "}\n",
    "\n",
    "# Separando datos en diccionarios independientes que comparten las misma llaves\n",
    "(prodMin, prodModa, prodMax, operarios, generadores) = lp.splitDict(dataPozos)\n",
    "(costo, utilidad) = lp.splitDict(dataPozoAño)"
   ]
  },
  {
   "cell_type": "markdown",
   "metadata": {
    "deletable": false,
    "editable": false,
    "nbgrader": {
     "cell_type": "markdown",
     "checksum": "a88f33444f055441cdb78b5b85c1cb15",
     "grade": false,
     "grade_id": "cell-587d11a8eb6313b7",
     "locked": true,
     "schema_version": 3,
     "solution": false,
     "task": false
    }
   },
   "source": [
    "**Celda de Prueba (0 puntos)**\n",
    "\n",
    "Es una buena práctica imprimir algunos objetos que contienen los parámetros en la consola luego de crearlos. De esta forma puedes corregir errores y conocer con las estrucutras de datos que se van a utilizar. Por ejemplo, si sabes que `operarios` es un diccionario (`dict`), podrás usar el comando `operarios[<llave>]` para pedir un valor en particular. Puedes hacer estas pruebas en la celda a continuación.\n",
    "\n",
    "* **Esta celda no es calificable**"
   ]
  },
  {
   "cell_type": "code",
   "execution_count": 8,
   "metadata": {},
   "outputs": [
    {
     "name": "stdout",
     "output_type": "stream",
     "text": [
      "{'DELE B-1': 1, 'EL MORRO-1': 3, 'FLORENA A-5': 3, 'FLORENA C-6': 1, 'FLORENA N-2': 4, 'FLORENA N-4 ST': 1, 'FLORENA-T8': 2, 'PAUTO J-6': 2, 'PAUTO M4': 3, 'PAUTO M-5': 1, 'PAUTO SUR B-1': 4, 'PAUTO SUR C-2': 4, 'PAUTO-1': 3, 'VOLCANERA A-1': 4, 'VOLCANERA C-2': 2}\n",
      "{'DELE B-1': 3, 'EL MORRO-1': 4, 'FLORENA A-5': 6, 'FLORENA C-6': 3, 'FLORENA N-2': 6, 'FLORENA N-4 ST': 4, 'FLORENA-T8': 4, 'PAUTO J-6': 3, 'PAUTO M4': 5, 'PAUTO M-5': 4, 'PAUTO SUR B-1': 5, 'PAUTO SUR C-2': 6, 'PAUTO-1': 5, 'VOLCANERA A-1': 5, 'VOLCANERA C-2': 5}\n",
      "{'DELE B-1': 4, 'EL MORRO-1': 6, 'FLORENA A-5': 7, 'FLORENA C-6': 6, 'FLORENA N-2': 10, 'FLORENA N-4 ST': 6, 'FLORENA-T8': 8, 'PAUTO J-6': 5, 'PAUTO M4': 7, 'PAUTO M-5': 8, 'PAUTO SUR B-1': 7, 'PAUTO SUR C-2': 8, 'PAUTO-1': 8, 'VOLCANERA A-1': 9, 'VOLCANERA C-2': 7}\n",
      "\n",
      "{('DELE B-1', 1): 13, ('EL MORRO-1', 1): 21, ('FLORENA A-5', 1): 8, ('FLORENA C-6', 1): 7, ('FLORENA N-2', 1): 3, ('FLORENA N-4 ST', 1): 23, ('FLORENA-T8', 1): 6, ('PAUTO J-6', 1): 2, ('PAUTO M4', 1): 9, ('PAUTO M-5', 1): 12, ('PAUTO SUR B-1', 1): 2, ('PAUTO SUR C-2', 1): 21, ('PAUTO-1', 1): 12, ('VOLCANERA A-1', 1): 16, ('VOLCANERA C-2', 1): 22, ('DELE B-1', 2): 25, ('EL MORRO-1', 2): 9, ('FLORENA A-5', 2): 15, ('FLORENA C-6', 2): 14, ('FLORENA N-2', 2): 23, ('FLORENA N-4 ST', 2): 5, ('FLORENA-T8', 2): 10, ('PAUTO J-6', 2): 23, ('PAUTO M4', 2): 10, ('PAUTO M-5', 2): 3, ('PAUTO SUR B-1', 2): 16, ('PAUTO SUR C-2', 2): 11, ('PAUTO-1', 2): 2, ('VOLCANERA A-1', 2): 15, ('VOLCANERA C-2', 2): 8, ('DELE B-1', 3): 17, ('EL MORRO-1', 3): 22, ('FLORENA A-5', 3): 12, ('FLORENA C-6', 3): 11, ('FLORENA N-2', 3): 7, ('FLORENA N-4 ST', 3): 12, ('FLORENA-T8', 3): 12, ('PAUTO J-6', 3): 17, ('PAUTO M4', 3): 14, ('PAUTO M-5', 3): 15, ('PAUTO SUR B-1', 3): 24, ('PAUTO SUR C-2', 3): 25, ('PAUTO-1', 3): 8, ('VOLCANERA A-1', 3): 14, ('VOLCANERA C-2', 3): 17, ('DELE B-1', 4): 19, ('EL MORRO-1', 4): 6, ('FLORENA A-5', 4): 23, ('FLORENA C-6', 4): 16, ('FLORENA N-2', 4): 14, ('FLORENA N-4 ST', 4): 18, ('FLORENA-T8', 4): 6, ('PAUTO J-6', 4): 20, ('PAUTO M4', 4): 5, ('PAUTO M-5', 4): 7, ('PAUTO SUR B-1', 4): 25, ('PAUTO SUR C-2', 4): 13, ('PAUTO-1', 4): 12, ('VOLCANERA A-1', 4): 10, ('VOLCANERA C-2', 4): 6, ('DELE B-1', 5): 7, ('EL MORRO-1', 5): 8, ('FLORENA A-5', 5): 22, ('FLORENA C-6', 5): 17, ('FLORENA N-2', 5): 20, ('FLORENA N-4 ST', 5): 17, ('FLORENA-T8', 5): 10, ('PAUTO J-6', 5): 6, ('PAUTO M4', 5): 6, ('PAUTO M-5', 5): 25, ('PAUTO SUR B-1', 5): 21, ('PAUTO SUR C-2', 5): 15, ('PAUTO-1', 5): 17, ('VOLCANERA A-1', 5): 12, ('VOLCANERA C-2', 5): 17, ('DELE B-1', 6): 10, ('EL MORRO-1', 6): 13, ('FLORENA A-5', 6): 9, ('FLORENA C-6', 6): 25, ('FLORENA N-2', 6): 17, ('FLORENA N-4 ST', 6): 25, ('FLORENA-T8', 6): 5, ('PAUTO J-6', 6): 23, ('PAUTO M4', 6): 22, ('PAUTO M-5', 6): 7, ('PAUTO SUR B-1', 6): 25, ('PAUTO SUR C-2', 6): 19, ('PAUTO-1', 6): 4, ('VOLCANERA A-1', 6): 6, ('VOLCANERA C-2', 6): 5, ('DELE B-1', 7): 12, ('EL MORRO-1', 7): 3, ('FLORENA A-5', 7): 19, ('FLORENA C-6', 7): 4, ('FLORENA N-2', 7): 6, ('FLORENA N-4 ST', 7): 21, ('FLORENA-T8', 7): 13, ('PAUTO J-6', 7): 8, ('PAUTO M4', 7): 15, ('PAUTO M-5', 7): 8, ('PAUTO SUR B-1', 7): 10, ('PAUTO SUR C-2', 7): 12, ('PAUTO-1', 7): 3, ('VOLCANERA A-1', 7): 12, ('VOLCANERA C-2', 7): 7, ('DELE B-1', 8): 23, ('EL MORRO-1', 8): 13, ('FLORENA A-5', 8): 16, ('FLORENA C-6', 8): 7, ('FLORENA N-2', 8): 4, ('FLORENA N-4 ST', 8): 11, ('FLORENA-T8', 8): 20, ('PAUTO J-6', 8): 15, ('PAUTO M4', 8): 22, ('PAUTO M-5', 8): 21, ('PAUTO SUR B-1', 8): 19, ('PAUTO SUR C-2', 8): 14, ('PAUTO-1', 8): 15, ('VOLCANERA A-1', 8): 8, ('VOLCANERA C-2', 8): 19, ('DELE B-1', 9): 8, ('EL MORRO-1', 9): 23, ('FLORENA A-5', 9): 2, ('FLORENA C-6', 9): 23, ('FLORENA N-2', 9): 23, ('FLORENA N-4 ST', 9): 20, ('FLORENA-T8', 9): 11, ('PAUTO J-6', 9): 20, ('PAUTO M4', 9): 8, ('PAUTO M-5', 9): 15, ('PAUTO SUR B-1', 9): 12, ('PAUTO SUR C-2', 9): 6, ('PAUTO-1', 9): 2, ('VOLCANERA A-1', 9): 5, ('VOLCANERA C-2', 9): 25, ('DELE B-1', 10): 14, ('EL MORRO-1', 10): 19, ('FLORENA A-5', 10): 22, ('FLORENA C-6', 10): 13, ('FLORENA N-2', 10): 20, ('FLORENA N-4 ST', 10): 16, ('FLORENA-T8', 10): 9, ('PAUTO J-6', 10): 7, ('PAUTO M4', 10): 15, ('PAUTO M-5', 10): 10, ('PAUTO SUR B-1', 10): 5, ('PAUTO SUR C-2', 10): 2, ('PAUTO-1', 10): 16, ('VOLCANERA A-1', 10): 25, ('VOLCANERA C-2', 10): 18}\n",
      "{('DELE B-1', 1): 14, ('EL MORRO-1', 1): 81, ('FLORENA A-5', 1): 81, ('FLORENA C-6', 1): 93, ('FLORENA N-2', 1): 26, ('FLORENA N-4 ST', 1): 77, ('FLORENA-T8', 1): 88, ('PAUTO J-6', 1): 13, ('PAUTO M4', 1): 57, ('PAUTO M-5', 1): 34, ('PAUTO SUR B-1', 1): 10, ('PAUTO SUR C-2', 1): 20, ('PAUTO-1', 1): 43, ('VOLCANERA A-1', 1): 51, ('VOLCANERA C-2', 1): 44, ('DELE B-1', 2): 55, ('EL MORRO-1', 2): 54, ('FLORENA A-5', 2): 70, ('FLORENA C-6', 2): 40, ('FLORENA N-2', 2): 65, ('FLORENA N-4 ST', 2): 55, ('FLORENA-T8', 2): 24, ('PAUTO J-6', 2): 92, ('PAUTO M4', 2): 58, ('PAUTO M-5', 2): 26, ('PAUTO SUR B-1', 2): 72, ('PAUTO SUR C-2', 2): 39, ('PAUTO-1', 2): 57, ('VOLCANERA A-1', 2): 51, ('VOLCANERA C-2', 2): 45, ('DELE B-1', 3): 74, ('EL MORRO-1', 3): 23, ('FLORENA A-5', 3): 44, ('FLORENA C-6', 3): 31, ('FLORENA N-2', 3): 53, ('FLORENA N-4 ST', 3): 71, ('FLORENA-T8', 3): 80, ('PAUTO J-6', 3): 22, ('PAUTO M4', 3): 59, ('PAUTO M-5', 3): 34, ('PAUTO SUR B-1', 3): 88, ('PAUTO SUR C-2', 3): 61, ('PAUTO-1', 3): 46, ('VOLCANERA A-1', 3): 33, ('VOLCANERA C-2', 3): 15, ('DELE B-1', 4): 75, ('EL MORRO-1', 4): 70, ('FLORENA A-5', 4): 18, ('FLORENA C-6', 4): 36, ('FLORENA N-2', 4): 44, ('FLORENA N-4 ST', 4): 34, ('FLORENA-T8', 4): 22, ('PAUTO J-6', 4): 30, ('PAUTO M4', 4): 93, ('PAUTO M-5', 4): 68, ('PAUTO SUR B-1', 4): 12, ('PAUTO SUR C-2', 4): 75, ('PAUTO-1', 4): 56, ('VOLCANERA A-1', 4): 16, ('VOLCANERA C-2', 4): 11, ('DELE B-1', 5): 54, ('EL MORRO-1', 5): 58, ('FLORENA A-5', 5): 15, ('FLORENA C-6', 5): 29, ('FLORENA N-2', 5): 95, ('FLORENA N-4 ST', 5): 32, ('FLORENA-T8', 5): 91, ('PAUTO J-6', 5): 29, ('PAUTO M4', 5): 72, ('PAUTO M-5', 5): 91, ('PAUTO SUR B-1', 5): 95, ('PAUTO SUR C-2', 5): 63, ('PAUTO-1', 5): 64, ('VOLCANERA A-1', 5): 54, ('VOLCANERA C-2', 5): 19, ('DELE B-1', 6): 84, ('EL MORRO-1', 6): 48, ('FLORENA A-5', 6): 10, ('FLORENA C-6', 6): 32, ('FLORENA N-2', 6): 92, ('FLORENA N-4 ST', 6): 21, ('FLORENA-T8', 6): 62, ('PAUTO J-6', 6): 28, ('PAUTO M4', 6): 87, ('PAUTO M-5', 6): 97, ('PAUTO SUR B-1', 6): 88, ('PAUTO SUR C-2', 6): 88, ('PAUTO-1', 6): 66, ('VOLCANERA A-1', 6): 32, ('VOLCANERA C-2', 6): 2, ('DELE B-1', 7): 94, ('EL MORRO-1', 7): 45, ('FLORENA A-5', 7): 15, ('FLORENA C-6', 7): 40, ('FLORENA N-2', 7): 103, ('FLORENA N-4 ST', 7): 9, ('FLORENA-T8', 7): 63, ('PAUTO J-6', 7): 25, ('PAUTO M4', 7): 94, ('PAUTO M-5', 7): 113, ('PAUTO SUR B-1', 7): 99, ('PAUTO SUR C-2', 7): 100, ('PAUTO-1', 7): 70, ('VOLCANERA A-1', 7): 29, ('VOLCANERA C-2', 7): 13, ('DELE B-1', 8): 104, ('EL MORRO-1', 8): 42, ('FLORENA A-5', 8): 21, ('FLORENA C-6', 8): 48, ('FLORENA N-2', 8): 94, ('FLORENA N-4 ST', 8): 5, ('FLORENA-T8', 8): 63, ('PAUTO J-6', 8): 22, ('PAUTO M4', 8): 100, ('PAUTO M-5', 8): 129, ('PAUTO SUR B-1', 8): 110, ('PAUTO SUR C-2', 8): 113, ('PAUTO-1', 8): 74, ('VOLCANERA A-1', 8): 27, ('VOLCANERA C-2', 8): 20, ('DELE B-1', 9): 114, ('EL MORRO-1', 9): 39, ('FLORENA A-5', 9): 25, ('FLORENA C-6', 9): 56, ('FLORENA N-2', 9): 87, ('FLORENA N-4 ST', 9): 10, ('FLORENA-T8', 9): 63, ('PAUTO J-6', 9): 19, ('PAUTO M4', 9): 107, ('PAUTO M-5', 9): 144, ('PAUTO SUR B-1', 9): 121, ('PAUTO SUR C-2', 9): 120, ('PAUTO-1', 9): 78, ('VOLCANERA A-1', 9): 33, ('VOLCANERA C-2', 9): 24, ('DELE B-1', 10): 124, ('EL MORRO-1', 10): 36, ('FLORENA A-5', 10): 32, ('FLORENA C-6', 10): 50, ('FLORENA N-2', 10): 80, ('FLORENA N-4 ST', 10): 8, ('FLORENA-T8', 10): 64, ('PAUTO J-6', 10): 16, ('PAUTO M4', 10): 113, ('PAUTO M-5', 10): 160, ('PAUTO SUR B-1', 10): 132, ('PAUTO SUR C-2', 10): 115, ('PAUTO-1', 10): 82, ('VOLCANERA A-1', 10): 40, ('VOLCANERA C-2', 10): 32}\n"
     ]
    }
   ],
   "source": [
    "### Aquí puedes explorar los parámetros\n",
    "print(prodMin)\n",
    "print(prodModa)\n",
    "print(prodMax)\n",
    "print()\n",
    "print(costo)\n",
    "print(utilidad)\n"
   ]
  },
  {
   "cell_type": "markdown",
   "metadata": {
    "deletable": false,
    "editable": false,
    "nbgrader": {
     "cell_type": "markdown",
     "checksum": "b41130d10ef9937b329cff021f1ad198",
     "grade": false,
     "grade_id": "cell-6a525ae7e4899ef1",
     "locked": true,
     "schema_version": 3,
     "solution": false,
     "task": false
    }
   },
   "source": [
    "## Modelado\n",
    "---"
   ]
  },
  {
   "cell_type": "markdown",
   "metadata": {
    "deletable": false,
    "editable": false,
    "nbgrader": {
     "cell_type": "markdown",
     "checksum": "d06016817f086499f3ce6b93de1059b7",
     "grade": false,
     "grade_id": "cell-ebebd9c7c932a295",
     "locked": true,
     "schema_version": 3,
     "solution": false,
     "task": false
    }
   },
   "source": [
    "### Declaración del modelo\n",
    "\n",
    "El primer paso para crear un modelo de optimización en `pulp`, es crear un objeto que contenga el objeto modelo. A este objeto luego podremos agregarle variables, restricciones, pedirle que use algún algoritmo de optimización, etc. A continuación, encontrarás instrucciones para crear este objeto."
   ]
  },
  {
   "cell_type": "markdown",
   "metadata": {
    "deletable": false,
    "editable": false,
    "nbgrader": {
     "cell_type": "markdown",
     "checksum": "b6f61d169dbfa26d2d52f2979f942bea",
     "grade": false,
     "grade_id": "cell-a3aeec243a8845f1",
     "locked": true,
     "schema_version": 3,
     "solution": false,
     "task": false
    }
   },
   "source": [
    "**Pregunta 1 (10 puntos)**\n",
    "* Crea un objeto modelo en PuLP (`lp.LpProblem`) llamado `problema`\n",
    "* Indica el sentido de la optimización: maximizar o minimizar\n",
    "\n",
    "> **Recuerda** que el sentido se indica con el argumento `sense` en `lp.LpProblem()`, que toma valores `lp.LpMaximize` o `lp.LpMinimize`"
   ]
  },
  {
   "cell_type": "code",
   "execution_count": 9,
   "metadata": {
    "deletable": false,
    "nbgrader": {
     "cell_type": "code",
     "checksum": "cbba9891f01b97e42df9cdf569b27351",
     "grade": false,
     "grade_id": "cell-ca609c4dbb735856",
     "locked": false,
     "schema_version": 3,
     "solution": true,
     "task": false
    }
   },
   "outputs": [],
   "source": [
    "# your code here\n",
    "problema = lp.LpProblem(sense=lp.LpMaximize)"
   ]
  },
  {
   "cell_type": "code",
   "execution_count": 7,
   "metadata": {
    "deletable": false,
    "editable": false,
    "nbgrader": {
     "cell_type": "code",
     "checksum": "b0409a1d5b66b103d914b1415e3c0638",
     "grade": true,
     "grade_id": "cell-9466bada00deeca6",
     "locked": true,
     "points": 10,
     "schema_version": 3,
     "solution": false,
     "task": false
    }
   },
   "outputs": [],
   "source": [
    "# Esta celda esta reservada para uso del equipo docente"
   ]
  },
  {
   "cell_type": "code",
   "execution_count": 8,
   "metadata": {
    "deletable": false,
    "editable": false,
    "nbgrader": {
     "cell_type": "code",
     "checksum": "be40950df8bdfac05d32a6da5059f8d9",
     "grade": true,
     "grade_id": "cell-22a4b3d85f6c728a",
     "locked": true,
     "points": 0,
     "schema_version": 3,
     "solution": false,
     "task": false
    }
   },
   "outputs": [],
   "source": [
    "# Esta celda esta reservada para uso del equipo docente"
   ]
  },
  {
   "cell_type": "markdown",
   "metadata": {
    "deletable": false,
    "editable": false,
    "nbgrader": {
     "cell_type": "markdown",
     "checksum": "a81edd9835676b6524e33cb5f1338a4c",
     "grade": false,
     "grade_id": "cell-032e2c76bf498b03",
     "locked": true,
     "schema_version": 3,
     "solution": false,
     "task": false
    }
   },
   "source": [
    "### Variables de Decisión\n",
    "\n",
    "Ahora que tienes el objeto modelo (`problema`) listo, deberás crear las variables que poblarán el modelo y te permitiran crear la función objetivo y restricciones. En este caso, sólo tenemos un grupo de variables $x_{it}$ que comparten características como la naturaleza de las variables y que sus índices pertenecen a los mismos conjuntos. A continuación, puedes comprobar la formulación de las variables y en la siguiente celda encontrarás instrucciones para crear las variables del problema.\n",
    "\n",
    ">* $x_{it} = \\begin{cases}1, & \\text{si el pozo} \\, i\\in P \\text{ se perfora en el año} \\, t\\in T \\\\ 0, & \\text{de lo contrario}\\end{cases} $"
   ]
  },
  {
   "cell_type": "markdown",
   "metadata": {
    "deletable": false,
    "editable": false,
    "nbgrader": {
     "cell_type": "markdown",
     "checksum": "03c81405b40c7ebc08adfef1aa60df69",
     "grade": false,
     "grade_id": "cell-a3aeec243a2845f1",
     "locked": true,
     "schema_version": 3,
     "solution": false,
     "task": false
    }
   },
   "source": [
    "**Pregunta 2 (10 puntos)**\n",
    "* Crea las variables del modelo: `x`, usando el método `lp.LpVariable.dicts()`.\n",
    "* Especifica el nombre de las variables como `perforar` con el argumento `name`.\n",
    "* Especifica el conjunto sobre el cual está indexado la variable con el argumento `indexs`. \n",
    "* Especifica el límite inferior en 0 con el argumento `lowBound`.\n",
    "* Especifica el tipo de variable con el argumento `cat` (continua: `lp.LpContinuous`, entera: `lp.LpInteger` o binaria: `lp.LpBinary`)"
   ]
  },
  {
   "cell_type": "code",
   "execution_count": null,
   "metadata": {
    "deletable": false,
    "nbgrader": {
     "cell_type": "code",
     "checksum": "8255f3e4411a0a7587556c98134b9ddd",
     "grade": false,
     "grade_id": "cell-9602249caa6bad35",
     "locked": false,
     "schema_version": 3,
     "solution": true,
     "task": false
    }
   },
   "outputs": [],
   "source": [
    "# your code here\n",
    "# Crear las variables de decisión x indexadas por (pozo, tiempo)\n",
    "# name='perforar': nombre base para las variables en el modelo\n",
    "# indexs=Pozo_x_Tiempo: conjunto de tuplas (pozo, año) que definen los índices\n",
    "# lowBound=0: límite inferior de las variables (no pueden ser negativas)\n",
    "# cat=lp.LpBinary: tipo de variable binaria (0 o 1)\n",
    "\n",
    "x = lp.LpVariable.dicts(name='perforar', indices=Pozo_x_Tiempo, lowBound=0, cat=lp.LpBinary)\n",
    "\n"
   ]
  },
  {
   "cell_type": "code",
   "execution_count": 15,
   "id": "5ef2d08e",
   "metadata": {},
   "outputs": [
    {
     "name": "stdout",
     "output_type": "stream",
     "text": [
      "dict_values([perforar_('DELE_B_1',_1), perforar_('DELE_B_1',_2), perforar_('DELE_B_1',_3), perforar_('DELE_B_1',_4), perforar_('DELE_B_1',_5), perforar_('DELE_B_1',_6), perforar_('DELE_B_1',_7), perforar_('DELE_B_1',_8), perforar_('DELE_B_1',_9), perforar_('DELE_B_1',_10), perforar_('EL_MORRO_1',_1), perforar_('EL_MORRO_1',_2), perforar_('EL_MORRO_1',_3), perforar_('EL_MORRO_1',_4), perforar_('EL_MORRO_1',_5), perforar_('EL_MORRO_1',_6), perforar_('EL_MORRO_1',_7), perforar_('EL_MORRO_1',_8), perforar_('EL_MORRO_1',_9), perforar_('EL_MORRO_1',_10), perforar_('FLORENA_A_5',_1), perforar_('FLORENA_A_5',_2), perforar_('FLORENA_A_5',_3), perforar_('FLORENA_A_5',_4), perforar_('FLORENA_A_5',_5), perforar_('FLORENA_A_5',_6), perforar_('FLORENA_A_5',_7), perforar_('FLORENA_A_5',_8), perforar_('FLORENA_A_5',_9), perforar_('FLORENA_A_5',_10), perforar_('FLORENA_C_6',_1), perforar_('FLORENA_C_6',_2), perforar_('FLORENA_C_6',_3), perforar_('FLORENA_C_6',_4), perforar_('FLORENA_C_6',_5), perforar_('FLORENA_C_6',_6), perforar_('FLORENA_C_6',_7), perforar_('FLORENA_C_6',_8), perforar_('FLORENA_C_6',_9), perforar_('FLORENA_C_6',_10), perforar_('FLORENA_N_2',_1), perforar_('FLORENA_N_2',_2), perforar_('FLORENA_N_2',_3), perforar_('FLORENA_N_2',_4), perforar_('FLORENA_N_2',_5), perforar_('FLORENA_N_2',_6), perforar_('FLORENA_N_2',_7), perforar_('FLORENA_N_2',_8), perforar_('FLORENA_N_2',_9), perforar_('FLORENA_N_2',_10), perforar_('FLORENA_N_4_ST',_1), perforar_('FLORENA_N_4_ST',_2), perforar_('FLORENA_N_4_ST',_3), perforar_('FLORENA_N_4_ST',_4), perforar_('FLORENA_N_4_ST',_5), perforar_('FLORENA_N_4_ST',_6), perforar_('FLORENA_N_4_ST',_7), perforar_('FLORENA_N_4_ST',_8), perforar_('FLORENA_N_4_ST',_9), perforar_('FLORENA_N_4_ST',_10), perforar_('FLORENA_T8',_1), perforar_('FLORENA_T8',_2), perforar_('FLORENA_T8',_3), perforar_('FLORENA_T8',_4), perforar_('FLORENA_T8',_5), perforar_('FLORENA_T8',_6), perforar_('FLORENA_T8',_7), perforar_('FLORENA_T8',_8), perforar_('FLORENA_T8',_9), perforar_('FLORENA_T8',_10), perforar_('PAUTO_J_6',_1), perforar_('PAUTO_J_6',_2), perforar_('PAUTO_J_6',_3), perforar_('PAUTO_J_6',_4), perforar_('PAUTO_J_6',_5), perforar_('PAUTO_J_6',_6), perforar_('PAUTO_J_6',_7), perforar_('PAUTO_J_6',_8), perforar_('PAUTO_J_6',_9), perforar_('PAUTO_J_6',_10), perforar_('PAUTO_M4',_1), perforar_('PAUTO_M4',_2), perforar_('PAUTO_M4',_3), perforar_('PAUTO_M4',_4), perforar_('PAUTO_M4',_5), perforar_('PAUTO_M4',_6), perforar_('PAUTO_M4',_7), perforar_('PAUTO_M4',_8), perforar_('PAUTO_M4',_9), perforar_('PAUTO_M4',_10), perforar_('PAUTO_M_5',_1), perforar_('PAUTO_M_5',_2), perforar_('PAUTO_M_5',_3), perforar_('PAUTO_M_5',_4), perforar_('PAUTO_M_5',_5), perforar_('PAUTO_M_5',_6), perforar_('PAUTO_M_5',_7), perforar_('PAUTO_M_5',_8), perforar_('PAUTO_M_5',_9), perforar_('PAUTO_M_5',_10), perforar_('PAUTO_SUR_B_1',_1), perforar_('PAUTO_SUR_B_1',_2), perforar_('PAUTO_SUR_B_1',_3), perforar_('PAUTO_SUR_B_1',_4), perforar_('PAUTO_SUR_B_1',_5), perforar_('PAUTO_SUR_B_1',_6), perforar_('PAUTO_SUR_B_1',_7), perforar_('PAUTO_SUR_B_1',_8), perforar_('PAUTO_SUR_B_1',_9), perforar_('PAUTO_SUR_B_1',_10), perforar_('PAUTO_SUR_C_2',_1), perforar_('PAUTO_SUR_C_2',_2), perforar_('PAUTO_SUR_C_2',_3), perforar_('PAUTO_SUR_C_2',_4), perforar_('PAUTO_SUR_C_2',_5), perforar_('PAUTO_SUR_C_2',_6), perforar_('PAUTO_SUR_C_2',_7), perforar_('PAUTO_SUR_C_2',_8), perforar_('PAUTO_SUR_C_2',_9), perforar_('PAUTO_SUR_C_2',_10), perforar_('PAUTO_1',_1), perforar_('PAUTO_1',_2), perforar_('PAUTO_1',_3), perforar_('PAUTO_1',_4), perforar_('PAUTO_1',_5), perforar_('PAUTO_1',_6), perforar_('PAUTO_1',_7), perforar_('PAUTO_1',_8), perforar_('PAUTO_1',_9), perforar_('PAUTO_1',_10), perforar_('VOLCANERA_A_1',_1), perforar_('VOLCANERA_A_1',_2), perforar_('VOLCANERA_A_1',_3), perforar_('VOLCANERA_A_1',_4), perforar_('VOLCANERA_A_1',_5), perforar_('VOLCANERA_A_1',_6), perforar_('VOLCANERA_A_1',_7), perforar_('VOLCANERA_A_1',_8), perforar_('VOLCANERA_A_1',_9), perforar_('VOLCANERA_A_1',_10), perforar_('VOLCANERA_C_2',_1), perforar_('VOLCANERA_C_2',_2), perforar_('VOLCANERA_C_2',_3), perforar_('VOLCANERA_C_2',_4), perforar_('VOLCANERA_C_2',_5), perforar_('VOLCANERA_C_2',_6), perforar_('VOLCANERA_C_2',_7), perforar_('VOLCANERA_C_2',_8), perforar_('VOLCANERA_C_2',_9), perforar_('VOLCANERA_C_2',_10)])\n"
     ]
    }
   ],
   "source": [
    "print(x.values())"
   ]
  },
  {
   "cell_type": "code",
   "execution_count": 10,
   "metadata": {
    "deletable": false,
    "editable": false,
    "nbgrader": {
     "cell_type": "code",
     "checksum": "68d4b2365a63649d3f4ad791dc952336",
     "grade": true,
     "grade_id": "cell-9466bada00deeca1",
     "locked": true,
     "points": 10,
     "schema_version": 3,
     "solution": false,
     "task": false
    }
   },
   "outputs": [],
   "source": [
    "# Esta celda esta reservada para uso del equipo docente"
   ]
  },
  {
   "cell_type": "code",
   "execution_count": 11,
   "metadata": {
    "deletable": false,
    "editable": false,
    "nbgrader": {
     "cell_type": "code",
     "checksum": "76d516530d7976731f231e26b5b0ff47",
     "grade": true,
     "grade_id": "cell-4918604f0f15a4eb",
     "locked": true,
     "points": 0,
     "schema_version": 3,
     "solution": false,
     "task": false
    }
   },
   "outputs": [],
   "source": [
    "# Esta celda esta reservada para uso del equipo docente"
   ]
  },
  {
   "cell_type": "markdown",
   "metadata": {
    "deletable": false,
    "editable": false,
    "nbgrader": {
     "cell_type": "markdown",
     "checksum": "2e56554e9975075a3820fa2b1318ea02",
     "grade": false,
     "grade_id": "cell-747431c6a3556e72",
     "locked": true,
     "schema_version": 3,
     "solution": false,
     "task": false
    }
   },
   "source": [
    "### Función Objetivo\n",
    "\n",
    "¡Ya tienes listo el modelo y las variables de decisión! Ahora es momento de crear la función objetivo del problema. En la siguiente celda encontrarás instrucciones para incluirla en el modelo haciendo uso de las variables que creaste anteriormente.\n",
    "\n",
    "Maximizar las utilidades totales por la perforación de pozos durante el horizonte de planeación\n",
    "> $\\max \\; \\sum_{t\\in T}\\sum_{i\\in P}v_{it}x_{it}$"
   ]
  },
  {
   "cell_type": "markdown",
   "metadata": {
    "deletable": false,
    "editable": false,
    "nbgrader": {
     "cell_type": "markdown",
     "checksum": "d5523e41ea6ef953183684b40e3a39ba",
     "grade": false,
     "grade_id": "cell-a3aeec243a5645f1",
     "locked": true,
     "schema_version": 3,
     "solution": false,
     "task": false
    }
   },
   "source": [
    "**Pregunta 3 (10 puntos)**\n",
    "* Crea la función objetivo y agrégala al modelo `problema`\n",
    "\n",
    "> **Recuerda** que para agregar una función objetivo o restricción a un modelo en pulp se usa la sintaxis: `<modelo> += <expresion>`\n",
    "\n",
    "> **Recuerda** que una función objetivo en `pulp` consiste en multiplicar variables de tipo `lp.pulp.Variable` (como `x[i,t]`) por constantes así: `<variable>*<int|float>` y luego sumarlas o restarlas así: `<var1>*<const1> + <var2>*<const2>`\n",
    "\n",
    "> **Recuerda** que, para evitar escribir una sumatoria de muchos términos uno a uno, `pulp` permite crear sumatorias que recorran conjuntos siempre y cuando las variables esten indexadas (como `x`). Para esto, utiliza `lp.lpSum(<expresion> for <indices> in <conjunto>)`.\n",
    "\n",
    "> **Ejemplo**:\n",
    ">> $ \\sum_{i \\in I}c_i x_i$\n",
    "es equivalente a `lp.lpSum(c[i]*x[i] for i in I)`"
   ]
  },
  {
   "cell_type": "code",
   "execution_count": 16,
   "metadata": {
    "deletable": false,
    "nbgrader": {
     "cell_type": "code",
     "checksum": "6a9baf1dc184246c280a774fe90e6973",
     "grade": false,
     "grade_id": "cell-6ed27aee466ec4bf",
     "locked": false,
     "schema_version": 3,
     "solution": true,
     "task": false
    }
   },
   "outputs": [],
   "source": [
    "# your code here\n",
    "\n",
    "# Crear la función objetivo: maximizar las utilidades totales\n",
    "# La función objetivo suma todas las utilidades v_{it} * x_{it} para todos los pozos i y años t\n",
    "\n",
    "problema += lp.lpSum(utilidad[i, t] * x[i, t] for i, t in Pozo_x_Tiempo), \"Funcion_Objetivo\""
   ]
  },
  {
   "cell_type": "code",
   "execution_count": 13,
   "metadata": {
    "deletable": false,
    "editable": false,
    "nbgrader": {
     "cell_type": "code",
     "checksum": "b0f265c2f3e64aa7bf9ea5e288f66f29",
     "grade": true,
     "grade_id": "cell-9466geda00deeca1",
     "locked": true,
     "points": 10,
     "schema_version": 3,
     "solution": false,
     "task": false
    }
   },
   "outputs": [],
   "source": [
    "# Esta celda esta reservada para uso del equipo docente"
   ]
  },
  {
   "cell_type": "code",
   "execution_count": 14,
   "metadata": {
    "deletable": false,
    "editable": false,
    "nbgrader": {
     "cell_type": "code",
     "checksum": "0539296f1b68fe8c044c98679a82c30a",
     "grade": true,
     "grade_id": "cell-1bd86951a5a374d2",
     "locked": true,
     "points": 0,
     "schema_version": 3,
     "solution": false,
     "task": false
    }
   },
   "outputs": [],
   "source": [
    "# Esta celda esta reservada para uso del equipo docente"
   ]
  },
  {
   "cell_type": "markdown",
   "metadata": {
    "deletable": false,
    "editable": false,
    "nbgrader": {
     "cell_type": "markdown",
     "checksum": "1a415410b653de6e7b892022b12f5c66",
     "grade": false,
     "grade_id": "cell-d6fa9f15b71fb4ce",
     "locked": true,
     "schema_version": 3,
     "solution": false,
     "task": false
    }
   },
   "source": [
    "### Restricciones\n",
    "\n",
    "Llegó la hora de crear las restricciones del modelo. De nuevo, se utilizará el objeto `problema` y las variables creadas anteriormente. Además, será necesario utilizar algunos de los parámetros creados al principio. Vamos a crear las restricciones en el orden en que se formularon. Abajo encontrarás algunos consejos que aplican para todas las restricciones. Antes de cada restricción se incluyen algunas instrucciones más detalladas.\n",
    "\n",
    "**Consejos para preguntas 4 a 9**\n",
    "\n",
    "> **Recuerda** que para crear restricciones se debe usar la sintaxis: `<modelo> += <expresion_lado_izq> ==|>=|<= <expresion_lado_der>, 'Nombre_de_la_restriccion'`\n",
    "\n",
    "> **Recuerda** que las expresiones son combinaciones lineales de las variables, como: `<var1>*<const1> + <var2>*<const2>`\n",
    "\n",
    "> **Recuerda** que puedes usar `lp.lpSum()` para crear sumatorias (ver **Pregunta 3**)\n",
    "\n",
    "> **Recuerda** que para crear múltiples restricciones usando $\\forall i \\in I$, se debe utilizar la sintaxis:\n",
    ">>    * `for i in I:` \n",
    ">>       * `<restriccion>`\n",
    "\n",
    "> **Ejemplo**\n",
    ">> La siguiente restricción: $\\sum_{i \\in I} a_{ij} x_{ij} \\geq 1, \\; \\forall j \\in J$ es equivalente a:\n",
    ">> ```python\n",
    "for j in J:\n",
    "    <modelo> += lp.lpSum(a[i,j] * x[i,j] for i in I) >= 1, 'R1_'+str(j)\n",
    "```\n",
    "> **Advertencia**: `pulp` no permite sobreescribir restricciones, entonces, si ya creaste una restricción y quieres crearla de nuevo para corregir algo, asegúrate de volver a crear el modelo `problema` desde el principio (nosotros haremos esto antes de calificar, no te preocupes)."
   ]
  },
  {
   "cell_type": "markdown",
   "metadata": {
    "deletable": false,
    "editable": false,
    "nbgrader": {
     "cell_type": "markdown",
     "checksum": "185296dedf05125223e8dd71217d2ccb",
     "grade": false,
     "grade_id": "cell-a5b57aae9b26a5b3",
     "locked": true,
     "schema_version": 3,
     "solution": false,
     "task": false
    }
   },
   "source": [
    "**Pregunta 4 (10 puntos)**\n",
    "* Crea la siguiente restricción, asignale el nombre `'R1_'+str(<indice_del_para_todo>)` y añadela al modelo:\n",
    "> 1. Un pozo se explota máximo una vez en el horizonte de planeación\n",
    ">> $\\sum_{t\\in T}x_{it} \\, \\leq \\, 1, \\; \\forall i\\in P$"
   ]
  },
  {
   "cell_type": "code",
   "execution_count": 17,
   "metadata": {
    "deletable": false,
    "nbgrader": {
     "cell_type": "code",
     "checksum": "145e8a4caf554f3009d09e569a51630a",
     "grade": false,
     "grade_id": "cell-010c9f893a5fde68",
     "locked": false,
     "schema_version": 3,
     "solution": true,
     "task": false
    }
   },
   "outputs": [],
   "source": [
    "# your code here\n",
    "\n",
    "# Para cada pozo i, la suma de todas las decisiones de perforación a través de todos los años t debe ser ≤ 1\n",
    "\n",
    "# Iteramos sobre cada pozo en el conjunto Pozos\n",
    "for i in Pozos:\n",
    "    # Para cada pozo i, creamos una restricción que suma todas las variables x[i,t] para todos los años t\n",
    "    # lp.lpSum() crea la sumatoria ∑_{t∈T} x_{it}\n",
    "    # La restricción dice: la suma debe ser <= 1\n",
    "    # Nombre de la restricción: 'R1_' + nombre del pozo\n",
    "    problema += lp.lpSum(x[i, t] for t in Tiempos) <= 1, 'R1_'+str(i)"
   ]
  },
  {
   "cell_type": "code",
   "execution_count": 16,
   "metadata": {
    "deletable": false,
    "editable": false,
    "nbgrader": {
     "cell_type": "code",
     "checksum": "3a7573674d02fbe5e92923a22bf92f8b",
     "grade": true,
     "grade_id": "cell-d5a2b7ec53f1f864",
     "locked": true,
     "points": 10,
     "schema_version": 3,
     "solution": false,
     "task": false
    }
   },
   "outputs": [],
   "source": [
    "# Esta celda esta reservada para uso del equipo docente"
   ]
  },
  {
   "cell_type": "markdown",
   "metadata": {},
   "source": [
    "**Pregunta 5 (10 puntos)**\n",
    "* Crea la siguiente restricción, asignale el nombre `'R2'` y añadela al modelo:\n",
    "> 2. La inversión total no puede superar el presupuesto\n",
    ">>$\\sum_{t\\in T}\\sum_{i\\in P}c_{it}x_{it} \\, \\leq \\, b$"
   ]
  },
  {
   "cell_type": "code",
   "execution_count": null,
   "metadata": {
    "deletable": false,
    "nbgrader": {
     "cell_type": "code",
     "checksum": "cbf2deb9499fd685bb0a93a9ad8787eb",
     "grade": false,
     "grade_id": "cell-0d5f4c9956c8d48b",
     "locked": false,
     "schema_version": 3,
     "solution": true,
     "task": false
    }
   },
   "outputs": [
    {
     "ename": "KeyError",
     "evalue": "('pozo1', 'anio1')",
     "output_type": "error",
     "traceback": [
      "\u001b[1;31m---------------------------------------------------------------------------\u001b[0m",
      "\u001b[1;31mKeyError\u001b[0m                                  Traceback (most recent call last)",
      "Cell \u001b[1;32mIn[45], line 5\u001b[0m\n\u001b[0;32m      3\u001b[0m \u001b[39mfor\u001b[39;00m pozo \u001b[39min\u001b[39;00m pozos:\n\u001b[0;32m      4\u001b[0m     \u001b[39mfor\u001b[39;00m anio \u001b[39min\u001b[39;00m anios:\n\u001b[1;32m----> 5\u001b[0m         problema \u001b[39m+\u001b[39m\u001b[39m=\u001b[39m c[(pozo, anio)] \u001b[39m*\u001b[39m x[(pozo, anio)] \u001b[39m<\u001b[39m\u001b[39m=\u001b[39m b, \u001b[39m'\u001b[39m\u001b[39mR2\u001b[39m\u001b[39m'\u001b[39m\n",
      "\u001b[1;31mKeyError\u001b[0m: ('pozo1', 'anio1')"
     ]
    }
   ],
   "source": [
    "# your code here\n"
   ]
  },
  {
   "cell_type": "code",
   "execution_count": 18,
   "metadata": {
    "deletable": false,
    "editable": false,
    "nbgrader": {
     "cell_type": "code",
     "checksum": "193fb1b55ecc5c945f9481c6fa9180d4",
     "grade": true,
     "grade_id": "cell-bd84b72c8f4d5764",
     "locked": true,
     "points": 10,
     "schema_version": 3,
     "solution": false,
     "task": false
    }
   },
   "outputs": [],
   "source": [
    "# Esta celda esta reservada para uso del equipo docente"
   ]
  },
  {
   "cell_type": "markdown",
   "metadata": {},
   "source": [
    "**Pregunta 6 (10 puntos)**\n",
    "* Crea la siguiente restricción, asignale el nombre `'R3_'+str(<indice_del_para_todo>)` y añadela al modelo:\n",
    "> 3. Las metas de producción (en miles de barriles diarios) deben ser cumplidas\n",
    ">>$\\sum_{i\\in P}p_i x_{it} \\, \\geq \\, m_t \\; \\forall t\\in T$\n",
    "\n",
    "> **Recuerda** que el parámetro $p_i$ es el promedio diario (miles de barriles) de crudo producidos en el pozo $i\\in P$. Por esta razón, en la restricción tendrás que usar los parámetros `prodMin`, `prodModa`, y `prodMax` para calcular este promedio. Revisa el vídeo 'Formulación del caso'.   "
   ]
  },
  {
   "cell_type": "code",
   "execution_count": null,
   "metadata": {
    "deletable": false,
    "nbgrader": {
     "cell_type": "code",
     "checksum": "5a32c0bfe273b24219136e04d08ca68c",
     "grade": false,
     "grade_id": "cell-261d3f3a7c2920dc",
     "locked": false,
     "schema_version": 3,
     "solution": true,
     "task": false
    }
   },
   "outputs": [
    {
     "ename": "TypeError",
     "evalue": "'int' object is not subscriptable",
     "output_type": "error",
     "traceback": [
      "\u001b[1;31m---------------------------------------------------------------------------\u001b[0m",
      "\u001b[1;31mTypeError\u001b[0m                                 Traceback (most recent call last)",
      "Cell \u001b[1;32mIn[47], line 4\u001b[0m\n\u001b[0;32m      1\u001b[0m \u001b[39m# your code here\u001b[39;00m\n\u001b[0;32m      2\u001b[0m \u001b[39m# Restricción: Las metas de producción deben ser cumplidas\u001b[39;00m\n\u001b[0;32m      3\u001b[0m \u001b[39mfor\u001b[39;00m anio \u001b[39min\u001b[39;00m anios:\n\u001b[1;32m----> 4\u001b[0m     promedio_diario \u001b[39m=\u001b[39m \u001b[39msum\u001b[39;49m(prodMin[pozo][anio] \u001b[39m+\u001b[39;49m \u001b[39m4\u001b[39;49m \u001b[39m*\u001b[39;49m prodModa[pozo][anio] \u001b[39m+\u001b[39;49m prodMax[pozo][anio] \u001b[39mfor\u001b[39;49;00m pozo \u001b[39min\u001b[39;49;00m prodMin\u001b[39m.\u001b[39;49mkeys()) \u001b[39m/\u001b[39m \u001b[39m6\u001b[39m\n\u001b[0;32m      5\u001b[0m     problema \u001b[39m+\u001b[39m\u001b[39m=\u001b[39m \u001b[39msum\u001b[39m(p[pozo] \u001b[39m*\u001b[39m x[(pozo, anio)] \u001b[39mfor\u001b[39;00m pozo \u001b[39min\u001b[39;00m pozos) \u001b[39m>\u001b[39m\u001b[39m=\u001b[39m promedio_diario \u001b[39m*\u001b[39m m[anio], \u001b[39m'\u001b[39m\u001b[39mR3_\u001b[39m\u001b[39m'\u001b[39m \u001b[39m+\u001b[39m \u001b[39mstr\u001b[39m(anio)\n",
      "Cell \u001b[1;32mIn[47], line 4\u001b[0m, in \u001b[0;36m<genexpr>\u001b[1;34m(.0)\u001b[0m\n\u001b[0;32m      1\u001b[0m \u001b[39m# your code here\u001b[39;00m\n\u001b[0;32m      2\u001b[0m \u001b[39m# Restricción: Las metas de producción deben ser cumplidas\u001b[39;00m\n\u001b[0;32m      3\u001b[0m \u001b[39mfor\u001b[39;00m anio \u001b[39min\u001b[39;00m anios:\n\u001b[1;32m----> 4\u001b[0m     promedio_diario \u001b[39m=\u001b[39m \u001b[39msum\u001b[39m(prodMin[pozo][anio] \u001b[39m+\u001b[39m \u001b[39m4\u001b[39m \u001b[39m*\u001b[39m prodModa[pozo][anio] \u001b[39m+\u001b[39m prodMax[pozo][anio] \u001b[39mfor\u001b[39;00m pozo \u001b[39min\u001b[39;00m prodMin\u001b[39m.\u001b[39mkeys()) \u001b[39m/\u001b[39m \u001b[39m6\u001b[39m\n\u001b[0;32m      5\u001b[0m     problema \u001b[39m+\u001b[39m\u001b[39m=\u001b[39m \u001b[39msum\u001b[39m(p[pozo] \u001b[39m*\u001b[39m x[(pozo, anio)] \u001b[39mfor\u001b[39;00m pozo \u001b[39min\u001b[39;00m pozos) \u001b[39m>\u001b[39m\u001b[39m=\u001b[39m promedio_diario \u001b[39m*\u001b[39m m[anio], \u001b[39m'\u001b[39m\u001b[39mR3_\u001b[39m\u001b[39m'\u001b[39m \u001b[39m+\u001b[39m \u001b[39mstr\u001b[39m(anio)\n",
      "\u001b[1;31mTypeError\u001b[0m: 'int' object is not subscriptable"
     ]
    }
   ],
   "source": [
    "# your code here\n"
   ]
  },
  {
   "cell_type": "code",
   "execution_count": 20,
   "metadata": {
    "deletable": false,
    "editable": false,
    "nbgrader": {
     "cell_type": "code",
     "checksum": "3adad4943c0647408416690c9bb332cb",
     "grade": true,
     "grade_id": "cell-bdfj572c8f4d5764",
     "locked": true,
     "points": 10,
     "schema_version": 3,
     "solution": false,
     "task": false
    }
   },
   "outputs": [],
   "source": [
    "# Esta celda esta reservada para uso del equipo docente"
   ]
  },
  {
   "cell_type": "markdown",
   "metadata": {},
   "source": [
    "**Pregunta 7 (10 puntos)**\n",
    "* Crea la siguiente restricción, asignale el nombre `'R4_'+str(<indice_del_para_todo>)` y añadela al modelo:\n",
    "> 4. No se debe exceder la cantidad de operarios disponibles\n",
    ">> *# Para desarrollo del estudiante*"
   ]
  },
  {
   "cell_type": "code",
   "execution_count": 21,
   "metadata": {
    "deletable": false,
    "nbgrader": {
     "cell_type": "code",
     "checksum": "e0f5579e9bd2386944c319663de50f69",
     "grade": false,
     "grade_id": "cell-70d96f924b589631",
     "locked": false,
     "schema_version": 3,
     "solution": true,
     "task": false
    }
   },
   "outputs": [],
   "source": [
    "# your code here\n"
   ]
  },
  {
   "cell_type": "code",
   "execution_count": 22,
   "metadata": {
    "deletable": false,
    "editable": false,
    "nbgrader": {
     "cell_type": "code",
     "checksum": "fdcff992291cb03213dd999eb67e614a",
     "grade": true,
     "grade_id": "cell-bdfj172c8f412764",
     "locked": true,
     "points": 10,
     "schema_version": 3,
     "solution": false,
     "task": false
    }
   },
   "outputs": [],
   "source": [
    "# Esta celda esta reservada para uso del equipo docente\n"
   ]
  },
  {
   "cell_type": "markdown",
   "metadata": {},
   "source": [
    "**Pregunta 8 (10 puntos)**\n",
    "* Crea la siguiente restricción, asignale el nombre `'R5_'+str(<indice_del_para_todo>)` y añadela al modelo:\n",
    "> 5. No se debe exceder la cantidad de generadores disponibles\n",
    ">> *# Para desarrollo del estudiante*"
   ]
  },
  {
   "cell_type": "code",
   "execution_count": 23,
   "metadata": {
    "deletable": false,
    "nbgrader": {
     "cell_type": "code",
     "checksum": "1af78a4fc42a3ad1677d3815637d9e32",
     "grade": false,
     "grade_id": "cell-3d0e786e8b618f8f",
     "locked": false,
     "schema_version": 3,
     "solution": true,
     "task": false
    }
   },
   "outputs": [],
   "source": [
    "# your code here\n"
   ]
  },
  {
   "cell_type": "code",
   "execution_count": 24,
   "metadata": {
    "deletable": false,
    "editable": false,
    "nbgrader": {
     "cell_type": "code",
     "checksum": "411d2277b54e8a2b03f5f4418bb63545",
     "grade": true,
     "grade_id": "cell-bdfj172c8f419764",
     "locked": true,
     "points": 10,
     "schema_version": 3,
     "solution": false,
     "task": false
    }
   },
   "outputs": [],
   "source": [
    "# Esta celda esta reservada para uso del equipo docente"
   ]
  },
  {
   "cell_type": "markdown",
   "metadata": {},
   "source": [
    "**Pregunta 9 (10 puntos)**\n",
    "* Crea la siguiente restricción, asignale el nombre `'R6'` y añadela al modelo:\n",
    "> 6. No se debe exceder la cantidad de pozos perforados impuesta por el gobierno\n",
    ">> *# Para desarrollo del estudiante*"
   ]
  },
  {
   "cell_type": "code",
   "execution_count": 25,
   "metadata": {
    "deletable": false,
    "nbgrader": {
     "cell_type": "code",
     "checksum": "e87fec444110bd3d477c7f71f3b81e98",
     "grade": false,
     "grade_id": "cell-1b9d4630f01eb813",
     "locked": false,
     "schema_version": 3,
     "solution": true,
     "task": false
    }
   },
   "outputs": [],
   "source": [
    "# your code here\n"
   ]
  },
  {
   "cell_type": "code",
   "execution_count": 26,
   "metadata": {
    "deletable": false,
    "editable": false,
    "nbgrader": {
     "cell_type": "code",
     "checksum": "42e20c043d807f7b7161fc9b0b75ca25",
     "grade": true,
     "grade_id": "cell-1084e4c88101a003",
     "locked": true,
     "points": 10,
     "schema_version": 3,
     "solution": false,
     "task": false
    }
   },
   "outputs": [],
   "source": [
    "# Esta celda esta reservada para uso del equipo docente"
   ]
  },
  {
   "cell_type": "code",
   "execution_count": 27,
   "metadata": {
    "deletable": false,
    "editable": false,
    "nbgrader": {
     "cell_type": "code",
     "checksum": "04327b129ede6156537a6f50dedace88",
     "grade": true,
     "grade_id": "cell-852cae9567dbdf14",
     "locked": true,
     "points": 0,
     "schema_version": 3,
     "solution": false,
     "task": false
    }
   },
   "outputs": [],
   "source": [
    "# Esta celda esta reservada para uso del equipo docente"
   ]
  },
  {
   "cell_type": "markdown",
   "metadata": {
    "deletable": false,
    "editable": false,
    "nbgrader": {
     "cell_type": "markdown",
     "checksum": "b54dbe243acbf4eefbff44c1ce611917",
     "grade": false,
     "grade_id": "cell-31445d212bcb279b",
     "locked": true,
     "schema_version": 3,
     "solution": false,
     "task": false
    }
   },
   "source": [
    "### Invocar el optimizador\n",
    "\n",
    "Ahora que el modelo esta listo, viene la mejor parte: ¡Correr el modelo!. La celda a continuación se encarga de llamar al optimizador de `pulp` y guardar las soluciones del modelo (si llega a optimalidad) en los objetos modelo y variables. Más adelante miraremos cómo extraer la solución y otras métricas de interés."
   ]
  },
  {
   "cell_type": "code",
   "execution_count": 28,
   "metadata": {
    "deletable": false,
    "editable": false,
    "nbgrader": {
     "cell_type": "code",
     "checksum": "81b40dd693a3f27ef94f769e18b58789",
     "grade": false,
     "grade_id": "cell-b924c09dcdd338ad",
     "locked": true,
     "schema_version": 3,
     "solution": false,
     "task": false
    }
   },
   "outputs": [
    {
     "ename": "NameError",
     "evalue": "name 'problema' is not defined",
     "output_type": "error",
     "traceback": [
      "\u001b[1;31m---------------------------------------------------------------------------\u001b[0m",
      "\u001b[1;31mNameError\u001b[0m                                 Traceback (most recent call last)",
      "Cell \u001b[1;32mIn[28], line 1\u001b[0m\n\u001b[1;32m----> 1\u001b[0m problema\u001b[39m.\u001b[39msolve()\n",
      "\u001b[1;31mNameError\u001b[0m: name 'problema' is not defined"
     ]
    }
   ],
   "source": [
    "problema.solve()"
   ]
  },
  {
   "cell_type": "markdown",
   "metadata": {
    "deletable": false,
    "editable": false,
    "nbgrader": {
     "cell_type": "markdown",
     "checksum": "6ce17df280f160726c71dc94accbf45b",
     "grade": false,
     "grade_id": "cell-b1766f2e759f8b12",
     "locked": true,
     "schema_version": 3,
     "solution": false,
     "task": false
    }
   },
   "source": [
    "## Reporte de resultados\n",
    "---"
   ]
  },
  {
   "cell_type": "markdown",
   "metadata": {
    "deletable": false,
    "editable": false,
    "nbgrader": {
     "cell_type": "markdown",
     "checksum": "086685c40497de4cc14be322a0b79a78",
     "grade": false,
     "grade_id": "cell-1422f3d782be0722",
     "locked": true,
     "schema_version": 3,
     "solution": false,
     "task": false
    }
   },
   "source": [
    "### Estado del optimizador y función objetivo\n",
    "\n",
    "Después de correr el modelo, es muy común consultar el estado del optimizador y el valor de la función objetivo. A continuación, te compartimos las intrucciones para que lo puedas hacer tú mismo."
   ]
  },
  {
   "cell_type": "markdown",
   "metadata": {
    "deletable": false,
    "editable": false,
    "nbgrader": {
     "cell_type": "markdown",
     "checksum": "438ccdebff174617e3da6982ffe88906",
     "grade": false,
     "grade_id": "cell-bb6c4816921d114a",
     "locked": true,
     "schema_version": 3,
     "solution": false,
     "task": false
    }
   },
   "source": [
    "**Pregunta 10 (5 puntos)**\n",
    "* Despues de haber corrido el modelo: `<modelo>.solve()`, asigna a una nueva variable el estado del optimizador **en palabras** según `lp.LpStatus`. Esta nueva variable debe tener el nombre `estado`.\n",
    "\n",
    "> **Recuerda** que al finalizar de correr el modelo, `<modelo>.status` tomará un valor de 1, -1, -2 o -3, que hace referencia a algún estado del optimizador:\n",
    "*  0 $\\rightarrow$ Sin Resolver: No se ha usado `<modelo>.solve()`\n",
    "*  1 $\\rightarrow$ Óptimo\n",
    "* -1 $\\rightarrow$ Infactible\n",
    "* -2 $\\rightarrow$ No acotado \n",
    "* -3 $\\rightarrow$ Otros\n",
    "\n",
    "> **Recuerda** que `lp.LpStatus` es un diccionario en PuLP que tiene como llaves los `status` del optimizador (número) y en los valores contiene el estados del optimizador correspondientes en palabras.\n",
    "\n",
    "> **Recuerda** que puedes inspeccionar el contenido de `lp.LpStatus` corriendolo en una celda"
   ]
  },
  {
   "cell_type": "code",
   "execution_count": null,
   "metadata": {
    "deletable": false,
    "nbgrader": {
     "cell_type": "code",
     "checksum": "6d18b4f3851aeb18d1e49c00e43212d2",
     "grade": false,
     "grade_id": "cell-03db51e48921e8fd",
     "locked": false,
     "schema_version": 3,
     "solution": true,
     "task": false
    }
   },
   "outputs": [],
   "source": [
    "# your code here\n"
   ]
  },
  {
   "cell_type": "code",
   "execution_count": null,
   "metadata": {
    "deletable": false,
    "editable": false,
    "nbgrader": {
     "cell_type": "code",
     "checksum": "6f204091b546c018214be78a62b7b43a",
     "grade": true,
     "grade_id": "cell-41cc4d4ddc114ccc",
     "locked": true,
     "points": 5,
     "schema_version": 3,
     "solution": false,
     "task": false
    }
   },
   "outputs": [],
   "source": [
    "# Esta celda esta reservada para uso del equipo docente"
   ]
  },
  {
   "cell_type": "markdown",
   "metadata": {
    "deletable": false,
    "editable": false,
    "nbgrader": {
     "cell_type": "markdown",
     "checksum": "15a010c5d2d75c5df051b29556e3c7cd",
     "grade": false,
     "grade_id": "cell-bb6c4816921e114a",
     "locked": true,
     "schema_version": 3,
     "solution": false,
     "task": false
    }
   },
   "source": [
    "**Pregunta 11 (5 puntos)**\n",
    "\n",
    "* Asigna el valor de la función objetivo a la variable `obj`\n",
    "\n",
    "> **Recuerda** que `<modelo>.objective` contiene la **expresión** de la función objetivo, sin embargo, para conocer el **valor** de la función objetivo se debe reemplazar los valores de las variables en la solución dentro de esta expresión. Por fortuna, PuLP tiene una función que hace justo eso: `lp.value(<expresion>)`.\n"
   ]
  },
  {
   "cell_type": "code",
   "execution_count": null,
   "metadata": {
    "deletable": false,
    "nbgrader": {
     "cell_type": "code",
     "checksum": "47489c95bb1cf62bd2dff8bb592c9f63",
     "grade": false,
     "grade_id": "cell-d113a43b69cb065a",
     "locked": false,
     "schema_version": 3,
     "solution": true,
     "task": false
    }
   },
   "outputs": [],
   "source": [
    "# your code here\n"
   ]
  },
  {
   "cell_type": "code",
   "execution_count": null,
   "metadata": {
    "deletable": false,
    "editable": false,
    "nbgrader": {
     "cell_type": "code",
     "checksum": "25f1644d61b56c0d984802b87c62f924",
     "grade": true,
     "grade_id": "cell-41cc4d4dde114ccc",
     "locked": true,
     "points": 5,
     "schema_version": 3,
     "solution": false,
     "task": false
    }
   },
   "outputs": [],
   "source": [
    "# Esta celda esta reservada para uso del equipo docente"
   ]
  },
  {
   "cell_type": "markdown",
   "metadata": {
    "deletable": false,
    "editable": false,
    "nbgrader": {
     "cell_type": "markdown",
     "checksum": "9a8fb6ff92a053def428ee6ae4ffdfef",
     "grade": false,
     "grade_id": "cell-d3a730458e702722",
     "locked": true,
     "schema_version": 3,
     "solution": false,
     "task": false
    }
   },
   "source": [
    "### Valores de las variables\n",
    "\n",
    "También nos interesa conocer el valor de valor de las variables en la solución. Fíjate cómo usamos el método `.value()` sobre la variable `x[i,t]` para conocer su valor en la solución. El resto del código se encarga de mostrar estos valores binarios de forma organizada usando un `DataFrame` de la librería `pandas`."
   ]
  },
  {
   "cell_type": "markdown",
   "metadata": {
    "deletable": false,
    "editable": false,
    "nbgrader": {
     "cell_type": "markdown",
     "checksum": "664f8ea30f1729b80a59716703b12327",
     "grade": false,
     "grade_id": "cell-0254e0b1f475a1b0",
     "locked": true,
     "schema_version": 3,
     "solution": false,
     "task": false
    }
   },
   "source": [
    "#### Pozos a perforar en cada año"
   ]
  },
  {
   "cell_type": "code",
   "execution_count": null,
   "metadata": {
    "deletable": false,
    "editable": false,
    "nbgrader": {
     "cell_type": "code",
     "checksum": "8cdbb92d0d898bc9c60f2e228a4aee51",
     "grade": false,
     "grade_id": "cell-af28a5b62394b3cb",
     "locked": true,
     "schema_version": 3,
     "solution": false,
     "task": false
    }
   },
   "outputs": [],
   "source": []
  },
  {
   "cell_type": "markdown",
   "metadata": {
    "deletable": false,
    "editable": false,
    "nbgrader": {
     "cell_type": "markdown",
     "checksum": "1ef423d99602f950aa2019392ce1bcf5",
     "grade": false,
     "grade_id": "cell-d8de64db6109dbc1",
     "locked": true,
     "schema_version": 3,
     "solution": false,
     "task": false
    }
   },
   "source": [
    "### Otros indicadores\n",
    "\n",
    "En ocasiones, además del valor de la función objetivo, nos interesa conocer otros indicadores. En este caso, nos puede interesar el costo total de inversión. A continuación, te mostramos cómo se calcula. Fíjate cómo usamos el método `lp.value()` sobre la variable `x[i,t]` para conocer su valor en la solución."
   ]
  },
  {
   "cell_type": "code",
   "execution_count": null,
   "metadata": {
    "deletable": false,
    "editable": false,
    "nbgrader": {
     "cell_type": "code",
     "checksum": "06203d14e11644dbfc802a124a757e69",
     "grade": false,
     "grade_id": "cell-f493be62bb14e222",
     "locked": true,
     "schema_version": 3,
     "solution": false,
     "task": false
    }
   },
   "outputs": [],
   "source": []
  },
  {
   "cell_type": "markdown",
   "metadata": {
    "deletable": false,
    "editable": false,
    "nbgrader": {
     "cell_type": "markdown",
     "checksum": "6333fc79885c4314e846e861dd6ce4cf",
     "grade": false,
     "grade_id": "cell-e0d381e3a1dcc404",
     "locked": true,
     "schema_version": 3,
     "solution": false,
     "task": false
    }
   },
   "source": [
    "También nos puede interesar la producción, operarios y generadores utilizados en cada año, simplemente usamos la expresión que calcula cada uno de los indicadores y los reemplazamos los valores de `lp.value(x[i,t])` dentro de la expresión."
   ]
  },
  {
   "cell_type": "code",
   "execution_count": null,
   "metadata": {
    "deletable": false,
    "editable": false,
    "nbgrader": {
     "cell_type": "code",
     "checksum": "fb4fd03c7f1da366badc08617a82e7d0",
     "grade": false,
     "grade_id": "cell-8870b7c411c93ff5",
     "locked": true,
     "schema_version": 3,
     "solution": false,
     "task": false
    }
   },
   "outputs": [],
   "source": []
  },
  {
   "cell_type": "markdown",
   "metadata": {
    "deletable": false,
    "editable": false,
    "nbgrader": {
     "cell_type": "markdown",
     "checksum": "b9de669cfd124b58943b498ec3d67df9",
     "grade": false,
     "grade_id": "cell-fd6a91eb23723db3",
     "locked": true,
     "schema_version": 3,
     "solution": false,
     "task": false
    }
   },
   "source": [
    "## Visualizaciones\n",
    "---\n",
    "\n",
    "Una forma eficiente de comunicar resultados de interés es mediante el uso de gráficas. A continuación, te mostramos algunos ejemplos utilizando la librería `matplotlib.pyplot`."
   ]
  },
  {
   "cell_type": "markdown",
   "metadata": {
    "deletable": false,
    "editable": false,
    "nbgrader": {
     "cell_type": "markdown",
     "checksum": "e646e79a8c1bc0946504dba75dbd8235",
     "grade": false,
     "grade_id": "cell-83d8e0c4992d661d",
     "locked": true,
     "schema_version": 3,
     "solution": false,
     "task": false
    }
   },
   "source": [
    "### Metas de producción"
   ]
  },
  {
   "cell_type": "code",
   "execution_count": null,
   "metadata": {
    "deletable": false,
    "editable": false,
    "nbgrader": {
     "cell_type": "code",
     "checksum": "eaae6eeb808d64a2c626997d3bbb3789",
     "grade": false,
     "grade_id": "cell-a35affd66d80a167",
     "locked": true,
     "schema_version": 3,
     "solution": false,
     "task": false
    }
   },
   "outputs": [],
   "source": []
  },
  {
   "cell_type": "markdown",
   "metadata": {
    "deletable": false,
    "editable": false,
    "nbgrader": {
     "cell_type": "markdown",
     "checksum": "5293c5e312a84fbca193f9dcea51f0e4",
     "grade": false,
     "grade_id": "cell-95e4dfb4757dd270",
     "locked": true,
     "schema_version": 3,
     "solution": false,
     "task": false
    }
   },
   "source": [
    "### Uso de operarios"
   ]
  },
  {
   "cell_type": "code",
   "execution_count": null,
   "metadata": {
    "deletable": false,
    "editable": false,
    "nbgrader": {
     "cell_type": "code",
     "checksum": "980661e23ca873ffe8c469ac115149b6",
     "grade": false,
     "grade_id": "cell-673b0379d3febdae",
     "locked": true,
     "schema_version": 3,
     "solution": false,
     "task": false
    }
   },
   "outputs": [],
   "source": []
  },
  {
   "cell_type": "markdown",
   "metadata": {
    "deletable": false,
    "editable": false,
    "nbgrader": {
     "cell_type": "markdown",
     "checksum": "6169772cfc489d3a87bff38c5f53fe2e",
     "grade": false,
     "grade_id": "cell-9a9b6218d7cb3c42",
     "locked": true,
     "schema_version": 3,
     "solution": false,
     "task": false
    }
   },
   "source": [
    "### Uso de generadores"
   ]
  },
  {
   "cell_type": "code",
   "execution_count": null,
   "metadata": {
    "deletable": false,
    "editable": false,
    "nbgrader": {
     "cell_type": "code",
     "checksum": "91be2bb86777fa49f4e3da6f63a370d6",
     "grade": false,
     "grade_id": "cell-3384db5d1d236f6e",
     "locked": true,
     "schema_version": 3,
     "solution": false,
     "task": false
    }
   },
   "outputs": [],
   "source": []
  },
  {
   "cell_type": "markdown",
   "metadata": {
    "deletable": false,
    "editable": false,
    "nbgrader": {
     "cell_type": "markdown",
     "checksum": "24c17cffe78caa92a65e560429b1edda",
     "grade": false,
     "grade_id": "cell-2fe5051c526bb342",
     "locked": true,
     "schema_version": 3,
     "solution": false,
     "task": false
    }
   },
   "source": [
    "## Opcional (0 puntos)\n",
    "\n",
    "*Una vez esté listo el modelo, puedes cambiar los valores de los parámetros de la próxima celda para verificar como cambian las soluciones y la función objetivo. Para esto debes correr nuevamente las celdas que crean el modelo desde el principio*"
   ]
  },
  {
   "cell_type": "code",
   "execution_count": null,
   "metadata": {},
   "outputs": [],
   "source": [
    "# Parametros modificables\n",
    "\n",
    "# Presupuesto máximo\n",
    "presupuesto = 100\n",
    "\n",
    "# Máximo número de proyectos a realizar - restricción ambiental\n",
    "maxProyectos = 12  \n",
    "\n",
    "# Máximo número de operarios por año\n",
    "maxOperarios = 4   \n",
    "\n",
    "# Máximo número de generadores por año\n",
    "maxGeneradores = 4 "
   ]
  }
 ],
 "metadata": {
  "kernelspec": {
   "display_name": "Python 3",
   "language": "python",
   "name": "python3"
  },
  "language_info": {
   "codemirror_mode": {
    "name": "ipython",
    "version": 3
   },
   "file_extension": ".py",
   "mimetype": "text/x-python",
   "name": "python",
   "nbconvert_exporter": "python",
   "pygments_lexer": "ipython3",
   "version": "3.13.7"
  }
 },
 "nbformat": 4,
 "nbformat_minor": 5
}
