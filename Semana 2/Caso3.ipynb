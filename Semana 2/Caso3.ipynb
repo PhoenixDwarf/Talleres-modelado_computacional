{
 "cells": [
  {
   "cell_type": "markdown",
   "metadata": {
    "deletable": false,
    "editable": false,
    "nbgrader": {
     "cell_type": "markdown",
     "checksum": "2d0c517e80d6622c963d8e8dac2ae32e",
     "grade": false,
     "grade_id": "cell-e8fa9269aba80c31",
     "locked": true,
     "schema_version": 3,
     "solution": false,
     "task": false
    }
   },
   "source": [
    "# Caso 3: Selección y Programación de Proyectos I\n",
    "\n",
    "---\n"
   ]
  },
  {
   "cell_type": "markdown",
   "metadata": {
    "deletable": false,
    "editable": false,
    "nbgrader": {
     "cell_type": "markdown",
     "checksum": "5821bcce260e4b57679a1add3b70f2ee",
     "grade": false,
     "grade_id": "cell-e0edc45fa7ffec66",
     "locked": true,
     "schema_version": 3,
     "solution": false,
     "task": false
    }
   },
   "source": [
    "## Instrucciones generales\n",
    "\n",
    "El primer paso antes de resolver este laboratorio es leer y entender el **enunciado del caso**. Una vez tengas claro el caso, te explicamos la estructura de este laboratorio (los demás laboratorios siguen una estrucutra similar). \n",
    "\n",
    "Este laboratorio tiene las siguientes secciones: \n",
    "* **Formulación**: un breve resumen del modelo con notación matemática y descripción de sus componentes\n",
    "* **Importación de librerías**\n",
    "* **Creación de parámetros**\n",
    "* **Modelado**: aquí implementamos el modelo visto en la formulación (aquí encontrarás por lo general celdas de código que debes completar, ¡nosotros te guiaremos en el proceso!)\n",
    "* **Reporte de Resultados**: esta sección nos muestra las soluciones encontradas por el modelo y, en ocasiones, algunas visualizaciones interesantes para entenderlo mejor. (es posible que en ciertas prácticas debas completar algunas celdas también)\n",
    "\n",
    "Este tipo de actividades se evaluará sobre un total de 100 puntos. Las celdas calificables se distinguen por tener la instrucción `# your code here`. Antes de estas celdas  encontrarás instrucciones y consejos para resolver las preguntas, también el puntaje que le corresponde.\n",
    "\n",
    "¡Éxitos!"
   ]
  },
  {
   "cell_type": "markdown",
   "metadata": {
    "deletable": false,
    "editable": false,
    "nbgrader": {
     "cell_type": "markdown",
     "checksum": "f7aa9879c50e853561dbbe79236f72a7",
     "grade": false,
     "grade_id": "cell-9fbd2d9c824c07a3",
     "locked": true,
     "schema_version": 3,
     "solution": false,
     "task": false
    }
   },
   "source": [
    "## Formulación\n",
    "---\n",
    "\n",
    "Te presentamos la formulación del caso de la semana de forma resumida. Te recomendamos revisar la formulación una vez hayas leído el enunciado del caso. Es bueno que te familiarices con los elementos de la formulación antes de iniciar la implementación.\n",
    "\n",
    "### Conjuntos y Parámetros\n",
    ">#### **Conjuntos**\n",
    ">* $P$: conjunto de pozos candidatos\n",
    ">* $T$: conjunto de periodos (años) en el horizonte de planeación\n",
    "\n",
    ">#### **Parámetros**\n",
    ">* $n$: máximo número de pozos a perforar en el horizonte de planeación\n",
    ">* $b$: presupuesto total de la compañía para la realización de proyectos\n",
    ">* $s$: número de operarios disponibles por año\n",
    ">* $u$: número de generadores disponibles por año\n",
    ">* $p_i$: promedio diario (miles de barriles) de crudo producidos en el pozo $i\\in P$\n",
    ">* $o_i$: operarios requeridos para perforar el pozo $i\\in P$\n",
    ">* $g_i$: generadores requeridos para perforar el pozo $i\\in P$\n",
    ">* $m_t$: meta de producción (miles de barriles) promedio diaria para el año $t\\in T$\n",
    ">* $v_{it}$: utilidad esperada por perforar el pozo $i\\in P$ en el año $t\\in T$\n",
    ">* $c_{it}$: costo por perforar el pozo $i\\in P$ en el año $t\\in T$\n",
    "\n",
    "\n",
    "### Variables de Decisión\n",
    "> $x_{it} = \\begin{cases}1, & \\text{si el pozo} \\, i\\in P \\text{ se perfora en el año} \\, t\\in T \\\\ 0, & \\text{de lo contrario}\\end{cases}$\n",
    "\n",
    "\n",
    "### Restricciones\n",
    "> 1. Un pozo se explota máximo una vez en el horizonte de planeación\n",
    ">> $\\sum_{t\\in T}x_{it} \\, \\leq \\, 1, \\; \\forall i\\in P$\n",
    "> 2. La inversión total no puede superar el presupuesto\n",
    ">>$\\sum_{t\\in T}\\sum_{i\\in P}c_{it}x_{it} \\, \\leq \\, b$\n",
    "> 3. Las metas de producción (en miles de barriles diarios) deben ser cumplidas\n",
    ">>$\\sum_{i\\in P}p_i x_{it} \\, \\geq \\, m_t \\; \\forall t\\in T$\n",
    "> 4. No se debe exceder la cantidad de operarios disponibles\n",
    ">> *# Para desarrollo del estudiante*\n",
    "> 5. No se debe exceder la cantidad de generadores disponibles\n",
    ">> *# Para desarrollo del estudiante*\n",
    "> 6. No se debe exceder la cantidad de pozos perforados impuesta por el gobierno\n",
    ">> *# Para desarrollo del estudiante*\n",
    "\n",
    ">\n",
    "> **Naturaleza de las variables**\n",
    ">> $x_{it} \\in \\{0,1\\}, \\; \\forall i\\in P, t\\in T$\n",
    "\n",
    "### Función Objetivo\n",
    "> Maximizar las utilidades totales por perforar pozos durante el horizonte de pleaneación\n",
    ">> $ \\max \\; \\sum_{t\\in T}\\sum_{i\\in P}v_{it}x_{it}$"
   ]
  },
  {
   "cell_type": "markdown",
   "id": "f735917b",
   "metadata": {},
   "source": [
    "## Explicación de las Expresiones Matemáticas\n",
    "\n",
    "---\n",
    "\n",
    "### **Variables de Decisión**\n",
    "La variable $x_{it}$ es binaria (toma valores 0 o 1) y representa si el pozo $i$ se perfora en el año $t$:\n",
    "- $x_{it} = 1$: Se decide perforar el pozo $i$ en el año $t$\n",
    "- $x_{it} = 0$: No se perfora el pozo $i$ en el año $t$\n",
    "\n",
    "### **Restricciones Explicadas**\n",
    "\n",
    "**1. Restricción de unicidad de perforación:**\n",
    "$$\\sum_{t\\in T}x_{it} \\, \\leq \\, 1, \\; \\forall i\\in P$$\n",
    "- **Significado**: Para cada pozo $i$, la suma de todas las decisiones de perforación a través del tiempo debe ser máximo 1\n",
    "- **Interpretación**: Un pozo puede perforarse máximo una vez durante todo el horizonte de planeación (no se puede perforar el mismo pozo en múltiples años)\n",
    "\n",
    "**2. Restricción de presupuesto:**\n",
    "$$\\sum_{t\\in T}\\sum_{i\\in P}c_{it}x_{it} \\, \\leq \\, b$$\n",
    "- **Significado**: La suma total de todos los costos de perforación no puede exceder el presupuesto disponible\n",
    "- **Interpretación**: El costo total de todos los proyectos seleccionados debe mantenerse dentro del límite financiero de la empresa\n",
    "\n",
    "**3. Restricción de metas de producción:**\n",
    "$$\\sum_{i\\in P}p_i x_{it} \\, \\geq \\, m_t \\; \\forall t\\in T$$\n",
    "- **Significado**: Para cada año $t$, la producción total de todos los pozos perforados debe cumplir o superar la meta establecida\n",
    "- **Interpretación**: La empresa debe garantizar que en cada año se alcance al menos el nivel mínimo de producción requerido\n",
    "\n",
    "### **Función Objetivo**\n",
    "$$\\max \\; \\sum_{t\\in T}\\sum_{i\\in P}v_{it}x_{it}$$\n",
    "- **Significado**: Maximizar la suma total de utilidades obtenidas por perforar pozos durante todo el horizonte de planeación\n",
    "- **Interpretación**: El objetivo es seleccionar qué pozos perforar y en qué años hacerlo para obtener el mayor beneficio económico posible\n",
    "\n",
    "### **Restricciones Pendientes de Desarrollo**\n",
    "Las restricciones 4, 5 y 6 siguen el mismo patrón:\n",
    "- **Restricción 4**: Limitar el uso de operarios por año (no exceder $s$ operarios disponibles)\n",
    "- **Restricción 5**: Limitar el uso de generadores por año (no exceder $u$ generadores disponibles)  \n",
    "- **Restricción 6**: Limitar el número total de pozos perforados (no exceder $n$ pozos en total)\n",
    "\n",
    "\n",
    "\n",
    "### **Formulación Completa de las Restricciones Faltantes**\n",
    "\n",
    "**4. Restricción de operarios disponibles:**\n",
    "$$\\sum_{i\\in P}o_i x_{it} \\, \\leq \\, s \\; \\forall t\\in T$$\n",
    "- **Significado**: Para cada año $t$, el número total de operarios requeridos por todos los pozos perforados no puede exceder la cantidad disponible\n",
    "- **Interpretación**: La empresa tiene un límite de operarios por año y debe asegurar que los proyectos seleccionados no excedan esta capacidad\n",
    "\n",
    "**5. Restricción de generadores disponibles:**\n",
    "$$\\sum_{i\\in P}g_i x_{it} \\, \\leq \\, u \\; \\forall t\\in T$$\n",
    "- **Significado**: Para cada año $t$, el número total de generadores requeridos por todos los pozos perforados no puede exceder la cantidad disponible\n",
    "- **Interpretación**: Similar a los operarios, existe una limitación en el número de generadores disponibles cada año\n",
    "\n",
    "**6. Restricción de máximo número de pozos:**\n",
    "$$\\sum_{t\\in T}\\sum_{i\\in P}x_{it} \\, \\leq \\, n$$\n",
    "- **Significado**: El número total de pozos perforados durante todo el horizonte de planeación no puede exceder el límite gubernamental\n",
    "- **Interpretación**: Existe una restricción ambiental/regulatoria que limita el número máximo de pozos que se pueden perforar en total\n"
   ]
  },
  {
   "cell_type": "markdown",
   "metadata": {
    "deletable": false,
    "editable": false,
    "nbgrader": {
     "cell_type": "markdown",
     "checksum": "e3c891b75a249e9e1597b62a22f668b2",
     "grade": false,
     "grade_id": "cell-db31881de45215f2",
     "locked": true,
     "schema_version": 3,
     "solution": false,
     "task": false
    }
   },
   "source": [
    "## Importación de librerías\n",
    "---\n",
    "\n",
    "Antes de empezar, es necesario importar los paquetes que vamos a utilizar durante la práctica.\n",
    "El paquete `pulp` permite crear modelos de optimización, crear variables, añadir restricciones y muchos más. Le asignamos el alias de `lp`.\n",
    "El paquete `pandas` es muy útil para el análisis de datos en general. Le asignamos el alias de `pd`.\n",
    "A lo largo del código, puedes corroborar que se usan estos paquetes cuando veas un objeto o método que empiece con los alias `lp.` o `pd.`"
   ]
  },
  {
   "cell_type": "code",
   "execution_count": 12,
   "metadata": {
    "deletable": false,
    "editable": false,
    "nbgrader": {
     "cell_type": "code",
     "checksum": "97ccf9ad9be5e4333b54cfb08fec26f2",
     "grade": false,
     "grade_id": "cell-8e960069c708e13f",
     "locked": true,
     "schema_version": 3,
     "solution": false,
     "task": false
    }
   },
   "outputs": [],
   "source": [
    "# Select kernel 3.13.2\n",
    "import pulp as lp  \n",
    "import pandas as pd"
   ]
  },
  {
   "cell_type": "code",
   "execution_count": 13,
   "metadata": {},
   "outputs": [
    {
     "name": "stdout",
     "output_type": "stream",
     "text": [
      "Name: PuLP\n",
      "Version: 3.2.2\n",
      "Summary: PuLP is an LP modeler written in python. PuLP can generate MPS or LP files and call GLPK, COIN CLP/CBC, CPLEX, and GUROBI to solve linear problems.\n",
      "Home-page: \n",
      "Author: J.S. Roy\n",
      "Author-email: \"S.A. Mitchell\" <pulp@stuartmitchell.com>, Franco Peschiera <pchtsp@gmail.com>\n",
      "License: MIT\n",
      "Location: /home/edwin/.local/lib/python3.13/site-packages\n",
      "Requires: \n",
      "Required-by: \n"
     ]
    }
   ],
   "source": [
    "!pip show pulp"
   ]
  },
  {
   "cell_type": "markdown",
   "metadata": {
    "deletable": false,
    "editable": false,
    "nbgrader": {
     "cell_type": "markdown",
     "checksum": "a12d0a18eb694704c51ec95412f33912",
     "grade": false,
     "grade_id": "cell-685b1f71ce44c0b0",
     "locked": true,
     "schema_version": 3,
     "solution": false,
     "task": false
    }
   },
   "source": [
    "## Creación de Parámetros\n",
    "---"
   ]
  },
  {
   "cell_type": "markdown",
   "metadata": {
    "deletable": false,
    "editable": false,
    "nbgrader": {
     "cell_type": "markdown",
     "checksum": "167cd05f2ade2287911167fa2f8fc2d1",
     "grade": false,
     "grade_id": "cell-139d636ca944c8b5",
     "locked": true,
     "schema_version": 3,
     "solution": false,
     "task": false
    }
   },
   "source": [
    "### Conjuntos\n",
    "\n",
    "Para empezar, es necesario crear los conjuntos que vimos en la formulación. Esto nos permite indexar variables, crear sumatorias, múltiples restricciones y demás. \n",
    "\n",
    "En Python, los conjuntos son sencillamente listas (`list`) que contienen los elementos de cada conjunto, como en el caso de `Pozos`. En ocasiones, cuando el conjunto contiene números ordenados (`Tiempos`), utilizamos la función `range(desde, hasta)` que crea una secuencia de números rápidamente. \n",
    "\n",
    "También es posible que alguna variable o parámetro tengan múltiples índices. Para estos casos, creamos una lista de tuplas (e.g. `(i,t)`) que contengan todas las posibles combinaciones de índices de los dos conjuntos. La lista `Pozo_x_Tiempo` tiene esta característica."
   ]
  },
  {
   "cell_type": "code",
   "execution_count": 14,
   "metadata": {
    "deletable": false,
    "editable": false,
    "nbgrader": {
     "cell_type": "code",
     "checksum": "aa980a5568249ee081813deeb568fc8e",
     "grade": false,
     "grade_id": "cell-2d3ede746edfae31",
     "locked": true,
     "schema_version": 3,
     "solution": false,
     "task": false
    }
   },
   "outputs": [],
   "source": [
    "# Conjunto de pozos\n",
    "Pozos = [\n",
    "    \"DELE B-1\",\n",
    "    \"EL MORRO-1\",\n",
    "    \"FLORENA A-5\",\n",
    "    \"FLORENA C-6\",\n",
    "    \"FLORENA N-2\",\n",
    "    \"FLORENA N-4 ST\",\n",
    "    \"FLORENA-T8\",\n",
    "    \"PAUTO J-6\",\n",
    "    \"PAUTO M4\",\n",
    "    \"PAUTO M-5\",\n",
    "    \"PAUTO SUR B-1\",\n",
    "    \"PAUTO SUR C-2\",\n",
    "    \"PAUTO-1\",\n",
    "    \"VOLCANERA A-1\",\n",
    "    \"VOLCANERA C-2\",\n",
    "]\n",
    "\n",
    "# Conjunto de años\n",
    "Tiempos = range(1, 11)\n",
    "\n",
    "# Conjunto de tuplas (pozo, año)\n",
    "Pozo_x_Tiempo = [(i, t) for i in Pozos for t in Tiempos]\n"
   ]
  },
  {
   "cell_type": "markdown",
   "metadata": {
    "deletable": false,
    "editable": false,
    "nbgrader": {
     "cell_type": "markdown",
     "checksum": "03302d6f62ac5c9fd38661fdf7a43d13",
     "grade": false,
     "grade_id": "cell-1f708cd5f28d33b1",
     "locked": true,
     "schema_version": 3,
     "solution": false,
     "task": false
    }
   },
   "source": [
    "### Parámetros\n",
    "\n",
    "Ahora bien, ya que se tienen los conjuntos, debemos crear los parámetros del problema. En ocasiones, algunos parámetros estarán guardados en archivos de soporte (`.csv`, `.xlsx`, etc.), pero en nuestro caso los vamos a crear manualmente para comprender el proceso de creación. \n",
    "\n",
    "Los parámetros deben ser numéricos (`int` o `float`). Si el parámetro no esta indexado en ningún conjunto, como `presupuesto`, simplemente se asigna el valor al objeto de Python. Por otro lado, si está indexado en algún conjunto, es necesario crear un diccionario `dict` con los índices en las **llaves** y los números en los **valores** del diccionario (ver `metas`). Para ser más eficientes, podemos crear un solo diccionario para varios parámetros que compartan los mismos índices, para esto, se colocan los índices en las **llaves** y los parámetros como una lista en cada uno de los **valores** (ver `dataPozos`). Sin embargo, es necesario separar este diccionario al final usando la función `lp.splitDict()` para usar cada parámetro de forma independiente."
   ]
  },
  {
   "cell_type": "code",
   "execution_count": 15,
   "metadata": {
    "deletable": false,
    "editable": false,
    "nbgrader": {
     "cell_type": "code",
     "checksum": "75c685d3b93a7a1c5d1e66cc9778d1f4",
     "grade": false,
     "grade_id": "cell-a1efce3521b97f19",
     "locked": true,
     "schema_version": 3,
     "solution": false,
     "task": false
    },
    "tags": []
   },
   "outputs": [],
   "source": [
    "# Parámetros no indexados\n",
    "\n",
    "# Presupuesto máximo\n",
    "presupuesto = 100 \n",
    "# Máximo número de proyectos a realizar - restricción ambiental\n",
    "maxProyectos = 12  \n",
    "# Máximo número de operarios por año\n",
    "maxOperarios = 4   \n",
    "# Máximo número de generadores por año\n",
    "maxGeneradores = 4 \n",
    "\n",
    "# Parámetros indexados en años\n",
    "# tiempo: meta (miles de barriles por día)\n",
    "metas = {1: 3, 2: 4, 3: 5, 4: 4, 5: 5, 6: 3, 7: 5, 8: 4, 9: 4, 10: 6}\n",
    "\n",
    "# Parámetros indexados en los pozos (abajo se separan en diccionarios diferentes)\n",
    "# pozo: prod.minima, prod.moda, prod.máxima, operarios, generadores\n",
    "dataPozos = {\n",
    "             'DELE B-1':       [1,3,4,3,3],\n",
    "             'EL MORRO-1':     [3,4,6,2,3],\n",
    "             'FLORENA A-5':    [3,6,7,4,2],\n",
    "             'FLORENA C-6':    [1,3,6,4,3],\n",
    "             'FLORENA N-2':    [4,6,10,3,2],\n",
    "             'FLORENA N-4 ST': [1,4,6,4,3],\n",
    "             'FLORENA-T8':     [2,4,8,2,2],\n",
    "             'PAUTO J-6':      [2,3,5,3,2],\n",
    "             'PAUTO M4':       [3,5,7,3,3],\n",
    "             'PAUTO M-5':      [1,4,8,4,2],\n",
    "             'PAUTO SUR B-1':  [4,5,7,2,4],\n",
    "             'PAUTO SUR C-2':  [4,6,8,3,3],\n",
    "             'PAUTO-1':        [3,5,8,3,2],\n",
    "             'VOLCANERA A-1':  [4,5,9,2,3],\n",
    "             'VOLCANERA C-2':  [2,5,7,2,2]\n",
    "}\n",
    "\n",
    "# Parámetros indexados en los pozos y los años (abajo se separan en diccionarios diferentes)\n",
    "# (pozo, año):   costo, utilidad  \n",
    "dataPozoAño ={ \n",
    "                ('DELE B-1',1)       :[13,14],\n",
    "                ('EL MORRO-1',1)     :[21,81],\n",
    "                ('FLORENA A-5',1)    :[8,81],\n",
    "                ('FLORENA C-6',1)    :[7,93],\n",
    "                ('FLORENA N-2',1)    :[3,26],\n",
    "                ('FLORENA N-4 ST',1) :[23,77],\n",
    "                ('FLORENA-T8',1)     :[6,88],\n",
    "                ('PAUTO J-6',1)      :[2,13],\n",
    "                ('PAUTO M4',1)       :[9,57],\n",
    "                ('PAUTO M-5',1)      :[12,34],\n",
    "                ('PAUTO SUR B-1',1)  :[2,10],\n",
    "                ('PAUTO SUR C-2',1)  :[21,20],\n",
    "                ('PAUTO-1',1)        :[12,43],\n",
    "                ('VOLCANERA A-1',1)  :[16,51],\n",
    "                ('VOLCANERA C-2',1)  :[22,44],\n",
    "                ('DELE B-1',2)       :[25,55],\n",
    "                ('EL MORRO-1',2)     :[9,54],\n",
    "                ('FLORENA A-5',2)    :[15,70],\n",
    "                ('FLORENA C-6',2)    :[14,40],\n",
    "                ('FLORENA N-2',2)    :[23,65],\n",
    "                ('FLORENA N-4 ST',2) :[5,55],\n",
    "                ('FLORENA-T8',2)     :[10,24],\n",
    "                ('PAUTO J-6',2)      :[23,92],\n",
    "                ('PAUTO M4',2)       :[10,58],\n",
    "                ('PAUTO M-5',2)      :[3,26],\n",
    "                ('PAUTO SUR B-1',2)  :[16,72],\n",
    "                ('PAUTO SUR C-2',2)  :[11,39],\n",
    "                ('PAUTO-1',2)        :[2,57],\n",
    "                ('VOLCANERA A-1',2)  :[15,51],\n",
    "                ('VOLCANERA C-2',2)  :[8,45],\n",
    "                ('DELE B-1',3)       :[17,74],\n",
    "                ('EL MORRO-1',3)     :[22,23],\n",
    "                ('FLORENA A-5',3)    :[12,44],\n",
    "                ('FLORENA C-6',3)    :[11,31],\n",
    "                ('FLORENA N-2',3)    :[7,53],\n",
    "                ('FLORENA N-4 ST',3) :[12,71],\n",
    "                ('FLORENA-T8',3)     :[12,80],\n",
    "                ('PAUTO J-6',3)      :[17,22],\n",
    "                ('PAUTO M4',3)       :[14,59],\n",
    "                ('PAUTO M-5',3)      :[15,34],\n",
    "                ('PAUTO SUR B-1',3)  :[24,88],\n",
    "                ('PAUTO SUR C-2',3)  :[25,61],\n",
    "                ('PAUTO-1',3)        :[8,46],\n",
    "                ('VOLCANERA A-1',3)  :[14,33],\n",
    "                ('VOLCANERA C-2',3)  :[17,15],\n",
    "                ('DELE B-1',4)       :[19,75],\n",
    "                ('EL MORRO-1',4)     :[6,70],\n",
    "                ('FLORENA A-5',4)    :[23,18],\n",
    "                ('FLORENA C-6',4)    :[16,36],\n",
    "                ('FLORENA N-2',4)    :[14,44],\n",
    "                ('FLORENA N-4 ST',4) :[18,34],\n",
    "                ('FLORENA-T8',4)     :[6,22],\n",
    "                ('PAUTO J-6',4)      :[20,30],\n",
    "                ('PAUTO M4',4)       :[5,93],\n",
    "                ('PAUTO M-5',4)      :[7,68],\n",
    "                ('PAUTO SUR B-1',4)  :[25,12],\n",
    "                ('PAUTO SUR C-2',4)  :[13,75],\n",
    "                ('PAUTO-1',4)        :[12,56],\n",
    "                ('VOLCANERA A-1',4)  :[10,16],\n",
    "                ('VOLCANERA C-2',4)  :[6,11],\n",
    "                ('DELE B-1',5)       :[7,54],\n",
    "                ('EL MORRO-1',5)     :[8,58],\n",
    "                ('FLORENA A-5',5)    :[22,15],\n",
    "                ('FLORENA C-6',5)    :[17,29],\n",
    "                ('FLORENA N-2',5)    :[20,95],\n",
    "                ('FLORENA N-4 ST',5) :[17,32],\n",
    "                ('FLORENA-T8',5)     :[10,91],\n",
    "                ('PAUTO J-6',5)      :[6,29],\n",
    "                ('PAUTO M4',5)       :[6,72],\n",
    "                ('PAUTO M-5',5)      :[25,91],\n",
    "                ('PAUTO SUR B-1',5)  :[21,95],\n",
    "                ('PAUTO SUR C-2',5)  :[15,63],\n",
    "                ('PAUTO-1',5)        :[17,64],\n",
    "                ('VOLCANERA A-1',5)  :[12,54],\n",
    "                ('VOLCANERA C-2',5)  :[17,19],\n",
    "                ('DELE B-1',6)       :[10,84],\n",
    "                ('EL MORRO-1',6)     :[13,48],\n",
    "                ('FLORENA A-5',6)    :[9,10],\n",
    "                ('FLORENA C-6',6)    :[25,32],\n",
    "                ('FLORENA N-2',6)    :[17,92],\n",
    "                ('FLORENA N-4 ST',6) :[25,21],\n",
    "                ('FLORENA-T8',6)     :[5,62],\n",
    "                ('PAUTO J-6',6)      :[23,28],\n",
    "                ('PAUTO M4',6)       :[22,87],\n",
    "                ('PAUTO M-5',6)      :[7,97],\n",
    "                ('PAUTO SUR B-1',6)  :[25,88],\n",
    "                ('PAUTO SUR C-2',6)  :[19,88],\n",
    "                ('PAUTO-1',6)        :[4,66],\n",
    "                ('VOLCANERA A-1',6)  :[6,32],\n",
    "                ('VOLCANERA C-2',6)  :[5,2],\n",
    "                ('DELE B-1',7)       :[12,94],\n",
    "                ('EL MORRO-1',7)     :[3,45],\n",
    "                ('FLORENA A-5',7)    :[19,15],\n",
    "                ('FLORENA C-6',7)    :[4,40],\n",
    "                ('FLORENA N-2',7)    :[6,103],\n",
    "                ('FLORENA N-4 ST',7) :[21,9],\n",
    "                ('FLORENA-T8',7)     :[13,63],\n",
    "                ('PAUTO J-6',7)      :[8,25],\n",
    "                ('PAUTO M4',7)       :[15,94],\n",
    "                ('PAUTO M-5',7)      :[8,113],\n",
    "                ('PAUTO SUR B-1',7)  :[10,99],\n",
    "                ('PAUTO SUR C-2',7)  :[12,100],\n",
    "                ('PAUTO-1',7)        :[3,70],\n",
    "                ('VOLCANERA A-1',7)  :[12,29],\n",
    "                ('VOLCANERA C-2',7)  :[7,13],\n",
    "                ('DELE B-1',8)       :[23,104],\n",
    "                ('EL MORRO-1',8)     :[13,42],\n",
    "                ('FLORENA A-5',8)    :[16,21],\n",
    "                ('FLORENA C-6',8)    :[7,48],\n",
    "                ('FLORENA N-2',8)    :[4,94],\n",
    "                ('FLORENA N-4 ST',8) :[11,5],\n",
    "                ('FLORENA-T8',8)     :[20,63],\n",
    "                ('PAUTO J-6',8)      :[15,22],\n",
    "                ('PAUTO M4',8)       :[22,100],\n",
    "                ('PAUTO M-5',8)      :[21,129],\n",
    "                ('PAUTO SUR B-1',8)  :[19,110],\n",
    "                ('PAUTO SUR C-2',8)  :[14,113],\n",
    "                ('PAUTO-1',8)        :[15,74],\n",
    "                ('VOLCANERA A-1',8)  :[8,27],\n",
    "                ('VOLCANERA C-2',8)  :[19,20],\n",
    "                ('DELE B-1',9)       :[8,114],\n",
    "                ('EL MORRO-1',9)     :[23,39],\n",
    "                ('FLORENA A-5',9)    :[2,25],\n",
    "                ('FLORENA C-6',9)    :[23,56],\n",
    "                ('FLORENA N-2',9)    :[23,87],\n",
    "                ('FLORENA N-4 ST',9) :[20,10],\n",
    "                ('FLORENA-T8',9)     :[11,63],\n",
    "                ('PAUTO J-6',9)      :[20,19],\n",
    "                ('PAUTO M4',9)       :[8,107],\n",
    "                ('PAUTO M-5',9)      :[15,144],\n",
    "                ('PAUTO SUR B-1',9)  :[12,121],\n",
    "                ('PAUTO SUR C-2',9)  :[6,120],\n",
    "                ('PAUTO-1',9)        :[2,78],\n",
    "                ('VOLCANERA A-1',9)  :[5,33],\n",
    "                ('VOLCANERA C-2',9)  :[25,24],\n",
    "                ('DELE B-1',10)       :[14,124],\n",
    "                ('EL MORRO-1',10)     :[19,36],\n",
    "                ('FLORENA A-5',10)    :[22,32],\n",
    "                ('FLORENA C-6',10)    :[13,50],\n",
    "                ('FLORENA N-2',10)    :[20,80],\n",
    "                ('FLORENA N-4 ST',10) :[16,8],\n",
    "                ('FLORENA-T8',10)     :[9,64],\n",
    "                ('PAUTO J-6',10)      :[7,16],\n",
    "                ('PAUTO M4',10)       :[15,113],\n",
    "                ('PAUTO M-5',10)      :[10,160],\n",
    "                ('PAUTO SUR B-1',10)  :[5,132],\n",
    "                ('PAUTO SUR C-2',10)  :[2,115],\n",
    "                ('PAUTO-1',10)        :[16,82],\n",
    "                ('VOLCANERA A-1',10)  :[25,40],\n",
    "                ('VOLCANERA C-2',10)  :[18,32]\n",
    "}\n",
    "\n",
    "# Separando datos en diccionarios independientes que comparten las misma llaves\n",
    "(prodMin, prodModa, prodMax, operarios, generadores) = lp.splitDict(dataPozos)\n",
    "(costo, utilidad) = lp.splitDict(dataPozoAño)"
   ]
  },
  {
   "cell_type": "markdown",
   "metadata": {
    "deletable": false,
    "editable": false,
    "nbgrader": {
     "cell_type": "markdown",
     "checksum": "a88f33444f055441cdb78b5b85c1cb15",
     "grade": false,
     "grade_id": "cell-587d11a8eb6313b7",
     "locked": true,
     "schema_version": 3,
     "solution": false,
     "task": false
    }
   },
   "source": [
    "**Celda de Prueba (0 puntos)**\n",
    "\n",
    "Es una buena práctica imprimir algunos objetos que contienen los parámetros en la consola luego de crearlos. De esta forma puedes corregir errores y conocer con las estrucutras de datos que se van a utilizar. Por ejemplo, si sabes que `operarios` es un diccionario (`dict`), podrás usar el comando `operarios[<llave>]` para pedir un valor en particular. Puedes hacer estas pruebas en la celda a continuación.\n",
    "\n",
    "* **Esta celda no es calificable**"
   ]
  },
  {
   "cell_type": "code",
   "execution_count": 16,
   "metadata": {},
   "outputs": [
    {
     "name": "stdout",
     "output_type": "stream",
     "text": [
      "{'DELE B-1': 1, 'EL MORRO-1': 3, 'FLORENA A-5': 3, 'FLORENA C-6': 1, 'FLORENA N-2': 4, 'FLORENA N-4 ST': 1, 'FLORENA-T8': 2, 'PAUTO J-6': 2, 'PAUTO M4': 3, 'PAUTO M-5': 1, 'PAUTO SUR B-1': 4, 'PAUTO SUR C-2': 4, 'PAUTO-1': 3, 'VOLCANERA A-1': 4, 'VOLCANERA C-2': 2}\n",
      "{'DELE B-1': 3, 'EL MORRO-1': 4, 'FLORENA A-5': 6, 'FLORENA C-6': 3, 'FLORENA N-2': 6, 'FLORENA N-4 ST': 4, 'FLORENA-T8': 4, 'PAUTO J-6': 3, 'PAUTO M4': 5, 'PAUTO M-5': 4, 'PAUTO SUR B-1': 5, 'PAUTO SUR C-2': 6, 'PAUTO-1': 5, 'VOLCANERA A-1': 5, 'VOLCANERA C-2': 5}\n",
      "{'DELE B-1': 4, 'EL MORRO-1': 6, 'FLORENA A-5': 7, 'FLORENA C-6': 6, 'FLORENA N-2': 10, 'FLORENA N-4 ST': 6, 'FLORENA-T8': 8, 'PAUTO J-6': 5, 'PAUTO M4': 7, 'PAUTO M-5': 8, 'PAUTO SUR B-1': 7, 'PAUTO SUR C-2': 8, 'PAUTO-1': 8, 'VOLCANERA A-1': 9, 'VOLCANERA C-2': 7}\n",
      "\n",
      "{('DELE B-1', 1): 13, ('EL MORRO-1', 1): 21, ('FLORENA A-5', 1): 8, ('FLORENA C-6', 1): 7, ('FLORENA N-2', 1): 3, ('FLORENA N-4 ST', 1): 23, ('FLORENA-T8', 1): 6, ('PAUTO J-6', 1): 2, ('PAUTO M4', 1): 9, ('PAUTO M-5', 1): 12, ('PAUTO SUR B-1', 1): 2, ('PAUTO SUR C-2', 1): 21, ('PAUTO-1', 1): 12, ('VOLCANERA A-1', 1): 16, ('VOLCANERA C-2', 1): 22, ('DELE B-1', 2): 25, ('EL MORRO-1', 2): 9, ('FLORENA A-5', 2): 15, ('FLORENA C-6', 2): 14, ('FLORENA N-2', 2): 23, ('FLORENA N-4 ST', 2): 5, ('FLORENA-T8', 2): 10, ('PAUTO J-6', 2): 23, ('PAUTO M4', 2): 10, ('PAUTO M-5', 2): 3, ('PAUTO SUR B-1', 2): 16, ('PAUTO SUR C-2', 2): 11, ('PAUTO-1', 2): 2, ('VOLCANERA A-1', 2): 15, ('VOLCANERA C-2', 2): 8, ('DELE B-1', 3): 17, ('EL MORRO-1', 3): 22, ('FLORENA A-5', 3): 12, ('FLORENA C-6', 3): 11, ('FLORENA N-2', 3): 7, ('FLORENA N-4 ST', 3): 12, ('FLORENA-T8', 3): 12, ('PAUTO J-6', 3): 17, ('PAUTO M4', 3): 14, ('PAUTO M-5', 3): 15, ('PAUTO SUR B-1', 3): 24, ('PAUTO SUR C-2', 3): 25, ('PAUTO-1', 3): 8, ('VOLCANERA A-1', 3): 14, ('VOLCANERA C-2', 3): 17, ('DELE B-1', 4): 19, ('EL MORRO-1', 4): 6, ('FLORENA A-5', 4): 23, ('FLORENA C-6', 4): 16, ('FLORENA N-2', 4): 14, ('FLORENA N-4 ST', 4): 18, ('FLORENA-T8', 4): 6, ('PAUTO J-6', 4): 20, ('PAUTO M4', 4): 5, ('PAUTO M-5', 4): 7, ('PAUTO SUR B-1', 4): 25, ('PAUTO SUR C-2', 4): 13, ('PAUTO-1', 4): 12, ('VOLCANERA A-1', 4): 10, ('VOLCANERA C-2', 4): 6, ('DELE B-1', 5): 7, ('EL MORRO-1', 5): 8, ('FLORENA A-5', 5): 22, ('FLORENA C-6', 5): 17, ('FLORENA N-2', 5): 20, ('FLORENA N-4 ST', 5): 17, ('FLORENA-T8', 5): 10, ('PAUTO J-6', 5): 6, ('PAUTO M4', 5): 6, ('PAUTO M-5', 5): 25, ('PAUTO SUR B-1', 5): 21, ('PAUTO SUR C-2', 5): 15, ('PAUTO-1', 5): 17, ('VOLCANERA A-1', 5): 12, ('VOLCANERA C-2', 5): 17, ('DELE B-1', 6): 10, ('EL MORRO-1', 6): 13, ('FLORENA A-5', 6): 9, ('FLORENA C-6', 6): 25, ('FLORENA N-2', 6): 17, ('FLORENA N-4 ST', 6): 25, ('FLORENA-T8', 6): 5, ('PAUTO J-6', 6): 23, ('PAUTO M4', 6): 22, ('PAUTO M-5', 6): 7, ('PAUTO SUR B-1', 6): 25, ('PAUTO SUR C-2', 6): 19, ('PAUTO-1', 6): 4, ('VOLCANERA A-1', 6): 6, ('VOLCANERA C-2', 6): 5, ('DELE B-1', 7): 12, ('EL MORRO-1', 7): 3, ('FLORENA A-5', 7): 19, ('FLORENA C-6', 7): 4, ('FLORENA N-2', 7): 6, ('FLORENA N-4 ST', 7): 21, ('FLORENA-T8', 7): 13, ('PAUTO J-6', 7): 8, ('PAUTO M4', 7): 15, ('PAUTO M-5', 7): 8, ('PAUTO SUR B-1', 7): 10, ('PAUTO SUR C-2', 7): 12, ('PAUTO-1', 7): 3, ('VOLCANERA A-1', 7): 12, ('VOLCANERA C-2', 7): 7, ('DELE B-1', 8): 23, ('EL MORRO-1', 8): 13, ('FLORENA A-5', 8): 16, ('FLORENA C-6', 8): 7, ('FLORENA N-2', 8): 4, ('FLORENA N-4 ST', 8): 11, ('FLORENA-T8', 8): 20, ('PAUTO J-6', 8): 15, ('PAUTO M4', 8): 22, ('PAUTO M-5', 8): 21, ('PAUTO SUR B-1', 8): 19, ('PAUTO SUR C-2', 8): 14, ('PAUTO-1', 8): 15, ('VOLCANERA A-1', 8): 8, ('VOLCANERA C-2', 8): 19, ('DELE B-1', 9): 8, ('EL MORRO-1', 9): 23, ('FLORENA A-5', 9): 2, ('FLORENA C-6', 9): 23, ('FLORENA N-2', 9): 23, ('FLORENA N-4 ST', 9): 20, ('FLORENA-T8', 9): 11, ('PAUTO J-6', 9): 20, ('PAUTO M4', 9): 8, ('PAUTO M-5', 9): 15, ('PAUTO SUR B-1', 9): 12, ('PAUTO SUR C-2', 9): 6, ('PAUTO-1', 9): 2, ('VOLCANERA A-1', 9): 5, ('VOLCANERA C-2', 9): 25, ('DELE B-1', 10): 14, ('EL MORRO-1', 10): 19, ('FLORENA A-5', 10): 22, ('FLORENA C-6', 10): 13, ('FLORENA N-2', 10): 20, ('FLORENA N-4 ST', 10): 16, ('FLORENA-T8', 10): 9, ('PAUTO J-6', 10): 7, ('PAUTO M4', 10): 15, ('PAUTO M-5', 10): 10, ('PAUTO SUR B-1', 10): 5, ('PAUTO SUR C-2', 10): 2, ('PAUTO-1', 10): 16, ('VOLCANERA A-1', 10): 25, ('VOLCANERA C-2', 10): 18}\n",
      "{('DELE B-1', 1): 14, ('EL MORRO-1', 1): 81, ('FLORENA A-5', 1): 81, ('FLORENA C-6', 1): 93, ('FLORENA N-2', 1): 26, ('FLORENA N-4 ST', 1): 77, ('FLORENA-T8', 1): 88, ('PAUTO J-6', 1): 13, ('PAUTO M4', 1): 57, ('PAUTO M-5', 1): 34, ('PAUTO SUR B-1', 1): 10, ('PAUTO SUR C-2', 1): 20, ('PAUTO-1', 1): 43, ('VOLCANERA A-1', 1): 51, ('VOLCANERA C-2', 1): 44, ('DELE B-1', 2): 55, ('EL MORRO-1', 2): 54, ('FLORENA A-5', 2): 70, ('FLORENA C-6', 2): 40, ('FLORENA N-2', 2): 65, ('FLORENA N-4 ST', 2): 55, ('FLORENA-T8', 2): 24, ('PAUTO J-6', 2): 92, ('PAUTO M4', 2): 58, ('PAUTO M-5', 2): 26, ('PAUTO SUR B-1', 2): 72, ('PAUTO SUR C-2', 2): 39, ('PAUTO-1', 2): 57, ('VOLCANERA A-1', 2): 51, ('VOLCANERA C-2', 2): 45, ('DELE B-1', 3): 74, ('EL MORRO-1', 3): 23, ('FLORENA A-5', 3): 44, ('FLORENA C-6', 3): 31, ('FLORENA N-2', 3): 53, ('FLORENA N-4 ST', 3): 71, ('FLORENA-T8', 3): 80, ('PAUTO J-6', 3): 22, ('PAUTO M4', 3): 59, ('PAUTO M-5', 3): 34, ('PAUTO SUR B-1', 3): 88, ('PAUTO SUR C-2', 3): 61, ('PAUTO-1', 3): 46, ('VOLCANERA A-1', 3): 33, ('VOLCANERA C-2', 3): 15, ('DELE B-1', 4): 75, ('EL MORRO-1', 4): 70, ('FLORENA A-5', 4): 18, ('FLORENA C-6', 4): 36, ('FLORENA N-2', 4): 44, ('FLORENA N-4 ST', 4): 34, ('FLORENA-T8', 4): 22, ('PAUTO J-6', 4): 30, ('PAUTO M4', 4): 93, ('PAUTO M-5', 4): 68, ('PAUTO SUR B-1', 4): 12, ('PAUTO SUR C-2', 4): 75, ('PAUTO-1', 4): 56, ('VOLCANERA A-1', 4): 16, ('VOLCANERA C-2', 4): 11, ('DELE B-1', 5): 54, ('EL MORRO-1', 5): 58, ('FLORENA A-5', 5): 15, ('FLORENA C-6', 5): 29, ('FLORENA N-2', 5): 95, ('FLORENA N-4 ST', 5): 32, ('FLORENA-T8', 5): 91, ('PAUTO J-6', 5): 29, ('PAUTO M4', 5): 72, ('PAUTO M-5', 5): 91, ('PAUTO SUR B-1', 5): 95, ('PAUTO SUR C-2', 5): 63, ('PAUTO-1', 5): 64, ('VOLCANERA A-1', 5): 54, ('VOLCANERA C-2', 5): 19, ('DELE B-1', 6): 84, ('EL MORRO-1', 6): 48, ('FLORENA A-5', 6): 10, ('FLORENA C-6', 6): 32, ('FLORENA N-2', 6): 92, ('FLORENA N-4 ST', 6): 21, ('FLORENA-T8', 6): 62, ('PAUTO J-6', 6): 28, ('PAUTO M4', 6): 87, ('PAUTO M-5', 6): 97, ('PAUTO SUR B-1', 6): 88, ('PAUTO SUR C-2', 6): 88, ('PAUTO-1', 6): 66, ('VOLCANERA A-1', 6): 32, ('VOLCANERA C-2', 6): 2, ('DELE B-1', 7): 94, ('EL MORRO-1', 7): 45, ('FLORENA A-5', 7): 15, ('FLORENA C-6', 7): 40, ('FLORENA N-2', 7): 103, ('FLORENA N-4 ST', 7): 9, ('FLORENA-T8', 7): 63, ('PAUTO J-6', 7): 25, ('PAUTO M4', 7): 94, ('PAUTO M-5', 7): 113, ('PAUTO SUR B-1', 7): 99, ('PAUTO SUR C-2', 7): 100, ('PAUTO-1', 7): 70, ('VOLCANERA A-1', 7): 29, ('VOLCANERA C-2', 7): 13, ('DELE B-1', 8): 104, ('EL MORRO-1', 8): 42, ('FLORENA A-5', 8): 21, ('FLORENA C-6', 8): 48, ('FLORENA N-2', 8): 94, ('FLORENA N-4 ST', 8): 5, ('FLORENA-T8', 8): 63, ('PAUTO J-6', 8): 22, ('PAUTO M4', 8): 100, ('PAUTO M-5', 8): 129, ('PAUTO SUR B-1', 8): 110, ('PAUTO SUR C-2', 8): 113, ('PAUTO-1', 8): 74, ('VOLCANERA A-1', 8): 27, ('VOLCANERA C-2', 8): 20, ('DELE B-1', 9): 114, ('EL MORRO-1', 9): 39, ('FLORENA A-5', 9): 25, ('FLORENA C-6', 9): 56, ('FLORENA N-2', 9): 87, ('FLORENA N-4 ST', 9): 10, ('FLORENA-T8', 9): 63, ('PAUTO J-6', 9): 19, ('PAUTO M4', 9): 107, ('PAUTO M-5', 9): 144, ('PAUTO SUR B-1', 9): 121, ('PAUTO SUR C-2', 9): 120, ('PAUTO-1', 9): 78, ('VOLCANERA A-1', 9): 33, ('VOLCANERA C-2', 9): 24, ('DELE B-1', 10): 124, ('EL MORRO-1', 10): 36, ('FLORENA A-5', 10): 32, ('FLORENA C-6', 10): 50, ('FLORENA N-2', 10): 80, ('FLORENA N-4 ST', 10): 8, ('FLORENA-T8', 10): 64, ('PAUTO J-6', 10): 16, ('PAUTO M4', 10): 113, ('PAUTO M-5', 10): 160, ('PAUTO SUR B-1', 10): 132, ('PAUTO SUR C-2', 10): 115, ('PAUTO-1', 10): 82, ('VOLCANERA A-1', 10): 40, ('VOLCANERA C-2', 10): 32}\n",
      "[('DELE B-1', 1), ('DELE B-1', 2), ('DELE B-1', 3), ('DELE B-1', 4), ('DELE B-1', 5), ('DELE B-1', 6), ('DELE B-1', 7), ('DELE B-1', 8), ('DELE B-1', 9), ('DELE B-1', 10), ('EL MORRO-1', 1), ('EL MORRO-1', 2), ('EL MORRO-1', 3), ('EL MORRO-1', 4), ('EL MORRO-1', 5), ('EL MORRO-1', 6), ('EL MORRO-1', 7), ('EL MORRO-1', 8), ('EL MORRO-1', 9), ('EL MORRO-1', 10), ('FLORENA A-5', 1), ('FLORENA A-5', 2), ('FLORENA A-5', 3), ('FLORENA A-5', 4), ('FLORENA A-5', 5), ('FLORENA A-5', 6), ('FLORENA A-5', 7), ('FLORENA A-5', 8), ('FLORENA A-5', 9), ('FLORENA A-5', 10), ('FLORENA C-6', 1), ('FLORENA C-6', 2), ('FLORENA C-6', 3), ('FLORENA C-6', 4), ('FLORENA C-6', 5), ('FLORENA C-6', 6), ('FLORENA C-6', 7), ('FLORENA C-6', 8), ('FLORENA C-6', 9), ('FLORENA C-6', 10), ('FLORENA N-2', 1), ('FLORENA N-2', 2), ('FLORENA N-2', 3), ('FLORENA N-2', 4), ('FLORENA N-2', 5), ('FLORENA N-2', 6), ('FLORENA N-2', 7), ('FLORENA N-2', 8), ('FLORENA N-2', 9), ('FLORENA N-2', 10), ('FLORENA N-4 ST', 1), ('FLORENA N-4 ST', 2), ('FLORENA N-4 ST', 3), ('FLORENA N-4 ST', 4), ('FLORENA N-4 ST', 5), ('FLORENA N-4 ST', 6), ('FLORENA N-4 ST', 7), ('FLORENA N-4 ST', 8), ('FLORENA N-4 ST', 9), ('FLORENA N-4 ST', 10), ('FLORENA-T8', 1), ('FLORENA-T8', 2), ('FLORENA-T8', 3), ('FLORENA-T8', 4), ('FLORENA-T8', 5), ('FLORENA-T8', 6), ('FLORENA-T8', 7), ('FLORENA-T8', 8), ('FLORENA-T8', 9), ('FLORENA-T8', 10), ('PAUTO J-6', 1), ('PAUTO J-6', 2), ('PAUTO J-6', 3), ('PAUTO J-6', 4), ('PAUTO J-6', 5), ('PAUTO J-6', 6), ('PAUTO J-6', 7), ('PAUTO J-6', 8), ('PAUTO J-6', 9), ('PAUTO J-6', 10), ('PAUTO M4', 1), ('PAUTO M4', 2), ('PAUTO M4', 3), ('PAUTO M4', 4), ('PAUTO M4', 5), ('PAUTO M4', 6), ('PAUTO M4', 7), ('PAUTO M4', 8), ('PAUTO M4', 9), ('PAUTO M4', 10), ('PAUTO M-5', 1), ('PAUTO M-5', 2), ('PAUTO M-5', 3), ('PAUTO M-5', 4), ('PAUTO M-5', 5), ('PAUTO M-5', 6), ('PAUTO M-5', 7), ('PAUTO M-5', 8), ('PAUTO M-5', 9), ('PAUTO M-5', 10), ('PAUTO SUR B-1', 1), ('PAUTO SUR B-1', 2), ('PAUTO SUR B-1', 3), ('PAUTO SUR B-1', 4), ('PAUTO SUR B-1', 5), ('PAUTO SUR B-1', 6), ('PAUTO SUR B-1', 7), ('PAUTO SUR B-1', 8), ('PAUTO SUR B-1', 9), ('PAUTO SUR B-1', 10), ('PAUTO SUR C-2', 1), ('PAUTO SUR C-2', 2), ('PAUTO SUR C-2', 3), ('PAUTO SUR C-2', 4), ('PAUTO SUR C-2', 5), ('PAUTO SUR C-2', 6), ('PAUTO SUR C-2', 7), ('PAUTO SUR C-2', 8), ('PAUTO SUR C-2', 9), ('PAUTO SUR C-2', 10), ('PAUTO-1', 1), ('PAUTO-1', 2), ('PAUTO-1', 3), ('PAUTO-1', 4), ('PAUTO-1', 5), ('PAUTO-1', 6), ('PAUTO-1', 7), ('PAUTO-1', 8), ('PAUTO-1', 9), ('PAUTO-1', 10), ('VOLCANERA A-1', 1), ('VOLCANERA A-1', 2), ('VOLCANERA A-1', 3), ('VOLCANERA A-1', 4), ('VOLCANERA A-1', 5), ('VOLCANERA A-1', 6), ('VOLCANERA A-1', 7), ('VOLCANERA A-1', 8), ('VOLCANERA A-1', 9), ('VOLCANERA A-1', 10), ('VOLCANERA C-2', 1), ('VOLCANERA C-2', 2), ('VOLCANERA C-2', 3), ('VOLCANERA C-2', 4), ('VOLCANERA C-2', 5), ('VOLCANERA C-2', 6), ('VOLCANERA C-2', 7), ('VOLCANERA C-2', 8), ('VOLCANERA C-2', 9), ('VOLCANERA C-2', 10)]\n"
     ]
    }
   ],
   "source": [
    "### Aquí puedes explorar los parámetros\n",
    "print(prodMin)\n",
    "print(prodModa)\n",
    "print(prodMax)\n",
    "print()\n",
    "print(costo)\n",
    "print(utilidad)\n",
    "print(Pozo_x_Tiempo)\n"
   ]
  },
  {
   "cell_type": "markdown",
   "metadata": {
    "deletable": false,
    "editable": false,
    "nbgrader": {
     "cell_type": "markdown",
     "checksum": "b41130d10ef9937b329cff021f1ad198",
     "grade": false,
     "grade_id": "cell-6a525ae7e4899ef1",
     "locked": true,
     "schema_version": 3,
     "solution": false,
     "task": false
    }
   },
   "source": [
    "## Modelado\n",
    "---"
   ]
  },
  {
   "cell_type": "markdown",
   "metadata": {
    "deletable": false,
    "editable": false,
    "nbgrader": {
     "cell_type": "markdown",
     "checksum": "d06016817f086499f3ce6b93de1059b7",
     "grade": false,
     "grade_id": "cell-ebebd9c7c932a295",
     "locked": true,
     "schema_version": 3,
     "solution": false,
     "task": false
    }
   },
   "source": [
    "### Declaración del modelo\n",
    "\n",
    "El primer paso para crear un modelo de optimización en `pulp`, es crear un objeto que contenga el objeto modelo. A este objeto luego podremos agregarle variables, restricciones, pedirle que use algún algoritmo de optimización, etc. A continuación, encontrarás instrucciones para crear este objeto."
   ]
  },
  {
   "cell_type": "markdown",
   "metadata": {
    "deletable": false,
    "editable": false,
    "nbgrader": {
     "cell_type": "markdown",
     "checksum": "b6f61d169dbfa26d2d52f2979f942bea",
     "grade": false,
     "grade_id": "cell-a3aeec243a8845f1",
     "locked": true,
     "schema_version": 3,
     "solution": false,
     "task": false
    }
   },
   "source": [
    "**Pregunta 1 (10 puntos)**\n",
    "* Crea un objeto modelo en PuLP (`lp.LpProblem`) llamado `problema`\n",
    "* Indica el sentido de la optimización: maximizar o minimizar\n",
    "\n",
    "> **Recuerda** que el sentido se indica con el argumento `sense` en `lp.LpProblem()`, que toma valores `lp.LpMaximize` o `lp.LpMinimize`"
   ]
  },
  {
   "cell_type": "code",
   "execution_count": 17,
   "metadata": {
    "deletable": false,
    "nbgrader": {
     "cell_type": "code",
     "checksum": "cbba9891f01b97e42df9cdf569b27351",
     "grade": false,
     "grade_id": "cell-ca609c4dbb735856",
     "locked": false,
     "schema_version": 3,
     "solution": true,
     "task": false
    }
   },
   "outputs": [],
   "source": [
    "# your code here\n",
    "problema = lp.LpProblem(sense=lp.LpMaximize)"
   ]
  },
  {
   "cell_type": "code",
   "execution_count": 7,
   "metadata": {
    "deletable": false,
    "editable": false,
    "nbgrader": {
     "cell_type": "code",
     "checksum": "b0409a1d5b66b103d914b1415e3c0638",
     "grade": true,
     "grade_id": "cell-9466bada00deeca6",
     "locked": true,
     "points": 10,
     "schema_version": 3,
     "solution": false,
     "task": false
    }
   },
   "outputs": [],
   "source": [
    "# Esta celda esta reservada para uso del equipo docente"
   ]
  },
  {
   "cell_type": "code",
   "execution_count": 8,
   "metadata": {
    "deletable": false,
    "editable": false,
    "nbgrader": {
     "cell_type": "code",
     "checksum": "be40950df8bdfac05d32a6da5059f8d9",
     "grade": true,
     "grade_id": "cell-22a4b3d85f6c728a",
     "locked": true,
     "points": 0,
     "schema_version": 3,
     "solution": false,
     "task": false
    }
   },
   "outputs": [],
   "source": [
    "# Esta celda esta reservada para uso del equipo docente"
   ]
  },
  {
   "cell_type": "markdown",
   "metadata": {
    "deletable": false,
    "editable": false,
    "nbgrader": {
     "cell_type": "markdown",
     "checksum": "a81edd9835676b6524e33cb5f1338a4c",
     "grade": false,
     "grade_id": "cell-032e2c76bf498b03",
     "locked": true,
     "schema_version": 3,
     "solution": false,
     "task": false
    }
   },
   "source": [
    "### Variables de Decisión\n",
    "\n",
    "Ahora que tienes el objeto modelo (`problema`) listo, deberás crear las variables que poblarán el modelo y te permitiran crear la función objetivo y restricciones. En este caso, sólo tenemos un grupo de variables $x_{it}$ que comparten características como la naturaleza de las variables y que sus índices pertenecen a los mismos conjuntos. A continuación, puedes comprobar la formulación de las variables y en la siguiente celda encontrarás instrucciones para crear las variables del problema.\n",
    "\n",
    ">* $x_{it} = \\begin{cases}1, & \\text{si el pozo} \\, i\\in P \\text{ se perfora en el año} \\, t\\in T \\\\ 0, & \\text{de lo contrario}\\end{cases} $"
   ]
  },
  {
   "cell_type": "markdown",
   "metadata": {
    "deletable": false,
    "editable": false,
    "nbgrader": {
     "cell_type": "markdown",
     "checksum": "03c81405b40c7ebc08adfef1aa60df69",
     "grade": false,
     "grade_id": "cell-a3aeec243a2845f1",
     "locked": true,
     "schema_version": 3,
     "solution": false,
     "task": false
    }
   },
   "source": [
    "**Pregunta 2 (10 puntos)**\n",
    "* Crea las variables del modelo: `x`, usando el método `lp.LpVariable.dicts()`.\n",
    "* Especifica el nombre de las variables como `perforar` con el argumento `name`.\n",
    "* Especifica el conjunto sobre el cual está indexado la variable con el argumento `indexs`. \n",
    "* Especifica el límite inferior en 0 con el argumento `lowBound`.\n",
    "* Especifica el tipo de variable con el argumento `cat` (continua: `lp.LpContinuous`, entera: `lp.LpInteger` o binaria: `lp.LpBinary`)"
   ]
  },
  {
   "cell_type": "code",
   "execution_count": 18,
   "metadata": {
    "deletable": false,
    "nbgrader": {
     "cell_type": "code",
     "checksum": "8255f3e4411a0a7587556c98134b9ddd",
     "grade": false,
     "grade_id": "cell-9602249caa6bad35",
     "locked": false,
     "schema_version": 3,
     "solution": true,
     "task": false
    }
   },
   "outputs": [],
   "source": [
    "# your code here\n",
    "# Crear las variables de decisión x indexadas por (pozo, tiempo)\n",
    "# name='perforar': nombre base para las variables en el modelo\n",
    "# indexs=Pozo_x_Tiempo: conjunto de tuplas (pozo, año) que definen los índices\n",
    "# lowBound=0: límite inferior de las variables (no pueden ser negativas)\n",
    "# cat=lp.LpBinary: tipo de variable binaria (0 o 1)\n",
    "\n",
    "x = lp.LpVariable.dicts(name='perforar', indices=Pozo_x_Tiempo, lowBound=0, cat=lp.LpBinary)\n",
    "\n"
   ]
  },
  {
   "cell_type": "code",
   "execution_count": 19,
   "id": "5ef2d08e",
   "metadata": {},
   "outputs": [
    {
     "name": "stdout",
     "output_type": "stream",
     "text": [
      "dict_values([perforar_('DELE_B_1',_1), perforar_('DELE_B_1',_2), perforar_('DELE_B_1',_3), perforar_('DELE_B_1',_4), perforar_('DELE_B_1',_5), perforar_('DELE_B_1',_6), perforar_('DELE_B_1',_7), perforar_('DELE_B_1',_8), perforar_('DELE_B_1',_9), perforar_('DELE_B_1',_10), perforar_('EL_MORRO_1',_1), perforar_('EL_MORRO_1',_2), perforar_('EL_MORRO_1',_3), perforar_('EL_MORRO_1',_4), perforar_('EL_MORRO_1',_5), perforar_('EL_MORRO_1',_6), perforar_('EL_MORRO_1',_7), perforar_('EL_MORRO_1',_8), perforar_('EL_MORRO_1',_9), perforar_('EL_MORRO_1',_10), perforar_('FLORENA_A_5',_1), perforar_('FLORENA_A_5',_2), perforar_('FLORENA_A_5',_3), perforar_('FLORENA_A_5',_4), perforar_('FLORENA_A_5',_5), perforar_('FLORENA_A_5',_6), perforar_('FLORENA_A_5',_7), perforar_('FLORENA_A_5',_8), perforar_('FLORENA_A_5',_9), perforar_('FLORENA_A_5',_10), perforar_('FLORENA_C_6',_1), perforar_('FLORENA_C_6',_2), perforar_('FLORENA_C_6',_3), perforar_('FLORENA_C_6',_4), perforar_('FLORENA_C_6',_5), perforar_('FLORENA_C_6',_6), perforar_('FLORENA_C_6',_7), perforar_('FLORENA_C_6',_8), perforar_('FLORENA_C_6',_9), perforar_('FLORENA_C_6',_10), perforar_('FLORENA_N_2',_1), perforar_('FLORENA_N_2',_2), perforar_('FLORENA_N_2',_3), perforar_('FLORENA_N_2',_4), perforar_('FLORENA_N_2',_5), perforar_('FLORENA_N_2',_6), perforar_('FLORENA_N_2',_7), perforar_('FLORENA_N_2',_8), perforar_('FLORENA_N_2',_9), perforar_('FLORENA_N_2',_10), perforar_('FLORENA_N_4_ST',_1), perforar_('FLORENA_N_4_ST',_2), perforar_('FLORENA_N_4_ST',_3), perforar_('FLORENA_N_4_ST',_4), perforar_('FLORENA_N_4_ST',_5), perforar_('FLORENA_N_4_ST',_6), perforar_('FLORENA_N_4_ST',_7), perforar_('FLORENA_N_4_ST',_8), perforar_('FLORENA_N_4_ST',_9), perforar_('FLORENA_N_4_ST',_10), perforar_('FLORENA_T8',_1), perforar_('FLORENA_T8',_2), perforar_('FLORENA_T8',_3), perforar_('FLORENA_T8',_4), perforar_('FLORENA_T8',_5), perforar_('FLORENA_T8',_6), perforar_('FLORENA_T8',_7), perforar_('FLORENA_T8',_8), perforar_('FLORENA_T8',_9), perforar_('FLORENA_T8',_10), perforar_('PAUTO_J_6',_1), perforar_('PAUTO_J_6',_2), perforar_('PAUTO_J_6',_3), perforar_('PAUTO_J_6',_4), perforar_('PAUTO_J_6',_5), perforar_('PAUTO_J_6',_6), perforar_('PAUTO_J_6',_7), perforar_('PAUTO_J_6',_8), perforar_('PAUTO_J_6',_9), perforar_('PAUTO_J_6',_10), perforar_('PAUTO_M4',_1), perforar_('PAUTO_M4',_2), perforar_('PAUTO_M4',_3), perforar_('PAUTO_M4',_4), perforar_('PAUTO_M4',_5), perforar_('PAUTO_M4',_6), perforar_('PAUTO_M4',_7), perforar_('PAUTO_M4',_8), perforar_('PAUTO_M4',_9), perforar_('PAUTO_M4',_10), perforar_('PAUTO_M_5',_1), perforar_('PAUTO_M_5',_2), perforar_('PAUTO_M_5',_3), perforar_('PAUTO_M_5',_4), perforar_('PAUTO_M_5',_5), perforar_('PAUTO_M_5',_6), perforar_('PAUTO_M_5',_7), perforar_('PAUTO_M_5',_8), perforar_('PAUTO_M_5',_9), perforar_('PAUTO_M_5',_10), perforar_('PAUTO_SUR_B_1',_1), perforar_('PAUTO_SUR_B_1',_2), perforar_('PAUTO_SUR_B_1',_3), perforar_('PAUTO_SUR_B_1',_4), perforar_('PAUTO_SUR_B_1',_5), perforar_('PAUTO_SUR_B_1',_6), perforar_('PAUTO_SUR_B_1',_7), perforar_('PAUTO_SUR_B_1',_8), perforar_('PAUTO_SUR_B_1',_9), perforar_('PAUTO_SUR_B_1',_10), perforar_('PAUTO_SUR_C_2',_1), perforar_('PAUTO_SUR_C_2',_2), perforar_('PAUTO_SUR_C_2',_3), perforar_('PAUTO_SUR_C_2',_4), perforar_('PAUTO_SUR_C_2',_5), perforar_('PAUTO_SUR_C_2',_6), perforar_('PAUTO_SUR_C_2',_7), perforar_('PAUTO_SUR_C_2',_8), perforar_('PAUTO_SUR_C_2',_9), perforar_('PAUTO_SUR_C_2',_10), perforar_('PAUTO_1',_1), perforar_('PAUTO_1',_2), perforar_('PAUTO_1',_3), perforar_('PAUTO_1',_4), perforar_('PAUTO_1',_5), perforar_('PAUTO_1',_6), perforar_('PAUTO_1',_7), perforar_('PAUTO_1',_8), perforar_('PAUTO_1',_9), perforar_('PAUTO_1',_10), perforar_('VOLCANERA_A_1',_1), perforar_('VOLCANERA_A_1',_2), perforar_('VOLCANERA_A_1',_3), perforar_('VOLCANERA_A_1',_4), perforar_('VOLCANERA_A_1',_5), perforar_('VOLCANERA_A_1',_6), perforar_('VOLCANERA_A_1',_7), perforar_('VOLCANERA_A_1',_8), perforar_('VOLCANERA_A_1',_9), perforar_('VOLCANERA_A_1',_10), perforar_('VOLCANERA_C_2',_1), perforar_('VOLCANERA_C_2',_2), perforar_('VOLCANERA_C_2',_3), perforar_('VOLCANERA_C_2',_4), perforar_('VOLCANERA_C_2',_5), perforar_('VOLCANERA_C_2',_6), perforar_('VOLCANERA_C_2',_7), perforar_('VOLCANERA_C_2',_8), perforar_('VOLCANERA_C_2',_9), perforar_('VOLCANERA_C_2',_10)])\n"
     ]
    }
   ],
   "source": [
    "print(x.values())"
   ]
  },
  {
   "cell_type": "code",
   "execution_count": 10,
   "metadata": {
    "deletable": false,
    "editable": false,
    "nbgrader": {
     "cell_type": "code",
     "checksum": "68d4b2365a63649d3f4ad791dc952336",
     "grade": true,
     "grade_id": "cell-9466bada00deeca1",
     "locked": true,
     "points": 10,
     "schema_version": 3,
     "solution": false,
     "task": false
    }
   },
   "outputs": [],
   "source": [
    "# Esta celda esta reservada para uso del equipo docente"
   ]
  },
  {
   "cell_type": "code",
   "execution_count": 11,
   "metadata": {
    "deletable": false,
    "editable": false,
    "nbgrader": {
     "cell_type": "code",
     "checksum": "76d516530d7976731f231e26b5b0ff47",
     "grade": true,
     "grade_id": "cell-4918604f0f15a4eb",
     "locked": true,
     "points": 0,
     "schema_version": 3,
     "solution": false,
     "task": false
    }
   },
   "outputs": [],
   "source": [
    "# Esta celda esta reservada para uso del equipo docente"
   ]
  },
  {
   "cell_type": "markdown",
   "metadata": {
    "deletable": false,
    "editable": false,
    "nbgrader": {
     "cell_type": "markdown",
     "checksum": "2e56554e9975075a3820fa2b1318ea02",
     "grade": false,
     "grade_id": "cell-747431c6a3556e72",
     "locked": true,
     "schema_version": 3,
     "solution": false,
     "task": false
    }
   },
   "source": [
    "### Función Objetivo\n",
    "\n",
    "¡Ya tienes listo el modelo y las variables de decisión! Ahora es momento de crear la función objetivo del problema. En la siguiente celda encontrarás instrucciones para incluirla en el modelo haciendo uso de las variables que creaste anteriormente.\n",
    "\n",
    "Maximizar las utilidades totales por la perforación de pozos durante el horizonte de planeación\n",
    "> $\\max \\; \\sum_{t\\in T}\\sum_{i\\in P}v_{it}x_{it}$"
   ]
  },
  {
   "cell_type": "markdown",
   "metadata": {
    "deletable": false,
    "editable": false,
    "nbgrader": {
     "cell_type": "markdown",
     "checksum": "d5523e41ea6ef953183684b40e3a39ba",
     "grade": false,
     "grade_id": "cell-a3aeec243a5645f1",
     "locked": true,
     "schema_version": 3,
     "solution": false,
     "task": false
    }
   },
   "source": [
    "**Pregunta 3 (10 puntos)**\n",
    "* Crea la función objetivo y agrégala al modelo `problema`\n",
    "\n",
    "> **Recuerda** que para agregar una función objetivo o restricción a un modelo en pulp se usa la sintaxis: `<modelo> += <expresion>`\n",
    "\n",
    "> **Recuerda** que una función objetivo en `pulp` consiste en multiplicar variables de tipo `lp.pulp.Variable` (como `x[i,t]`) por constantes así: `<variable>*<int|float>` y luego sumarlas o restarlas así: `<var1>*<const1> + <var2>*<const2>`\n",
    "\n",
    "> **Recuerda** que, para evitar escribir una sumatoria de muchos términos uno a uno, `pulp` permite crear sumatorias que recorran conjuntos siempre y cuando las variables esten indexadas (como `x`). Para esto, utiliza `lp.lpSum(<expresion> for <indices> in <conjunto>)`.\n",
    "\n",
    "> **Ejemplo**:\n",
    ">> $ \\sum_{i \\in I}c_i x_i$\n",
    "es equivalente a `lp.lpSum(c[i]*x[i] for i in I)`"
   ]
  },
  {
   "cell_type": "code",
   "execution_count": 20,
   "metadata": {
    "deletable": false,
    "nbgrader": {
     "cell_type": "code",
     "checksum": "6a9baf1dc184246c280a774fe90e6973",
     "grade": false,
     "grade_id": "cell-6ed27aee466ec4bf",
     "locked": false,
     "schema_version": 3,
     "solution": true,
     "task": false
    }
   },
   "outputs": [],
   "source": [
    "# your code here\n",
    "\n",
    "# Crear la función objetivo: maximizar las utilidades totales\n",
    "# La función objetivo suma todas las utilidades v_{it} * x_{it} para todos los pozos i y años t\n",
    "\n",
    "problema += lp.lpSum(utilidad[i, t] * x[i, t] for i, t in Pozo_x_Tiempo), \"Funcion_Objetivo\""
   ]
  },
  {
   "cell_type": "code",
   "execution_count": 13,
   "metadata": {
    "deletable": false,
    "editable": false,
    "nbgrader": {
     "cell_type": "code",
     "checksum": "b0f265c2f3e64aa7bf9ea5e288f66f29",
     "grade": true,
     "grade_id": "cell-9466geda00deeca1",
     "locked": true,
     "points": 10,
     "schema_version": 3,
     "solution": false,
     "task": false
    }
   },
   "outputs": [],
   "source": [
    "# Esta celda esta reservada para uso del equipo docente"
   ]
  },
  {
   "cell_type": "code",
   "execution_count": 14,
   "metadata": {
    "deletable": false,
    "editable": false,
    "nbgrader": {
     "cell_type": "code",
     "checksum": "0539296f1b68fe8c044c98679a82c30a",
     "grade": true,
     "grade_id": "cell-1bd86951a5a374d2",
     "locked": true,
     "points": 0,
     "schema_version": 3,
     "solution": false,
     "task": false
    }
   },
   "outputs": [],
   "source": [
    "# Esta celda esta reservada para uso del equipo docente"
   ]
  },
  {
   "cell_type": "markdown",
   "metadata": {
    "deletable": false,
    "editable": false,
    "nbgrader": {
     "cell_type": "markdown",
     "checksum": "1a415410b653de6e7b892022b12f5c66",
     "grade": false,
     "grade_id": "cell-d6fa9f15b71fb4ce",
     "locked": true,
     "schema_version": 3,
     "solution": false,
     "task": false
    }
   },
   "source": [
    "### Restricciones\n",
    "\n",
    "Llegó la hora de crear las restricciones del modelo. De nuevo, se utilizará el objeto `problema` y las variables creadas anteriormente. Además, será necesario utilizar algunos de los parámetros creados al principio. Vamos a crear las restricciones en el orden en que se formularon. Abajo encontrarás algunos consejos que aplican para todas las restricciones. Antes de cada restricción se incluyen algunas instrucciones más detalladas.\n",
    "\n",
    "**Consejos para preguntas 4 a 9**\n",
    "\n",
    "> **Recuerda** que para crear restricciones se debe usar la sintaxis: `<modelo> += <expresion_lado_izq> ==|>=|<= <expresion_lado_der>, 'Nombre_de_la_restriccion'`\n",
    "\n",
    "> **Recuerda** que las expresiones son combinaciones lineales de las variables, como: `<var1>*<const1> + <var2>*<const2>`\n",
    "\n",
    "> **Recuerda** que puedes usar `lp.lpSum()` para crear sumatorias (ver **Pregunta 3**)\n",
    "\n",
    "> **Recuerda** que para crear múltiples restricciones usando $\\forall i \\in I$, se debe utilizar la sintaxis:\n",
    ">>    * `for i in I:` \n",
    ">>       * `<restriccion>`\n",
    "\n",
    "> **Ejemplo**\n",
    ">> La siguiente restricción: $\\sum_{i \\in I} a_{ij} x_{ij} \\geq 1, \\; \\forall j \\in J$ es equivalente a:\n",
    ">> ```python\n",
    "for j in J:\n",
    "    <modelo> += lp.lpSum(a[i,j] * x[i,j] for i in I) >= 1, 'R1_'+str(j)\n",
    "```\n",
    "> **Advertencia**: `pulp` no permite sobreescribir restricciones, entonces, si ya creaste una restricción y quieres crearla de nuevo para corregir algo, asegúrate de volver a crear el modelo `problema` desde el principio (nosotros haremos esto antes de calificar, no te preocupes)."
   ]
  },
  {
   "cell_type": "markdown",
   "metadata": {
    "deletable": false,
    "editable": false,
    "nbgrader": {
     "cell_type": "markdown",
     "checksum": "185296dedf05125223e8dd71217d2ccb",
     "grade": false,
     "grade_id": "cell-a5b57aae9b26a5b3",
     "locked": true,
     "schema_version": 3,
     "solution": false,
     "task": false
    }
   },
   "source": [
    "**Pregunta 4 (10 puntos)**\n",
    "* Crea la siguiente restricción, asignale el nombre `'R1_'+str(<indice_del_para_todo>)` y añadela al modelo:\n",
    "> 1. Un pozo se explota máximo una vez en el horizonte de planeación\n",
    ">> $\\sum_{t\\in T}x_{it} \\, \\leq \\, 1, \\; \\forall i\\in P$"
   ]
  },
  {
   "cell_type": "code",
   "execution_count": 21,
   "metadata": {
    "deletable": false,
    "nbgrader": {
     "cell_type": "code",
     "checksum": "145e8a4caf554f3009d09e569a51630a",
     "grade": false,
     "grade_id": "cell-010c9f893a5fde68",
     "locked": false,
     "schema_version": 3,
     "solution": true,
     "task": false
    }
   },
   "outputs": [],
   "source": [
    "# your code here\n",
    "\n",
    "# Para cada pozo i, la suma de todas las decisiones de perforación a través de todos los años t debe ser ≤ 1\n",
    "\n",
    "# Iteramos sobre cada pozo en el conjunto Pozos\n",
    "for i in Pozos:\n",
    "    # Para cada pozo i, creamos una restricción que suma todas las variables x[i,t] para todos los años t\n",
    "    # lp.lpSum() crea la sumatoria ∑_{t∈T} x_{it}\n",
    "    # La restricción dice: la suma debe ser <= 1\n",
    "    # Nombre de la restricción: 'R1_' + nombre del pozo\n",
    "    problema += lp.lpSum(x[i, t] for t in Tiempos) <= 1, 'R1_'+str(i)"
   ]
  },
  {
   "cell_type": "code",
   "execution_count": 16,
   "metadata": {
    "deletable": false,
    "editable": false,
    "nbgrader": {
     "cell_type": "code",
     "checksum": "3a7573674d02fbe5e92923a22bf92f8b",
     "grade": true,
     "grade_id": "cell-d5a2b7ec53f1f864",
     "locked": true,
     "points": 10,
     "schema_version": 3,
     "solution": false,
     "task": false
    }
   },
   "outputs": [],
   "source": [
    "# Esta celda esta reservada para uso del equipo docente"
   ]
  },
  {
   "cell_type": "markdown",
   "metadata": {},
   "source": [
    "**Pregunta 5 (10 puntos)**\n",
    "* Crea la siguiente restricción, asignale el nombre `'R2'` y añadela al modelo:\n",
    "> 2. La inversión total no puede superar el presupuesto\n",
    ">>$\\sum_{t\\in T}\\sum_{i\\in P}c_{it}x_{it} \\, \\leq \\, b$"
   ]
  },
  {
   "cell_type": "code",
   "execution_count": 22,
   "metadata": {
    "deletable": false,
    "nbgrader": {
     "cell_type": "code",
     "checksum": "cbf2deb9499fd685bb0a93a9ad8787eb",
     "grade": false,
     "grade_id": "cell-0d5f4c9956c8d48b",
     "locked": false,
     "schema_version": 3,
     "solution": true,
     "task": false
    }
   },
   "outputs": [],
   "source": [
    "# your code here\n",
    "# Restricción de presupuesto total (R2):\n",
    "# - Suma del costo de todos los pozos en todos los años\n",
    "# - No puede superar el presupuesto disponible\n",
    "# - Usamos lp.lpSum sobre el conjunto Pozo_x_Tiempo y el diccionario 'costo'\n",
    "problema += lp.lpSum(costo[i, t] * x[i, t] for i, t in Pozo_x_Tiempo) <= presupuesto, 'R2'\n"
   ]
  },
  {
   "cell_type": "code",
   "execution_count": 18,
   "metadata": {
    "deletable": false,
    "editable": false,
    "nbgrader": {
     "cell_type": "code",
     "checksum": "193fb1b55ecc5c945f9481c6fa9180d4",
     "grade": true,
     "grade_id": "cell-bd84b72c8f4d5764",
     "locked": true,
     "points": 10,
     "schema_version": 3,
     "solution": false,
     "task": false
    }
   },
   "outputs": [],
   "source": [
    "# Esta celda esta reservada para uso del equipo docente"
   ]
  },
  {
   "cell_type": "markdown",
   "metadata": {},
   "source": [
    "**Pregunta 6 (10 puntos)**\n",
    "* Crea la siguiente restricción, asignale el nombre `'R3_'+str(<indice_del_para_todo>)` y añadela al modelo:\n",
    "> 3. Las metas de producción (en miles de barriles diarios) deben ser cumplidas\n",
    ">>$\\sum_{i\\in P}p_i x_{it} \\, \\geq \\, m_t \\; \\forall t\\in T$\n",
    "\n",
    "> **Recuerda** que el parámetro $p_i$ es el promedio diario (miles de barriles) de crudo producidos en el pozo $i\\in P$. Por esta razón, en la restricción tendrás que usar los parámetros `prodMin`, `prodModa`, y `prodMax` para calcular este promedio. Revisa el vídeo 'Formulación del caso'.   "
   ]
  },
  {
   "cell_type": "code",
   "execution_count": 23,
   "metadata": {
    "deletable": false,
    "nbgrader": {
     "cell_type": "code",
     "checksum": "5a32c0bfe273b24219136e04d08ca68c",
     "grade": false,
     "grade_id": "cell-261d3f3a7c2920dc",
     "locked": false,
     "schema_version": 3,
     "solution": true,
     "task": false
    }
   },
   "outputs": [],
   "source": [
    "# your code here\n",
    "# Restricción de metas de producción por año (R3_t):\n",
    "# Para cada año t, la producción total de los pozos seleccionados debe ser >= meta m_t.\n",
    "# p_i es el promedio diario esperado para el pozo i. Lo calculamos como (min + moda + max)/3.\n",
    "for t in Tiempos:\n",
    "    problema += lp.lpSum(((prodMin[i] + prodModa[i] + prodMax[i]) / 3) * x[i, t] for i in Pozos) >= metas[t], 'R3_' + str(t)\n"
   ]
  },
  {
   "cell_type": "code",
   "execution_count": 20,
   "metadata": {
    "deletable": false,
    "editable": false,
    "nbgrader": {
     "cell_type": "code",
     "checksum": "3adad4943c0647408416690c9bb332cb",
     "grade": true,
     "grade_id": "cell-bdfj572c8f4d5764",
     "locked": true,
     "points": 10,
     "schema_version": 3,
     "solution": false,
     "task": false
    }
   },
   "outputs": [],
   "source": [
    "# Esta celda esta reservada para uso del equipo docente"
   ]
  },
  {
   "cell_type": "markdown",
   "metadata": {},
   "source": [
    "**Pregunta 7 (10 puntos)**\n",
    "* Crea la siguiente restricción, asignale el nombre `'R4_'+str(<indice_del_para_todo>)` y añadela al modelo:\n",
    "> 4. No se debe exceder la cantidad de operarios disponibles\n",
    ">> *# Para desarrollo del estudiante*"
   ]
  },
  {
   "cell_type": "code",
   "execution_count": 24,
   "metadata": {
    "deletable": false,
    "nbgrader": {
     "cell_type": "code",
     "checksum": "e0f5579e9bd2386944c319663de50f69",
     "grade": false,
     "grade_id": "cell-70d96f924b589631",
     "locked": false,
     "schema_version": 3,
     "solution": true,
     "task": false
    }
   },
   "outputs": [],
   "source": [
    "# your code here\n",
    "# Restricción de capacidad de operarios por año (R4_t):\n",
    "# Para cada año t, la suma de operarios requeridos por los pozos seleccionados\n",
    "# no puede exceder el máximo disponible maxOperarios.\n",
    "for t in Tiempos:\n",
    "    problema += lp.lpSum(operarios[i] * x[i, t] for i in Pozos) <= maxOperarios, 'R4_' + str(t)\n"
   ]
  },
  {
   "cell_type": "code",
   "execution_count": 22,
   "metadata": {
    "deletable": false,
    "editable": false,
    "nbgrader": {
     "cell_type": "code",
     "checksum": "fdcff992291cb03213dd999eb67e614a",
     "grade": true,
     "grade_id": "cell-bdfj172c8f412764",
     "locked": true,
     "points": 10,
     "schema_version": 3,
     "solution": false,
     "task": false
    }
   },
   "outputs": [],
   "source": [
    "# Esta celda esta reservada para uso del equipo docente\n"
   ]
  },
  {
   "cell_type": "markdown",
   "metadata": {},
   "source": [
    "**Pregunta 8 (10 puntos)**\n",
    "* Crea la siguiente restricción, asignale el nombre `'R5_'+str(<indice_del_para_todo>)` y añadela al modelo:\n",
    "> 5. No se debe exceder la cantidad de generadores disponibles\n",
    ">> *# Para desarrollo del estudiante*"
   ]
  },
  {
   "cell_type": "code",
   "execution_count": 25,
   "metadata": {
    "deletable": false,
    "nbgrader": {
     "cell_type": "code",
     "checksum": "1af78a4fc42a3ad1677d3815637d9e32",
     "grade": false,
     "grade_id": "cell-3d0e786e8b618f8f",
     "locked": false,
     "schema_version": 3,
     "solution": true,
     "task": false
    }
   },
   "outputs": [],
   "source": [
    "# your code here\n",
    "# Restricción de capacidad de generadores por año (R5_t):\n",
    "# Para cada año t, la suma de generadores requeridos por los pozos seleccionados\n",
    "# no puede exceder el máximo disponible maxGeneradores.\n",
    "for t in Tiempos:\n",
    "    problema += lp.lpSum(generadores[i] * x[i, t] for i in Pozos) <= maxGeneradores, 'R5_' + str(t)\n"
   ]
  },
  {
   "cell_type": "code",
   "execution_count": 24,
   "metadata": {
    "deletable": false,
    "editable": false,
    "nbgrader": {
     "cell_type": "code",
     "checksum": "411d2277b54e8a2b03f5f4418bb63545",
     "grade": true,
     "grade_id": "cell-bdfj172c8f419764",
     "locked": true,
     "points": 10,
     "schema_version": 3,
     "solution": false,
     "task": false
    }
   },
   "outputs": [],
   "source": [
    "# Esta celda esta reservada para uso del equipo docente"
   ]
  },
  {
   "cell_type": "markdown",
   "metadata": {},
   "source": [
    "**Pregunta 9 (10 puntos)**\n",
    "* Crea la siguiente restricción, asignale el nombre `'R6'` y añadela al modelo:\n",
    "> 6. No se debe exceder la cantidad de pozos perforados impuesta por el gobierno\n",
    ">> *# Para desarrollo del estudiante*"
   ]
  },
  {
   "cell_type": "code",
   "execution_count": 26,
   "metadata": {
    "deletable": false,
    "nbgrader": {
     "cell_type": "code",
     "checksum": "e87fec444110bd3d477c7f71f3b81e98",
     "grade": false,
     "grade_id": "cell-1b9d4630f01eb813",
     "locked": false,
     "schema_version": 3,
     "solution": true,
     "task": false
    }
   },
   "outputs": [],
   "source": [
    "# your code here\n",
    "# Restricción de máximo número total de pozos perforados (R6):\n",
    "# La suma sobre todos los pozos y años de x[i,t] no puede exceder maxProyectos.\n",
    "problema += lp.lpSum(x[i, t] for i, t in Pozo_x_Tiempo) <= maxProyectos, 'R6'\n"
   ]
  },
  {
   "cell_type": "code",
   "execution_count": 26,
   "metadata": {
    "deletable": false,
    "editable": false,
    "nbgrader": {
     "cell_type": "code",
     "checksum": "42e20c043d807f7b7161fc9b0b75ca25",
     "grade": true,
     "grade_id": "cell-1084e4c88101a003",
     "locked": true,
     "points": 10,
     "schema_version": 3,
     "solution": false,
     "task": false
    }
   },
   "outputs": [],
   "source": [
    "# Esta celda esta reservada para uso del equipo docente"
   ]
  },
  {
   "cell_type": "code",
   "execution_count": 27,
   "metadata": {
    "deletable": false,
    "editable": false,
    "nbgrader": {
     "cell_type": "code",
     "checksum": "04327b129ede6156537a6f50dedace88",
     "grade": true,
     "grade_id": "cell-852cae9567dbdf14",
     "locked": true,
     "points": 0,
     "schema_version": 3,
     "solution": false,
     "task": false
    }
   },
   "outputs": [],
   "source": [
    "# Esta celda esta reservada para uso del equipo docente"
   ]
  },
  {
   "cell_type": "markdown",
   "metadata": {
    "deletable": false,
    "editable": false,
    "nbgrader": {
     "cell_type": "markdown",
     "checksum": "b54dbe243acbf4eefbff44c1ce611917",
     "grade": false,
     "grade_id": "cell-31445d212bcb279b",
     "locked": true,
     "schema_version": 3,
     "solution": false,
     "task": false
    }
   },
   "source": [
    "### Invocar el optimizador\n",
    "\n",
    "Ahora que el modelo esta listo, viene la mejor parte: ¡Correr el modelo!. La celda a continuación se encarga de llamar al optimizador de `pulp` y guardar las soluciones del modelo (si llega a optimalidad) en los objetos modelo y variables. Más adelante miraremos cómo extraer la solución y otras métricas de interés."
   ]
  },
  {
   "cell_type": "code",
   "execution_count": 27,
   "metadata": {
    "deletable": false,
    "editable": false,
    "nbgrader": {
     "cell_type": "code",
     "checksum": "81b40dd693a3f27ef94f769e18b58789",
     "grade": false,
     "grade_id": "cell-b924c09dcdd338ad",
     "locked": true,
     "schema_version": 3,
     "solution": false,
     "task": false
    }
   },
   "outputs": [
    {
     "name": "stdout",
     "output_type": "stream",
     "text": [
      "Welcome to the CBC MILP Solver \n",
      "Version: 2.10.3 \n",
      "Build Date: Dec 15 2019 \n",
      "\n",
      "command line - /home/edwin/.local/lib/python3.13/site-packages/pulp/apis/../solverdir/cbc/linux/i64/cbc /tmp/bb66aac62f47433b987a3d96d938eebd-pulp.mps -max -timeMode elapsed -branch -printingOptions all -solution /tmp/bb66aac62f47433b987a3d96d938eebd-pulp.sol (default strategy 1)\n",
      "At line 2 NAME          MODEL\n",
      "At line 3 ROWS\n",
      "At line 52 COLUMNS\n",
      "At line 1403 RHS\n",
      "At line 1451 BOUNDS\n",
      "At line 1602 ENDATA\n",
      "Problem MODEL has 47 rows, 150 columns and 900 elements\n",
      "Coin0008I MODEL read with 0 errors\n",
      "Option for timeMode changed from cpu to elapsed\n",
      "Continuous objective value is 1130.49 - 0.00 seconds\n",
      "Cgl0008I 15 inequality constraints converted to equality constraints\n",
      "Cgl0003I 47 fixed, 0 tightened bounds, 2 strengthened rows, 9 substitutions\n",
      "Cgl0003I 0 fixed, 0 tightened bounds, 0 strengthened rows, 4 substitutions\n",
      "Cgl0003I 0 fixed, 0 tightened bounds, 16 strengthened rows, 0 substitutions\n",
      "Cgl0003I 0 fixed, 0 tightened bounds, 8 strengthened rows, 0 substitutions\n",
      "Cgl0003I 0 fixed, 0 tightened bounds, 10 strengthened rows, 0 substitutions\n",
      "Cgl0003I 0 fixed, 0 tightened bounds, 6 strengthened rows, 0 substitutions\n",
      "Cgl0003I 0 fixed, 0 tightened bounds, 4 strengthened rows, 0 substitutions\n",
      "Cgl0003I 0 fixed, 0 tightened bounds, 2 strengthened rows, 0 substitutions\n",
      "Cgl0003I 0 fixed, 0 tightened bounds, 4 strengthened rows, 0 substitutions\n",
      "Cgl0003I 0 fixed, 0 tightened bounds, 2 strengthened rows, 0 substitutions\n",
      "Cgl0004I processed model has 46 rows, 114 columns (114 integer (114 of which binary)) and 618 elements\n",
      "Cutoff increment increased from 1e-05 to 0.9999\n",
      "Cbc0038I Initial state - 15 integers unsatisfied sum - 5.57143\n",
      "Cbc0038I Pass   1: suminf.    0.50000 (1) obj. -885.5 iterations 24\n",
      "Cbc0038I Solution found of -839\n",
      "Cbc0038I Before mini branch and bound, 87 integers at bound fixed and 11 continuous\n",
      "Cbc0038I Full problem 46 rows 114 columns, reduced to 0 rows 0 columns\n",
      "Cbc0038I Mini branch and bound improved solution from -839 to -857 (0.02 seconds)\n",
      "Cbc0038I Round again with cutoff of -866.246\n",
      "Cbc0038I Reduced cost fixing fixed 4 variables on major pass 2\n",
      "Cbc0038I Pass   2: suminf.    0.50000 (1) obj. -885.5 iterations 0\n",
      "Cbc0038I Pass   3: suminf.    0.29297 (1) obj. -866.246 iterations 7\n",
      "Cbc0038I Pass   4: suminf.    0.50000 (1) obj. -885.5 iterations 7\n",
      "Cbc0038I Pass   5: suminf.    1.61966 (11) obj. -866.246 iterations 21\n",
      "Cbc0038I Pass   6: suminf.    0.33333 (1) obj. -877 iterations 21\n",
      "Cbc0038I Pass   7: suminf.    1.03784 (8) obj. -866.246 iterations 31\n",
      "Cbc0038I Pass   8: suminf.    0.32939 (2) obj. -866.246 iterations 17\n",
      "Cbc0038I Pass   9: suminf.    0.33333 (1) obj. -868.333 iterations 17\n",
      "Cbc0038I Pass  10: suminf.    0.35602 (1) obj. -866.246 iterations 9\n",
      "Cbc0038I Pass  11: suminf.    0.33333 (1) obj. -868.333 iterations 10\n",
      "Cbc0038I Pass  12: suminf.    2.59365 (11) obj. -866.246 iterations 25\n",
      "Cbc0038I Pass  13: suminf.    1.92333 (4) obj. -866.246 iterations 12\n",
      "Cbc0038I Pass  14: suminf.    1.61617 (8) obj. -866.246 iterations 19\n",
      "Cbc0038I Pass  15: suminf.    0.33333 (1) obj. -873.333 iterations 27\n",
      "Cbc0038I Pass  16: suminf.    0.33333 (1) obj. -873.333 iterations 1\n",
      "Cbc0038I Pass  17: suminf.    0.41037 (1) obj. -866.246 iterations 11\n",
      "Cbc0038I Pass  18: suminf.    2.38317 (11) obj. -866.246 iterations 32\n",
      "Cbc0038I Pass  19: suminf.    0.33333 (1) obj. -891.333 iterations 21\n",
      "Cbc0038I Pass  20: suminf.    0.39398 (1) obj. -866.246 iterations 18\n",
      "Cbc0038I Pass  21: suminf.    1.58825 (8) obj. -866.246 iterations 34\n",
      "Cbc0038I Pass  22: suminf.    1.06012 (3) obj. -866.246 iterations 19\n",
      "Cbc0038I Pass  23: suminf.    0.86972 (4) obj. -866.246 iterations 10\n",
      "Cbc0038I Pass  24: suminf.    0.86972 (3) obj. -866.246 iterations 5\n",
      "Cbc0038I Pass  25: suminf.    0.86877 (3) obj. -866.246 iterations 11\n",
      "Cbc0038I Solution found of -871\n",
      "Cbc0038I Before mini branch and bound, 60 integers at bound fixed and 6 continuous\n",
      "Cbc0038I Full problem 46 rows 114 columns, reduced to 35 rows 38 columns\n",
      "Cbc0038I Mini branch and bound improved solution from -871 to -891 (0.04 seconds)\n",
      "Cbc0038I Round again with cutoff of -901.693\n",
      "Cbc0038I Reduced cost fixing fixed 32 variables on major pass 3\n",
      "Cbc0038I Pass  26: suminf.    0.77919 (2) obj. -901.693 iterations 9\n",
      "Cbc0038I Pass  27: suminf.    0.77919 (2) obj. -901.693 iterations 0\n",
      "Cbc0038I Pass  28: suminf.    0.85000 (2) obj. -923.2 iterations 14\n",
      "Cbc0038I Pass  29: suminf.    0.59168 (2) obj. -901.693 iterations 10\n",
      "Cbc0038I Pass  30: suminf.    0.77919 (2) obj. -901.693 iterations 6\n",
      "Cbc0038I Pass  31: suminf.    0.59168 (2) obj. -901.693 iterations 6\n",
      "Cbc0038I Pass  32: suminf.    2.86710 (7) obj. -901.693 iterations 19\n",
      "Cbc0038I Pass  33: suminf.    0.42680 (1) obj. -901.693 iterations 16\n",
      "Cbc0038I Pass  34: suminf.    0.50000 (1) obj. -908.5 iterations 14\n",
      "Cbc0038I Pass  35: suminf.    0.42680 (1) obj. -901.693 iterations 6\n",
      "Cbc0038I Pass  36: suminf.    1.84973 (7) obj. -901.693 iterations 29\n",
      "Cbc0038I Pass  37: suminf.    1.36313 (11) obj. -901.693 iterations 21\n",
      "Cbc0038I Pass  38: suminf.    1.79794 (5) obj. -901.693 iterations 27\n",
      "Cbc0038I Pass  39: suminf.    0.79838 (2) obj. -901.693 iterations 14\n",
      "Cbc0038I Pass  40: suminf.    1.00000 (2) obj. -915 iterations 13\n",
      "Cbc0038I Pass  41: suminf.    0.79838 (2) obj. -901.693 iterations 13\n",
      "Cbc0038I Pass  42: suminf.    2.24158 (8) obj. -901.693 iterations 17\n",
      "Cbc0038I Pass  43: suminf.    0.44989 (1) obj. -901.693 iterations 19\n",
      "Cbc0038I Pass  44: suminf.    0.50000 (1) obj. -905 iterations 17\n",
      "Cbc0038I Pass  45: suminf.    1.82190 (9) obj. -901.693 iterations 29\n",
      "Cbc0038I Pass  46: suminf.    1.06721 (3) obj. -901.693 iterations 16\n",
      "Cbc0038I Pass  47: suminf.    0.72250 (2) obj. -901.693 iterations 20\n",
      "Cbc0038I Pass  48: suminf.    0.63133 (2) obj. -901.693 iterations 5\n",
      "Cbc0038I Pass  49: suminf.    1.00000 (2) obj. -927.5 iterations 21\n",
      "Cbc0038I Pass  50: suminf.    0.63133 (2) obj. -901.693 iterations 14\n",
      "Cbc0038I Pass  51: suminf.    2.08100 (12) obj. -901.693 iterations 35\n",
      "Cbc0038I Pass  52: suminf.    1.24519 (9) obj. -901.693 iterations 14\n",
      "Cbc0038I Pass  53: suminf.    2.87500 (7) obj. -901.693 iterations 24\n",
      "Cbc0038I Pass  54: suminf.    1.36657 (5) obj. -901.693 iterations 18\n",
      "Cbc0038I Pass  55: suminf.    1.64415 (5) obj. -901.693 iterations 20\n",
      "Cbc0038I No solution found this major pass\n",
      "Cbc0038I Before mini branch and bound, 62 integers at bound fixed and 3 continuous\n",
      "Cbc0038I Full problem 46 rows 114 columns, reduced to 37 rows 37 columns\n",
      "Cbc0038I Mini branch and bound improved solution from -891 to -918 (0.05 seconds)\n",
      "Cbc0038I Round again with cutoff of -925.439\n",
      "Cbc0038I Reduced cost fixing fixed 48 variables on major pass 4\n",
      "Cbc0038I Pass  55: suminf.    0.95327 (6) obj. -925.439 iterations 16\n",
      "Cbc0038I Pass  56: suminf.    0.95327 (6) obj. -925.439 iterations 1\n",
      "Cbc0038I Pass  57: suminf.    0.81369 (2) obj. -925.439 iterations 20\n",
      "Cbc0038I Pass  58: suminf.    0.81369 (2) obj. -925.439 iterations 6\n",
      "Cbc0038I Pass  59: suminf.    0.89182 (2) obj. -925.439 iterations 8\n",
      "Cbc0038I Pass  60: suminf.    0.81369 (2) obj. -925.439 iterations 7\n",
      "Cbc0038I Pass  61: suminf.    1.00000 (2) obj. -935.5 iterations 16\n",
      "Cbc0038I Pass  62: suminf.    2.21063 (7) obj. -925.439 iterations 24\n",
      "Cbc0038I Pass  63: suminf.    1.20316 (3) obj. -925.439 iterations 11\n",
      "Cbc0038I Pass  64: suminf.    1.22784 (3) obj. -925.439 iterations 12\n",
      "Cbc0038I Pass  65: suminf.    1.20316 (3) obj. -925.439 iterations 8\n",
      "Cbc0038I Pass  66: suminf.    3.63592 (8) obj. -925.439 iterations 9\n",
      "Cbc0038I Pass  67: suminf.    4.49931 (13) obj. -925.439 iterations 14\n",
      "Cbc0038I Pass  68: suminf.    2.25139 (10) obj. -925.439 iterations 19\n",
      "Cbc0038I Pass  69: suminf.    3.86975 (9) obj. -925.439 iterations 9\n",
      "Cbc0038I Pass  70: suminf.    2.40789 (8) obj. -925.439 iterations 18\n",
      "Cbc0038I Pass  71: suminf.    2.53549 (7) obj. -925.439 iterations 14\n",
      "Cbc0038I Pass  72: suminf.    2.53549 (7) obj. -925.439 iterations 3\n",
      "Cbc0038I Pass  73: suminf.    2.25139 (10) obj. -925.439 iterations 22\n",
      "Cbc0038I Pass  74: suminf.    2.25139 (10) obj. -925.439 iterations 0\n",
      "Cbc0038I Pass  75: suminf.    3.86975 (9) obj. -925.439 iterations 14\n",
      "Cbc0038I Pass  76: suminf.    2.40789 (8) obj. -925.439 iterations 17\n",
      "Cbc0038I Pass  77: suminf.    2.53549 (7) obj. -925.439 iterations 10\n",
      "Cbc0038I Pass  78: suminf.    2.53549 (7) obj. -925.439 iterations 0\n",
      "Cbc0038I Pass  79: suminf.    2.25139 (10) obj. -925.439 iterations 16\n",
      "Cbc0038I Pass  80: suminf.    2.25139 (10) obj. -925.439 iterations 2\n",
      "Cbc0038I Pass  81: suminf.    3.86975 (9) obj. -925.439 iterations 12\n",
      "Cbc0038I Pass  82: suminf.    2.40789 (8) obj. -925.439 iterations 18\n",
      "Cbc0038I Pass  83: suminf.    2.53549 (7) obj. -925.439 iterations 10\n",
      "Cbc0038I Pass  84: suminf.    2.53549 (7) obj. -925.439 iterations 2\n",
      "Cbc0038I No solution found this major pass\n",
      "Cbc0038I Before mini branch and bound, 72 integers at bound fixed and 8 continuous\n",
      "Cbc0038I Mini branch and bound did not improve solution (0.06 seconds)\n",
      "Cbc0038I After 0.06 seconds - Feasibility pump exiting with objective of -918 - took 0.04 seconds\n",
      "Cbc0012I Integer solution of -918 found by feasibility pump after 0 iterations and 0 nodes (0.06 seconds)\n",
      "Cbc0038I Full problem 46 rows 114 columns, reduced to 16 rows 11 columns\n",
      "Cbc0031I 6 added rows had average density of 14.833333\n",
      "Cbc0013I At root node, 33 cuts changed objective from -940.46429 to -918.91641 in 2 passes\n",
      "Cbc0014I Cut generator 0 (Probing) - 13 row cuts average 3.5 elements, 1 column cuts (1 active)  in 0.000 seconds - new frequency is 1\n",
      "Cbc0014I Cut generator 1 (Gomory) - 0 row cuts average 0.0 elements, 0 column cuts (0 active)  in 0.000 seconds - new frequency is -100\n",
      "Cbc0014I Cut generator 2 (Knapsack) - 4 row cuts average 2.8 elements, 0 column cuts (0 active)  in 0.000 seconds - new frequency is 1\n",
      "Cbc0014I Cut generator 3 (Clique) - 0 row cuts average 0.0 elements, 0 column cuts (0 active)  in 0.000 seconds - new frequency is -100\n",
      "Cbc0014I Cut generator 4 (MixedIntegerRounding2) - 0 row cuts average 0.0 elements, 0 column cuts (0 active)  in 0.000 seconds - new frequency is -100\n",
      "Cbc0014I Cut generator 5 (FlowCover) - 0 row cuts average 0.0 elements, 0 column cuts (0 active)  in 0.000 seconds - new frequency is -100\n",
      "Cbc0014I Cut generator 6 (TwoMirCuts) - 50 row cuts average 37.1 elements, 0 column cuts (0 active)  in 0.001 seconds - new frequency is -100\n",
      "Cbc0001I Search completed - best objective -918, took 21 iterations and 0 nodes (0.07 seconds)\n",
      "Cbc0035I Maximum depth 0, 68 variables fixed on reduced cost\n",
      "Cuts at root node changed objective from -940.464 to -918.916\n",
      "Probing was tried 2 times and created 14 cuts of which 0 were active after adding rounds of cuts (0.000 seconds)\n",
      "Gomory was tried 2 times and created 0 cuts of which 0 were active after adding rounds of cuts (0.000 seconds)\n",
      "Knapsack was tried 2 times and created 4 cuts of which 0 were active after adding rounds of cuts (0.000 seconds)\n",
      "Clique was tried 2 times and created 0 cuts of which 0 were active after adding rounds of cuts (0.000 seconds)\n",
      "MixedIntegerRounding2 was tried 2 times and created 0 cuts of which 0 were active after adding rounds of cuts (0.000 seconds)\n",
      "FlowCover was tried 2 times and created 0 cuts of which 0 were active after adding rounds of cuts (0.000 seconds)\n",
      "TwoMirCuts was tried 2 times and created 50 cuts of which 0 were active after adding rounds of cuts (0.001 seconds)\n",
      "ZeroHalf was tried 1 times and created 0 cuts of which 0 were active after adding rounds of cuts (0.000 seconds)\n",
      "\n",
      "Result - Optimal solution found\n",
      "\n",
      "Objective value:                918.00000000\n",
      "Enumerated nodes:               0\n",
      "Total iterations:               21\n",
      "Time (CPU seconds):             0.07\n",
      "Time (Wallclock seconds):       0.07\n",
      "\n",
      "Option for printingOptions changed from normal to all\n",
      "Total time (CPU seconds):       0.07   (Wallclock seconds):       0.07\n",
      "\n"
     ]
    },
    {
     "data": {
      "text/plain": [
       "1"
      ]
     },
     "execution_count": 27,
     "metadata": {},
     "output_type": "execute_result"
    }
   ],
   "source": [
    "# Resolver el modelo con el solver por defecto de PuLP\n",
    "problema.solve()\n"
   ]
  },
  {
   "cell_type": "markdown",
   "metadata": {
    "deletable": false,
    "editable": false,
    "nbgrader": {
     "cell_type": "markdown",
     "checksum": "6ce17df280f160726c71dc94accbf45b",
     "grade": false,
     "grade_id": "cell-b1766f2e759f8b12",
     "locked": true,
     "schema_version": 3,
     "solution": false,
     "task": false
    }
   },
   "source": [
    "## Reporte de resultados\n",
    "---"
   ]
  },
  {
   "cell_type": "markdown",
   "metadata": {
    "deletable": false,
    "editable": false,
    "nbgrader": {
     "cell_type": "markdown",
     "checksum": "086685c40497de4cc14be322a0b79a78",
     "grade": false,
     "grade_id": "cell-1422f3d782be0722",
     "locked": true,
     "schema_version": 3,
     "solution": false,
     "task": false
    }
   },
   "source": [
    "### Estado del optimizador y función objetivo\n",
    "\n",
    "Después de correr el modelo, es muy común consultar el estado del optimizador y el valor de la función objetivo. A continuación, te compartimos las intrucciones para que lo puedas hacer tú mismo."
   ]
  },
  {
   "cell_type": "markdown",
   "metadata": {
    "deletable": false,
    "editable": false,
    "nbgrader": {
     "cell_type": "markdown",
     "checksum": "438ccdebff174617e3da6982ffe88906",
     "grade": false,
     "grade_id": "cell-bb6c4816921d114a",
     "locked": true,
     "schema_version": 3,
     "solution": false,
     "task": false
    }
   },
   "source": [
    "**Pregunta 10 (5 puntos)**\n",
    "* Despues de haber corrido el modelo: `<modelo>.solve()`, asigna a una nueva variable el estado del optimizador **en palabras** según `lp.LpStatus`. Esta nueva variable debe tener el nombre `estado`.\n",
    "\n",
    "> **Recuerda** que al finalizar de correr el modelo, `<modelo>.status` tomará un valor de 1, -1, -2 o -3, que hace referencia a algún estado del optimizador:\n",
    "*  0 $\\rightarrow$ Sin Resolver: No se ha usado `<modelo>.solve()`\n",
    "*  1 $\\rightarrow$ Óptimo\n",
    "* -1 $\\rightarrow$ Infactible\n",
    "* -2 $\\rightarrow$ No acotado \n",
    "* -3 $\\rightarrow$ Otros\n",
    "\n",
    "> **Recuerda** que `lp.LpStatus` es un diccionario en PuLP que tiene como llaves los `status` del optimizador (número) y en los valores contiene el estados del optimizador correspondientes en palabras.\n",
    "\n",
    "> **Recuerda** que puedes inspeccionar el contenido de `lp.LpStatus` corriendolo en una celda"
   ]
  },
  {
   "cell_type": "code",
   "execution_count": 28,
   "metadata": {
    "deletable": false,
    "nbgrader": {
     "cell_type": "code",
     "checksum": "6d18b4f3851aeb18d1e49c00e43212d2",
     "grade": false,
     "grade_id": "cell-03db51e48921e8fd",
     "locked": false,
     "schema_version": 3,
     "solution": true,
     "task": false
    }
   },
   "outputs": [
    {
     "data": {
      "text/plain": [
       "'Optimal'"
      ]
     },
     "execution_count": 28,
     "metadata": {},
     "output_type": "execute_result"
    }
   ],
   "source": [
    "# your code here\n",
    "# Estado del optimizador en palabras usando el mapeo lp.LpStatus\n",
    "# problema.status es un entero; lp.LpStatus[entero] devuelve el texto.\n",
    "estado = lp.LpStatus[problema.status]\n",
    "estado\n"
   ]
  },
  {
   "cell_type": "code",
   "execution_count": null,
   "metadata": {
    "deletable": false,
    "editable": false,
    "nbgrader": {
     "cell_type": "code",
     "checksum": "6f204091b546c018214be78a62b7b43a",
     "grade": true,
     "grade_id": "cell-41cc4d4ddc114ccc",
     "locked": true,
     "points": 5,
     "schema_version": 3,
     "solution": false,
     "task": false
    }
   },
   "outputs": [],
   "source": [
    "# Esta celda esta reservada para uso del equipo docente"
   ]
  },
  {
   "cell_type": "markdown",
   "metadata": {
    "deletable": false,
    "editable": false,
    "nbgrader": {
     "cell_type": "markdown",
     "checksum": "15a010c5d2d75c5df051b29556e3c7cd",
     "grade": false,
     "grade_id": "cell-bb6c4816921e114a",
     "locked": true,
     "schema_version": 3,
     "solution": false,
     "task": false
    }
   },
   "source": [
    "**Pregunta 11 (5 puntos)**\n",
    "\n",
    "* Asigna el valor de la función objetivo a la variable `obj`\n",
    "\n",
    "> **Recuerda** que `<modelo>.objective` contiene la **expresión** de la función objetivo, sin embargo, para conocer el **valor** de la función objetivo se debe reemplazar los valores de las variables en la solución dentro de esta expresión. Por fortuna, PuLP tiene una función que hace justo eso: `lp.value(<expresion>)`.\n"
   ]
  },
  {
   "cell_type": "code",
   "execution_count": 29,
   "metadata": {
    "deletable": false,
    "nbgrader": {
     "cell_type": "code",
     "checksum": "47489c95bb1cf62bd2dff8bb592c9f63",
     "grade": false,
     "grade_id": "cell-d113a43b69cb065a",
     "locked": false,
     "schema_version": 3,
     "solution": true,
     "task": false
    }
   },
   "outputs": [
    {
     "data": {
      "text/plain": [
       "918.0"
      ]
     },
     "execution_count": 29,
     "metadata": {},
     "output_type": "execute_result"
    }
   ],
   "source": [
    "# your code here\n",
    "# Valor numérico de la función objetivo evaluando la expresión con lp.value\n",
    "obj = lp.value(problema.objective)\n",
    "obj\n"
   ]
  },
  {
   "cell_type": "code",
   "execution_count": null,
   "metadata": {
    "deletable": false,
    "editable": false,
    "nbgrader": {
     "cell_type": "code",
     "checksum": "25f1644d61b56c0d984802b87c62f924",
     "grade": true,
     "grade_id": "cell-41cc4d4dde114ccc",
     "locked": true,
     "points": 5,
     "schema_version": 3,
     "solution": false,
     "task": false
    }
   },
   "outputs": [],
   "source": [
    "# Esta celda esta reservada para uso del equipo docente"
   ]
  },
  {
   "cell_type": "markdown",
   "metadata": {
    "deletable": false,
    "editable": false,
    "nbgrader": {
     "cell_type": "markdown",
     "checksum": "9a8fb6ff92a053def428ee6ae4ffdfef",
     "grade": false,
     "grade_id": "cell-d3a730458e702722",
     "locked": true,
     "schema_version": 3,
     "solution": false,
     "task": false
    }
   },
   "source": [
    "### Valores de las variables\n",
    "\n",
    "También nos interesa conocer el valor de valor de las variables en la solución. Fíjate cómo usamos el método `.value()` sobre la variable `x[i,t]` para conocer su valor en la solución. El resto del código se encarga de mostrar estos valores binarios de forma organizada usando un `DataFrame` de la librería `pandas`."
   ]
  },
  {
   "cell_type": "markdown",
   "metadata": {
    "deletable": false,
    "editable": false,
    "nbgrader": {
     "cell_type": "markdown",
     "checksum": "664f8ea30f1729b80a59716703b12327",
     "grade": false,
     "grade_id": "cell-0254e0b1f475a1b0",
     "locked": true,
     "schema_version": 3,
     "solution": false,
     "task": false
    }
   },
   "source": [
    "#### Pozos a perforar en cada año"
   ]
  },
  {
   "cell_type": "code",
   "execution_count": null,
   "metadata": {
    "deletable": false,
    "editable": false,
    "nbgrader": {
     "cell_type": "code",
     "checksum": "8cdbb92d0d898bc9c60f2e228a4aee51",
     "grade": false,
     "grade_id": "cell-af28a5b62394b3cb",
     "locked": true,
     "schema_version": 3,
     "solution": false,
     "task": false
    }
   },
   "outputs": [
    {
     "data": {
      "text/html": [
       "<div>\n",
       "<style scoped>\n",
       "    .dataframe tbody tr th:only-of-type {\n",
       "        vertical-align: middle;\n",
       "    }\n",
       "\n",
       "    .dataframe tbody tr th {\n",
       "        vertical-align: top;\n",
       "    }\n",
       "\n",
       "    .dataframe thead th {\n",
       "        text-align: right;\n",
       "    }\n",
       "</style>\n",
       "<table border=\"1\" class=\"dataframe\">\n",
       "  <thead>\n",
       "    <tr style=\"text-align: right;\">\n",
       "      <th></th>\n",
       "      <th>Pozo</th>\n",
       "      <th>Año</th>\n",
       "      <th>x</th>\n",
       "    </tr>\n",
       "  </thead>\n",
       "  <tbody>\n",
       "    <tr>\n",
       "      <th>0</th>\n",
       "      <td>FLORENA C-6</td>\n",
       "      <td>1</td>\n",
       "      <td>1</td>\n",
       "    </tr>\n",
       "    <tr>\n",
       "      <th>1</th>\n",
       "      <td>FLORENA A-5</td>\n",
       "      <td>2</td>\n",
       "      <td>1</td>\n",
       "    </tr>\n",
       "    <tr>\n",
       "      <th>2</th>\n",
       "      <td>FLORENA-T8</td>\n",
       "      <td>3</td>\n",
       "      <td>1</td>\n",
       "    </tr>\n",
       "    <tr>\n",
       "      <th>3</th>\n",
       "      <td>VOLCANERA C-2</td>\n",
       "      <td>3</td>\n",
       "      <td>1</td>\n",
       "    </tr>\n",
       "    <tr>\n",
       "      <th>4</th>\n",
       "      <td>EL MORRO-1</td>\n",
       "      <td>4</td>\n",
       "      <td>1</td>\n",
       "    </tr>\n",
       "    <tr>\n",
       "      <th>5</th>\n",
       "      <td>PAUTO M4</td>\n",
       "      <td>5</td>\n",
       "      <td>1</td>\n",
       "    </tr>\n",
       "    <tr>\n",
       "      <th>6</th>\n",
       "      <td>PAUTO-1</td>\n",
       "      <td>6</td>\n",
       "      <td>1</td>\n",
       "    </tr>\n",
       "    <tr>\n",
       "      <th>7</th>\n",
       "      <td>PAUTO SUR B-1</td>\n",
       "      <td>7</td>\n",
       "      <td>1</td>\n",
       "    </tr>\n",
       "    <tr>\n",
       "      <th>8</th>\n",
       "      <td>FLORENA N-2</td>\n",
       "      <td>8</td>\n",
       "      <td>1</td>\n",
       "    </tr>\n",
       "    <tr>\n",
       "      <th>9</th>\n",
       "      <td>PAUTO M-5</td>\n",
       "      <td>9</td>\n",
       "      <td>1</td>\n",
       "    </tr>\n",
       "    <tr>\n",
       "      <th>10</th>\n",
       "      <td>PAUTO SUR C-2</td>\n",
       "      <td>10</td>\n",
       "      <td>1</td>\n",
       "    </tr>\n",
       "  </tbody>\n",
       "</table>\n",
       "</div>"
      ],
      "text/plain": [
       "             Pozo  Año  x\n",
       "0     FLORENA C-6    1  1\n",
       "1     FLORENA A-5    2  1\n",
       "2      FLORENA-T8    3  1\n",
       "3   VOLCANERA C-2    3  1\n",
       "4      EL MORRO-1    4  1\n",
       "5        PAUTO M4    5  1\n",
       "6         PAUTO-1    6  1\n",
       "7   PAUTO SUR B-1    7  1\n",
       "8     FLORENA N-2    8  1\n",
       "9       PAUTO M-5    9  1\n",
       "10  PAUTO SUR C-2   10  1"
      ]
     },
     "execution_count": 30,
     "metadata": {},
     "output_type": "execute_result"
    }
   ],
   "source": [
    "# Lista de registros y DataFrame para visualizar de forma ordenada.\n",
    "seleccion = [\n",
    "    {\"Pozo\": i, \"Año\": t, \"x\": int(x[i, t].value())}\n",
    "    for i, t in Pozo_x_Tiempo\n",
    "    if x[i, t].value() is not None and x[i, t].value() > 0.5\n",
    "]\n",
    "df_sel = pd.DataFrame(seleccion).sort_values([\"Año\", \"Pozo\"]).reset_index(drop=True)\n",
    "df_sel\n"
   ]
  },
  {
   "cell_type": "markdown",
   "metadata": {
    "deletable": false,
    "editable": false,
    "nbgrader": {
     "cell_type": "markdown",
     "checksum": "1ef423d99602f950aa2019392ce1bcf5",
     "grade": false,
     "grade_id": "cell-d8de64db6109dbc1",
     "locked": true,
     "schema_version": 3,
     "solution": false,
     "task": false
    }
   },
   "source": [
    "### Otros indicadores\n",
    "\n",
    "En ocasiones, además del valor de la función objetivo, nos interesa conocer otros indicadores. En este caso, nos puede interesar el costo total de inversión. A continuación, te mostramos cómo se calcula. Fíjate cómo usamos el método `lp.value()` sobre la variable `x[i,t]` para conocer su valor en la solución."
   ]
  },
  {
   "cell_type": "code",
   "execution_count": 31,
   "metadata": {
    "deletable": false,
    "editable": false,
    "nbgrader": {
     "cell_type": "code",
     "checksum": "06203d14e11644dbfc802a124a757e69",
     "grade": false,
     "grade_id": "cell-f493be62bb14e222",
     "locked": true,
     "schema_version": 3,
     "solution": false,
     "task": false
    }
   },
   "outputs": [
    {
     "data": {
      "text/plain": [
       "98.0"
      ]
     },
     "execution_count": 31,
     "metadata": {},
     "output_type": "execute_result"
    }
   ],
   "source": [
    "# Costo total de inversión usando los valores de x en la solución\n",
    "costo_total = sum(costo[i, t] * x[i, t].value() for i, t in Pozo_x_Tiempo)\n",
    "costo_total\n"
   ]
  },
  {
   "cell_type": "markdown",
   "metadata": {
    "deletable": false,
    "editable": false,
    "nbgrader": {
     "cell_type": "markdown",
     "checksum": "6333fc79885c4314e846e861dd6ce4cf",
     "grade": false,
     "grade_id": "cell-e0d381e3a1dcc404",
     "locked": true,
     "schema_version": 3,
     "solution": false,
     "task": false
    }
   },
   "source": [
    "También nos puede interesar la producción, operarios y generadores utilizados en cada año, simplemente usamos la expresión que calcula cada uno de los indicadores y los reemplazamos los valores de `lp.value(x[i,t])` dentro de la expresión."
   ]
  },
  {
   "cell_type": "code",
   "execution_count": 32,
   "metadata": {
    "deletable": false,
    "editable": false,
    "nbgrader": {
     "cell_type": "code",
     "checksum": "fb4fd03c7f1da366badc08617a82e7d0",
     "grade": false,
     "grade_id": "cell-8870b7c411c93ff5",
     "locked": true,
     "schema_version": 3,
     "solution": false,
     "task": false
    }
   },
   "outputs": [
    {
     "data": {
      "text/html": [
       "<div>\n",
       "<style scoped>\n",
       "    .dataframe tbody tr th:only-of-type {\n",
       "        vertical-align: middle;\n",
       "    }\n",
       "\n",
       "    .dataframe tbody tr th {\n",
       "        vertical-align: top;\n",
       "    }\n",
       "\n",
       "    .dataframe thead th {\n",
       "        text-align: right;\n",
       "    }\n",
       "</style>\n",
       "<table border=\"1\" class=\"dataframe\">\n",
       "  <thead>\n",
       "    <tr style=\"text-align: right;\">\n",
       "      <th></th>\n",
       "      <th>Año</th>\n",
       "      <th>Produccion</th>\n",
       "      <th>Operarios</th>\n",
       "      <th>Generadores</th>\n",
       "      <th>Meta</th>\n",
       "    </tr>\n",
       "  </thead>\n",
       "  <tbody>\n",
       "    <tr>\n",
       "      <th>0</th>\n",
       "      <td>1</td>\n",
       "      <td>3.333333</td>\n",
       "      <td>4.0</td>\n",
       "      <td>3.0</td>\n",
       "      <td>3</td>\n",
       "    </tr>\n",
       "    <tr>\n",
       "      <th>1</th>\n",
       "      <td>2</td>\n",
       "      <td>5.333333</td>\n",
       "      <td>4.0</td>\n",
       "      <td>2.0</td>\n",
       "      <td>4</td>\n",
       "    </tr>\n",
       "    <tr>\n",
       "      <th>2</th>\n",
       "      <td>3</td>\n",
       "      <td>9.333333</td>\n",
       "      <td>4.0</td>\n",
       "      <td>4.0</td>\n",
       "      <td>5</td>\n",
       "    </tr>\n",
       "    <tr>\n",
       "      <th>3</th>\n",
       "      <td>4</td>\n",
       "      <td>4.333333</td>\n",
       "      <td>2.0</td>\n",
       "      <td>3.0</td>\n",
       "      <td>4</td>\n",
       "    </tr>\n",
       "    <tr>\n",
       "      <th>4</th>\n",
       "      <td>5</td>\n",
       "      <td>5.000000</td>\n",
       "      <td>3.0</td>\n",
       "      <td>3.0</td>\n",
       "      <td>5</td>\n",
       "    </tr>\n",
       "    <tr>\n",
       "      <th>5</th>\n",
       "      <td>6</td>\n",
       "      <td>5.333333</td>\n",
       "      <td>3.0</td>\n",
       "      <td>2.0</td>\n",
       "      <td>3</td>\n",
       "    </tr>\n",
       "    <tr>\n",
       "      <th>6</th>\n",
       "      <td>7</td>\n",
       "      <td>5.333333</td>\n",
       "      <td>2.0</td>\n",
       "      <td>4.0</td>\n",
       "      <td>5</td>\n",
       "    </tr>\n",
       "    <tr>\n",
       "      <th>7</th>\n",
       "      <td>8</td>\n",
       "      <td>6.666667</td>\n",
       "      <td>3.0</td>\n",
       "      <td>2.0</td>\n",
       "      <td>4</td>\n",
       "    </tr>\n",
       "    <tr>\n",
       "      <th>8</th>\n",
       "      <td>9</td>\n",
       "      <td>4.333333</td>\n",
       "      <td>4.0</td>\n",
       "      <td>2.0</td>\n",
       "      <td>4</td>\n",
       "    </tr>\n",
       "    <tr>\n",
       "      <th>9</th>\n",
       "      <td>10</td>\n",
       "      <td>6.000000</td>\n",
       "      <td>3.0</td>\n",
       "      <td>3.0</td>\n",
       "      <td>6</td>\n",
       "    </tr>\n",
       "  </tbody>\n",
       "</table>\n",
       "</div>"
      ],
      "text/plain": [
       "   Año  Produccion  Operarios  Generadores  Meta\n",
       "0    1    3.333333        4.0          3.0     3\n",
       "1    2    5.333333        4.0          2.0     4\n",
       "2    3    9.333333        4.0          4.0     5\n",
       "3    4    4.333333        2.0          3.0     4\n",
       "4    5    5.000000        3.0          3.0     5\n",
       "5    6    5.333333        3.0          2.0     3\n",
       "6    7    5.333333        2.0          4.0     5\n",
       "7    8    6.666667        3.0          2.0     4\n",
       "8    9    4.333333        4.0          2.0     4\n",
       "9   10    6.000000        3.0          3.0     6"
      ]
     },
     "execution_count": 32,
     "metadata": {},
     "output_type": "execute_result"
    }
   ],
   "source": [
    "# Series por año a partir de la solución: producción esperada, operarios usados y generadores usados\n",
    "anuales = []\n",
    "for t in Tiempos:\n",
    "    prod_t = sum(((prodMin[i] + prodModa[i] + prodMax[i]) / 3) * (x[i, t].value() or 0) for i in Pozos)\n",
    "    ops_t = sum(operarios[i] * (x[i, t].value() or 0) for i in Pozos)\n",
    "    gens_t = sum(generadores[i] * (x[i, t].value() or 0) for i in Pozos)\n",
    "    anuales.append({\"Año\": t, \"Produccion\": prod_t, \"Operarios\": ops_t, \"Generadores\": gens_t, \"Meta\": metas[t]})\n",
    "\n",
    "df_anual = pd.DataFrame(anuales)\n",
    "df_anual\n"
   ]
  },
  {
   "cell_type": "markdown",
   "metadata": {
    "deletable": false,
    "editable": false,
    "nbgrader": {
     "cell_type": "markdown",
     "checksum": "b9de669cfd124b58943b498ec3d67df9",
     "grade": false,
     "grade_id": "cell-fd6a91eb23723db3",
     "locked": true,
     "schema_version": 3,
     "solution": false,
     "task": false
    }
   },
   "source": [
    "## Visualizaciones\n",
    "---\n",
    "\n",
    "Una forma eficiente de comunicar resultados de interés es mediante el uso de gráficas. A continuación, te mostramos algunos ejemplos utilizando la librería `matplotlib.pyplot`."
   ]
  },
  {
   "cell_type": "markdown",
   "metadata": {
    "deletable": false,
    "editable": false,
    "nbgrader": {
     "cell_type": "markdown",
     "checksum": "e646e79a8c1bc0946504dba75dbd8235",
     "grade": false,
     "grade_id": "cell-83d8e0c4992d661d",
     "locked": true,
     "schema_version": 3,
     "solution": false,
     "task": false
    }
   },
   "source": [
    "### Metas de producción"
   ]
  },
  {
   "cell_type": "code",
   "execution_count": 33,
   "metadata": {
    "deletable": false,
    "editable": false,
    "nbgrader": {
     "cell_type": "code",
     "checksum": "eaae6eeb808d64a2c626997d3bbb3789",
     "grade": false,
     "grade_id": "cell-a35affd66d80a167",
     "locked": true,
     "schema_version": 3,
     "solution": false,
     "task": false
    }
   },
   "outputs": [
    {
     "data": {
      "image/png": "[encoded data removed]",
      "text/plain": [
       "<Figure size 800x400 with 1 Axes>"
      ]
     },
     "metadata": {},
     "output_type": "display_data"
    }
   ],
   "source": [
    "# Gráfica: Metas de producción vs Producción alcanzada por año\n",
    "import matplotlib.pyplot as plt\n",
    "\n",
    "plt.figure(figsize=(8, 4))\n",
    "plt.plot(df_anual[\"Año\"], df_anual[\"Meta\"], label=\"Meta\", marker=\"o\")\n",
    "plt.plot(df_anual[\"Año\"], df_anual[\"Produccion\"], label=\"Producción\", marker=\"s\")\n",
    "plt.xlabel(\"Año\")\n",
    "plt.ylabel(\"Miles de barriles/día\")\n",
    "plt.title(\"Metas vs Producción\")\n",
    "plt.legend()\n",
    "plt.grid(True, alpha=0.3)\n",
    "plt.show()\n"
   ]
  },
  {
   "cell_type": "markdown",
   "metadata": {
    "deletable": false,
    "editable": false,
    "nbgrader": {
     "cell_type": "markdown",
     "checksum": "5293c5e312a84fbca193f9dcea51f0e4",
     "grade": false,
     "grade_id": "cell-95e4dfb4757dd270",
     "locked": true,
     "schema_version": 3,
     "solution": false,
     "task": false
    }
   },
   "source": [
    "### Uso de operarios"
   ]
  },
  {
   "cell_type": "code",
   "execution_count": 34,
   "metadata": {
    "deletable": false,
    "editable": false,
    "nbgrader": {
     "cell_type": "code",
     "checksum": "980661e23ca873ffe8c469ac115149b6",
     "grade": false,
     "grade_id": "cell-673b0379d3febdae",
     "locked": true,
     "schema_version": 3,
     "solution": false,
     "task": false
    }
   },
   "outputs": [
    {
     "data": {
      "image/png": "[encoded data removed]",
      "text/plain": [
       "<Figure size 800x400 with 1 Axes>"
      ]
     },
     "metadata": {},
     "output_type": "display_data"
    }
   ],
   "source": [
    "# Gráfica: Uso de operarios por año vs capacidad\n",
    "plt.figure(figsize=(8, 4))\n",
    "plt.bar(df_anual[\"Año\"], df_anual[\"Operarios\"], label=\"Usados\")\n",
    "plt.plot(df_anual[\"Año\"], [maxOperarios] * len(df_anual), 'r--', label=\"Capacidad\")\n",
    "plt.xlabel(\"Año\")\n",
    "plt.ylabel(\"Operarios\")\n",
    "plt.title(\"Uso de operarios por año\")\n",
    "plt.legend()\n",
    "plt.grid(True, axis='y', alpha=0.3)\n",
    "plt.show()\n"
   ]
  },
  {
   "cell_type": "markdown",
   "metadata": {
    "deletable": false,
    "editable": false,
    "nbgrader": {
     "cell_type": "markdown",
     "checksum": "6169772cfc489d3a87bff38c5f53fe2e",
     "grade": false,
     "grade_id": "cell-9a9b6218d7cb3c42",
     "locked": true,
     "schema_version": 3,
     "solution": false,
     "task": false
    }
   },
   "source": [
    "### Uso de generadores"
   ]
  },
  {
   "cell_type": "code",
   "execution_count": 35,
   "metadata": {
    "deletable": false,
    "editable": false,
    "nbgrader": {
     "cell_type": "code",
     "checksum": "91be2bb86777fa49f4e3da6f63a370d6",
     "grade": false,
     "grade_id": "cell-3384db5d1d236f6e",
     "locked": true,
     "schema_version": 3,
     "solution": false,
     "task": false
    }
   },
   "outputs": [
    {
     "data": {
      "image/png": "[encoded data removed]",
      "text/plain": [
       "<Figure size 800x400 with 1 Axes>"
      ]
     },
     "metadata": {},
     "output_type": "display_data"
    }
   ],
   "source": [
    "# Gráfica: Uso de generadores por año vs capacidad\n",
    "plt.figure(figsize=(8, 4))\n",
    "plt.bar(df_anual[\"Año\"], df_anual[\"Generadores\"], label=\"Usados\", color='orange')\n",
    "plt.plot(df_anual[\"Año\"], [maxGeneradores] * len(df_anual), 'r--', label=\"Capacidad\")\n",
    "plt.xlabel(\"Año\")\n",
    "plt.ylabel(\"Generadores\")\n",
    "plt.title(\"Uso de generadores por año\")\n",
    "plt.legend()\n",
    "plt.grid(True, axis='y', alpha=0.3)\n",
    "plt.show()\n"
   ]
  },
  {
   "cell_type": "markdown",
   "metadata": {
    "deletable": false,
    "editable": false,
    "nbgrader": {
     "cell_type": "markdown",
     "checksum": "24c17cffe78caa92a65e560429b1edda",
     "grade": false,
     "grade_id": "cell-2fe5051c526bb342",
     "locked": true,
     "schema_version": 3,
     "solution": false,
     "task": false
    }
   },
   "source": [
    "## Opcional (0 puntos)\n",
    "\n",
    "*Una vez esté listo el modelo, puedes cambiar los valores de los parámetros de la próxima celda para verificar como cambian las soluciones y la función objetivo. Para esto debes correr nuevamente las celdas que crean el modelo desde el principio*"
   ]
  },
  {
   "cell_type": "code",
   "execution_count": null,
   "metadata": {},
   "outputs": [],
   "source": [
    "# Parametros modificables\n",
    "\n",
    "# Presupuesto máximo\n",
    "presupuesto = 100\n",
    "\n",
    "# Máximo número de proyectos a realizar - restricción ambiental\n",
    "maxProyectos = 12  \n",
    "\n",
    "# Máximo número de operarios por año\n",
    "maxOperarios = 4   \n",
    "\n",
    "# Máximo número de generadores por año\n",
    "maxGeneradores = 4 "
   ]
  }
 ],
 "metadata": {
  "kernelspec": {
   "display_name": "Python 3",
   "language": "python",
   "name": "python3"
  },
  "language_info": {
   "codemirror_mode": {
    "name": "ipython",
    "version": 3
   },
   "file_extension": ".py",
   "mimetype": "text/x-python",
   "name": "python",
   "nbconvert_exporter": "python",
   "pygments_lexer": "ipython3",
   "version": "3.13.2"
  }
 },
 "nbformat": 4,
 "nbformat_minor": 5
}
